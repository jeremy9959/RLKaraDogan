{
 "cells": [
  {
   "cell_type": "code",
   "execution_count": 22,
   "metadata": {},
   "outputs": [
    {
     "data": {
      "text/html": [
       "    <style>\n",
       "        .bk-notebook-logo {\n",
       "            display: block;\n",
       "            width: 20px;\n",
       "            height: 20px;\n",
       "            background-image: url(data:image/png;base64,iVBORw0KGgoAAAANSUhEUgAAABQAAAAUCAYAAACNiR0NAAAABHNCSVQICAgIfAhkiAAAAAlwSFlzAAALEgAACxIB0t1+/AAAABx0RVh0U29mdHdhcmUAQWRvYmUgRmlyZXdvcmtzIENTNui8sowAAAOkSURBVDiNjZRtaJVlGMd/1/08zzln5zjP1LWcU9N0NkN8m2CYjpgQYQXqSs0I84OLIC0hkEKoPtiH3gmKoiJDU7QpLgoLjLIQCpEsNJ1vqUOdO7ppbuec5+V+rj4ctwzd8IIbbi6u+8f1539dt3A78eXC7QizUF7gyV1fD1Yqg4JWz84yffhm0qkFqBogB9rM8tZdtwVsPUhWhGcFJngGeWrPzHm5oaMmkfEg1usvLFyc8jLRqDOMru7AyC8saQr7GG7f5fvDeH7Ej8CM66nIF+8yngt6HWaKh7k49Soy9nXurCi1o3qUbS3zWfrYeQDTB/Qj6kX6Ybhw4B+bOYoLKCC9H3Nu/leUTZ1JdRWkkn2ldcCamzrcf47KKXdAJllSlxAOkRgyHsGC/zRday5Qld9DyoM4/q/rUoy/CXh3jzOu3bHUVZeU+DEn8FInkPBFlu3+nW3Nw0mk6vCDiWg8CeJaxEwuHS3+z5RgY+YBR6V1Z1nxSOfoaPa4LASWxxdNp+VWTk7+4vzaou8v8PN+xo+KY2xsw6une2frhw05CTYOmQvsEhjhWjn0bmXPjpE1+kplmmkP3suftwTubK9Vq22qKmrBhpY4jvd5afdRA3wGjFAgcnTK2s4hY0/GPNIb0nErGMCRxWOOX64Z8RAC4oCXdklmEvcL8o0BfkNK4lUg9HTl+oPlQxdNo3Mg4Nv175e/1LDGzZen30MEjRUtmXSfiTVu1kK8W4txyV6BMKlbgk3lMwYCiusNy9fVfvvwMxv8Ynl6vxoByANLTWplvuj/nF9m2+PDtt1eiHPBr1oIfhCChQMBw6Aw0UulqTKZdfVvfG7VcfIqLG9bcldL/+pdWTLxLUy8Qq38heUIjh4XlzZxzQm19lLFlr8vdQ97rjZVOLf8nclzckbcD4wxXMidpX30sFd37Fv/GtwwhzhxGVAprjbg0gCAEeIgwCZyTV2Z1REEW8O4py0wsjeloKoMr6iCY6dP92H6Vw/oTyICIthibxjm/DfN9lVz8IqtqKYLUXfoKVMVQVVJOElGjrnnUt9T9wbgp8AyYKaGlqingHZU/uG2NTZSVqwHQTWkx9hxjkpWDaCg6Ckj5qebgBVbT3V3NNXMSiWSDdGV3hrtzla7J+duwPOToIg42ChPQOQjspnSlp1V+Gjdged7+8UN5CRAV7a5EdFNwCjEaBR27b3W890TE7g24NAP/mMDXRWrGoFPQI9ls/MWO2dWFAar/xcOIImbbpA3zgAAAABJRU5ErkJggg==);\n",
       "        }\n",
       "    </style>\n",
       "    <div>\n",
       "        <a href=\"https://bokeh.org\" target=\"_blank\" class=\"bk-notebook-logo\"></a>\n",
       "        <span id=\"bba3ff54-9d6e-42b6-b3b2-98848523afd0\">Loading BokehJS ...</span>\n",
       "    </div>\n"
      ]
     },
     "metadata": {},
     "output_type": "display_data"
    },
    {
     "data": {
      "application/javascript": "'use strict';\n(function(root) {\n  function now() {\n    return new Date();\n  }\n\n  const force = true;\n\n  if (typeof root._bokeh_onload_callbacks === \"undefined\" || force === true) {\n    root._bokeh_onload_callbacks = [];\n    root._bokeh_is_loading = undefined;\n  }\n\nconst JS_MIME_TYPE = 'application/javascript';\n  const HTML_MIME_TYPE = 'text/html';\n  const EXEC_MIME_TYPE = 'application/vnd.bokehjs_exec.v0+json';\n  const CLASS_NAME = 'output_bokeh rendered_html';\n\n  /**\n   * Render data to the DOM node\n   */\n  function render(props, node) {\n    const script = document.createElement(\"script\");\n    node.appendChild(script);\n  }\n\n  /**\n   * Handle when an output is cleared or removed\n   */\n  function handleClearOutput(event, handle) {\n    function drop(id) {\n      const view = Bokeh.index.get_by_id(id)\n      if (view != null) {\n        view.model.document.clear()\n        Bokeh.index.delete(view)\n      }\n    }\n\n    const cell = handle.cell;\n\n    const id = cell.output_area._bokeh_element_id;\n    const server_id = cell.output_area._bokeh_server_id;\n\n    // Clean up Bokeh references\n    if (id != null) {\n      drop(id)\n    }\n\n    if (server_id !== undefined) {\n      // Clean up Bokeh references\n      const cmd_clean = \"from bokeh.io.state import curstate; print(curstate().uuid_to_server['\" + server_id + \"'].get_sessions()[0].document.roots[0]._id)\";\n      cell.notebook.kernel.execute(cmd_clean, {\n        iopub: {\n          output: function(msg) {\n            const id = msg.content.text.trim()\n            drop(id)\n          }\n        }\n      });\n      // Destroy server and session\n      const cmd_destroy = \"import bokeh.io.notebook as ion; ion.destroy_server('\" + server_id + \"')\";\n      cell.notebook.kernel.execute(cmd_destroy);\n    }\n  }\n\n  /**\n   * Handle when a new output is added\n   */\n  function handleAddOutput(event, handle) {\n    const output_area = handle.output_area;\n    const output = handle.output;\n\n    // limit handleAddOutput to display_data with EXEC_MIME_TYPE content only\n    if ((output.output_type != \"display_data\") || (!Object.prototype.hasOwnProperty.call(output.data, EXEC_MIME_TYPE))) {\n      return\n    }\n\n    const toinsert = output_area.element.find(\".\" + CLASS_NAME.split(' ')[0]);\n\n    if (output.metadata[EXEC_MIME_TYPE][\"id\"] !== undefined) {\n      toinsert[toinsert.length - 1].firstChild.textContent = output.data[JS_MIME_TYPE];\n      // store reference to embed id on output_area\n      output_area._bokeh_element_id = output.metadata[EXEC_MIME_TYPE][\"id\"];\n    }\n    if (output.metadata[EXEC_MIME_TYPE][\"server_id\"] !== undefined) {\n      const bk_div = document.createElement(\"div\");\n      bk_div.innerHTML = output.data[HTML_MIME_TYPE];\n      const script_attrs = bk_div.children[0].attributes;\n      for (let i = 0; i < script_attrs.length; i++) {\n        toinsert[toinsert.length - 1].firstChild.setAttribute(script_attrs[i].name, script_attrs[i].value);\n        toinsert[toinsert.length - 1].firstChild.textContent = bk_div.children[0].textContent\n      }\n      // store reference to server id on output_area\n      output_area._bokeh_server_id = output.metadata[EXEC_MIME_TYPE][\"server_id\"];\n    }\n  }\n\n  function register_renderer(events, OutputArea) {\n\n    function append_mime(data, metadata, element) {\n      // create a DOM node to render to\n      const toinsert = this.create_output_subarea(\n        metadata,\n        CLASS_NAME,\n        EXEC_MIME_TYPE\n      );\n      this.keyboard_manager.register_events(toinsert);\n      // Render to node\n      const props = {data: data, metadata: metadata[EXEC_MIME_TYPE]};\n      render(props, toinsert[toinsert.length - 1]);\n      element.append(toinsert);\n      return toinsert\n    }\n\n    /* Handle when an output is cleared or removed */\n    events.on('clear_output.CodeCell', handleClearOutput);\n    events.on('delete.Cell', handleClearOutput);\n\n    /* Handle when a new output is added */\n    events.on('output_added.OutputArea', handleAddOutput);\n\n    /**\n     * Register the mime type and append_mime function with output_area\n     */\n    OutputArea.prototype.register_mime_type(EXEC_MIME_TYPE, append_mime, {\n      /* Is output safe? */\n      safe: true,\n      /* Index of renderer in `output_area.display_order` */\n      index: 0\n    });\n  }\n\n  // register the mime type if in Jupyter Notebook environment and previously unregistered\n  if (root.Jupyter !== undefined) {\n    const events = require('base/js/events');\n    const OutputArea = require('notebook/js/outputarea').OutputArea;\n\n    if (OutputArea.prototype.mime_types().indexOf(EXEC_MIME_TYPE) == -1) {\n      register_renderer(events, OutputArea);\n    }\n  }\n  if (typeof (root._bokeh_timeout) === \"undefined\" || force === true) {\n    root._bokeh_timeout = Date.now() + 5000;\n    root._bokeh_failed_load = false;\n  }\n\n  const NB_LOAD_WARNING = {'data': {'text/html':\n     \"<div style='background-color: #fdd'>\\n\"+\n     \"<p>\\n\"+\n     \"BokehJS does not appear to have successfully loaded. If loading BokehJS from CDN, this \\n\"+\n     \"may be due to a slow or bad network connection. Possible fixes:\\n\"+\n     \"</p>\\n\"+\n     \"<ul>\\n\"+\n     \"<li>re-rerun `output_notebook()` to attempt to load from CDN again, or</li>\\n\"+\n     \"<li>use INLINE resources instead, as so:</li>\\n\"+\n     \"</ul>\\n\"+\n     \"<code>\\n\"+\n     \"from bokeh.resources import INLINE\\n\"+\n     \"output_notebook(resources=INLINE)\\n\"+\n     \"</code>\\n\"+\n     \"</div>\"}};\n\n  function display_loaded(error = null) {\n    const el = document.getElementById(\"bba3ff54-9d6e-42b6-b3b2-98848523afd0\");\n    if (el != null) {\n      const html = (() => {\n        if (typeof root.Bokeh === \"undefined\") {\n          if (error == null) {\n            return \"BokehJS is loading ...\";\n          } else {\n            return \"BokehJS failed to load.\";\n          }\n        } else {\n          const prefix = `BokehJS ${root.Bokeh.version}`;\n          if (error == null) {\n            return `${prefix} successfully loaded.`;\n          } else {\n            return `${prefix} <b>encountered errors</b> while loading and may not function as expected.`;\n          }\n        }\n      })();\n      el.innerHTML = html;\n\n      if (error != null) {\n        const wrapper = document.createElement(\"div\");\n        wrapper.style.overflow = \"auto\";\n        wrapper.style.height = \"5em\";\n        wrapper.style.resize = \"vertical\";\n        const content = document.createElement(\"div\");\n        content.style.fontFamily = \"monospace\";\n        content.style.whiteSpace = \"pre-wrap\";\n        content.style.backgroundColor = \"rgb(255, 221, 221)\";\n        content.textContent = error.stack ?? error.toString();\n        wrapper.append(content);\n        el.append(wrapper);\n      }\n    } else if (Date.now() < root._bokeh_timeout) {\n      setTimeout(() => display_loaded(error), 100);\n    }\n  }\n\n  function run_callbacks() {\n    try {\n      root._bokeh_onload_callbacks.forEach(function(callback) {\n        if (callback != null)\n          callback();\n      });\n    } finally {\n      delete root._bokeh_onload_callbacks\n    }\n    console.debug(\"Bokeh: all callbacks have finished\");\n  }\n\n  function load_libs(css_urls, js_urls, callback) {\n    if (css_urls == null) css_urls = [];\n    if (js_urls == null) js_urls = [];\n\n    root._bokeh_onload_callbacks.push(callback);\n    if (root._bokeh_is_loading > 0) {\n      console.debug(\"Bokeh: BokehJS is being loaded, scheduling callback at\", now());\n      return null;\n    }\n    if (js_urls == null || js_urls.length === 0) {\n      run_callbacks();\n      return null;\n    }\n    console.debug(\"Bokeh: BokehJS not loaded, scheduling load and callback at\", now());\n    root._bokeh_is_loading = css_urls.length + js_urls.length;\n\n    function on_load() {\n      root._bokeh_is_loading--;\n      if (root._bokeh_is_loading === 0) {\n        console.debug(\"Bokeh: all BokehJS libraries/stylesheets loaded\");\n        run_callbacks()\n      }\n    }\n\n    function on_error(url) {\n      console.error(\"failed to load \" + url);\n    }\n\n    for (let i = 0; i < css_urls.length; i++) {\n      const url = css_urls[i];\n      const element = document.createElement(\"link\");\n      element.onload = on_load;\n      element.onerror = on_error.bind(null, url);\n      element.rel = \"stylesheet\";\n      element.type = \"text/css\";\n      element.href = url;\n      console.debug(\"Bokeh: injecting link tag for BokehJS stylesheet: \", url);\n      document.body.appendChild(element);\n    }\n\n    for (let i = 0; i < js_urls.length; i++) {\n      const url = js_urls[i];\n      const element = document.createElement('script');\n      element.onload = on_load;\n      element.onerror = on_error.bind(null, url);\n      element.async = false;\n      element.src = url;\n      console.debug(\"Bokeh: injecting script tag for BokehJS library: \", url);\n      document.head.appendChild(element);\n    }\n  };\n\n  function inject_raw_css(css) {\n    const element = document.createElement(\"style\");\n    element.appendChild(document.createTextNode(css));\n    document.body.appendChild(element);\n  }\n\n  const js_urls = [\"https://cdn.bokeh.org/bokeh/release/bokeh-3.6.0.min.js\", \"https://cdn.bokeh.org/bokeh/release/bokeh-gl-3.6.0.min.js\", \"https://cdn.bokeh.org/bokeh/release/bokeh-widgets-3.6.0.min.js\", \"https://cdn.bokeh.org/bokeh/release/bokeh-tables-3.6.0.min.js\", \"https://cdn.bokeh.org/bokeh/release/bokeh-mathjax-3.6.0.min.js\"];\n  const css_urls = [];\n\n  const inline_js = [    function(Bokeh) {\n      Bokeh.set_log_level(\"info\");\n    },\nfunction(Bokeh) {\n    }\n  ];\n\n  function run_inline_js() {\n    if (root.Bokeh !== undefined || force === true) {\n      try {\n            for (let i = 0; i < inline_js.length; i++) {\n      inline_js[i].call(root, root.Bokeh);\n    }\n\n      } catch (error) {display_loaded(error);throw error;\n      }if (force === true) {\n        display_loaded();\n      }} else if (Date.now() < root._bokeh_timeout) {\n      setTimeout(run_inline_js, 100);\n    } else if (!root._bokeh_failed_load) {\n      console.log(\"Bokeh: BokehJS failed to load within specified timeout.\");\n      root._bokeh_failed_load = true;\n    } else if (force !== true) {\n      const cell = $(document.getElementById(\"bba3ff54-9d6e-42b6-b3b2-98848523afd0\")).parents('.cell').data().cell;\n      cell.output_area.append_execute_result(NB_LOAD_WARNING)\n    }\n  }\n\n  if (root._bokeh_is_loading === 0) {\n    console.debug(\"Bokeh: BokehJS loaded, going straight to plotting\");\n    run_inline_js();\n  } else {\n    load_libs(css_urls, js_urls, function() {\n      console.debug(\"Bokeh: BokehJS plotting callback run at\", now());\n      run_inline_js();\n    });\n  }\n}(window));",
      "application/vnd.bokehjs_load.v0+json": ""
     },
     "metadata": {},
     "output_type": "display_data"
    }
   ],
   "source": [
    "import numpy as np\n",
    "import pandas as pd\n",
    "from bokeh.plotting import figure, show\n",
    "from bokeh.io import output_notebook\n",
    "output_notebook()\n"
   ]
  },
  {
   "cell_type": "code",
   "execution_count": 62,
   "metadata": {},
   "outputs": [],
   "source": [
    "V=np.load(\"2025-01-24_11-42-45/v_table.npy\")"
   ]
  },
  {
   "cell_type": "code",
   "execution_count": 8,
   "metadata": {},
   "outputs": [
    {
     "data": {
      "text/plain": [
       "'/home/jet08013/GitHub/RLKaraDogan'"
      ]
     },
     "execution_count": 8,
     "metadata": {},
     "output_type": "execute_result"
    }
   ],
   "source": [
    "pwd"
   ]
  },
  {
   "cell_type": "code",
   "execution_count": 10,
   "metadata": {},
   "outputs": [
    {
     "data": {
      "text/plain": [
       "array([-3.00896845, -2.86066779, -2.07570926, -1.83071161, -1.36825418,\n",
       "       -1.37755469, -1.40055623, -0.88794818, -0.90437999, -0.73917228,\n",
       "       -0.69153731, -0.62337682, -0.71346183, -0.55289102, -0.50698427,\n",
       "       -0.37424128, -0.48615138, -0.5683024 , -0.44678971, -0.39742407,\n",
       "       -0.57384037, -0.6775794 , -0.81151418, -0.8529733 , -1.05327751,\n",
       "       -1.12024404, -1.47102732, -1.62233997, -2.03714565, -2.28668377,\n",
       "       -2.89429955, -3.49611483, -3.83125273, -4.27118737, -4.54318259,\n",
       "       -4.44749383, -4.41306962, -5.65006614, -4.37441056,  0.        ,\n",
       "        0.        ,  0.        ,  0.        ,  0.        ,  0.        ,\n",
       "        0.        ,  0.        ,  0.        ,  0.        ,  0.        ,\n",
       "        0.        ,  0.        ,  0.        ,  0.        ,  0.        ,\n",
       "        0.        ,  0.        ,  0.        ,  0.        ,  0.        ,\n",
       "        0.        ,  0.        ,  0.        ,  0.        ,  0.        ,\n",
       "        0.        ,  0.        ,  0.        ,  0.        ,  0.        ,\n",
       "        0.        ,  0.        ,  0.        ,  0.        ,  0.        ,\n",
       "        0.        ,  0.        ,  0.        ,  0.        ,  0.        ,\n",
       "        0.        ,  0.        ,  0.        ,  0.        ,  0.        ,\n",
       "        0.        ,  0.        ,  0.        ,  0.        ,  0.        ,\n",
       "        0.        ,  0.        ,  0.        ,  0.        ,  0.        ,\n",
       "        0.        ,  0.        ,  0.        ,  0.        ,  0.        ])"
      ]
     },
     "execution_count": 10,
     "metadata": {},
     "output_type": "execute_result"
    }
   ],
   "source": [
    "V"
   ]
  },
  {
   "cell_type": "code",
   "execution_count": 11,
   "metadata": {},
   "outputs": [
    {
     "data": {
      "text/plain": [
       "np.int64(37)"
      ]
     },
     "execution_count": 11,
     "metadata": {},
     "output_type": "execute_result"
    }
   ],
   "source": [
    "np.argmin(V)"
   ]
  },
  {
   "cell_type": "code",
   "execution_count": 12,
   "metadata": {},
   "outputs": [],
   "source": [
    "Q = np.load(\"2025-01-24_10-43-56/q_table.npy\")"
   ]
  },
  {
   "cell_type": "code",
   "execution_count": 13,
   "metadata": {},
   "outputs": [
    {
     "data": {
      "text/plain": [
       "array([[-2.06870773e+01, -1.98515390e+01, -2.12763422e+01, ...,\n",
       "        -2.02043231e+01, -1.73643757e+01, -2.10015009e+01],\n",
       "       [-2.28770395e+01, -2.33688413e+01, -2.28870026e+01, ...,\n",
       "        -2.32069737e+01, -2.37390145e+01, -2.25585017e+01],\n",
       "       [-2.28166215e+01, -2.24865707e+01, -2.33358583e+01, ...,\n",
       "        -2.19817760e+01, -2.12516684e+01, -2.22886828e+01],\n",
       "       ...,\n",
       "       [ 2.15756674e-02,  2.37797087e-01,  7.69531677e-01, ...,\n",
       "         2.30769887e-01,  7.86303664e-01,  4.04824999e-01],\n",
       "       [ 3.08866911e-02,  6.19564520e-01,  8.25361812e-01, ...,\n",
       "         4.51476665e-01,  2.19088568e-01,  2.27035462e-01],\n",
       "       [ 1.29795628e-01,  9.31095617e-01,  1.88395033e-01, ...,\n",
       "         9.51339361e-01,  8.08109201e-01,  3.09786562e-01]],\n",
       "      shape=(100, 20))"
      ]
     },
     "execution_count": 13,
     "metadata": {},
     "output_type": "execute_result"
    }
   ],
   "source": [
    "Q"
   ]
  },
  {
   "cell_type": "code",
   "execution_count": 14,
   "metadata": {},
   "outputs": [
    {
     "data": {
      "text/plain": [
       "array([-20.68707727, -19.85153896, -21.27634224, -22.8074935 ,\n",
       "       -20.00174056, -20.0086531 , -20.27225349, -20.32914562,\n",
       "       -20.37763871, -20.36501242, -21.50438801, -20.08815177,\n",
       "       -19.50730511, -21.05554728, -21.15359243, -20.23519153,\n",
       "       -20.34827178, -20.20432314, -17.36437575, -21.0015009 ])"
      ]
     },
     "execution_count": 14,
     "metadata": {},
     "output_type": "execute_result"
    }
   ],
   "source": [
    "Q[0,:]"
   ]
  },
  {
   "cell_type": "code",
   "execution_count": 15,
   "metadata": {},
   "outputs": [
    {
     "data": {
      "text/plain": [
       "array([-22.87703945, -23.36884132, -22.8870026 , -22.65544912,\n",
       "       -23.53497417, -23.1681665 , -23.36517685, -24.30698574,\n",
       "       -23.29899101, -23.64365848, -22.738666  , -23.69039222,\n",
       "       -23.4665515 , -23.18631346, -23.72887776, -16.92027895,\n",
       "       -22.50239792, -23.20697371, -23.73901454, -22.55850171])"
      ]
     },
     "execution_count": 15,
     "metadata": {},
     "output_type": "execute_result"
    }
   ],
   "source": [
    "Q[1,:]"
   ]
  },
  {
   "cell_type": "code",
   "execution_count": 16,
   "metadata": {},
   "outputs": [
    {
     "data": {
      "text/plain": [
       "array([-22.81662149, -22.48657065, -23.3358583 , -23.25000917,\n",
       "       -22.85696733, -21.22989911, -21.51833406, -22.18609773,\n",
       "       -21.5470101 , -22.18615072, -22.48929432, -15.9494979 ,\n",
       "       -22.83861935, -21.73843565, -22.40872264, -22.90048959,\n",
       "       -22.16329022, -21.981776  , -21.25166842, -22.28868283])"
      ]
     },
     "execution_count": 16,
     "metadata": {},
     "output_type": "execute_result"
    }
   ],
   "source": [
    "Q[2,:]\n"
   ]
  },
  {
   "cell_type": "code",
   "execution_count": 17,
   "metadata": {},
   "outputs": [
    {
     "data": {
      "text/plain": [
       "array([-22.29355892, -21.43661523, -22.67930788, -23.16912126,\n",
       "       -22.14902855, -21.91283999, -22.52145395, -22.58799361,\n",
       "       -21.64390648, -21.92705447, -22.66752363, -22.05289031,\n",
       "       -22.1237351 , -20.93944104, -22.42862801, -22.38802179,\n",
       "       -22.64639978, -22.70305336, -15.66763492, -21.621998  ])"
      ]
     },
     "execution_count": 17,
     "metadata": {},
     "output_type": "execute_result"
    }
   ],
   "source": [
    "Q[3,:]"
   ]
  },
  {
   "cell_type": "code",
   "execution_count": 18,
   "metadata": {},
   "outputs": [
    {
     "data": {
      "text/plain": [
       "array([-20.01474193, -20.5843127 , -21.58415684, -21.48262496,\n",
       "       -20.64728693, -21.28286572, -21.46927243, -21.28944664,\n",
       "       -20.76901498, -21.67342716, -21.43922732, -14.83667392,\n",
       "       -21.08221136, -20.54385467, -21.28441429, -20.9058065 ,\n",
       "       -21.45099525, -21.83196056, -21.22293376, -21.36591028])"
      ]
     },
     "execution_count": 18,
     "metadata": {},
     "output_type": "execute_result"
    }
   ],
   "source": [
    "Q[4,:]"
   ]
  },
  {
   "cell_type": "code",
   "execution_count": 19,
   "metadata": {},
   "outputs": [
    {
     "data": {
      "text/plain": [
       "array([-20.13840827, -20.61286218, -21.19249567, -20.35821474,\n",
       "       -20.84417665, -19.46841693, -20.78109164, -20.39444746,\n",
       "       -21.36195025, -20.51995212, -21.18401669, -21.2106217 ,\n",
       "       -20.33917858, -14.82117947, -21.2852823 , -19.96596957,\n",
       "       -21.16137438, -19.83842387, -19.74091647, -21.19908075])"
      ]
     },
     "execution_count": 19,
     "metadata": {},
     "output_type": "execute_result"
    }
   ],
   "source": [
    "Q[5,:]"
   ]
  },
  {
   "cell_type": "code",
   "execution_count": 20,
   "metadata": {},
   "outputs": [
    {
     "data": {
      "text/plain": [
       "np.int64(18)"
      ]
     },
     "execution_count": 20,
     "metadata": {},
     "output_type": "execute_result"
    }
   ],
   "source": [
    "np.argmax(Q[0,:])"
   ]
  },
  {
   "cell_type": "code",
   "execution_count": 26,
   "metadata": {},
   "outputs": [],
   "source": [
    "M=np.argmax(Q,axis=1)\n"
   ]
  },
  {
   "cell_type": "code",
   "execution_count": 27,
   "metadata": {},
   "outputs": [
    {
     "data": {
      "text/html": [
       "\n",
       "  <div id=\"f86f5247-49a2-43d2-973a-0e05b863eb5a\" data-root-id=\"p1069\" style=\"display: contents;\"></div>\n"
      ]
     },
     "metadata": {},
     "output_type": "display_data"
    },
    {
     "data": {
      "application/javascript": "(function(root) {\n  function embed_document(root) {\n  const docs_json = {\"f43e8965-27b4-4be9-ab8f-74fdd6b5570d\":{\"version\":\"3.6.0\",\"title\":\"Bokeh Application\",\"roots\":[{\"type\":\"object\",\"name\":\"Figure\",\"id\":\"p1069\",\"attributes\":{\"x_range\":{\"type\":\"object\",\"name\":\"DataRange1d\",\"id\":\"p1070\"},\"y_range\":{\"type\":\"object\",\"name\":\"DataRange1d\",\"id\":\"p1071\"},\"x_scale\":{\"type\":\"object\",\"name\":\"LinearScale\",\"id\":\"p1078\"},\"y_scale\":{\"type\":\"object\",\"name\":\"LinearScale\",\"id\":\"p1079\"},\"title\":{\"type\":\"object\",\"name\":\"Title\",\"id\":\"p1076\"},\"renderers\":[{\"type\":\"object\",\"name\":\"GlyphRenderer\",\"id\":\"p1109\",\"attributes\":{\"data_source\":{\"type\":\"object\",\"name\":\"ColumnDataSource\",\"id\":\"p1103\",\"attributes\":{\"selected\":{\"type\":\"object\",\"name\":\"Selection\",\"id\":\"p1104\",\"attributes\":{\"indices\":[],\"line_indices\":[]}},\"selection_policy\":{\"type\":\"object\",\"name\":\"UnionRenderers\",\"id\":\"p1105\"},\"data\":{\"type\":\"map\",\"entries\":[[\"x\",[0,1,2,3,4,5,6,7,8,9,10,11,12,13,14,15,16,17,18,19,20,21,22,23,24,25,26,27,28,29,30,31,32,33,34,35,36,37,38,39,40,41,42,43,44,45,46,47,48,49,50,51,52,53,54,55,56,57,58,59,60,61,62,63,64,65,66,67,68,69,70,71,72,73,74,75,76,77,78,79,80,81,82,83,84,85,86,87,88,89,90,91,92,93,94,95,96,97,98,99]],[\"y\",{\"type\":\"ndarray\",\"array\":{\"type\":\"bytes\",\"data\":\"EgAAAA8AAAALAAAAEgAAAAsAAAANAAAADgAAAAsAAAAIAAAADgAAAAkAAAAQAAAACQAAAAwAAAAPAAAAEAAAAAkAAAAJAAAABwAAAA4AAAAIAAAAAQAAAAYAAAAGAAAABwAAAAQAAAAOAAAADQAAAA0AAAAHAAAADQAAAA8AAAALAAAACwAAAAMAAAAOAAAADQAAABIAAAAJAAAAAwAAABIAAAAEAAAADAAAAAgAAAATAAAAEwAAAAgAAAAGAAAACwAAABAAAAABAAAACQAAAAYAAAADAAAAEQAAAAcAAAAMAAAACwAAAAUAAAAAAAAABAAAAA0AAAAMAAAAAQAAAA8AAAALAAAACwAAABEAAAAGAAAACAAAAAsAAAALAAAABAAAAAYAAAAIAAAADAAAABMAAAAJAAAAAgAAAAYAAAANAAAACAAAAA4AAAAGAAAAAwAAAAsAAAAFAAAAAAAAAAgAAAABAAAAAwAAAAQAAAAGAAAABgAAAAkAAAAGAAAABQAAAAMAAAAFAAAACwAAAA==\"},\"shape\":[100],\"dtype\":\"int32\",\"order\":\"little\"}]]}}},\"view\":{\"type\":\"object\",\"name\":\"CDSView\",\"id\":\"p1110\",\"attributes\":{\"filter\":{\"type\":\"object\",\"name\":\"AllIndices\",\"id\":\"p1111\"}}},\"glyph\":{\"type\":\"object\",\"name\":\"Line\",\"id\":\"p1106\",\"attributes\":{\"x\":{\"type\":\"field\",\"field\":\"x\"},\"y\":{\"type\":\"field\",\"field\":\"y\"},\"line_color\":\"#1f77b4\"}},\"nonselection_glyph\":{\"type\":\"object\",\"name\":\"Line\",\"id\":\"p1107\",\"attributes\":{\"x\":{\"type\":\"field\",\"field\":\"x\"},\"y\":{\"type\":\"field\",\"field\":\"y\"},\"line_color\":\"#1f77b4\",\"line_alpha\":0.1}},\"muted_glyph\":{\"type\":\"object\",\"name\":\"Line\",\"id\":\"p1108\",\"attributes\":{\"x\":{\"type\":\"field\",\"field\":\"x\"},\"y\":{\"type\":\"field\",\"field\":\"y\"},\"line_color\":\"#1f77b4\",\"line_alpha\":0.2}}}}],\"toolbar\":{\"type\":\"object\",\"name\":\"Toolbar\",\"id\":\"p1077\",\"attributes\":{\"tools\":[{\"type\":\"object\",\"name\":\"PanTool\",\"id\":\"p1090\"},{\"type\":\"object\",\"name\":\"WheelZoomTool\",\"id\":\"p1091\",\"attributes\":{\"renderers\":\"auto\"}},{\"type\":\"object\",\"name\":\"BoxZoomTool\",\"id\":\"p1092\",\"attributes\":{\"overlay\":{\"type\":\"object\",\"name\":\"BoxAnnotation\",\"id\":\"p1093\",\"attributes\":{\"syncable\":false,\"line_color\":\"black\",\"line_alpha\":1.0,\"line_width\":2,\"line_dash\":[4,4],\"fill_color\":\"lightgrey\",\"fill_alpha\":0.5,\"level\":\"overlay\",\"visible\":false,\"left\":{\"type\":\"number\",\"value\":\"nan\"},\"right\":{\"type\":\"number\",\"value\":\"nan\"},\"top\":{\"type\":\"number\",\"value\":\"nan\"},\"bottom\":{\"type\":\"number\",\"value\":\"nan\"},\"left_units\":\"canvas\",\"right_units\":\"canvas\",\"top_units\":\"canvas\",\"bottom_units\":\"canvas\",\"handles\":{\"type\":\"object\",\"name\":\"BoxInteractionHandles\",\"id\":\"p1099\",\"attributes\":{\"all\":{\"type\":\"object\",\"name\":\"AreaVisuals\",\"id\":\"p1098\",\"attributes\":{\"fill_color\":\"white\",\"hover_fill_color\":\"lightgray\"}}}}}}}},{\"type\":\"object\",\"name\":\"SaveTool\",\"id\":\"p1100\"},{\"type\":\"object\",\"name\":\"ResetTool\",\"id\":\"p1101\"},{\"type\":\"object\",\"name\":\"HelpTool\",\"id\":\"p1102\"}]}},\"left\":[{\"type\":\"object\",\"name\":\"LinearAxis\",\"id\":\"p1085\",\"attributes\":{\"ticker\":{\"type\":\"object\",\"name\":\"BasicTicker\",\"id\":\"p1086\",\"attributes\":{\"mantissas\":[1,2,5]}},\"formatter\":{\"type\":\"object\",\"name\":\"BasicTickFormatter\",\"id\":\"p1087\"},\"major_label_policy\":{\"type\":\"object\",\"name\":\"AllLabels\",\"id\":\"p1088\"}}}],\"below\":[{\"type\":\"object\",\"name\":\"LinearAxis\",\"id\":\"p1080\",\"attributes\":{\"ticker\":{\"type\":\"object\",\"name\":\"BasicTicker\",\"id\":\"p1081\",\"attributes\":{\"mantissas\":[1,2,5]}},\"formatter\":{\"type\":\"object\",\"name\":\"BasicTickFormatter\",\"id\":\"p1082\"},\"major_label_policy\":{\"type\":\"object\",\"name\":\"AllLabels\",\"id\":\"p1083\"}}}],\"center\":[{\"type\":\"object\",\"name\":\"Grid\",\"id\":\"p1084\",\"attributes\":{\"axis\":{\"id\":\"p1080\"}}},{\"type\":\"object\",\"name\":\"Grid\",\"id\":\"p1089\",\"attributes\":{\"dimension\":1,\"axis\":{\"id\":\"p1085\"}}}]}}]}};\n  const render_items = [{\"docid\":\"f43e8965-27b4-4be9-ab8f-74fdd6b5570d\",\"roots\":{\"p1069\":\"f86f5247-49a2-43d2-973a-0e05b863eb5a\"},\"root_ids\":[\"p1069\"]}];\n  void root.Bokeh.embed.embed_items_notebook(docs_json, render_items);\n  }\n  if (root.Bokeh !== undefined) {\n    embed_document(root);\n  } else {\n    let attempts = 0;\n    const timer = setInterval(function(root) {\n      if (root.Bokeh !== undefined) {\n        clearInterval(timer);\n        embed_document(root);\n      } else {\n        attempts++;\n        if (attempts > 100) {\n          clearInterval(timer);\n          console.log(\"Bokeh: ERROR: Unable to run BokehJS code because BokehJS library is missing\");\n        }\n      }\n    }, 10, root)\n  }\n})(window);",
      "application/vnd.bokehjs_exec.v0+json": ""
     },
     "metadata": {
      "application/vnd.bokehjs_exec.v0+json": {
       "id": "p1069"
      }
     },
     "output_type": "display_data"
    }
   ],
   "source": [
    "F=figure()\n",
    "F.line(list(range(100)),M)\n",
    "show(F)"
   ]
  },
  {
   "cell_type": "code",
   "execution_count": 28,
   "metadata": {},
   "outputs": [
    {
     "data": {
      "text/plain": [
       "array([-408.43954357, -458.84425301, -439.42399559, -437.56020626,\n",
       "       -416.76113818, -406.41805969, -401.77055204, -391.89239657,\n",
       "       -377.93926922, -365.53419424, -364.94925578, -355.46738394,\n",
       "       -356.01317813, -353.70162336, -348.71781054, -344.51707622,\n",
       "       -337.5861818 , -337.77130792, -333.28645836, -332.30589872,\n",
       "       -328.06720686, -331.89338398, -332.18517299, -331.77878625,\n",
       "       -334.89717474, -338.78815982, -342.52157007, -347.87153833,\n",
       "       -357.67797757, -375.93496005, -382.28978728, -398.81521488,\n",
       "       -406.94734854, -431.02461693, -437.75202985, -464.84577011,\n",
       "       -466.57252973, -481.50392648, -487.39786506,   12.1529854 ,\n",
       "          8.11448002,   11.30297589,    9.5918462 ,    8.35221824,\n",
       "          7.55924081,    9.94414073,   10.87290959,   11.56872738,\n",
       "         11.66775103,    8.575761  ,    9.05287078,    9.62040584,\n",
       "         10.75344587,    8.44059204,   10.69120451,    7.29941666,\n",
       "         10.54615135,    9.93285257,   11.20365689,   10.76862833,\n",
       "         10.61816148,    8.16000779,   10.56941582,   10.59629304,\n",
       "         11.9493577 ,    9.34538199,   11.27268916,   10.4277906 ,\n",
       "         11.17651415,    9.09510247,   12.70448116,    9.13039662,\n",
       "          9.34536157,    9.42589907,   11.29922348,    9.95291263,\n",
       "          9.19784682,    9.07315882,   10.66326415,    8.08527142,\n",
       "          7.68795633,   10.84848178,   10.16339308,   10.03478824,\n",
       "         10.73021291,   11.13094714,    8.92041915,   11.02498315,\n",
       "          8.25270472,   11.46251084,    8.90191114,   10.94278353,\n",
       "          9.90975848,   12.01031777,    9.807494  ,    8.67864577,\n",
       "          8.75800045,    8.55225203,   11.92897553,   12.06010327])"
      ]
     },
     "execution_count": 28,
     "metadata": {},
     "output_type": "execute_result"
    }
   ],
   "source": [
    "Q.sum(axis=1)"
   ]
  },
  {
   "cell_type": "code",
   "execution_count": 29,
   "metadata": {},
   "outputs": [
    {
     "data": {
      "text/plain": [
       "(100, 20)"
      ]
     },
     "execution_count": 29,
     "metadata": {},
     "output_type": "execute_result"
    }
   ],
   "source": [
    "Q.shape"
   ]
  },
  {
   "cell_type": "code",
   "execution_count": 30,
   "metadata": {},
   "outputs": [
    {
     "data": {
      "text/plain": [
       "array([[-2.06870773e+01, -1.98515390e+01, -2.12763422e+01, ...,\n",
       "        -2.02043231e+01, -1.73643757e+01, -2.10015009e+01],\n",
       "       [-2.28770395e+01, -2.33688413e+01, -2.28870026e+01, ...,\n",
       "        -2.32069737e+01, -2.37390145e+01, -2.25585017e+01],\n",
       "       [-2.28166215e+01, -2.24865707e+01, -2.33358583e+01, ...,\n",
       "        -2.19817760e+01, -2.12516684e+01, -2.22886828e+01],\n",
       "       ...,\n",
       "       [ 2.15756674e-02,  2.37797087e-01,  7.69531677e-01, ...,\n",
       "         2.30769887e-01,  7.86303664e-01,  4.04824999e-01],\n",
       "       [ 3.08866911e-02,  6.19564520e-01,  8.25361812e-01, ...,\n",
       "         4.51476665e-01,  2.19088568e-01,  2.27035462e-01],\n",
       "       [ 1.29795628e-01,  9.31095617e-01,  1.88395033e-01, ...,\n",
       "         9.51339361e-01,  8.08109201e-01,  3.09786562e-01]],\n",
       "      shape=(100, 20))"
      ]
     },
     "execution_count": 30,
     "metadata": {},
     "output_type": "execute_result"
    }
   ],
   "source": [
    "Q"
   ]
  },
  {
   "cell_type": "code",
   "execution_count": 31,
   "metadata": {},
   "outputs": [
    {
     "data": {
      "text/plain": [
       "array([-20.68707727, -19.85153896, -21.27634224, -22.8074935 ,\n",
       "       -20.00174056, -20.0086531 , -20.27225349, -20.32914562,\n",
       "       -20.37763871, -20.36501242, -21.50438801, -20.08815177,\n",
       "       -19.50730511, -21.05554728, -21.15359243, -20.23519153,\n",
       "       -20.34827178, -20.20432314, -17.36437575, -21.0015009 ])"
      ]
     },
     "execution_count": 31,
     "metadata": {},
     "output_type": "execute_result"
    }
   ],
   "source": [
    "Q[0,:]"
   ]
  },
  {
   "cell_type": "code",
   "execution_count": 32,
   "metadata": {},
   "outputs": [
    {
     "data": {
      "text/plain": [
       "array([0.68728021, 0.01772079, 0.1670723 , 0.32405752, 0.58008602,\n",
       "       0.22569301, 0.42801793, 0.28474428, 0.05371894, 0.01006334,\n",
       "       0.74083794, 0.23777004, 0.20284712, 0.61080362, 0.67638682,\n",
       "       0.70471464, 0.10940745, 0.45562513, 0.95944176, 0.63819116])"
      ]
     },
     "execution_count": 32,
     "metadata": {},
     "output_type": "execute_result"
    }
   ],
   "source": [
    "Q[40,:]"
   ]
  },
  {
   "cell_type": "code",
   "execution_count": 33,
   "metadata": {},
   "outputs": [
    {
     "data": {
      "text/plain": [
       "array([0.95787313, 0.85451446, 0.05936064, 0.98883767, 0.89834882,\n",
       "       0.46214895, 0.71677387, 0.95720086, 0.5701168 , 0.28326369,\n",
       "       0.39186757, 0.91206682, 0.8323686 , 0.41724801, 0.7595498 ,\n",
       "       0.30361303, 0.10684751, 0.65988396, 0.89245009, 0.12865111])"
      ]
     },
     "execution_count": 33,
     "metadata": {},
     "output_type": "execute_result"
    }
   ],
   "source": [
    "Q[39,:]"
   ]
  },
  {
   "cell_type": "code",
   "execution_count": 34,
   "metadata": {},
   "outputs": [
    {
     "data": {
      "text/plain": [
       "array([-24.40414987, -23.76704432, -26.07522408, -24.67660041,\n",
       "       -26.45197656, -24.43972346, -24.80433252, -25.19927854,\n",
       "       -23.88707506, -19.3304873 , -24.39836156, -23.7413513 ,\n",
       "       -24.5391804 , -23.78742239, -23.95855727, -24.82344543,\n",
       "       -25.10761341, -25.10339664, -23.78251609, -25.12012845])"
      ]
     },
     "execution_count": 34,
     "metadata": {},
     "output_type": "execute_result"
    }
   ],
   "source": [
    "Q[38,:]"
   ]
  },
  {
   "cell_type": "code",
   "execution_count": 35,
   "metadata": {},
   "outputs": [
    {
     "data": {
      "text/plain": [
       "array([-20.68707727, -19.85153896, -21.27634224, -22.8074935 ,\n",
       "       -20.00174056, -20.0086531 , -20.27225349, -20.32914562,\n",
       "       -20.37763871, -20.36501242, -21.50438801, -20.08815177,\n",
       "       -19.50730511, -21.05554728, -21.15359243, -20.23519153,\n",
       "       -20.34827178, -20.20432314, -17.36437575, -21.0015009 ])"
      ]
     },
     "execution_count": 35,
     "metadata": {},
     "output_type": "execute_result"
    }
   ],
   "source": [
    "Q[0,:]"
   ]
  },
  {
   "cell_type": "code",
   "execution_count": 36,
   "metadata": {},
   "outputs": [
    {
     "data": {
      "text/plain": [
       "array([[-20.68707727, -19.85153896, -21.27634224, -22.8074935 ,\n",
       "        -20.00174056, -20.0086531 , -20.27225349, -20.32914562,\n",
       "        -20.37763871, -20.36501242, -21.50438801, -20.08815177,\n",
       "        -19.50730511, -21.05554728, -21.15359243, -20.23519153,\n",
       "        -20.34827178, -20.20432314, -17.36437575, -21.0015009 ],\n",
       "       [-22.87703945, -23.36884132, -22.8870026 , -22.65544912,\n",
       "        -23.53497417, -23.1681665 , -23.36517685, -24.30698574,\n",
       "        -23.29899101, -23.64365848, -22.738666  , -23.69039222,\n",
       "        -23.4665515 , -23.18631346, -23.72887776, -16.92027895,\n",
       "        -22.50239792, -23.20697371, -23.73901454, -22.55850171],\n",
       "       [-22.81662149, -22.48657065, -23.3358583 , -23.25000917,\n",
       "        -22.85696733, -21.22989911, -21.51833406, -22.18609773,\n",
       "        -21.5470101 , -22.18615072, -22.48929432, -15.9494979 ,\n",
       "        -22.83861935, -21.73843565, -22.40872264, -22.90048959,\n",
       "        -22.16329022, -21.981776  , -21.25166842, -22.28868283],\n",
       "       [-22.29355892, -21.43661523, -22.67930788, -23.16912126,\n",
       "        -22.14902855, -21.91283999, -22.52145395, -22.58799361,\n",
       "        -21.64390648, -21.92705447, -22.66752363, -22.05289031,\n",
       "        -22.1237351 , -20.93944104, -22.42862801, -22.38802179,\n",
       "        -22.64639978, -22.70305336, -15.66763492, -21.621998  ],\n",
       "       [-20.01474193, -20.5843127 , -21.58415684, -21.48262496,\n",
       "        -20.64728693, -21.28286572, -21.46927243, -21.28944664,\n",
       "        -20.76901498, -21.67342716, -21.43922732, -14.83667392,\n",
       "        -21.08221136, -20.54385467, -21.28441429, -20.9058065 ,\n",
       "        -21.45099525, -21.83196056, -21.22293376, -21.36591028],\n",
       "       [-20.13840827, -20.61286218, -21.19249567, -20.35821474,\n",
       "        -20.84417665, -19.46841693, -20.78109164, -20.39444746,\n",
       "        -21.36195025, -20.51995212, -21.18401669, -21.2106217 ,\n",
       "        -20.33917858, -14.82117947, -21.2852823 , -19.96596957,\n",
       "        -21.16137438, -19.83842387, -19.74091647, -21.19908075],\n",
       "       [-20.07604119, -20.87449015, -20.77775535, -19.93616252,\n",
       "        -20.28827857, -20.34007469, -19.76224113, -20.31936123,\n",
       "        -20.70000405, -20.19407815, -20.93208409, -19.28021199,\n",
       "        -20.801533  , -21.2853933 , -14.7265636 , -19.81604005,\n",
       "        -20.57650767, -20.06481446, -20.82695435, -20.19196249],\n",
       "       [-19.67318515, -20.29181205, -19.70939863, -19.76477142,\n",
       "        -21.05967449, -19.27572115, -19.02384553, -20.12592821,\n",
       "        -20.06011321, -19.45911512, -19.55466422, -14.01893852,\n",
       "        -19.81547498, -20.43879272, -20.20005089, -19.88527389,\n",
       "        -20.18486958, -20.09465765, -19.36179002, -19.89431913],\n",
       "       [-18.89214171, -18.85936309, -18.87195275, -18.72726716,\n",
       "        -19.65099726, -19.24937388, -20.4864831 , -19.08248058,\n",
       "        -13.94617774, -18.91319363, -19.06984122, -18.99215657,\n",
       "        -19.5115736 , -19.09425236, -19.70131371, -19.13597902,\n",
       "        -18.67204665, -19.36110722, -18.9832111 , -18.73835687],\n",
       "       [-18.60645501, -18.58757107, -18.44438727, -18.4926931 ,\n",
       "        -17.21921214, -19.3791445 , -18.66909308, -18.3553741 ,\n",
       "        -19.07824912, -18.5672098 , -19.08333343, -18.19656697,\n",
       "        -17.43080167, -18.44352661, -13.68091495, -18.74025039,\n",
       "        -18.50418213, -18.75346898, -19.0274246 , -18.27433534],\n",
       "       [-18.38076151, -18.91105234, -18.99134825, -18.47755895,\n",
       "        -17.79932359, -19.22696825, -18.50654456, -18.46426495,\n",
       "        -18.71460352, -13.3509122 , -18.76694806, -18.96169722,\n",
       "        -18.62517157, -18.00378229, -18.64833396, -18.72373355,\n",
       "        -17.71427786, -18.77869622, -17.82269519, -18.08058172],\n",
       "       [-18.16719601, -17.08673099, -17.9818407 , -17.64068453,\n",
       "        -18.15729072, -18.38550275, -18.15770176, -17.53659306,\n",
       "        -18.4073602 , -18.13518747, -18.77093968, -18.37916923,\n",
       "        -18.29457488, -17.10036486, -18.48853536, -17.83720838,\n",
       "        -13.41475421, -17.90699582, -17.71720408, -17.90154926],\n",
       "       [-18.7658001 , -18.5603459 , -17.85002677, -18.41194501,\n",
       "        -18.00854512, -18.017678  , -17.4093742 , -18.09656877,\n",
       "        -18.07326108, -13.31097683, -18.31400175, -18.60008161,\n",
       "        -17.21526893, -17.64803013, -18.0947359 , -17.67133758,\n",
       "        -17.92946415, -18.35553649, -17.94905605, -17.73114376],\n",
       "       [-18.1355458 , -17.71474513, -18.16376243, -17.60118524,\n",
       "        -17.94634962, -18.05062662, -17.80718517, -17.8108064 ,\n",
       "        -17.77706383, -18.38586131, -18.13068132, -18.00333214,\n",
       "        -13.02976408, -17.83399169, -17.65006747, -17.52631753,\n",
       "        -18.11632457, -17.60876856, -18.23151526, -18.17772921],\n",
       "       [-17.45653121, -17.67348456, -17.62841745, -17.69452521,\n",
       "        -17.27069504, -17.85226192, -17.56681432, -17.53476899,\n",
       "        -17.52471809, -17.40258205, -17.58509687, -18.31038963,\n",
       "        -17.64012984, -17.57439981, -17.51579311, -12.94701297,\n",
       "        -18.15233521, -17.40292201, -17.40241752, -18.58251474],\n",
       "       [-17.27715148, -17.39849634, -17.60527077, -17.48757581,\n",
       "        -17.70455665, -17.68945205, -17.03173528, -17.30122928,\n",
       "        -17.19608275, -17.36453271, -17.52216021, -17.7019067 ,\n",
       "        -17.67886847, -17.39907079, -17.5507089 , -17.33549133,\n",
       "        -12.53978986, -17.67150537, -17.52934099, -17.53215049],\n",
       "       [-17.10500119, -16.99759816, -17.12113507, -16.5401044 ,\n",
       "        -17.29835569, -16.45638172, -17.62168369, -17.29328503,\n",
       "        -17.00209684, -12.70212607, -16.59321406, -17.01895157,\n",
       "        -17.21760671, -17.5445394 , -17.14634733, -16.62146899,\n",
       "        -17.50528631, -16.86551045, -17.49860951, -17.43687959],\n",
       "       [-17.04044044, -17.38046193, -17.05819467, -16.92666654,\n",
       "        -17.44386657, -17.23104315, -16.84398008, -16.69782912,\n",
       "        -16.92480436, -12.76486491, -16.89091969, -17.46156675,\n",
       "        -16.68865214, -17.99891807, -16.57986339, -17.36115989,\n",
       "        -17.75099687, -16.94787983, -16.87800002, -16.90119948],\n",
       "       [-16.87955059, -16.78977425, -16.98974421, -16.71827303,\n",
       "        -16.7016881 , -16.52759321, -16.86993164, -12.61071384,\n",
       "        -17.05859836, -16.8736812 , -16.93617175, -16.47940885,\n",
       "        -16.6700645 , -17.24527689, -16.98443867, -17.70692681,\n",
       "        -16.86489214, -16.53731367, -17.04956513, -16.79285153],\n",
       "       [-17.13005364, -16.79537172, -16.7871633 , -17.1516822 ,\n",
       "        -16.94551791, -16.48581278, -16.80152037, -17.01306826,\n",
       "        -16.63612635, -17.06869417, -16.88921712, -16.81555711,\n",
       "        -16.80301882, -16.55891474, -12.41094459, -16.6105741 ,\n",
       "        -17.01249926, -16.523709  , -17.04921775, -16.81723554],\n",
       "       [-17.0309202 , -16.52072563, -16.72843995, -16.86542734,\n",
       "        -16.50017156, -16.55110678, -16.63401067, -16.601408  ,\n",
       "        -12.61644809, -16.67469078, -16.19004269, -16.36599356,\n",
       "        -16.91057372, -16.68113976, -16.03483542, -16.57659659,\n",
       "        -16.46291131, -16.70141677, -16.87612992, -16.54421813],\n",
       "       [-16.08814334, -12.74156714, -16.56575145, -17.09225394,\n",
       "        -16.60427907, -16.91645611, -16.64409092, -16.59615481,\n",
       "        -16.61982664, -16.73112197, -17.26104301, -16.83423857,\n",
       "        -16.7864949 , -16.70747441, -17.31410091, -17.1335341 ,\n",
       "        -16.38392287, -17.13893604, -17.10193409, -16.63205967],\n",
       "       [-16.45094851, -16.62535673, -16.86534698, -16.93304497,\n",
       "        -16.95278436, -16.6015113 , -12.82244732, -17.1689555 ,\n",
       "        -16.60317596, -17.65103099, -16.7441051 , -16.69436476,\n",
       "        -16.60970829, -16.83106383, -16.90753843, -16.6445448 ,\n",
       "        -16.82083171, -16.58487948, -16.89829061, -16.77524336],\n",
       "       [-16.49172262, -16.87013972, -16.69972413, -16.78483346,\n",
       "        -17.27754162, -16.92060046, -12.84657962, -16.34793512,\n",
       "        -16.68265348, -16.96433316, -17.4094509 , -16.64985657,\n",
       "        -16.72601662, -16.58370985, -16.66500075, -16.4747927 ,\n",
       "        -16.77405308, -18.00607066, -16.25751128, -16.34626046],\n",
       "       [-17.17216294, -16.80213433, -17.20675299, -17.45062807,\n",
       "        -16.89411213, -16.69786491, -16.76268983, -13.06846311,\n",
       "        -16.85709245, -16.53386013, -16.7199885 , -16.89887885,\n",
       "        -16.88968698, -17.30801606, -17.23158454, -16.7934207 ,\n",
       "        -16.77121217, -17.13148275, -16.73095793, -16.97618536],\n",
       "       [-16.99144679, -16.8480936 , -16.86173281, -16.99659153,\n",
       "        -13.11718766, -16.91201432, -16.95436179, -17.4092686 ,\n",
       "        -17.24275254, -17.16915082, -18.22025154, -17.1352566 ,\n",
       "        -17.17062336, -16.70415415, -16.89320487, -17.71812774,\n",
       "        -16.88649552, -17.23614208, -17.51130955, -16.80999394],\n",
       "       [-17.7678936 , -17.2053358 , -16.69024555, -17.47422321,\n",
       "        -17.32100181, -17.09775888, -17.52479574, -17.15831656,\n",
       "        -17.75177558, -17.20321791, -17.72354373, -16.93210792,\n",
       "        -16.99500569, -17.5918369 , -13.46074096, -16.90650748,\n",
       "        -17.67396997, -17.48328803, -17.67618522, -16.88381952],\n",
       "       [-17.4951227 , -17.61172687, -17.67900064, -17.53661932,\n",
       "        -17.40372115, -17.64050615, -17.75281837, -17.38041628,\n",
       "        -17.99046611, -17.68284703, -17.87931014, -17.47002687,\n",
       "        -17.64200089, -13.58092012, -17.40949979, -17.43921158,\n",
       "        -17.32533401, -17.57029644, -17.81775052, -17.56394335],\n",
       "       [-17.821269  , -18.15164666, -18.42064557, -17.77095505,\n",
       "        -17.84778529, -17.79151921, -18.76929617, -18.05933722,\n",
       "        -18.05116692, -18.68653333, -18.83260107, -17.8657377 ,\n",
       "        -17.85788075, -14.00920248, -18.04353699, -18.34826469,\n",
       "        -17.8510476 , -17.73255962, -17.88682139, -17.88017086],\n",
       "       [-18.6236644 , -19.28042244, -18.6402554 , -19.63439562,\n",
       "        -19.94110286, -18.47159754, -18.85532844, -14.28172586,\n",
       "        -18.66077141, -19.11325995, -19.39596141, -18.63068651,\n",
       "        -18.37410418, -18.43852183, -18.86374338, -20.30195985,\n",
       "        -18.56476146, -19.29467889, -19.12005637, -19.44796223],\n",
       "       [-18.68781204, -20.3863926 , -18.76644788, -19.10776462,\n",
       "        -18.62517169, -18.86989792, -19.63550218, -19.81902227,\n",
       "        -20.12181632, -18.79186198, -19.44261083, -19.91554791,\n",
       "        -18.6425316 , -14.79300897, -19.09481928, -20.60284497,\n",
       "        -19.12176072, -18.67860886, -19.33805842, -19.84830625],\n",
       "       [-19.80786371, -20.49256255, -19.79076022, -19.7840713 ,\n",
       "        -19.9345545 , -20.37447311, -19.81351487, -19.72383396,\n",
       "        -20.8852414 , -20.36789526, -19.35874037, -20.67047752,\n",
       "        -21.04777372, -19.71641227, -20.47903495, -15.41461573,\n",
       "        -20.06533901, -20.00981761, -19.99806664, -21.08016618],\n",
       "       [-20.1943401 , -19.86474176, -20.02601982, -19.96482299,\n",
       "        -19.56039956, -20.10813681, -21.25860521, -21.90539135,\n",
       "        -20.59225417, -20.17871113, -21.17632113, -15.71515642,\n",
       "        -21.30668351, -20.28125838, -19.75589122, -19.9898935 ,\n",
       "        -21.28411221, -21.2962101 , -20.07287073, -22.41552845],\n",
       "       [-20.86412496, -22.29719522, -22.04356301, -22.4707423 ,\n",
       "        -23.92355406, -22.50578642, -21.37771634, -20.82767828,\n",
       "        -21.31382408, -22.26829829, -21.20395213, -16.30013355,\n",
       "        -21.25192015, -21.46167512, -20.67091329, -23.40968827,\n",
       "        -23.22535708, -21.00262921, -21.54533669, -21.06052848],\n",
       "       [-21.44677776, -22.1293095 , -21.47059301, -16.72379016,\n",
       "        -21.94365196, -21.1911731 , -23.02188973, -22.38955859,\n",
       "        -22.5906422 , -21.58033212, -22.40486958, -21.9165899 ,\n",
       "        -23.12559918, -21.14717818, -24.10511777, -20.63883305,\n",
       "        -21.88913204, -22.58771624, -22.57614231, -22.87313348],\n",
       "       [-22.78373702, -23.3324181 , -23.45574846, -23.76580519,\n",
       "        -22.31913506, -23.65087615, -23.974404  , -23.95408742,\n",
       "        -24.18587679, -23.34654217, -23.78929715, -23.35488676,\n",
       "        -22.44864943, -24.79527475, -19.6418171 , -22.24676694,\n",
       "        -23.55151161, -23.46402273, -22.37289978, -24.41201351],\n",
       "       [-23.74217645, -24.33513582, -22.96227372, -24.06191583,\n",
       "        -22.71147122, -24.53446027, -23.06440632, -24.23408921,\n",
       "        -22.99717403, -22.93277723, -23.2058482 , -23.67543285,\n",
       "        -23.64841442, -19.53544378, -23.70115855, -23.17454373,\n",
       "        -23.05446742, -23.94756243, -23.59864185, -23.4551364 ],\n",
       "       [-25.96326574, -24.05112633, -23.73271974, -25.5948615 ,\n",
       "        -24.01511976, -24.423187  , -27.27164396, -23.98234626,\n",
       "        -23.89816244, -23.99274137, -24.72969339, -23.3846173 ,\n",
       "        -23.10986268, -24.40468778, -25.19882474, -24.27649081,\n",
       "        -23.42142503, -22.79988506, -20.70731882, -22.54594677],\n",
       "       [-24.40414987, -23.76704432, -26.07522408, -24.67660041,\n",
       "        -26.45197656, -24.43972346, -24.80433252, -25.19927854,\n",
       "        -23.88707506, -19.3304873 , -24.39836156, -23.7413513 ,\n",
       "        -24.5391804 , -23.78742239, -23.95855727, -24.82344543,\n",
       "        -25.10761341, -25.10339664, -23.78251609, -25.12012845],\n",
       "       [  0.95787313,   0.85451446,   0.05936064,   0.98883767,\n",
       "          0.89834882,   0.46214895,   0.71677387,   0.95720086,\n",
       "          0.5701168 ,   0.28326369,   0.39186757,   0.91206682,\n",
       "          0.8323686 ,   0.41724801,   0.7595498 ,   0.30361303,\n",
       "          0.10684751,   0.65988396,   0.89245009,   0.12865111]])"
      ]
     },
     "execution_count": 36,
     "metadata": {},
     "output_type": "execute_result"
    }
   ],
   "source": [
    "Q[:40,:]"
   ]
  },
  {
   "cell_type": "code",
   "execution_count": 37,
   "metadata": {},
   "outputs": [
    {
     "data": {
      "text/plain": [
       "array([[-20.68707727, -19.85153896, -21.27634224, -22.8074935 ,\n",
       "        -20.00174056, -20.0086531 , -20.27225349, -20.32914562,\n",
       "        -20.37763871, -20.36501242, -21.50438801, -20.08815177,\n",
       "        -19.50730511, -21.05554728, -21.15359243, -20.23519153,\n",
       "        -20.34827178, -20.20432314, -17.36437575, -21.0015009 ],\n",
       "       [-22.87703945, -23.36884132, -22.8870026 , -22.65544912,\n",
       "        -23.53497417, -23.1681665 , -23.36517685, -24.30698574,\n",
       "        -23.29899101, -23.64365848, -22.738666  , -23.69039222,\n",
       "        -23.4665515 , -23.18631346, -23.72887776, -16.92027895,\n",
       "        -22.50239792, -23.20697371, -23.73901454, -22.55850171],\n",
       "       [-22.81662149, -22.48657065, -23.3358583 , -23.25000917,\n",
       "        -22.85696733, -21.22989911, -21.51833406, -22.18609773,\n",
       "        -21.5470101 , -22.18615072, -22.48929432, -15.9494979 ,\n",
       "        -22.83861935, -21.73843565, -22.40872264, -22.90048959,\n",
       "        -22.16329022, -21.981776  , -21.25166842, -22.28868283],\n",
       "       [-22.29355892, -21.43661523, -22.67930788, -23.16912126,\n",
       "        -22.14902855, -21.91283999, -22.52145395, -22.58799361,\n",
       "        -21.64390648, -21.92705447, -22.66752363, -22.05289031,\n",
       "        -22.1237351 , -20.93944104, -22.42862801, -22.38802179,\n",
       "        -22.64639978, -22.70305336, -15.66763492, -21.621998  ],\n",
       "       [-20.01474193, -20.5843127 , -21.58415684, -21.48262496,\n",
       "        -20.64728693, -21.28286572, -21.46927243, -21.28944664,\n",
       "        -20.76901498, -21.67342716, -21.43922732, -14.83667392,\n",
       "        -21.08221136, -20.54385467, -21.28441429, -20.9058065 ,\n",
       "        -21.45099525, -21.83196056, -21.22293376, -21.36591028],\n",
       "       [-20.13840827, -20.61286218, -21.19249567, -20.35821474,\n",
       "        -20.84417665, -19.46841693, -20.78109164, -20.39444746,\n",
       "        -21.36195025, -20.51995212, -21.18401669, -21.2106217 ,\n",
       "        -20.33917858, -14.82117947, -21.2852823 , -19.96596957,\n",
       "        -21.16137438, -19.83842387, -19.74091647, -21.19908075],\n",
       "       [-20.07604119, -20.87449015, -20.77775535, -19.93616252,\n",
       "        -20.28827857, -20.34007469, -19.76224113, -20.31936123,\n",
       "        -20.70000405, -20.19407815, -20.93208409, -19.28021199,\n",
       "        -20.801533  , -21.2853933 , -14.7265636 , -19.81604005,\n",
       "        -20.57650767, -20.06481446, -20.82695435, -20.19196249],\n",
       "       [-19.67318515, -20.29181205, -19.70939863, -19.76477142,\n",
       "        -21.05967449, -19.27572115, -19.02384553, -20.12592821,\n",
       "        -20.06011321, -19.45911512, -19.55466422, -14.01893852,\n",
       "        -19.81547498, -20.43879272, -20.20005089, -19.88527389,\n",
       "        -20.18486958, -20.09465765, -19.36179002, -19.89431913],\n",
       "       [-18.89214171, -18.85936309, -18.87195275, -18.72726716,\n",
       "        -19.65099726, -19.24937388, -20.4864831 , -19.08248058,\n",
       "        -13.94617774, -18.91319363, -19.06984122, -18.99215657,\n",
       "        -19.5115736 , -19.09425236, -19.70131371, -19.13597902,\n",
       "        -18.67204665, -19.36110722, -18.9832111 , -18.73835687],\n",
       "       [-18.60645501, -18.58757107, -18.44438727, -18.4926931 ,\n",
       "        -17.21921214, -19.3791445 , -18.66909308, -18.3553741 ,\n",
       "        -19.07824912, -18.5672098 , -19.08333343, -18.19656697,\n",
       "        -17.43080167, -18.44352661, -13.68091495, -18.74025039,\n",
       "        -18.50418213, -18.75346898, -19.0274246 , -18.27433534],\n",
       "       [-18.38076151, -18.91105234, -18.99134825, -18.47755895,\n",
       "        -17.79932359, -19.22696825, -18.50654456, -18.46426495,\n",
       "        -18.71460352, -13.3509122 , -18.76694806, -18.96169722,\n",
       "        -18.62517157, -18.00378229, -18.64833396, -18.72373355,\n",
       "        -17.71427786, -18.77869622, -17.82269519, -18.08058172],\n",
       "       [-18.16719601, -17.08673099, -17.9818407 , -17.64068453,\n",
       "        -18.15729072, -18.38550275, -18.15770176, -17.53659306,\n",
       "        -18.4073602 , -18.13518747, -18.77093968, -18.37916923,\n",
       "        -18.29457488, -17.10036486, -18.48853536, -17.83720838,\n",
       "        -13.41475421, -17.90699582, -17.71720408, -17.90154926],\n",
       "       [-18.7658001 , -18.5603459 , -17.85002677, -18.41194501,\n",
       "        -18.00854512, -18.017678  , -17.4093742 , -18.09656877,\n",
       "        -18.07326108, -13.31097683, -18.31400175, -18.60008161,\n",
       "        -17.21526893, -17.64803013, -18.0947359 , -17.67133758,\n",
       "        -17.92946415, -18.35553649, -17.94905605, -17.73114376],\n",
       "       [-18.1355458 , -17.71474513, -18.16376243, -17.60118524,\n",
       "        -17.94634962, -18.05062662, -17.80718517, -17.8108064 ,\n",
       "        -17.77706383, -18.38586131, -18.13068132, -18.00333214,\n",
       "        -13.02976408, -17.83399169, -17.65006747, -17.52631753,\n",
       "        -18.11632457, -17.60876856, -18.23151526, -18.17772921],\n",
       "       [-17.45653121, -17.67348456, -17.62841745, -17.69452521,\n",
       "        -17.27069504, -17.85226192, -17.56681432, -17.53476899,\n",
       "        -17.52471809, -17.40258205, -17.58509687, -18.31038963,\n",
       "        -17.64012984, -17.57439981, -17.51579311, -12.94701297,\n",
       "        -18.15233521, -17.40292201, -17.40241752, -18.58251474],\n",
       "       [-17.27715148, -17.39849634, -17.60527077, -17.48757581,\n",
       "        -17.70455665, -17.68945205, -17.03173528, -17.30122928,\n",
       "        -17.19608275, -17.36453271, -17.52216021, -17.7019067 ,\n",
       "        -17.67886847, -17.39907079, -17.5507089 , -17.33549133,\n",
       "        -12.53978986, -17.67150537, -17.52934099, -17.53215049],\n",
       "       [-17.10500119, -16.99759816, -17.12113507, -16.5401044 ,\n",
       "        -17.29835569, -16.45638172, -17.62168369, -17.29328503,\n",
       "        -17.00209684, -12.70212607, -16.59321406, -17.01895157,\n",
       "        -17.21760671, -17.5445394 , -17.14634733, -16.62146899,\n",
       "        -17.50528631, -16.86551045, -17.49860951, -17.43687959],\n",
       "       [-17.04044044, -17.38046193, -17.05819467, -16.92666654,\n",
       "        -17.44386657, -17.23104315, -16.84398008, -16.69782912,\n",
       "        -16.92480436, -12.76486491, -16.89091969, -17.46156675,\n",
       "        -16.68865214, -17.99891807, -16.57986339, -17.36115989,\n",
       "        -17.75099687, -16.94787983, -16.87800002, -16.90119948],\n",
       "       [-16.87955059, -16.78977425, -16.98974421, -16.71827303,\n",
       "        -16.7016881 , -16.52759321, -16.86993164, -12.61071384,\n",
       "        -17.05859836, -16.8736812 , -16.93617175, -16.47940885,\n",
       "        -16.6700645 , -17.24527689, -16.98443867, -17.70692681,\n",
       "        -16.86489214, -16.53731367, -17.04956513, -16.79285153],\n",
       "       [-17.13005364, -16.79537172, -16.7871633 , -17.1516822 ,\n",
       "        -16.94551791, -16.48581278, -16.80152037, -17.01306826,\n",
       "        -16.63612635, -17.06869417, -16.88921712, -16.81555711,\n",
       "        -16.80301882, -16.55891474, -12.41094459, -16.6105741 ,\n",
       "        -17.01249926, -16.523709  , -17.04921775, -16.81723554],\n",
       "       [-17.0309202 , -16.52072563, -16.72843995, -16.86542734,\n",
       "        -16.50017156, -16.55110678, -16.63401067, -16.601408  ,\n",
       "        -12.61644809, -16.67469078, -16.19004269, -16.36599356,\n",
       "        -16.91057372, -16.68113976, -16.03483542, -16.57659659,\n",
       "        -16.46291131, -16.70141677, -16.87612992, -16.54421813],\n",
       "       [-16.08814334, -12.74156714, -16.56575145, -17.09225394,\n",
       "        -16.60427907, -16.91645611, -16.64409092, -16.59615481,\n",
       "        -16.61982664, -16.73112197, -17.26104301, -16.83423857,\n",
       "        -16.7864949 , -16.70747441, -17.31410091, -17.1335341 ,\n",
       "        -16.38392287, -17.13893604, -17.10193409, -16.63205967],\n",
       "       [-16.45094851, -16.62535673, -16.86534698, -16.93304497,\n",
       "        -16.95278436, -16.6015113 , -12.82244732, -17.1689555 ,\n",
       "        -16.60317596, -17.65103099, -16.7441051 , -16.69436476,\n",
       "        -16.60970829, -16.83106383, -16.90753843, -16.6445448 ,\n",
       "        -16.82083171, -16.58487948, -16.89829061, -16.77524336],\n",
       "       [-16.49172262, -16.87013972, -16.69972413, -16.78483346,\n",
       "        -17.27754162, -16.92060046, -12.84657962, -16.34793512,\n",
       "        -16.68265348, -16.96433316, -17.4094509 , -16.64985657,\n",
       "        -16.72601662, -16.58370985, -16.66500075, -16.4747927 ,\n",
       "        -16.77405308, -18.00607066, -16.25751128, -16.34626046],\n",
       "       [-17.17216294, -16.80213433, -17.20675299, -17.45062807,\n",
       "        -16.89411213, -16.69786491, -16.76268983, -13.06846311,\n",
       "        -16.85709245, -16.53386013, -16.7199885 , -16.89887885,\n",
       "        -16.88968698, -17.30801606, -17.23158454, -16.7934207 ,\n",
       "        -16.77121217, -17.13148275, -16.73095793, -16.97618536],\n",
       "       [-16.99144679, -16.8480936 , -16.86173281, -16.99659153,\n",
       "        -13.11718766, -16.91201432, -16.95436179, -17.4092686 ,\n",
       "        -17.24275254, -17.16915082, -18.22025154, -17.1352566 ,\n",
       "        -17.17062336, -16.70415415, -16.89320487, -17.71812774,\n",
       "        -16.88649552, -17.23614208, -17.51130955, -16.80999394],\n",
       "       [-17.7678936 , -17.2053358 , -16.69024555, -17.47422321,\n",
       "        -17.32100181, -17.09775888, -17.52479574, -17.15831656,\n",
       "        -17.75177558, -17.20321791, -17.72354373, -16.93210792,\n",
       "        -16.99500569, -17.5918369 , -13.46074096, -16.90650748,\n",
       "        -17.67396997, -17.48328803, -17.67618522, -16.88381952],\n",
       "       [-17.4951227 , -17.61172687, -17.67900064, -17.53661932,\n",
       "        -17.40372115, -17.64050615, -17.75281837, -17.38041628,\n",
       "        -17.99046611, -17.68284703, -17.87931014, -17.47002687,\n",
       "        -17.64200089, -13.58092012, -17.40949979, -17.43921158,\n",
       "        -17.32533401, -17.57029644, -17.81775052, -17.56394335],\n",
       "       [-17.821269  , -18.15164666, -18.42064557, -17.77095505,\n",
       "        -17.84778529, -17.79151921, -18.76929617, -18.05933722,\n",
       "        -18.05116692, -18.68653333, -18.83260107, -17.8657377 ,\n",
       "        -17.85788075, -14.00920248, -18.04353699, -18.34826469,\n",
       "        -17.8510476 , -17.73255962, -17.88682139, -17.88017086],\n",
       "       [-18.6236644 , -19.28042244, -18.6402554 , -19.63439562,\n",
       "        -19.94110286, -18.47159754, -18.85532844, -14.28172586,\n",
       "        -18.66077141, -19.11325995, -19.39596141, -18.63068651,\n",
       "        -18.37410418, -18.43852183, -18.86374338, -20.30195985,\n",
       "        -18.56476146, -19.29467889, -19.12005637, -19.44796223],\n",
       "       [-18.68781204, -20.3863926 , -18.76644788, -19.10776462,\n",
       "        -18.62517169, -18.86989792, -19.63550218, -19.81902227,\n",
       "        -20.12181632, -18.79186198, -19.44261083, -19.91554791,\n",
       "        -18.6425316 , -14.79300897, -19.09481928, -20.60284497,\n",
       "        -19.12176072, -18.67860886, -19.33805842, -19.84830625],\n",
       "       [-19.80786371, -20.49256255, -19.79076022, -19.7840713 ,\n",
       "        -19.9345545 , -20.37447311, -19.81351487, -19.72383396,\n",
       "        -20.8852414 , -20.36789526, -19.35874037, -20.67047752,\n",
       "        -21.04777372, -19.71641227, -20.47903495, -15.41461573,\n",
       "        -20.06533901, -20.00981761, -19.99806664, -21.08016618],\n",
       "       [-20.1943401 , -19.86474176, -20.02601982, -19.96482299,\n",
       "        -19.56039956, -20.10813681, -21.25860521, -21.90539135,\n",
       "        -20.59225417, -20.17871113, -21.17632113, -15.71515642,\n",
       "        -21.30668351, -20.28125838, -19.75589122, -19.9898935 ,\n",
       "        -21.28411221, -21.2962101 , -20.07287073, -22.41552845],\n",
       "       [-20.86412496, -22.29719522, -22.04356301, -22.4707423 ,\n",
       "        -23.92355406, -22.50578642, -21.37771634, -20.82767828,\n",
       "        -21.31382408, -22.26829829, -21.20395213, -16.30013355,\n",
       "        -21.25192015, -21.46167512, -20.67091329, -23.40968827,\n",
       "        -23.22535708, -21.00262921, -21.54533669, -21.06052848],\n",
       "       [-21.44677776, -22.1293095 , -21.47059301, -16.72379016,\n",
       "        -21.94365196, -21.1911731 , -23.02188973, -22.38955859,\n",
       "        -22.5906422 , -21.58033212, -22.40486958, -21.9165899 ,\n",
       "        -23.12559918, -21.14717818, -24.10511777, -20.63883305,\n",
       "        -21.88913204, -22.58771624, -22.57614231, -22.87313348],\n",
       "       [-22.78373702, -23.3324181 , -23.45574846, -23.76580519,\n",
       "        -22.31913506, -23.65087615, -23.974404  , -23.95408742,\n",
       "        -24.18587679, -23.34654217, -23.78929715, -23.35488676,\n",
       "        -22.44864943, -24.79527475, -19.6418171 , -22.24676694,\n",
       "        -23.55151161, -23.46402273, -22.37289978, -24.41201351],\n",
       "       [-23.74217645, -24.33513582, -22.96227372, -24.06191583,\n",
       "        -22.71147122, -24.53446027, -23.06440632, -24.23408921,\n",
       "        -22.99717403, -22.93277723, -23.2058482 , -23.67543285,\n",
       "        -23.64841442, -19.53544378, -23.70115855, -23.17454373,\n",
       "        -23.05446742, -23.94756243, -23.59864185, -23.4551364 ],\n",
       "       [-25.96326574, -24.05112633, -23.73271974, -25.5948615 ,\n",
       "        -24.01511976, -24.423187  , -27.27164396, -23.98234626,\n",
       "        -23.89816244, -23.99274137, -24.72969339, -23.3846173 ,\n",
       "        -23.10986268, -24.40468778, -25.19882474, -24.27649081,\n",
       "        -23.42142503, -22.79988506, -20.70731882, -22.54594677],\n",
       "       [-24.40414987, -23.76704432, -26.07522408, -24.67660041,\n",
       "        -26.45197656, -24.43972346, -24.80433252, -25.19927854,\n",
       "        -23.88707506, -19.3304873 , -24.39836156, -23.7413513 ,\n",
       "        -24.5391804 , -23.78742239, -23.95855727, -24.82344543,\n",
       "        -25.10761341, -25.10339664, -23.78251609, -25.12012845]])"
      ]
     },
     "execution_count": 37,
     "metadata": {},
     "output_type": "execute_result"
    }
   ],
   "source": [
    "Q[:39,:]"
   ]
  },
  {
   "cell_type": "code",
   "execution_count": 39,
   "metadata": {},
   "outputs": [
    {
     "data": {
      "text/plain": [
       "array([-408.43954357, -458.84425301, -439.42399559, -437.56020626,\n",
       "       -416.76113818, -406.41805969, -401.77055204, -391.89239657,\n",
       "       -377.93926922, -365.53419424, -364.94925578, -355.46738394,\n",
       "       -356.01317813, -353.70162336, -348.71781054, -344.51707622,\n",
       "       -337.5861818 , -337.77130792, -333.28645836, -332.30589872,\n",
       "       -328.06720686, -331.89338398, -332.18517299, -331.77878625,\n",
       "       -334.89717474, -338.78815982, -342.52157007, -347.87153833,\n",
       "       -357.67797757, -375.93496005, -382.28978728, -398.81521488,\n",
       "       -406.94734854, -431.02461693, -437.75202985, -464.84577011,\n",
       "       -466.57252973, -481.50392648, -487.39786506])"
      ]
     },
     "execution_count": 39,
     "metadata": {},
     "output_type": "execute_result"
    }
   ],
   "source": [
    "Q[:39,:].sum(axis=1)"
   ]
  },
  {
   "cell_type": "code",
   "execution_count": 41,
   "metadata": {},
   "outputs": [
    {
     "data": {
      "text/html": [
       "\n",
       "  <div id=\"ccc4542d-3bd3-418a-b1ee-3f8b8d7423f0\" data-root-id=\"p1113\" style=\"display: contents;\"></div>\n"
      ]
     },
     "metadata": {},
     "output_type": "display_data"
    },
    {
     "data": {
      "application/javascript": "(function(root) {\n  function embed_document(root) {\n  const docs_json = {\"84f9471b-6650-40c3-a01f-95481fcb021b\":{\"version\":\"3.6.0\",\"title\":\"Bokeh Application\",\"roots\":[{\"type\":\"object\",\"name\":\"Figure\",\"id\":\"p1113\",\"attributes\":{\"x_range\":{\"type\":\"object\",\"name\":\"DataRange1d\",\"id\":\"p1114\"},\"y_range\":{\"type\":\"object\",\"name\":\"DataRange1d\",\"id\":\"p1115\"},\"x_scale\":{\"type\":\"object\",\"name\":\"LinearScale\",\"id\":\"p1122\"},\"y_scale\":{\"type\":\"object\",\"name\":\"LinearScale\",\"id\":\"p1123\"},\"title\":{\"type\":\"object\",\"name\":\"Title\",\"id\":\"p1120\"},\"renderers\":[{\"type\":\"object\",\"name\":\"GlyphRenderer\",\"id\":\"p1153\",\"attributes\":{\"data_source\":{\"type\":\"object\",\"name\":\"ColumnDataSource\",\"id\":\"p1147\",\"attributes\":{\"selected\":{\"type\":\"object\",\"name\":\"Selection\",\"id\":\"p1148\",\"attributes\":{\"indices\":[],\"line_indices\":[]}},\"selection_policy\":{\"type\":\"object\",\"name\":\"UnionRenderers\",\"id\":\"p1149\"},\"data\":{\"type\":\"map\",\"entries\":[[\"x\",[0,1,2,3,4,5,6,7,8,9,10,11,12,13,14,15,16,17,18,19,20,21,22,23,24,25,26,27,28,29,30,31,32,33,34,35,36,37,38]],[\"y\",{\"type\":\"ndarray\",\"array\":{\"type\":\"bytes\",\"data\":\"lFPVXgiHecDfwnEPgq18wN3kma/IdnvACuPXmvZYe8BCbTufLQx6wMuNW1+wZnnAyCxfLlQcecCvr59BR354wBdzKD8Hn3fAgXRDD4zYdsCb9NImMM92wH0blWd6N3bA/W5G+jVAdsAQxmvZORt2wMro5iZ8y3XAph628UWIdcBt0yoAYRl1wKR8+EZXHHXABzdbVZXUdMDhZg/25MR0wMC9gEcTgXTAiAf/TEu+dMAC6vR39sJ0wH8/keh1vHTAkrHm01rudMBcC3hNnCx1wAEn21lYaHXAifAs0vG9dcAjaQH/2Fp2wAEYqpj1fnfAjmf996Lkd8C33MIeC+14wFiE8VYob3nASD+41GTwesB+LHRQCFx7wEjlO0aIDX3AV4LuFCkpfcAwnzcVEBh+wEOiwadddn7A\"},\"shape\":[39],\"dtype\":\"float64\",\"order\":\"little\"}]]}}},\"view\":{\"type\":\"object\",\"name\":\"CDSView\",\"id\":\"p1154\",\"attributes\":{\"filter\":{\"type\":\"object\",\"name\":\"AllIndices\",\"id\":\"p1155\"}}},\"glyph\":{\"type\":\"object\",\"name\":\"Line\",\"id\":\"p1150\",\"attributes\":{\"x\":{\"type\":\"field\",\"field\":\"x\"},\"y\":{\"type\":\"field\",\"field\":\"y\"},\"line_color\":\"#1f77b4\"}},\"nonselection_glyph\":{\"type\":\"object\",\"name\":\"Line\",\"id\":\"p1151\",\"attributes\":{\"x\":{\"type\":\"field\",\"field\":\"x\"},\"y\":{\"type\":\"field\",\"field\":\"y\"},\"line_color\":\"#1f77b4\",\"line_alpha\":0.1}},\"muted_glyph\":{\"type\":\"object\",\"name\":\"Line\",\"id\":\"p1152\",\"attributes\":{\"x\":{\"type\":\"field\",\"field\":\"x\"},\"y\":{\"type\":\"field\",\"field\":\"y\"},\"line_color\":\"#1f77b4\",\"line_alpha\":0.2}}}}],\"toolbar\":{\"type\":\"object\",\"name\":\"Toolbar\",\"id\":\"p1121\",\"attributes\":{\"tools\":[{\"type\":\"object\",\"name\":\"PanTool\",\"id\":\"p1134\"},{\"type\":\"object\",\"name\":\"WheelZoomTool\",\"id\":\"p1135\",\"attributes\":{\"renderers\":\"auto\"}},{\"type\":\"object\",\"name\":\"BoxZoomTool\",\"id\":\"p1136\",\"attributes\":{\"overlay\":{\"type\":\"object\",\"name\":\"BoxAnnotation\",\"id\":\"p1137\",\"attributes\":{\"syncable\":false,\"line_color\":\"black\",\"line_alpha\":1.0,\"line_width\":2,\"line_dash\":[4,4],\"fill_color\":\"lightgrey\",\"fill_alpha\":0.5,\"level\":\"overlay\",\"visible\":false,\"left\":{\"type\":\"number\",\"value\":\"nan\"},\"right\":{\"type\":\"number\",\"value\":\"nan\"},\"top\":{\"type\":\"number\",\"value\":\"nan\"},\"bottom\":{\"type\":\"number\",\"value\":\"nan\"},\"left_units\":\"canvas\",\"right_units\":\"canvas\",\"top_units\":\"canvas\",\"bottom_units\":\"canvas\",\"handles\":{\"type\":\"object\",\"name\":\"BoxInteractionHandles\",\"id\":\"p1143\",\"attributes\":{\"all\":{\"type\":\"object\",\"name\":\"AreaVisuals\",\"id\":\"p1142\",\"attributes\":{\"fill_color\":\"white\",\"hover_fill_color\":\"lightgray\"}}}}}}}},{\"type\":\"object\",\"name\":\"SaveTool\",\"id\":\"p1144\"},{\"type\":\"object\",\"name\":\"ResetTool\",\"id\":\"p1145\"},{\"type\":\"object\",\"name\":\"HelpTool\",\"id\":\"p1146\"}]}},\"left\":[{\"type\":\"object\",\"name\":\"LinearAxis\",\"id\":\"p1129\",\"attributes\":{\"ticker\":{\"type\":\"object\",\"name\":\"BasicTicker\",\"id\":\"p1130\",\"attributes\":{\"mantissas\":[1,2,5]}},\"formatter\":{\"type\":\"object\",\"name\":\"BasicTickFormatter\",\"id\":\"p1131\"},\"major_label_policy\":{\"type\":\"object\",\"name\":\"AllLabels\",\"id\":\"p1132\"}}}],\"below\":[{\"type\":\"object\",\"name\":\"LinearAxis\",\"id\":\"p1124\",\"attributes\":{\"ticker\":{\"type\":\"object\",\"name\":\"BasicTicker\",\"id\":\"p1125\",\"attributes\":{\"mantissas\":[1,2,5]}},\"formatter\":{\"type\":\"object\",\"name\":\"BasicTickFormatter\",\"id\":\"p1126\"},\"major_label_policy\":{\"type\":\"object\",\"name\":\"AllLabels\",\"id\":\"p1127\"}}}],\"center\":[{\"type\":\"object\",\"name\":\"Grid\",\"id\":\"p1128\",\"attributes\":{\"axis\":{\"id\":\"p1124\"}}},{\"type\":\"object\",\"name\":\"Grid\",\"id\":\"p1133\",\"attributes\":{\"dimension\":1,\"axis\":{\"id\":\"p1129\"}}}]}}]}};\n  const render_items = [{\"docid\":\"84f9471b-6650-40c3-a01f-95481fcb021b\",\"roots\":{\"p1113\":\"ccc4542d-3bd3-418a-b1ee-3f8b8d7423f0\"},\"root_ids\":[\"p1113\"]}];\n  void root.Bokeh.embed.embed_items_notebook(docs_json, render_items);\n  }\n  if (root.Bokeh !== undefined) {\n    embed_document(root);\n  } else {\n    let attempts = 0;\n    const timer = setInterval(function(root) {\n      if (root.Bokeh !== undefined) {\n        clearInterval(timer);\n        embed_document(root);\n      } else {\n        attempts++;\n        if (attempts > 100) {\n          clearInterval(timer);\n          console.log(\"Bokeh: ERROR: Unable to run BokehJS code because BokehJS library is missing\");\n        }\n      }\n    }, 10, root)\n  }\n})(window);",
      "application/vnd.bokehjs_exec.v0+json": ""
     },
     "metadata": {
      "application/vnd.bokehjs_exec.v0+json": {
       "id": "p1113"
      }
     },
     "output_type": "display_data"
    }
   ],
   "source": [
    "F=figure()\n",
    "F.line(list(range(39)),Q[:39,:].sum(axis=1))\n",
    "show(F)"
   ]
  },
  {
   "cell_type": "code",
   "execution_count": 42,
   "metadata": {},
   "outputs": [
    {
     "data": {
      "text/plain": [
       "array([[-20.68707727, -19.85153896, -21.27634224, -22.8074935 ,\n",
       "        -20.00174056, -20.0086531 , -20.27225349, -20.32914562,\n",
       "        -20.37763871, -20.36501242, -21.50438801, -20.08815177,\n",
       "        -19.50730511, -21.05554728, -21.15359243, -20.23519153,\n",
       "        -20.34827178, -20.20432314, -17.36437575, -21.0015009 ],\n",
       "       [-22.87703945, -23.36884132, -22.8870026 , -22.65544912,\n",
       "        -23.53497417, -23.1681665 , -23.36517685, -24.30698574,\n",
       "        -23.29899101, -23.64365848, -22.738666  , -23.69039222,\n",
       "        -23.4665515 , -23.18631346, -23.72887776, -16.92027895,\n",
       "        -22.50239792, -23.20697371, -23.73901454, -22.55850171],\n",
       "       [-22.81662149, -22.48657065, -23.3358583 , -23.25000917,\n",
       "        -22.85696733, -21.22989911, -21.51833406, -22.18609773,\n",
       "        -21.5470101 , -22.18615072, -22.48929432, -15.9494979 ,\n",
       "        -22.83861935, -21.73843565, -22.40872264, -22.90048959,\n",
       "        -22.16329022, -21.981776  , -21.25166842, -22.28868283],\n",
       "       [-22.29355892, -21.43661523, -22.67930788, -23.16912126,\n",
       "        -22.14902855, -21.91283999, -22.52145395, -22.58799361,\n",
       "        -21.64390648, -21.92705447, -22.66752363, -22.05289031,\n",
       "        -22.1237351 , -20.93944104, -22.42862801, -22.38802179,\n",
       "        -22.64639978, -22.70305336, -15.66763492, -21.621998  ],\n",
       "       [-20.01474193, -20.5843127 , -21.58415684, -21.48262496,\n",
       "        -20.64728693, -21.28286572, -21.46927243, -21.28944664,\n",
       "        -20.76901498, -21.67342716, -21.43922732, -14.83667392,\n",
       "        -21.08221136, -20.54385467, -21.28441429, -20.9058065 ,\n",
       "        -21.45099525, -21.83196056, -21.22293376, -21.36591028],\n",
       "       [-20.13840827, -20.61286218, -21.19249567, -20.35821474,\n",
       "        -20.84417665, -19.46841693, -20.78109164, -20.39444746,\n",
       "        -21.36195025, -20.51995212, -21.18401669, -21.2106217 ,\n",
       "        -20.33917858, -14.82117947, -21.2852823 , -19.96596957,\n",
       "        -21.16137438, -19.83842387, -19.74091647, -21.19908075],\n",
       "       [-20.07604119, -20.87449015, -20.77775535, -19.93616252,\n",
       "        -20.28827857, -20.34007469, -19.76224113, -20.31936123,\n",
       "        -20.70000405, -20.19407815, -20.93208409, -19.28021199,\n",
       "        -20.801533  , -21.2853933 , -14.7265636 , -19.81604005,\n",
       "        -20.57650767, -20.06481446, -20.82695435, -20.19196249],\n",
       "       [-19.67318515, -20.29181205, -19.70939863, -19.76477142,\n",
       "        -21.05967449, -19.27572115, -19.02384553, -20.12592821,\n",
       "        -20.06011321, -19.45911512, -19.55466422, -14.01893852,\n",
       "        -19.81547498, -20.43879272, -20.20005089, -19.88527389,\n",
       "        -20.18486958, -20.09465765, -19.36179002, -19.89431913],\n",
       "       [-18.89214171, -18.85936309, -18.87195275, -18.72726716,\n",
       "        -19.65099726, -19.24937388, -20.4864831 , -19.08248058,\n",
       "        -13.94617774, -18.91319363, -19.06984122, -18.99215657,\n",
       "        -19.5115736 , -19.09425236, -19.70131371, -19.13597902,\n",
       "        -18.67204665, -19.36110722, -18.9832111 , -18.73835687],\n",
       "       [-18.60645501, -18.58757107, -18.44438727, -18.4926931 ,\n",
       "        -17.21921214, -19.3791445 , -18.66909308, -18.3553741 ,\n",
       "        -19.07824912, -18.5672098 , -19.08333343, -18.19656697,\n",
       "        -17.43080167, -18.44352661, -13.68091495, -18.74025039,\n",
       "        -18.50418213, -18.75346898, -19.0274246 , -18.27433534],\n",
       "       [-18.38076151, -18.91105234, -18.99134825, -18.47755895,\n",
       "        -17.79932359, -19.22696825, -18.50654456, -18.46426495,\n",
       "        -18.71460352, -13.3509122 , -18.76694806, -18.96169722,\n",
       "        -18.62517157, -18.00378229, -18.64833396, -18.72373355,\n",
       "        -17.71427786, -18.77869622, -17.82269519, -18.08058172],\n",
       "       [-18.16719601, -17.08673099, -17.9818407 , -17.64068453,\n",
       "        -18.15729072, -18.38550275, -18.15770176, -17.53659306,\n",
       "        -18.4073602 , -18.13518747, -18.77093968, -18.37916923,\n",
       "        -18.29457488, -17.10036486, -18.48853536, -17.83720838,\n",
       "        -13.41475421, -17.90699582, -17.71720408, -17.90154926],\n",
       "       [-18.7658001 , -18.5603459 , -17.85002677, -18.41194501,\n",
       "        -18.00854512, -18.017678  , -17.4093742 , -18.09656877,\n",
       "        -18.07326108, -13.31097683, -18.31400175, -18.60008161,\n",
       "        -17.21526893, -17.64803013, -18.0947359 , -17.67133758,\n",
       "        -17.92946415, -18.35553649, -17.94905605, -17.73114376],\n",
       "       [-18.1355458 , -17.71474513, -18.16376243, -17.60118524,\n",
       "        -17.94634962, -18.05062662, -17.80718517, -17.8108064 ,\n",
       "        -17.77706383, -18.38586131, -18.13068132, -18.00333214,\n",
       "        -13.02976408, -17.83399169, -17.65006747, -17.52631753,\n",
       "        -18.11632457, -17.60876856, -18.23151526, -18.17772921],\n",
       "       [-17.45653121, -17.67348456, -17.62841745, -17.69452521,\n",
       "        -17.27069504, -17.85226192, -17.56681432, -17.53476899,\n",
       "        -17.52471809, -17.40258205, -17.58509687, -18.31038963,\n",
       "        -17.64012984, -17.57439981, -17.51579311, -12.94701297,\n",
       "        -18.15233521, -17.40292201, -17.40241752, -18.58251474],\n",
       "       [-17.27715148, -17.39849634, -17.60527077, -17.48757581,\n",
       "        -17.70455665, -17.68945205, -17.03173528, -17.30122928,\n",
       "        -17.19608275, -17.36453271, -17.52216021, -17.7019067 ,\n",
       "        -17.67886847, -17.39907079, -17.5507089 , -17.33549133,\n",
       "        -12.53978986, -17.67150537, -17.52934099, -17.53215049],\n",
       "       [-17.10500119, -16.99759816, -17.12113507, -16.5401044 ,\n",
       "        -17.29835569, -16.45638172, -17.62168369, -17.29328503,\n",
       "        -17.00209684, -12.70212607, -16.59321406, -17.01895157,\n",
       "        -17.21760671, -17.5445394 , -17.14634733, -16.62146899,\n",
       "        -17.50528631, -16.86551045, -17.49860951, -17.43687959],\n",
       "       [-17.04044044, -17.38046193, -17.05819467, -16.92666654,\n",
       "        -17.44386657, -17.23104315, -16.84398008, -16.69782912,\n",
       "        -16.92480436, -12.76486491, -16.89091969, -17.46156675,\n",
       "        -16.68865214, -17.99891807, -16.57986339, -17.36115989,\n",
       "        -17.75099687, -16.94787983, -16.87800002, -16.90119948],\n",
       "       [-16.87955059, -16.78977425, -16.98974421, -16.71827303,\n",
       "        -16.7016881 , -16.52759321, -16.86993164, -12.61071384,\n",
       "        -17.05859836, -16.8736812 , -16.93617175, -16.47940885,\n",
       "        -16.6700645 , -17.24527689, -16.98443867, -17.70692681,\n",
       "        -16.86489214, -16.53731367, -17.04956513, -16.79285153],\n",
       "       [-17.13005364, -16.79537172, -16.7871633 , -17.1516822 ,\n",
       "        -16.94551791, -16.48581278, -16.80152037, -17.01306826,\n",
       "        -16.63612635, -17.06869417, -16.88921712, -16.81555711,\n",
       "        -16.80301882, -16.55891474, -12.41094459, -16.6105741 ,\n",
       "        -17.01249926, -16.523709  , -17.04921775, -16.81723554],\n",
       "       [-17.0309202 , -16.52072563, -16.72843995, -16.86542734,\n",
       "        -16.50017156, -16.55110678, -16.63401067, -16.601408  ,\n",
       "        -12.61644809, -16.67469078, -16.19004269, -16.36599356,\n",
       "        -16.91057372, -16.68113976, -16.03483542, -16.57659659,\n",
       "        -16.46291131, -16.70141677, -16.87612992, -16.54421813],\n",
       "       [-16.08814334, -12.74156714, -16.56575145, -17.09225394,\n",
       "        -16.60427907, -16.91645611, -16.64409092, -16.59615481,\n",
       "        -16.61982664, -16.73112197, -17.26104301, -16.83423857,\n",
       "        -16.7864949 , -16.70747441, -17.31410091, -17.1335341 ,\n",
       "        -16.38392287, -17.13893604, -17.10193409, -16.63205967],\n",
       "       [-16.45094851, -16.62535673, -16.86534698, -16.93304497,\n",
       "        -16.95278436, -16.6015113 , -12.82244732, -17.1689555 ,\n",
       "        -16.60317596, -17.65103099, -16.7441051 , -16.69436476,\n",
       "        -16.60970829, -16.83106383, -16.90753843, -16.6445448 ,\n",
       "        -16.82083171, -16.58487948, -16.89829061, -16.77524336],\n",
       "       [-16.49172262, -16.87013972, -16.69972413, -16.78483346,\n",
       "        -17.27754162, -16.92060046, -12.84657962, -16.34793512,\n",
       "        -16.68265348, -16.96433316, -17.4094509 , -16.64985657,\n",
       "        -16.72601662, -16.58370985, -16.66500075, -16.4747927 ,\n",
       "        -16.77405308, -18.00607066, -16.25751128, -16.34626046],\n",
       "       [-17.17216294, -16.80213433, -17.20675299, -17.45062807,\n",
       "        -16.89411213, -16.69786491, -16.76268983, -13.06846311,\n",
       "        -16.85709245, -16.53386013, -16.7199885 , -16.89887885,\n",
       "        -16.88968698, -17.30801606, -17.23158454, -16.7934207 ,\n",
       "        -16.77121217, -17.13148275, -16.73095793, -16.97618536],\n",
       "       [-16.99144679, -16.8480936 , -16.86173281, -16.99659153,\n",
       "        -13.11718766, -16.91201432, -16.95436179, -17.4092686 ,\n",
       "        -17.24275254, -17.16915082, -18.22025154, -17.1352566 ,\n",
       "        -17.17062336, -16.70415415, -16.89320487, -17.71812774,\n",
       "        -16.88649552, -17.23614208, -17.51130955, -16.80999394],\n",
       "       [-17.7678936 , -17.2053358 , -16.69024555, -17.47422321,\n",
       "        -17.32100181, -17.09775888, -17.52479574, -17.15831656,\n",
       "        -17.75177558, -17.20321791, -17.72354373, -16.93210792,\n",
       "        -16.99500569, -17.5918369 , -13.46074096, -16.90650748,\n",
       "        -17.67396997, -17.48328803, -17.67618522, -16.88381952],\n",
       "       [-17.4951227 , -17.61172687, -17.67900064, -17.53661932,\n",
       "        -17.40372115, -17.64050615, -17.75281837, -17.38041628,\n",
       "        -17.99046611, -17.68284703, -17.87931014, -17.47002687,\n",
       "        -17.64200089, -13.58092012, -17.40949979, -17.43921158,\n",
       "        -17.32533401, -17.57029644, -17.81775052, -17.56394335],\n",
       "       [-17.821269  , -18.15164666, -18.42064557, -17.77095505,\n",
       "        -17.84778529, -17.79151921, -18.76929617, -18.05933722,\n",
       "        -18.05116692, -18.68653333, -18.83260107, -17.8657377 ,\n",
       "        -17.85788075, -14.00920248, -18.04353699, -18.34826469,\n",
       "        -17.8510476 , -17.73255962, -17.88682139, -17.88017086],\n",
       "       [-18.6236644 , -19.28042244, -18.6402554 , -19.63439562,\n",
       "        -19.94110286, -18.47159754, -18.85532844, -14.28172586,\n",
       "        -18.66077141, -19.11325995, -19.39596141, -18.63068651,\n",
       "        -18.37410418, -18.43852183, -18.86374338, -20.30195985,\n",
       "        -18.56476146, -19.29467889, -19.12005637, -19.44796223],\n",
       "       [-18.68781204, -20.3863926 , -18.76644788, -19.10776462,\n",
       "        -18.62517169, -18.86989792, -19.63550218, -19.81902227,\n",
       "        -20.12181632, -18.79186198, -19.44261083, -19.91554791,\n",
       "        -18.6425316 , -14.79300897, -19.09481928, -20.60284497,\n",
       "        -19.12176072, -18.67860886, -19.33805842, -19.84830625],\n",
       "       [-19.80786371, -20.49256255, -19.79076022, -19.7840713 ,\n",
       "        -19.9345545 , -20.37447311, -19.81351487, -19.72383396,\n",
       "        -20.8852414 , -20.36789526, -19.35874037, -20.67047752,\n",
       "        -21.04777372, -19.71641227, -20.47903495, -15.41461573,\n",
       "        -20.06533901, -20.00981761, -19.99806664, -21.08016618],\n",
       "       [-20.1943401 , -19.86474176, -20.02601982, -19.96482299,\n",
       "        -19.56039956, -20.10813681, -21.25860521, -21.90539135,\n",
       "        -20.59225417, -20.17871113, -21.17632113, -15.71515642,\n",
       "        -21.30668351, -20.28125838, -19.75589122, -19.9898935 ,\n",
       "        -21.28411221, -21.2962101 , -20.07287073, -22.41552845],\n",
       "       [-20.86412496, -22.29719522, -22.04356301, -22.4707423 ,\n",
       "        -23.92355406, -22.50578642, -21.37771634, -20.82767828,\n",
       "        -21.31382408, -22.26829829, -21.20395213, -16.30013355,\n",
       "        -21.25192015, -21.46167512, -20.67091329, -23.40968827,\n",
       "        -23.22535708, -21.00262921, -21.54533669, -21.06052848],\n",
       "       [-21.44677776, -22.1293095 , -21.47059301, -16.72379016,\n",
       "        -21.94365196, -21.1911731 , -23.02188973, -22.38955859,\n",
       "        -22.5906422 , -21.58033212, -22.40486958, -21.9165899 ,\n",
       "        -23.12559918, -21.14717818, -24.10511777, -20.63883305,\n",
       "        -21.88913204, -22.58771624, -22.57614231, -22.87313348],\n",
       "       [-22.78373702, -23.3324181 , -23.45574846, -23.76580519,\n",
       "        -22.31913506, -23.65087615, -23.974404  , -23.95408742,\n",
       "        -24.18587679, -23.34654217, -23.78929715, -23.35488676,\n",
       "        -22.44864943, -24.79527475, -19.6418171 , -22.24676694,\n",
       "        -23.55151161, -23.46402273, -22.37289978, -24.41201351],\n",
       "       [-23.74217645, -24.33513582, -22.96227372, -24.06191583,\n",
       "        -22.71147122, -24.53446027, -23.06440632, -24.23408921,\n",
       "        -22.99717403, -22.93277723, -23.2058482 , -23.67543285,\n",
       "        -23.64841442, -19.53544378, -23.70115855, -23.17454373,\n",
       "        -23.05446742, -23.94756243, -23.59864185, -23.4551364 ],\n",
       "       [-25.96326574, -24.05112633, -23.73271974, -25.5948615 ,\n",
       "        -24.01511976, -24.423187  , -27.27164396, -23.98234626,\n",
       "        -23.89816244, -23.99274137, -24.72969339, -23.3846173 ,\n",
       "        -23.10986268, -24.40468778, -25.19882474, -24.27649081,\n",
       "        -23.42142503, -22.79988506, -20.70731882, -22.54594677],\n",
       "       [-24.40414987, -23.76704432, -26.07522408, -24.67660041,\n",
       "        -26.45197656, -24.43972346, -24.80433252, -25.19927854,\n",
       "        -23.88707506, -19.3304873 , -24.39836156, -23.7413513 ,\n",
       "        -24.5391804 , -23.78742239, -23.95855727, -24.82344543,\n",
       "        -25.10761341, -25.10339664, -23.78251609, -25.12012845]])"
      ]
     },
     "execution_count": 42,
     "metadata": {},
     "output_type": "execute_result"
    }
   ],
   "source": [
    "Q[:39,:]"
   ]
  },
  {
   "cell_type": "code",
   "execution_count": 43,
   "metadata": {},
   "outputs": [
    {
     "data": {
      "text/html": [
       "<div style=\"display: table;\"><div style=\"display: table-row;\"><div style=\"display: table-cell;\"><b title=\"bokeh.models.renderers.glyph_renderer.GlyphRenderer\">GlyphRenderer</b>(</div><div style=\"display: table-cell;\">id&nbsp;=&nbsp;'p1203', <span id=\"p1207\" style=\"cursor: pointer;\">&hellip;)</span></div></div><div class=\"p1206\" style=\"display: none;\"><div style=\"display: table-cell;\"></div><div style=\"display: table-cell;\">context_menu&nbsp;=&nbsp;None,</div></div><div class=\"p1206\" style=\"display: none;\"><div style=\"display: table-cell;\"></div><div style=\"display: table-cell;\">coordinates&nbsp;=&nbsp;None,</div></div><div class=\"p1206\" style=\"display: none;\"><div style=\"display: table-cell;\"></div><div style=\"display: table-cell;\">css_classes&nbsp;=&nbsp;[],</div></div><div class=\"p1206\" style=\"display: none;\"><div style=\"display: table-cell;\"></div><div style=\"display: table-cell;\">css_variables&nbsp;=&nbsp;{},</div></div><div class=\"p1206\" style=\"display: none;\"><div style=\"display: table-cell;\"></div><div style=\"display: table-cell;\">data_source&nbsp;=&nbsp;ColumnDataSource(id='p1191', ...),</div></div><div class=\"p1206\" style=\"display: none;\"><div style=\"display: table-cell;\"></div><div style=\"display: table-cell;\">glyph&nbsp;=&nbsp;Image(id='p1194', ...),</div></div><div class=\"p1206\" style=\"display: none;\"><div style=\"display: table-cell;\"></div><div style=\"display: table-cell;\">group&nbsp;=&nbsp;None,</div></div><div class=\"p1206\" style=\"display: none;\"><div style=\"display: table-cell;\"></div><div style=\"display: table-cell;\">hover_glyph&nbsp;=&nbsp;None,</div></div><div class=\"p1206\" style=\"display: none;\"><div style=\"display: table-cell;\"></div><div style=\"display: table-cell;\">js_event_callbacks&nbsp;=&nbsp;{},</div></div><div class=\"p1206\" style=\"display: none;\"><div style=\"display: table-cell;\"></div><div style=\"display: table-cell;\">js_property_callbacks&nbsp;=&nbsp;{},</div></div><div class=\"p1206\" style=\"display: none;\"><div style=\"display: table-cell;\"></div><div style=\"display: table-cell;\">level&nbsp;=&nbsp;'glyph',</div></div><div class=\"p1206\" style=\"display: none;\"><div style=\"display: table-cell;\"></div><div style=\"display: table-cell;\">muted&nbsp;=&nbsp;False,</div></div><div class=\"p1206\" style=\"display: none;\"><div style=\"display: table-cell;\"></div><div style=\"display: table-cell;\">muted_glyph&nbsp;=&nbsp;Image(id='p1200', ...),</div></div><div class=\"p1206\" style=\"display: none;\"><div style=\"display: table-cell;\"></div><div style=\"display: table-cell;\">name&nbsp;=&nbsp;None,</div></div><div class=\"p1206\" style=\"display: none;\"><div style=\"display: table-cell;\"></div><div style=\"display: table-cell;\">nonselection_glyph&nbsp;=&nbsp;Image(id='p1197', ...),</div></div><div class=\"p1206\" style=\"display: none;\"><div style=\"display: table-cell;\"></div><div style=\"display: table-cell;\">propagate_hover&nbsp;=&nbsp;False,</div></div><div class=\"p1206\" style=\"display: none;\"><div style=\"display: table-cell;\"></div><div style=\"display: table-cell;\">selection_glyph&nbsp;=&nbsp;'auto',</div></div><div class=\"p1206\" style=\"display: none;\"><div style=\"display: table-cell;\"></div><div style=\"display: table-cell;\">styles&nbsp;=&nbsp;{},</div></div><div class=\"p1206\" style=\"display: none;\"><div style=\"display: table-cell;\"></div><div style=\"display: table-cell;\">stylesheets&nbsp;=&nbsp;[],</div></div><div class=\"p1206\" style=\"display: none;\"><div style=\"display: table-cell;\"></div><div style=\"display: table-cell;\">subscribed_events&nbsp;=&nbsp;PropertyValueSet(),</div></div><div class=\"p1206\" style=\"display: none;\"><div style=\"display: table-cell;\"></div><div style=\"display: table-cell;\">syncable&nbsp;=&nbsp;True,</div></div><div class=\"p1206\" style=\"display: none;\"><div style=\"display: table-cell;\"></div><div style=\"display: table-cell;\">tags&nbsp;=&nbsp;[],</div></div><div class=\"p1206\" style=\"display: none;\"><div style=\"display: table-cell;\"></div><div style=\"display: table-cell;\">view&nbsp;=&nbsp;CDSView(id='p1204', ...),</div></div><div class=\"p1206\" style=\"display: none;\"><div style=\"display: table-cell;\"></div><div style=\"display: table-cell;\">visible&nbsp;=&nbsp;True,</div></div><div class=\"p1206\" style=\"display: none;\"><div style=\"display: table-cell;\"></div><div style=\"display: table-cell;\">x_range_name&nbsp;=&nbsp;'default',</div></div><div class=\"p1206\" style=\"display: none;\"><div style=\"display: table-cell;\"></div><div style=\"display: table-cell;\">y_range_name&nbsp;=&nbsp;'default')</div></div></div>\n",
       "<script>\n",
       "(function() {\n",
       "  let expanded = false;\n",
       "  const ellipsis = document.getElementById(\"p1207\");\n",
       "  ellipsis.addEventListener(\"click\", function() {\n",
       "    const rows = document.getElementsByClassName(\"p1206\");\n",
       "    for (let i = 0; i < rows.length; i++) {\n",
       "      const el = rows[i];\n",
       "      el.style.display = expanded ? \"none\" : \"table-row\";\n",
       "    }\n",
       "    ellipsis.innerHTML = expanded ? \"&hellip;)\" : \"&lsaquo;&lsaquo;&lsaquo;\";\n",
       "    expanded = !expanded;\n",
       "  });\n",
       "})();\n",
       "</script>\n"
      ],
      "text/plain": [
       "GlyphRenderer(id='p1203', ...)"
      ]
     },
     "execution_count": 43,
     "metadata": {},
     "output_type": "execute_result"
    }
   ],
   "source": [
    "P=figure()\n",
    "P.image(image=[Q[:39,:]], x=0, y=0, dw=10, dh=10, palette=\"Viridis256\")"
   ]
  },
  {
   "cell_type": "code",
   "execution_count": 44,
   "metadata": {},
   "outputs": [
    {
     "data": {
      "text/html": [
       "\n",
       "  <div id=\"dd0492a9-943f-4a1c-82c6-2693e69e2429\" data-root-id=\"p1157\" style=\"display: contents;\"></div>\n"
      ]
     },
     "metadata": {},
     "output_type": "display_data"
    },
    {
     "data": {
      "application/javascript": "(function(root) {\n  function embed_document(root) {\n  const docs_json = {\"72731900-3508-499a-a485-7f2e77666d7d\":{\"version\":\"3.6.0\",\"title\":\"Bokeh Application\",\"roots\":[{\"type\":\"object\",\"name\":\"Figure\",\"id\":\"p1157\",\"attributes\":{\"x_range\":{\"type\":\"object\",\"name\":\"DataRange1d\",\"id\":\"p1158\"},\"y_range\":{\"type\":\"object\",\"name\":\"DataRange1d\",\"id\":\"p1159\"},\"x_scale\":{\"type\":\"object\",\"name\":\"LinearScale\",\"id\":\"p1166\"},\"y_scale\":{\"type\":\"object\",\"name\":\"LinearScale\",\"id\":\"p1167\"},\"title\":{\"type\":\"object\",\"name\":\"Title\",\"id\":\"p1164\"},\"renderers\":[{\"type\":\"object\",\"name\":\"GlyphRenderer\",\"id\":\"p1203\",\"attributes\":{\"data_source\":{\"type\":\"object\",\"name\":\"ColumnDataSource\",\"id\":\"p1191\",\"attributes\":{\"selected\":{\"type\":\"object\",\"name\":\"Selection\",\"id\":\"p1192\",\"attributes\":{\"indices\":[],\"line_indices\":[]}},\"selection_policy\":{\"type\":\"object\",\"name\":\"UnionRenderers\",\"id\":\"p1193\"},\"data\":{\"type\":\"map\",\"entries\":[[\"image\",[{\"type\":\"ndarray\",\"array\":{\"type\":\"bytes\",\"data\":\"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\"},\"shape\":[39,20],\"dtype\":\"float64\",\"order\":\"little\"}]]]}}},\"view\":{\"type\":\"object\",\"name\":\"CDSView\",\"id\":\"p1204\",\"attributes\":{\"filter\":{\"type\":\"object\",\"name\":\"AllIndices\",\"id\":\"p1205\"}}},\"glyph\":{\"type\":\"object\",\"name\":\"Image\",\"id\":\"p1194\",\"attributes\":{\"x\":{\"type\":\"value\",\"value\":0},\"y\":{\"type\":\"value\",\"value\":0},\"dw\":{\"type\":\"value\",\"value\":10},\"dh\":{\"type\":\"value\",\"value\":10},\"image\":{\"type\":\"field\",\"field\":\"image\"},\"color_mapper\":{\"type\":\"object\",\"name\":\"LinearColorMapper\",\"id\":\"p1195\",\"attributes\":{\"palette\":[\"#440154\",\"#440255\",\"#440357\",\"#450558\",\"#45065A\",\"#45085B\",\"#46095C\",\"#460B5E\",\"#460C5F\",\"#460E61\",\"#470F62\",\"#471163\",\"#471265\",\"#471466\",\"#471567\",\"#471669\",\"#47186A\",\"#48196B\",\"#481A6C\",\"#481C6E\",\"#481D6F\",\"#481E70\",\"#482071\",\"#482172\",\"#482273\",\"#482374\",\"#472575\",\"#472676\",\"#472777\",\"#472878\",\"#472A79\",\"#472B7A\",\"#472C7B\",\"#462D7C\",\"#462F7C\",\"#46307D\",\"#46317E\",\"#45327F\",\"#45347F\",\"#453580\",\"#453681\",\"#443781\",\"#443982\",\"#433A83\",\"#433B83\",\"#433C84\",\"#423D84\",\"#423E85\",\"#424085\",\"#414186\",\"#414286\",\"#404387\",\"#404487\",\"#3F4587\",\"#3F4788\",\"#3E4888\",\"#3E4989\",\"#3D4A89\",\"#3D4B89\",\"#3D4C89\",\"#3C4D8A\",\"#3C4E8A\",\"#3B508A\",\"#3B518A\",\"#3A528B\",\"#3A538B\",\"#39548B\",\"#39558B\",\"#38568B\",\"#38578C\",\"#37588C\",\"#37598C\",\"#365A8C\",\"#365B8C\",\"#355C8C\",\"#355D8C\",\"#345E8D\",\"#345F8D\",\"#33608D\",\"#33618D\",\"#32628D\",\"#32638D\",\"#31648D\",\"#31658D\",\"#31668D\",\"#30678D\",\"#30688D\",\"#2F698D\",\"#2F6A8D\",\"#2E6B8E\",\"#2E6C8E\",\"#2E6D8E\",\"#2D6E8E\",\"#2D6F8E\",\"#2C708E\",\"#2C718E\",\"#2C728E\",\"#2B738E\",\"#2B748E\",\"#2A758E\",\"#2A768E\",\"#2A778E\",\"#29788E\",\"#29798E\",\"#287A8E\",\"#287A8E\",\"#287B8E\",\"#277C8E\",\"#277D8E\",\"#277E8E\",\"#267F8E\",\"#26808E\",\"#26818E\",\"#25828E\",\"#25838D\",\"#24848D\",\"#24858D\",\"#24868D\",\"#23878D\",\"#23888D\",\"#23898D\",\"#22898D\",\"#228A8D\",\"#228B8D\",\"#218C8D\",\"#218D8C\",\"#218E8C\",\"#208F8C\",\"#20908C\",\"#20918C\",\"#1F928C\",\"#1F938B\",\"#1F948B\",\"#1F958B\",\"#1F968B\",\"#1E978A\",\"#1E988A\",\"#1E998A\",\"#1E998A\",\"#1E9A89\",\"#1E9B89\",\"#1E9C89\",\"#1E9D88\",\"#1E9E88\",\"#1E9F88\",\"#1EA087\",\"#1FA187\",\"#1FA286\",\"#1FA386\",\"#20A485\",\"#20A585\",\"#21A685\",\"#21A784\",\"#22A784\",\"#23A883\",\"#23A982\",\"#24AA82\",\"#25AB81\",\"#26AC81\",\"#27AD80\",\"#28AE7F\",\"#29AF7F\",\"#2AB07E\",\"#2BB17D\",\"#2CB17D\",\"#2EB27C\",\"#2FB37B\",\"#30B47A\",\"#32B57A\",\"#33B679\",\"#35B778\",\"#36B877\",\"#38B976\",\"#39B976\",\"#3BBA75\",\"#3DBB74\",\"#3EBC73\",\"#40BD72\",\"#42BE71\",\"#44BE70\",\"#45BF6F\",\"#47C06E\",\"#49C16D\",\"#4BC26C\",\"#4DC26B\",\"#4FC369\",\"#51C468\",\"#53C567\",\"#55C666\",\"#57C665\",\"#59C764\",\"#5BC862\",\"#5EC961\",\"#60C960\",\"#62CA5F\",\"#64CB5D\",\"#67CC5C\",\"#69CC5B\",\"#6BCD59\",\"#6DCE58\",\"#70CE56\",\"#72CF55\",\"#74D054\",\"#77D052\",\"#79D151\",\"#7CD24F\",\"#7ED24E\",\"#81D34C\",\"#83D34B\",\"#86D449\",\"#88D547\",\"#8BD546\",\"#8DD644\",\"#90D643\",\"#92D741\",\"#95D73F\",\"#97D83E\",\"#9AD83C\",\"#9DD93A\",\"#9FD938\",\"#A2DA37\",\"#A5DA35\",\"#A7DB33\",\"#AADB32\",\"#ADDC30\",\"#AFDC2E\",\"#B2DD2C\",\"#B5DD2B\",\"#B7DD29\",\"#BADE27\",\"#BDDE26\",\"#BFDF24\",\"#C2DF22\",\"#C5DF21\",\"#C7E01F\",\"#CAE01E\",\"#CDE01D\",\"#CFE11C\",\"#D2E11B\",\"#D4E11A\",\"#D7E219\",\"#DAE218\",\"#DCE218\",\"#DFE318\",\"#E1E318\",\"#E4E318\",\"#E7E419\",\"#E9E419\",\"#ECE41A\",\"#EEE51B\",\"#F1E51C\",\"#F3E51E\",\"#F6E61F\",\"#F8E621\",\"#FAE622\",\"#FDE724\"]}}}},\"nonselection_glyph\":{\"type\":\"object\",\"name\":\"Image\",\"id\":\"p1197\",\"attributes\":{\"x\":{\"type\":\"value\",\"value\":0},\"y\":{\"type\":\"value\",\"value\":0},\"dw\":{\"type\":\"value\",\"value\":10},\"dh\":{\"type\":\"value\",\"value\":10},\"global_alpha\":{\"type\":\"value\",\"value\":0.1},\"image\":{\"type\":\"field\",\"field\":\"image\"},\"color_mapper\":{\"type\":\"object\",\"name\":\"LinearColorMapper\",\"id\":\"p1198\",\"attributes\":{\"palette\":[\"#440154\",\"#440255\",\"#440357\",\"#450558\",\"#45065A\",\"#45085B\",\"#46095C\",\"#460B5E\",\"#460C5F\",\"#460E61\",\"#470F62\",\"#471163\",\"#471265\",\"#471466\",\"#471567\",\"#471669\",\"#47186A\",\"#48196B\",\"#481A6C\",\"#481C6E\",\"#481D6F\",\"#481E70\",\"#482071\",\"#482172\",\"#482273\",\"#482374\",\"#472575\",\"#472676\",\"#472777\",\"#472878\",\"#472A79\",\"#472B7A\",\"#472C7B\",\"#462D7C\",\"#462F7C\",\"#46307D\",\"#46317E\",\"#45327F\",\"#45347F\",\"#453580\",\"#453681\",\"#443781\",\"#443982\",\"#433A83\",\"#433B83\",\"#433C84\",\"#423D84\",\"#423E85\",\"#424085\",\"#414186\",\"#414286\",\"#404387\",\"#404487\",\"#3F4587\",\"#3F4788\",\"#3E4888\",\"#3E4989\",\"#3D4A89\",\"#3D4B89\",\"#3D4C89\",\"#3C4D8A\",\"#3C4E8A\",\"#3B508A\",\"#3B518A\",\"#3A528B\",\"#3A538B\",\"#39548B\",\"#39558B\",\"#38568B\",\"#38578C\",\"#37588C\",\"#37598C\",\"#365A8C\",\"#365B8C\",\"#355C8C\",\"#355D8C\",\"#345E8D\",\"#345F8D\",\"#33608D\",\"#33618D\",\"#32628D\",\"#32638D\",\"#31648D\",\"#31658D\",\"#31668D\",\"#30678D\",\"#30688D\",\"#2F698D\",\"#2F6A8D\",\"#2E6B8E\",\"#2E6C8E\",\"#2E6D8E\",\"#2D6E8E\",\"#2D6F8E\",\"#2C708E\",\"#2C718E\",\"#2C728E\",\"#2B738E\",\"#2B748E\",\"#2A758E\",\"#2A768E\",\"#2A778E\",\"#29788E\",\"#29798E\",\"#287A8E\",\"#287A8E\",\"#287B8E\",\"#277C8E\",\"#277D8E\",\"#277E8E\",\"#267F8E\",\"#26808E\",\"#26818E\",\"#25828E\",\"#25838D\",\"#24848D\",\"#24858D\",\"#24868D\",\"#23878D\",\"#23888D\",\"#23898D\",\"#22898D\",\"#228A8D\",\"#228B8D\",\"#218C8D\",\"#218D8C\",\"#218E8C\",\"#208F8C\",\"#20908C\",\"#20918C\",\"#1F928C\",\"#1F938B\",\"#1F948B\",\"#1F958B\",\"#1F968B\",\"#1E978A\",\"#1E988A\",\"#1E998A\",\"#1E998A\",\"#1E9A89\",\"#1E9B89\",\"#1E9C89\",\"#1E9D88\",\"#1E9E88\",\"#1E9F88\",\"#1EA087\",\"#1FA187\",\"#1FA286\",\"#1FA386\",\"#20A485\",\"#20A585\",\"#21A685\",\"#21A784\",\"#22A784\",\"#23A883\",\"#23A982\",\"#24AA82\",\"#25AB81\",\"#26AC81\",\"#27AD80\",\"#28AE7F\",\"#29AF7F\",\"#2AB07E\",\"#2BB17D\",\"#2CB17D\",\"#2EB27C\",\"#2FB37B\",\"#30B47A\",\"#32B57A\",\"#33B679\",\"#35B778\",\"#36B877\",\"#38B976\",\"#39B976\",\"#3BBA75\",\"#3DBB74\",\"#3EBC73\",\"#40BD72\",\"#42BE71\",\"#44BE70\",\"#45BF6F\",\"#47C06E\",\"#49C16D\",\"#4BC26C\",\"#4DC26B\",\"#4FC369\",\"#51C468\",\"#53C567\",\"#55C666\",\"#57C665\",\"#59C764\",\"#5BC862\",\"#5EC961\",\"#60C960\",\"#62CA5F\",\"#64CB5D\",\"#67CC5C\",\"#69CC5B\",\"#6BCD59\",\"#6DCE58\",\"#70CE56\",\"#72CF55\",\"#74D054\",\"#77D052\",\"#79D151\",\"#7CD24F\",\"#7ED24E\",\"#81D34C\",\"#83D34B\",\"#86D449\",\"#88D547\",\"#8BD546\",\"#8DD644\",\"#90D643\",\"#92D741\",\"#95D73F\",\"#97D83E\",\"#9AD83C\",\"#9DD93A\",\"#9FD938\",\"#A2DA37\",\"#A5DA35\",\"#A7DB33\",\"#AADB32\",\"#ADDC30\",\"#AFDC2E\",\"#B2DD2C\",\"#B5DD2B\",\"#B7DD29\",\"#BADE27\",\"#BDDE26\",\"#BFDF24\",\"#C2DF22\",\"#C5DF21\",\"#C7E01F\",\"#CAE01E\",\"#CDE01D\",\"#CFE11C\",\"#D2E11B\",\"#D4E11A\",\"#D7E219\",\"#DAE218\",\"#DCE218\",\"#DFE318\",\"#E1E318\",\"#E4E318\",\"#E7E419\",\"#E9E419\",\"#ECE41A\",\"#EEE51B\",\"#F1E51C\",\"#F3E51E\",\"#F6E61F\",\"#F8E621\",\"#FAE622\",\"#FDE724\"]}}}},\"muted_glyph\":{\"type\":\"object\",\"name\":\"Image\",\"id\":\"p1200\",\"attributes\":{\"x\":{\"type\":\"value\",\"value\":0},\"y\":{\"type\":\"value\",\"value\":0},\"dw\":{\"type\":\"value\",\"value\":10},\"dh\":{\"type\":\"value\",\"value\":10},\"global_alpha\":{\"type\":\"value\",\"value\":0.2},\"image\":{\"type\":\"field\",\"field\":\"image\"},\"color_mapper\":{\"type\":\"object\",\"name\":\"LinearColorMapper\",\"id\":\"p1201\",\"attributes\":{\"palette\":[\"#440154\",\"#440255\",\"#440357\",\"#450558\",\"#45065A\",\"#45085B\",\"#46095C\",\"#460B5E\",\"#460C5F\",\"#460E61\",\"#470F62\",\"#471163\",\"#471265\",\"#471466\",\"#471567\",\"#471669\",\"#47186A\",\"#48196B\",\"#481A6C\",\"#481C6E\",\"#481D6F\",\"#481E70\",\"#482071\",\"#482172\",\"#482273\",\"#482374\",\"#472575\",\"#472676\",\"#472777\",\"#472878\",\"#472A79\",\"#472B7A\",\"#472C7B\",\"#462D7C\",\"#462F7C\",\"#46307D\",\"#46317E\",\"#45327F\",\"#45347F\",\"#453580\",\"#453681\",\"#443781\",\"#443982\",\"#433A83\",\"#433B83\",\"#433C84\",\"#423D84\",\"#423E85\",\"#424085\",\"#414186\",\"#414286\",\"#404387\",\"#404487\",\"#3F4587\",\"#3F4788\",\"#3E4888\",\"#3E4989\",\"#3D4A89\",\"#3D4B89\",\"#3D4C89\",\"#3C4D8A\",\"#3C4E8A\",\"#3B508A\",\"#3B518A\",\"#3A528B\",\"#3A538B\",\"#39548B\",\"#39558B\",\"#38568B\",\"#38578C\",\"#37588C\",\"#37598C\",\"#365A8C\",\"#365B8C\",\"#355C8C\",\"#355D8C\",\"#345E8D\",\"#345F8D\",\"#33608D\",\"#33618D\",\"#32628D\",\"#32638D\",\"#31648D\",\"#31658D\",\"#31668D\",\"#30678D\",\"#30688D\",\"#2F698D\",\"#2F6A8D\",\"#2E6B8E\",\"#2E6C8E\",\"#2E6D8E\",\"#2D6E8E\",\"#2D6F8E\",\"#2C708E\",\"#2C718E\",\"#2C728E\",\"#2B738E\",\"#2B748E\",\"#2A758E\",\"#2A768E\",\"#2A778E\",\"#29788E\",\"#29798E\",\"#287A8E\",\"#287A8E\",\"#287B8E\",\"#277C8E\",\"#277D8E\",\"#277E8E\",\"#267F8E\",\"#26808E\",\"#26818E\",\"#25828E\",\"#25838D\",\"#24848D\",\"#24858D\",\"#24868D\",\"#23878D\",\"#23888D\",\"#23898D\",\"#22898D\",\"#228A8D\",\"#228B8D\",\"#218C8D\",\"#218D8C\",\"#218E8C\",\"#208F8C\",\"#20908C\",\"#20918C\",\"#1F928C\",\"#1F938B\",\"#1F948B\",\"#1F958B\",\"#1F968B\",\"#1E978A\",\"#1E988A\",\"#1E998A\",\"#1E998A\",\"#1E9A89\",\"#1E9B89\",\"#1E9C89\",\"#1E9D88\",\"#1E9E88\",\"#1E9F88\",\"#1EA087\",\"#1FA187\",\"#1FA286\",\"#1FA386\",\"#20A485\",\"#20A585\",\"#21A685\",\"#21A784\",\"#22A784\",\"#23A883\",\"#23A982\",\"#24AA82\",\"#25AB81\",\"#26AC81\",\"#27AD80\",\"#28AE7F\",\"#29AF7F\",\"#2AB07E\",\"#2BB17D\",\"#2CB17D\",\"#2EB27C\",\"#2FB37B\",\"#30B47A\",\"#32B57A\",\"#33B679\",\"#35B778\",\"#36B877\",\"#38B976\",\"#39B976\",\"#3BBA75\",\"#3DBB74\",\"#3EBC73\",\"#40BD72\",\"#42BE71\",\"#44BE70\",\"#45BF6F\",\"#47C06E\",\"#49C16D\",\"#4BC26C\",\"#4DC26B\",\"#4FC369\",\"#51C468\",\"#53C567\",\"#55C666\",\"#57C665\",\"#59C764\",\"#5BC862\",\"#5EC961\",\"#60C960\",\"#62CA5F\",\"#64CB5D\",\"#67CC5C\",\"#69CC5B\",\"#6BCD59\",\"#6DCE58\",\"#70CE56\",\"#72CF55\",\"#74D054\",\"#77D052\",\"#79D151\",\"#7CD24F\",\"#7ED24E\",\"#81D34C\",\"#83D34B\",\"#86D449\",\"#88D547\",\"#8BD546\",\"#8DD644\",\"#90D643\",\"#92D741\",\"#95D73F\",\"#97D83E\",\"#9AD83C\",\"#9DD93A\",\"#9FD938\",\"#A2DA37\",\"#A5DA35\",\"#A7DB33\",\"#AADB32\",\"#ADDC30\",\"#AFDC2E\",\"#B2DD2C\",\"#B5DD2B\",\"#B7DD29\",\"#BADE27\",\"#BDDE26\",\"#BFDF24\",\"#C2DF22\",\"#C5DF21\",\"#C7E01F\",\"#CAE01E\",\"#CDE01D\",\"#CFE11C\",\"#D2E11B\",\"#D4E11A\",\"#D7E219\",\"#DAE218\",\"#DCE218\",\"#DFE318\",\"#E1E318\",\"#E4E318\",\"#E7E419\",\"#E9E419\",\"#ECE41A\",\"#EEE51B\",\"#F1E51C\",\"#F3E51E\",\"#F6E61F\",\"#F8E621\",\"#FAE622\",\"#FDE724\"]}}}}}}],\"toolbar\":{\"type\":\"object\",\"name\":\"Toolbar\",\"id\":\"p1165\",\"attributes\":{\"tools\":[{\"type\":\"object\",\"name\":\"PanTool\",\"id\":\"p1178\"},{\"type\":\"object\",\"name\":\"WheelZoomTool\",\"id\":\"p1179\",\"attributes\":{\"renderers\":\"auto\"}},{\"type\":\"object\",\"name\":\"BoxZoomTool\",\"id\":\"p1180\",\"attributes\":{\"overlay\":{\"type\":\"object\",\"name\":\"BoxAnnotation\",\"id\":\"p1181\",\"attributes\":{\"syncable\":false,\"line_color\":\"black\",\"line_alpha\":1.0,\"line_width\":2,\"line_dash\":[4,4],\"fill_color\":\"lightgrey\",\"fill_alpha\":0.5,\"level\":\"overlay\",\"visible\":false,\"left\":{\"type\":\"number\",\"value\":\"nan\"},\"right\":{\"type\":\"number\",\"value\":\"nan\"},\"top\":{\"type\":\"number\",\"value\":\"nan\"},\"bottom\":{\"type\":\"number\",\"value\":\"nan\"},\"left_units\":\"canvas\",\"right_units\":\"canvas\",\"top_units\":\"canvas\",\"bottom_units\":\"canvas\",\"handles\":{\"type\":\"object\",\"name\":\"BoxInteractionHandles\",\"id\":\"p1187\",\"attributes\":{\"all\":{\"type\":\"object\",\"name\":\"AreaVisuals\",\"id\":\"p1186\",\"attributes\":{\"fill_color\":\"white\",\"hover_fill_color\":\"lightgray\"}}}}}}}},{\"type\":\"object\",\"name\":\"SaveTool\",\"id\":\"p1188\"},{\"type\":\"object\",\"name\":\"ResetTool\",\"id\":\"p1189\"},{\"type\":\"object\",\"name\":\"HelpTool\",\"id\":\"p1190\"}]}},\"left\":[{\"type\":\"object\",\"name\":\"LinearAxis\",\"id\":\"p1173\",\"attributes\":{\"ticker\":{\"type\":\"object\",\"name\":\"BasicTicker\",\"id\":\"p1174\",\"attributes\":{\"mantissas\":[1,2,5]}},\"formatter\":{\"type\":\"object\",\"name\":\"BasicTickFormatter\",\"id\":\"p1175\"},\"major_label_policy\":{\"type\":\"object\",\"name\":\"AllLabels\",\"id\":\"p1176\"}}}],\"below\":[{\"type\":\"object\",\"name\":\"LinearAxis\",\"id\":\"p1168\",\"attributes\":{\"ticker\":{\"type\":\"object\",\"name\":\"BasicTicker\",\"id\":\"p1169\",\"attributes\":{\"mantissas\":[1,2,5]}},\"formatter\":{\"type\":\"object\",\"name\":\"BasicTickFormatter\",\"id\":\"p1170\"},\"major_label_policy\":{\"type\":\"object\",\"name\":\"AllLabels\",\"id\":\"p1171\"}}}],\"center\":[{\"type\":\"object\",\"name\":\"Grid\",\"id\":\"p1172\",\"attributes\":{\"axis\":{\"id\":\"p1168\"}}},{\"type\":\"object\",\"name\":\"Grid\",\"id\":\"p1177\",\"attributes\":{\"dimension\":1,\"axis\":{\"id\":\"p1173\"}}}]}}]}};\n  const render_items = [{\"docid\":\"72731900-3508-499a-a485-7f2e77666d7d\",\"roots\":{\"p1157\":\"dd0492a9-943f-4a1c-82c6-2693e69e2429\"},\"root_ids\":[\"p1157\"]}];\n  void root.Bokeh.embed.embed_items_notebook(docs_json, render_items);\n  }\n  if (root.Bokeh !== undefined) {\n    embed_document(root);\n  } else {\n    let attempts = 0;\n    const timer = setInterval(function(root) {\n      if (root.Bokeh !== undefined) {\n        clearInterval(timer);\n        embed_document(root);\n      } else {\n        attempts++;\n        if (attempts > 100) {\n          clearInterval(timer);\n          console.log(\"Bokeh: ERROR: Unable to run BokehJS code because BokehJS library is missing\");\n        }\n      }\n    }, 10, root)\n  }\n})(window);",
      "application/vnd.bokehjs_exec.v0+json": ""
     },
     "metadata": {
      "application/vnd.bokehjs_exec.v0+json": {
       "id": "p1157"
      }
     },
     "output_type": "display_data"
    }
   ],
   "source": [
    "show(P)"
   ]
  },
  {
   "cell_type": "code",
   "execution_count": 45,
   "metadata": {},
   "outputs": [
    {
     "data": {
      "text/plain": [
       "array([[-2.06870773e+01, -1.98515390e+01, -2.12763422e+01, ...,\n",
       "        -2.02043231e+01, -1.73643757e+01, -2.10015009e+01],\n",
       "       [-2.28770395e+01, -2.33688413e+01, -2.28870026e+01, ...,\n",
       "        -2.32069737e+01, -2.37390145e+01, -2.25585017e+01],\n",
       "       [-2.28166215e+01, -2.24865707e+01, -2.33358583e+01, ...,\n",
       "        -2.19817760e+01, -2.12516684e+01, -2.22886828e+01],\n",
       "       ...,\n",
       "       [ 2.15756674e-02,  2.37797087e-01,  7.69531677e-01, ...,\n",
       "         2.30769887e-01,  7.86303664e-01,  4.04824999e-01],\n",
       "       [ 3.08866911e-02,  6.19564520e-01,  8.25361812e-01, ...,\n",
       "         4.51476665e-01,  2.19088568e-01,  2.27035462e-01],\n",
       "       [ 1.29795628e-01,  9.31095617e-01,  1.88395033e-01, ...,\n",
       "         9.51339361e-01,  8.08109201e-01,  3.09786562e-01]],\n",
       "      shape=(100, 20))"
      ]
     },
     "execution_count": 45,
     "metadata": {},
     "output_type": "execute_result"
    }
   ],
   "source": [
    "Q"
   ]
  },
  {
   "cell_type": "code",
   "execution_count": 46,
   "metadata": {},
   "outputs": [],
   "source": [
    "I = np.load(\"2025-01-24_11-09-40/inventory_order_data.npy\")"
   ]
  },
  {
   "cell_type": "code",
   "execution_count": 47,
   "metadata": {},
   "outputs": [
    {
     "data": {
      "text/plain": [
       "array([[ 392588.,  395678.,  396181., ...,  778715.,  778729., 1773813.],\n",
       "       [  31506.,   29955.,   32644., ...,   37996.,   40315.,   34895.],\n",
       "       [  29304.,   30486.,   31011., ...,   44565.,   42363.,   43941.],\n",
       "       ...,\n",
       "       [      0.,       0.,       0., ...,       0.,       0.,       0.],\n",
       "       [      0.,       0.,       0., ...,       0.,       0.,       0.],\n",
       "       [      0.,       0.,       0., ...,       0.,       0.,       0.]],\n",
       "      shape=(100, 20))"
      ]
     },
     "execution_count": 47,
     "metadata": {},
     "output_type": "execute_result"
    }
   ],
   "source": [
    "I"
   ]
  },
  {
   "cell_type": "code",
   "execution_count": 48,
   "metadata": {},
   "outputs": [
    {
     "data": {
      "text/plain": [
       "(100, 20)"
      ]
     },
     "execution_count": 48,
     "metadata": {},
     "output_type": "execute_result"
    }
   ],
   "source": [
    "I.shape"
   ]
  },
  {
   "cell_type": "code",
   "execution_count": 49,
   "metadata": {},
   "outputs": [
    {
     "data": {
      "text/plain": [
       "array([1.088687e+07, 8.526250e+05, 8.587940e+05, 8.607200e+05,\n",
       "       8.541090e+05, 8.423520e+05, 8.237810e+05, 7.984020e+05,\n",
       "       7.658140e+05, 7.319370e+05, 6.862340e+05, 6.386620e+05,\n",
       "       5.813770e+05, 5.246570e+05, 4.767250e+05, 4.380640e+05,\n",
       "       4.023240e+05, 3.592940e+05, 3.319500e+05, 2.970370e+05,\n",
       "       2.851630e+05, 2.493900e+05, 2.269390e+05, 2.050360e+05,\n",
       "       1.803210e+05, 1.441450e+05, 1.205960e+05, 1.112370e+05,\n",
       "       9.723200e+04, 8.163400e+04, 6.350300e+04, 5.840200e+04,\n",
       "       4.503100e+04, 3.589700e+04, 3.056300e+04, 2.246400e+04,\n",
       "       1.889900e+04, 8.407000e+03, 3.413000e+03, 0.000000e+00,\n",
       "       0.000000e+00, 0.000000e+00, 0.000000e+00, 0.000000e+00,\n",
       "       0.000000e+00, 0.000000e+00, 0.000000e+00, 0.000000e+00,\n",
       "       0.000000e+00, 0.000000e+00, 0.000000e+00, 0.000000e+00,\n",
       "       0.000000e+00, 0.000000e+00, 0.000000e+00, 0.000000e+00,\n",
       "       0.000000e+00, 0.000000e+00, 0.000000e+00, 0.000000e+00,\n",
       "       0.000000e+00, 0.000000e+00, 0.000000e+00, 0.000000e+00,\n",
       "       0.000000e+00, 0.000000e+00, 0.000000e+00, 0.000000e+00,\n",
       "       0.000000e+00, 0.000000e+00, 0.000000e+00, 0.000000e+00,\n",
       "       0.000000e+00, 0.000000e+00, 0.000000e+00, 0.000000e+00,\n",
       "       0.000000e+00, 0.000000e+00, 0.000000e+00, 0.000000e+00,\n",
       "       0.000000e+00, 0.000000e+00, 0.000000e+00, 0.000000e+00,\n",
       "       0.000000e+00, 0.000000e+00, 0.000000e+00, 0.000000e+00,\n",
       "       0.000000e+00, 0.000000e+00, 0.000000e+00, 0.000000e+00,\n",
       "       0.000000e+00, 0.000000e+00, 0.000000e+00, 0.000000e+00,\n",
       "       0.000000e+00, 0.000000e+00, 0.000000e+00, 0.000000e+00])"
      ]
     },
     "execution_count": 49,
     "metadata": {},
     "output_type": "execute_result"
    }
   ],
   "source": [
    "I.sum(axis=1)"
   ]
  },
  {
   "cell_type": "code",
   "execution_count": 50,
   "metadata": {},
   "outputs": [
    {
     "data": {
      "text/plain": [
       "array([[ 392588.,  395678.,  396181., ...,  778715.,  778729., 1773813.],\n",
       "       [  31506.,   29955.,   32644., ...,   37996.,   40315.,   34895.],\n",
       "       [  29304.,   30486.,   31011., ...,   44565.,   42363.,   43941.],\n",
       "       ...,\n",
       "       [      0.,       0.,       0., ...,       0.,       0.,       0.],\n",
       "       [      0.,       0.,       0., ...,       0.,       0.,       0.],\n",
       "       [      0.,       0.,       0., ...,       0.,       0.,       0.]],\n",
       "      shape=(100, 20))"
      ]
     },
     "execution_count": 50,
     "metadata": {},
     "output_type": "execute_result"
    }
   ],
   "source": [
    "I"
   ]
  },
  {
   "cell_type": "code",
   "execution_count": 51,
   "metadata": {},
   "outputs": [
    {
     "data": {
      "text/plain": [
       "array([[3.925880e+05, 3.956780e+05, 3.961810e+05, 3.984090e+05,\n",
       "        4.009460e+05, 4.015400e+05, 4.083440e+05, 4.146460e+05,\n",
       "        4.175170e+05, 4.255430e+05, 4.350730e+05, 4.457700e+05,\n",
       "        4.611080e+05, 4.820750e+05, 5.186850e+05, 5.551900e+05,\n",
       "        6.063200e+05, 7.787150e+05, 7.787290e+05, 1.773813e+06],\n",
       "       [3.150600e+04, 2.995500e+04, 3.264400e+04, 3.178500e+04,\n",
       "        3.167700e+04, 3.349300e+04, 3.227000e+04, 3.255600e+04,\n",
       "        4.190700e+04, 3.664500e+04, 3.700400e+04, 3.633800e+04,\n",
       "        1.613320e+05, 4.773200e+04, 4.844400e+04, 3.766300e+04,\n",
       "        3.646800e+04, 3.799600e+04, 4.031500e+04, 3.489500e+04],\n",
       "       [2.930400e+04, 3.048600e+04, 3.101100e+04, 3.035800e+04,\n",
       "        3.208200e+04, 3.126400e+04, 3.256200e+04, 3.827800e+04,\n",
       "        3.529800e+04, 3.542000e+04, 3.540600e+04, 3.247100e+04,\n",
       "        1.815080e+05, 4.051000e+04, 3.625100e+04, 4.106700e+04,\n",
       "        3.464900e+04, 4.456500e+04, 4.236300e+04, 4.394100e+04],\n",
       "       [2.982900e+04, 3.014800e+04, 3.042700e+04, 3.162700e+04,\n",
       "        3.000700e+04, 3.112300e+04, 3.405300e+04, 3.354200e+04,\n",
       "        3.464900e+04, 5.492200e+04, 3.382000e+04, 4.040500e+04,\n",
       "        3.581300e+04, 4.010000e+04, 4.476100e+04, 1.747470e+05,\n",
       "        3.940800e+04, 3.471700e+04, 3.622000e+04, 4.040200e+04],\n",
       "       [3.120300e+04, 3.075500e+04, 3.053300e+04, 2.943100e+04,\n",
       "        2.920000e+04, 2.950400e+04, 3.118400e+04, 3.271500e+04,\n",
       "        3.252300e+04, 3.453300e+04, 3.243800e+04, 3.290600e+04,\n",
       "        3.807700e+04, 3.401500e+04, 3.790800e+04, 4.514000e+04,\n",
       "        3.956900e+04, 3.709800e+04, 3.716100e+04, 2.082160e+05],\n",
       "       [2.712600e+04, 2.776700e+04, 2.822600e+04, 2.895600e+04,\n",
       "        2.928700e+04, 2.943500e+04, 2.968000e+04, 3.203200e+04,\n",
       "        3.108400e+04, 2.011660e+05, 3.984200e+04, 4.976600e+04,\n",
       "        3.182800e+04, 3.508600e+04, 3.368500e+04, 4.285800e+04,\n",
       "        3.699800e+04, 3.828200e+04, 3.462300e+04, 3.462500e+04],\n",
       "       [2.703600e+04, 2.821100e+04, 2.687000e+04, 2.752800e+04,\n",
       "        2.828300e+04, 3.661500e+04, 1.956550e+05, 2.992900e+04,\n",
       "        2.946000e+04, 3.083800e+04, 3.069000e+04, 3.063700e+04,\n",
       "        3.042800e+04, 3.827300e+04, 5.452500e+04, 3.547800e+04,\n",
       "        4.093000e+04, 3.654800e+04, 3.205600e+04, 3.379100e+04],\n",
       "       [2.512700e+04, 2.451400e+04, 2.592200e+04, 2.619500e+04,\n",
       "        2.375000e+04, 2.654200e+04, 2.706200e+04, 3.130100e+04,\n",
       "        2.637000e+04, 2.899500e+04, 3.159100e+04, 3.304300e+04,\n",
       "        1.658050e+05, 2.747300e+04, 4.052200e+04, 7.271800e+04,\n",
       "        4.305300e+04, 3.621100e+04, 4.226100e+04, 3.994700e+04],\n",
       "       [2.261600e+04, 2.342100e+04, 2.446400e+04, 2.314700e+04,\n",
       "        2.429100e+04, 2.696200e+04, 2.443500e+04, 2.172740e+05,\n",
       "        2.571200e+04, 3.241100e+04, 3.014600e+04, 2.698400e+04,\n",
       "        3.226000e+04, 2.948000e+04, 3.160000e+04, 3.748200e+04,\n",
       "        3.392600e+04, 3.033100e+04, 3.570800e+04, 3.316400e+04],\n",
       "       [2.083400e+04, 2.147300e+04, 2.268000e+04, 2.317300e+04,\n",
       "        3.375600e+04, 2.839000e+04, 3.197400e+04, 2.707800e+04,\n",
       "        3.430900e+04, 2.331800e+04, 2.566900e+04, 2.360100e+04,\n",
       "        2.644100e+04, 2.574200e+04, 2.634000e+04, 2.508600e+04,\n",
       "        3.451300e+04, 2.131360e+05, 2.845400e+04, 3.597000e+04],\n",
       "       [2.186400e+04, 2.033700e+04, 2.125200e+04, 1.915500e+04,\n",
       "        2.123500e+04, 2.318200e+04, 2.206400e+04, 2.088300e+04,\n",
       "        2.416200e+04, 3.335100e+04, 2.155500e+04, 2.653000e+04,\n",
       "        2.287400e+04, 2.414200e+04, 2.204380e+05, 3.187200e+04,\n",
       "        2.343000e+04, 2.438400e+04, 3.658900e+04, 2.693500e+04],\n",
       "       [1.778700e+04, 1.684200e+04, 1.680100e+04, 1.789100e+04,\n",
       "        1.864600e+04, 2.331800e+04, 2.519500e+04, 1.971000e+04,\n",
       "        2.993000e+04, 3.092700e+04, 2.032500e+04, 1.963900e+04,\n",
       "        2.102200e+04, 2.254200e+04, 2.103700e+05, 2.418400e+04,\n",
       "        2.359500e+04, 2.916900e+04, 2.492900e+04, 2.584000e+04],\n",
       "       [1.449100e+04, 1.668800e+04, 1.596000e+04, 1.615500e+04,\n",
       "        1.582700e+04, 1.891800e+04, 1.946300e+04, 1.728300e+04,\n",
       "        1.699800e+04, 2.009200e+04, 1.801100e+04, 1.725100e+04,\n",
       "        1.765300e+04, 2.056000e+04, 2.002700e+04, 2.863600e+04,\n",
       "        1.955700e+04, 2.583500e+04, 3.049700e+04, 2.114750e+05],\n",
       "       [1.466100e+04, 1.397900e+04, 1.388800e+04, 1.614700e+04,\n",
       "        1.508100e+04, 1.383200e+04, 1.616500e+04, 1.456300e+04,\n",
       "        1.629600e+04, 1.850200e+04, 1.649900e+04, 1.608800e+04,\n",
       "        1.705700e+04, 2.190600e+04, 1.770100e+04, 1.962810e+05,\n",
       "        1.617000e+04, 2.846600e+04, 1.753700e+04, 2.383800e+04],\n",
       "       [1.144900e+04, 1.113200e+04, 1.221000e+04, 1.175600e+04,\n",
       "        1.184000e+04, 1.281200e+04, 2.268500e+04, 1.352000e+04,\n",
       "        1.583100e+04, 1.419800e+04, 1.327600e+04, 1.282700e+04,\n",
       "        1.632000e+04, 1.499600e+04, 1.532800e+04, 2.136500e+04,\n",
       "        1.837790e+05, 1.821200e+04, 2.484600e+04, 1.834300e+04],\n",
       "       [1.399900e+04, 9.903000e+03, 1.569500e+04, 1.040700e+04,\n",
       "        1.180100e+04, 1.002800e+04, 2.032500e+04, 1.255000e+04,\n",
       "        1.273700e+04, 1.218200e+04, 1.332000e+04, 1.065000e+04,\n",
       "        1.725000e+04, 1.376800e+04, 1.404400e+04, 1.163900e+04,\n",
       "        1.578200e+04, 1.834700e+05, 1.625900e+04, 1.225500e+04],\n",
       "       [8.604000e+03, 9.370000e+03, 8.767000e+03, 9.724000e+03,\n",
       "        1.143300e+04, 1.095100e+04, 1.127000e+04, 1.024600e+04,\n",
       "        1.215900e+04, 1.051500e+04, 8.757000e+03, 1.859100e+04,\n",
       "        1.827900e+04, 1.033100e+04, 1.379300e+04, 1.053000e+04,\n",
       "        1.133500e+04, 1.935900e+04, 1.759710e+05, 1.233900e+04],\n",
       "       [9.839000e+03, 8.441000e+03, 1.487200e+04, 7.560000e+03,\n",
       "        8.182000e+03, 1.026000e+04, 1.564830e+05, 9.559000e+03,\n",
       "        9.486000e+03, 1.437900e+04, 9.620000e+03, 7.679000e+03,\n",
       "        8.496000e+03, 1.309700e+04, 8.817000e+03, 1.152500e+04,\n",
       "        2.182500e+04, 8.305000e+03, 7.598000e+03, 1.327100e+04],\n",
       "       [6.674000e+03, 7.395000e+03, 7.185000e+03, 6.772000e+03,\n",
       "        7.985000e+03, 1.157700e+04, 6.347000e+03, 9.678000e+03,\n",
       "        8.219000e+03, 8.138000e+03, 9.910000e+03, 8.951000e+03,\n",
       "        1.063200e+04, 6.907000e+03, 1.020400e+04, 1.574000e+04,\n",
       "        1.534400e+04, 1.510560e+05, 1.009800e+04, 1.313800e+04],\n",
       "       [7.409000e+03, 5.651000e+03, 6.288000e+03, 6.567000e+03,\n",
       "        1.395300e+04, 7.389000e+03, 7.152000e+03, 8.292000e+03,\n",
       "        1.727800e+04, 9.743000e+03, 1.415800e+04, 7.488000e+03,\n",
       "        1.286860e+05, 8.759000e+03, 5.986000e+03, 9.568000e+03,\n",
       "        7.513000e+03, 1.153000e+04, 6.450000e+03, 7.177000e+03],\n",
       "       [5.052000e+03, 5.287000e+03, 5.388000e+03, 5.774000e+03,\n",
       "        8.041000e+03, 6.431000e+03, 5.878000e+03, 4.998000e+03,\n",
       "        6.317000e+03, 4.708000e+03, 6.603000e+03, 1.220000e+04,\n",
       "        5.572000e+03, 8.624000e+03, 1.512820e+05, 1.031500e+04,\n",
       "        6.298000e+03, 1.137000e+04, 5.869000e+03, 9.156000e+03],\n",
       "       [5.468000e+03, 6.591000e+03, 1.701800e+04, 5.175000e+03,\n",
       "        9.392000e+03, 6.572000e+03, 4.810000e+03, 5.358000e+03,\n",
       "        5.299000e+03, 5.395000e+03, 1.044300e+04, 4.487000e+03,\n",
       "        6.471000e+03, 9.246000e+03, 5.770000e+03, 4.363000e+03,\n",
       "        5.488000e+03, 1.229790e+05, 4.194000e+03, 4.871000e+03],\n",
       "       [4.920000e+03, 4.098000e+03, 3.430000e+03, 1.195370e+05,\n",
       "        4.633000e+03, 5.048000e+03, 3.945000e+03, 5.994000e+03,\n",
       "        9.204000e+03, 5.218000e+03, 5.271000e+03, 9.750000e+03,\n",
       "        1.192100e+04, 4.890000e+03, 4.657000e+03, 5.935000e+03,\n",
       "        6.732000e+03, 3.442000e+03, 4.127000e+03, 4.187000e+03],\n",
       "       [3.393000e+03, 4.303000e+03, 3.690000e+03, 3.610000e+03,\n",
       "        4.290000e+03, 5.977000e+03, 1.086330e+05, 4.329000e+03,\n",
       "        4.765000e+03, 3.975000e+03, 3.518000e+03, 1.018200e+04,\n",
       "        3.656000e+03, 5.879000e+03, 4.007000e+03, 3.224000e+03,\n",
       "        4.508000e+03, 1.408000e+04, 5.981000e+03, 3.036000e+03],\n",
       "       [6.780000e+03, 3.100000e+03, 1.357100e+04, 3.586000e+03,\n",
       "        4.479000e+03, 3.475000e+03, 3.573000e+03, 3.443000e+03,\n",
       "        3.184000e+03, 4.636000e+03, 9.072600e+04, 4.772000e+03,\n",
       "        2.608000e+03, 4.981000e+03, 5.485000e+03, 3.109000e+03,\n",
       "        6.596000e+03, 5.083000e+03, 2.862000e+03, 4.272000e+03],\n",
       "       [3.390000e+03, 2.962000e+03, 4.272000e+03, 3.360000e+03,\n",
       "        8.099600e+04, 2.453000e+03, 2.281000e+03, 2.820000e+03,\n",
       "        3.312000e+03, 3.356000e+03, 3.277000e+03, 5.012000e+03,\n",
       "        5.874000e+03, 2.399000e+03, 3.642000e+03, 3.452000e+03,\n",
       "        2.392000e+03, 2.595000e+03, 3.173000e+03, 3.127000e+03],\n",
       "       [4.315000e+03, 1.930000e+03, 2.478000e+03, 3.153000e+03,\n",
       "        2.055000e+03, 1.833000e+03, 2.647000e+03, 1.961000e+03,\n",
       "        3.102000e+03, 1.948000e+03, 6.646000e+04, 1.615000e+03,\n",
       "        4.245000e+03, 2.768000e+03, 3.541000e+03, 2.141000e+03,\n",
       "        7.007000e+03, 3.277000e+03, 2.041000e+03, 2.079000e+03],\n",
       "       [2.773000e+03, 1.258000e+03, 1.919000e+03, 1.613000e+03,\n",
       "        2.208000e+03, 6.858500e+04, 2.143000e+03, 1.832000e+03,\n",
       "        2.074000e+03, 3.271000e+03, 1.740000e+03, 4.581000e+03,\n",
       "        1.786000e+03, 1.911000e+03, 1.691000e+03, 3.068000e+03,\n",
       "        2.715000e+03, 1.777000e+03, 1.839000e+03, 2.453000e+03],\n",
       "       [1.737000e+03, 1.950000e+03, 1.702000e+03, 1.135000e+03,\n",
       "        1.725000e+03, 1.986000e+03, 5.871000e+04, 3.726000e+03,\n",
       "        1.409000e+03, 1.253000e+03, 2.900000e+03, 1.474000e+03,\n",
       "        1.646000e+03, 1.474000e+03, 1.812000e+03, 2.294000e+03,\n",
       "        1.889000e+03, 1.613000e+03, 5.242000e+03, 1.555000e+03],\n",
       "       [1.629000e+03, 1.775000e+03, 1.487000e+03, 1.811000e+03,\n",
       "        1.389000e+03, 2.430000e+03, 1.123000e+03, 1.343000e+03,\n",
       "        2.156000e+03, 2.110000e+03, 1.280000e+03, 1.213000e+03,\n",
       "        2.579000e+03, 1.176000e+03, 9.260000e+02, 9.260000e+02,\n",
       "        1.698000e+03, 1.575000e+03, 2.545000e+03, 5.046300e+04],\n",
       "       [9.700000e+02, 8.880000e+02, 1.288000e+03, 2.313000e+03,\n",
       "        1.901000e+03, 1.144000e+03, 9.700000e+02, 9.780000e+02,\n",
       "        1.981000e+03, 2.085000e+03, 8.060000e+02, 1.182000e+03,\n",
       "        9.430000e+02, 1.739000e+03, 3.534000e+03, 7.400000e+02,\n",
       "        1.938000e+03, 1.044000e+03, 3.602200e+04, 1.037000e+03],\n",
       "       [9.700000e+02, 7.040000e+02, 1.830000e+03, 6.560000e+02,\n",
       "        8.030000e+02, 2.348000e+03, 1.770000e+03, 5.890000e+02,\n",
       "        9.090000e+02, 1.297000e+03, 7.400000e+02, 6.910000e+02,\n",
       "        5.390000e+02, 6.150000e+02, 7.710000e+02, 1.030000e+03,\n",
       "        6.510000e+02, 9.010000e+02, 3.810900e+04, 2.479000e+03],\n",
       "       [2.022000e+03, 7.240000e+02, 7.450000e+02, 7.270000e+02,\n",
       "        8.610000e+02, 2.801000e+04, 8.100000e+02, 7.710000e+02,\n",
       "        8.680000e+02, 1.975000e+03, 8.200000e+02, 4.800000e+02,\n",
       "        3.650000e+02, 5.310000e+02, 1.584000e+03, 6.040000e+02,\n",
       "        8.690000e+02, 6.710000e+02, 5.710000e+02, 1.023000e+03],\n",
       "       [7.960000e+02, 3.290000e+02, 1.026000e+03, 4.510000e+02,\n",
       "        8.640000e+02, 4.080000e+02, 4.130000e+02, 4.280000e+02,\n",
       "        3.530000e+02, 1.739000e+03, 3.030000e+02, 2.910000e+02,\n",
       "        1.828000e+03, 5.540000e+02, 4.550000e+02, 2.373200e+04,\n",
       "        5.480000e+02, 2.950000e+02, 5.360000e+02, 5.480000e+02],\n",
       "       [2.030000e+02, 6.970000e+02, 1.885000e+03, 3.460000e+02,\n",
       "        4.640000e+02, 2.052900e+04, 4.480000e+02, 3.480000e+02,\n",
       "        2.860000e+02, 4.160000e+02, 1.189000e+03, 1.059000e+03,\n",
       "        5.400000e+02, 3.280000e+02, 4.410000e+02, 2.780000e+02,\n",
       "        2.330000e+02, 2.440000e+02, 2.780000e+02, 3.510000e+02],\n",
       "       [7.780000e+02, 1.590000e+02, 2.630000e+02, 2.380000e+02,\n",
       "        2.710000e+02, 9.680000e+02, 1.590000e+02, 2.630000e+02,\n",
       "        1.680000e+02, 2.570000e+02, 1.780000e+02, 3.940000e+02,\n",
       "        1.578400e+04, 1.590000e+02, 8.340000e+02, 1.850000e+02,\n",
       "        2.100000e+02, 1.610000e+02, 8.960000e+02, 1.390000e+02],\n",
       "       [1.340000e+02, 1.160000e+02, 3.000000e+02, 2.390000e+02,\n",
       "        1.290000e+02, 1.650000e+02, 1.469300e+04, 1.500000e+02,\n",
       "        2.080000e+02, 1.480000e+02, 1.110000e+02, 3.490000e+02,\n",
       "        1.330000e+02, 1.400000e+02, 1.640000e+02, 2.540000e+02,\n",
       "        1.340000e+02, 9.120000e+02, 1.170000e+02, 3.030000e+02],\n",
       "       [6.500000e+01, 4.800000e+01, 1.230000e+02, 5.300000e+01,\n",
       "        4.050000e+02, 6.245000e+03, 1.150000e+02, 1.120000e+02,\n",
       "        9.500000e+01, 8.200000e+01, 4.400000e+01, 1.130000e+02,\n",
       "        1.420000e+02, 7.200000e+01, 1.130000e+02, 5.400000e+01,\n",
       "        1.260000e+02, 1.720000e+02, 1.700000e+02, 5.800000e+01],\n",
       "       [2.200000e+01, 7.000000e+01, 2.273000e+03, 8.900000e+01,\n",
       "        3.800000e+01, 4.200000e+01, 5.200000e+01, 5.000000e+01,\n",
       "        4.500000e+01, 3.100000e+01, 1.590000e+02, 6.200000e+01,\n",
       "        2.600000e+01, 1.000000e+02, 4.700000e+01, 4.700000e+01,\n",
       "        3.800000e+01, 7.600000e+01, 4.300000e+01, 1.030000e+02]])"
      ]
     },
     "execution_count": 51,
     "metadata": {},
     "output_type": "execute_result"
    }
   ],
   "source": [
    "I[:39,:]"
   ]
  },
  {
   "cell_type": "code",
   "execution_count": 52,
   "metadata": {},
   "outputs": [
    {
     "data": {
      "text/plain": [
       "array([[3.925880e+05, 3.956780e+05, 3.961810e+05, 3.984090e+05,\n",
       "        4.009460e+05, 4.015400e+05, 4.083440e+05, 4.146460e+05,\n",
       "        4.175170e+05, 4.255430e+05, 4.350730e+05, 4.457700e+05,\n",
       "        4.611080e+05, 4.820750e+05, 5.186850e+05, 5.551900e+05,\n",
       "        6.063200e+05, 7.787150e+05, 7.787290e+05, 1.773813e+06],\n",
       "       [3.150600e+04, 2.995500e+04, 3.264400e+04, 3.178500e+04,\n",
       "        3.167700e+04, 3.349300e+04, 3.227000e+04, 3.255600e+04,\n",
       "        4.190700e+04, 3.664500e+04, 3.700400e+04, 3.633800e+04,\n",
       "        1.613320e+05, 4.773200e+04, 4.844400e+04, 3.766300e+04,\n",
       "        3.646800e+04, 3.799600e+04, 4.031500e+04, 3.489500e+04],\n",
       "       [2.930400e+04, 3.048600e+04, 3.101100e+04, 3.035800e+04,\n",
       "        3.208200e+04, 3.126400e+04, 3.256200e+04, 3.827800e+04,\n",
       "        3.529800e+04, 3.542000e+04, 3.540600e+04, 3.247100e+04,\n",
       "        1.815080e+05, 4.051000e+04, 3.625100e+04, 4.106700e+04,\n",
       "        3.464900e+04, 4.456500e+04, 4.236300e+04, 4.394100e+04],\n",
       "       [2.982900e+04, 3.014800e+04, 3.042700e+04, 3.162700e+04,\n",
       "        3.000700e+04, 3.112300e+04, 3.405300e+04, 3.354200e+04,\n",
       "        3.464900e+04, 5.492200e+04, 3.382000e+04, 4.040500e+04,\n",
       "        3.581300e+04, 4.010000e+04, 4.476100e+04, 1.747470e+05,\n",
       "        3.940800e+04, 3.471700e+04, 3.622000e+04, 4.040200e+04],\n",
       "       [3.120300e+04, 3.075500e+04, 3.053300e+04, 2.943100e+04,\n",
       "        2.920000e+04, 2.950400e+04, 3.118400e+04, 3.271500e+04,\n",
       "        3.252300e+04, 3.453300e+04, 3.243800e+04, 3.290600e+04,\n",
       "        3.807700e+04, 3.401500e+04, 3.790800e+04, 4.514000e+04,\n",
       "        3.956900e+04, 3.709800e+04, 3.716100e+04, 2.082160e+05],\n",
       "       [2.712600e+04, 2.776700e+04, 2.822600e+04, 2.895600e+04,\n",
       "        2.928700e+04, 2.943500e+04, 2.968000e+04, 3.203200e+04,\n",
       "        3.108400e+04, 2.011660e+05, 3.984200e+04, 4.976600e+04,\n",
       "        3.182800e+04, 3.508600e+04, 3.368500e+04, 4.285800e+04,\n",
       "        3.699800e+04, 3.828200e+04, 3.462300e+04, 3.462500e+04],\n",
       "       [2.703600e+04, 2.821100e+04, 2.687000e+04, 2.752800e+04,\n",
       "        2.828300e+04, 3.661500e+04, 1.956550e+05, 2.992900e+04,\n",
       "        2.946000e+04, 3.083800e+04, 3.069000e+04, 3.063700e+04,\n",
       "        3.042800e+04, 3.827300e+04, 5.452500e+04, 3.547800e+04,\n",
       "        4.093000e+04, 3.654800e+04, 3.205600e+04, 3.379100e+04],\n",
       "       [2.512700e+04, 2.451400e+04, 2.592200e+04, 2.619500e+04,\n",
       "        2.375000e+04, 2.654200e+04, 2.706200e+04, 3.130100e+04,\n",
       "        2.637000e+04, 2.899500e+04, 3.159100e+04, 3.304300e+04,\n",
       "        1.658050e+05, 2.747300e+04, 4.052200e+04, 7.271800e+04,\n",
       "        4.305300e+04, 3.621100e+04, 4.226100e+04, 3.994700e+04],\n",
       "       [2.261600e+04, 2.342100e+04, 2.446400e+04, 2.314700e+04,\n",
       "        2.429100e+04, 2.696200e+04, 2.443500e+04, 2.172740e+05,\n",
       "        2.571200e+04, 3.241100e+04, 3.014600e+04, 2.698400e+04,\n",
       "        3.226000e+04, 2.948000e+04, 3.160000e+04, 3.748200e+04,\n",
       "        3.392600e+04, 3.033100e+04, 3.570800e+04, 3.316400e+04],\n",
       "       [2.083400e+04, 2.147300e+04, 2.268000e+04, 2.317300e+04,\n",
       "        3.375600e+04, 2.839000e+04, 3.197400e+04, 2.707800e+04,\n",
       "        3.430900e+04, 2.331800e+04, 2.566900e+04, 2.360100e+04,\n",
       "        2.644100e+04, 2.574200e+04, 2.634000e+04, 2.508600e+04,\n",
       "        3.451300e+04, 2.131360e+05, 2.845400e+04, 3.597000e+04],\n",
       "       [2.186400e+04, 2.033700e+04, 2.125200e+04, 1.915500e+04,\n",
       "        2.123500e+04, 2.318200e+04, 2.206400e+04, 2.088300e+04,\n",
       "        2.416200e+04, 3.335100e+04, 2.155500e+04, 2.653000e+04,\n",
       "        2.287400e+04, 2.414200e+04, 2.204380e+05, 3.187200e+04,\n",
       "        2.343000e+04, 2.438400e+04, 3.658900e+04, 2.693500e+04],\n",
       "       [1.778700e+04, 1.684200e+04, 1.680100e+04, 1.789100e+04,\n",
       "        1.864600e+04, 2.331800e+04, 2.519500e+04, 1.971000e+04,\n",
       "        2.993000e+04, 3.092700e+04, 2.032500e+04, 1.963900e+04,\n",
       "        2.102200e+04, 2.254200e+04, 2.103700e+05, 2.418400e+04,\n",
       "        2.359500e+04, 2.916900e+04, 2.492900e+04, 2.584000e+04],\n",
       "       [1.449100e+04, 1.668800e+04, 1.596000e+04, 1.615500e+04,\n",
       "        1.582700e+04, 1.891800e+04, 1.946300e+04, 1.728300e+04,\n",
       "        1.699800e+04, 2.009200e+04, 1.801100e+04, 1.725100e+04,\n",
       "        1.765300e+04, 2.056000e+04, 2.002700e+04, 2.863600e+04,\n",
       "        1.955700e+04, 2.583500e+04, 3.049700e+04, 2.114750e+05],\n",
       "       [1.466100e+04, 1.397900e+04, 1.388800e+04, 1.614700e+04,\n",
       "        1.508100e+04, 1.383200e+04, 1.616500e+04, 1.456300e+04,\n",
       "        1.629600e+04, 1.850200e+04, 1.649900e+04, 1.608800e+04,\n",
       "        1.705700e+04, 2.190600e+04, 1.770100e+04, 1.962810e+05,\n",
       "        1.617000e+04, 2.846600e+04, 1.753700e+04, 2.383800e+04],\n",
       "       [1.144900e+04, 1.113200e+04, 1.221000e+04, 1.175600e+04,\n",
       "        1.184000e+04, 1.281200e+04, 2.268500e+04, 1.352000e+04,\n",
       "        1.583100e+04, 1.419800e+04, 1.327600e+04, 1.282700e+04,\n",
       "        1.632000e+04, 1.499600e+04, 1.532800e+04, 2.136500e+04,\n",
       "        1.837790e+05, 1.821200e+04, 2.484600e+04, 1.834300e+04],\n",
       "       [1.399900e+04, 9.903000e+03, 1.569500e+04, 1.040700e+04,\n",
       "        1.180100e+04, 1.002800e+04, 2.032500e+04, 1.255000e+04,\n",
       "        1.273700e+04, 1.218200e+04, 1.332000e+04, 1.065000e+04,\n",
       "        1.725000e+04, 1.376800e+04, 1.404400e+04, 1.163900e+04,\n",
       "        1.578200e+04, 1.834700e+05, 1.625900e+04, 1.225500e+04],\n",
       "       [8.604000e+03, 9.370000e+03, 8.767000e+03, 9.724000e+03,\n",
       "        1.143300e+04, 1.095100e+04, 1.127000e+04, 1.024600e+04,\n",
       "        1.215900e+04, 1.051500e+04, 8.757000e+03, 1.859100e+04,\n",
       "        1.827900e+04, 1.033100e+04, 1.379300e+04, 1.053000e+04,\n",
       "        1.133500e+04, 1.935900e+04, 1.759710e+05, 1.233900e+04],\n",
       "       [9.839000e+03, 8.441000e+03, 1.487200e+04, 7.560000e+03,\n",
       "        8.182000e+03, 1.026000e+04, 1.564830e+05, 9.559000e+03,\n",
       "        9.486000e+03, 1.437900e+04, 9.620000e+03, 7.679000e+03,\n",
       "        8.496000e+03, 1.309700e+04, 8.817000e+03, 1.152500e+04,\n",
       "        2.182500e+04, 8.305000e+03, 7.598000e+03, 1.327100e+04],\n",
       "       [6.674000e+03, 7.395000e+03, 7.185000e+03, 6.772000e+03,\n",
       "        7.985000e+03, 1.157700e+04, 6.347000e+03, 9.678000e+03,\n",
       "        8.219000e+03, 8.138000e+03, 9.910000e+03, 8.951000e+03,\n",
       "        1.063200e+04, 6.907000e+03, 1.020400e+04, 1.574000e+04,\n",
       "        1.534400e+04, 1.510560e+05, 1.009800e+04, 1.313800e+04],\n",
       "       [7.409000e+03, 5.651000e+03, 6.288000e+03, 6.567000e+03,\n",
       "        1.395300e+04, 7.389000e+03, 7.152000e+03, 8.292000e+03,\n",
       "        1.727800e+04, 9.743000e+03, 1.415800e+04, 7.488000e+03,\n",
       "        1.286860e+05, 8.759000e+03, 5.986000e+03, 9.568000e+03,\n",
       "        7.513000e+03, 1.153000e+04, 6.450000e+03, 7.177000e+03],\n",
       "       [5.052000e+03, 5.287000e+03, 5.388000e+03, 5.774000e+03,\n",
       "        8.041000e+03, 6.431000e+03, 5.878000e+03, 4.998000e+03,\n",
       "        6.317000e+03, 4.708000e+03, 6.603000e+03, 1.220000e+04,\n",
       "        5.572000e+03, 8.624000e+03, 1.512820e+05, 1.031500e+04,\n",
       "        6.298000e+03, 1.137000e+04, 5.869000e+03, 9.156000e+03],\n",
       "       [5.468000e+03, 6.591000e+03, 1.701800e+04, 5.175000e+03,\n",
       "        9.392000e+03, 6.572000e+03, 4.810000e+03, 5.358000e+03,\n",
       "        5.299000e+03, 5.395000e+03, 1.044300e+04, 4.487000e+03,\n",
       "        6.471000e+03, 9.246000e+03, 5.770000e+03, 4.363000e+03,\n",
       "        5.488000e+03, 1.229790e+05, 4.194000e+03, 4.871000e+03],\n",
       "       [4.920000e+03, 4.098000e+03, 3.430000e+03, 1.195370e+05,\n",
       "        4.633000e+03, 5.048000e+03, 3.945000e+03, 5.994000e+03,\n",
       "        9.204000e+03, 5.218000e+03, 5.271000e+03, 9.750000e+03,\n",
       "        1.192100e+04, 4.890000e+03, 4.657000e+03, 5.935000e+03,\n",
       "        6.732000e+03, 3.442000e+03, 4.127000e+03, 4.187000e+03],\n",
       "       [3.393000e+03, 4.303000e+03, 3.690000e+03, 3.610000e+03,\n",
       "        4.290000e+03, 5.977000e+03, 1.086330e+05, 4.329000e+03,\n",
       "        4.765000e+03, 3.975000e+03, 3.518000e+03, 1.018200e+04,\n",
       "        3.656000e+03, 5.879000e+03, 4.007000e+03, 3.224000e+03,\n",
       "        4.508000e+03, 1.408000e+04, 5.981000e+03, 3.036000e+03],\n",
       "       [6.780000e+03, 3.100000e+03, 1.357100e+04, 3.586000e+03,\n",
       "        4.479000e+03, 3.475000e+03, 3.573000e+03, 3.443000e+03,\n",
       "        3.184000e+03, 4.636000e+03, 9.072600e+04, 4.772000e+03,\n",
       "        2.608000e+03, 4.981000e+03, 5.485000e+03, 3.109000e+03,\n",
       "        6.596000e+03, 5.083000e+03, 2.862000e+03, 4.272000e+03],\n",
       "       [3.390000e+03, 2.962000e+03, 4.272000e+03, 3.360000e+03,\n",
       "        8.099600e+04, 2.453000e+03, 2.281000e+03, 2.820000e+03,\n",
       "        3.312000e+03, 3.356000e+03, 3.277000e+03, 5.012000e+03,\n",
       "        5.874000e+03, 2.399000e+03, 3.642000e+03, 3.452000e+03,\n",
       "        2.392000e+03, 2.595000e+03, 3.173000e+03, 3.127000e+03],\n",
       "       [4.315000e+03, 1.930000e+03, 2.478000e+03, 3.153000e+03,\n",
       "        2.055000e+03, 1.833000e+03, 2.647000e+03, 1.961000e+03,\n",
       "        3.102000e+03, 1.948000e+03, 6.646000e+04, 1.615000e+03,\n",
       "        4.245000e+03, 2.768000e+03, 3.541000e+03, 2.141000e+03,\n",
       "        7.007000e+03, 3.277000e+03, 2.041000e+03, 2.079000e+03],\n",
       "       [2.773000e+03, 1.258000e+03, 1.919000e+03, 1.613000e+03,\n",
       "        2.208000e+03, 6.858500e+04, 2.143000e+03, 1.832000e+03,\n",
       "        2.074000e+03, 3.271000e+03, 1.740000e+03, 4.581000e+03,\n",
       "        1.786000e+03, 1.911000e+03, 1.691000e+03, 3.068000e+03,\n",
       "        2.715000e+03, 1.777000e+03, 1.839000e+03, 2.453000e+03],\n",
       "       [1.737000e+03, 1.950000e+03, 1.702000e+03, 1.135000e+03,\n",
       "        1.725000e+03, 1.986000e+03, 5.871000e+04, 3.726000e+03,\n",
       "        1.409000e+03, 1.253000e+03, 2.900000e+03, 1.474000e+03,\n",
       "        1.646000e+03, 1.474000e+03, 1.812000e+03, 2.294000e+03,\n",
       "        1.889000e+03, 1.613000e+03, 5.242000e+03, 1.555000e+03],\n",
       "       [1.629000e+03, 1.775000e+03, 1.487000e+03, 1.811000e+03,\n",
       "        1.389000e+03, 2.430000e+03, 1.123000e+03, 1.343000e+03,\n",
       "        2.156000e+03, 2.110000e+03, 1.280000e+03, 1.213000e+03,\n",
       "        2.579000e+03, 1.176000e+03, 9.260000e+02, 9.260000e+02,\n",
       "        1.698000e+03, 1.575000e+03, 2.545000e+03, 5.046300e+04],\n",
       "       [9.700000e+02, 8.880000e+02, 1.288000e+03, 2.313000e+03,\n",
       "        1.901000e+03, 1.144000e+03, 9.700000e+02, 9.780000e+02,\n",
       "        1.981000e+03, 2.085000e+03, 8.060000e+02, 1.182000e+03,\n",
       "        9.430000e+02, 1.739000e+03, 3.534000e+03, 7.400000e+02,\n",
       "        1.938000e+03, 1.044000e+03, 3.602200e+04, 1.037000e+03],\n",
       "       [9.700000e+02, 7.040000e+02, 1.830000e+03, 6.560000e+02,\n",
       "        8.030000e+02, 2.348000e+03, 1.770000e+03, 5.890000e+02,\n",
       "        9.090000e+02, 1.297000e+03, 7.400000e+02, 6.910000e+02,\n",
       "        5.390000e+02, 6.150000e+02, 7.710000e+02, 1.030000e+03,\n",
       "        6.510000e+02, 9.010000e+02, 3.810900e+04, 2.479000e+03],\n",
       "       [2.022000e+03, 7.240000e+02, 7.450000e+02, 7.270000e+02,\n",
       "        8.610000e+02, 2.801000e+04, 8.100000e+02, 7.710000e+02,\n",
       "        8.680000e+02, 1.975000e+03, 8.200000e+02, 4.800000e+02,\n",
       "        3.650000e+02, 5.310000e+02, 1.584000e+03, 6.040000e+02,\n",
       "        8.690000e+02, 6.710000e+02, 5.710000e+02, 1.023000e+03],\n",
       "       [7.960000e+02, 3.290000e+02, 1.026000e+03, 4.510000e+02,\n",
       "        8.640000e+02, 4.080000e+02, 4.130000e+02, 4.280000e+02,\n",
       "        3.530000e+02, 1.739000e+03, 3.030000e+02, 2.910000e+02,\n",
       "        1.828000e+03, 5.540000e+02, 4.550000e+02, 2.373200e+04,\n",
       "        5.480000e+02, 2.950000e+02, 5.360000e+02, 5.480000e+02],\n",
       "       [2.030000e+02, 6.970000e+02, 1.885000e+03, 3.460000e+02,\n",
       "        4.640000e+02, 2.052900e+04, 4.480000e+02, 3.480000e+02,\n",
       "        2.860000e+02, 4.160000e+02, 1.189000e+03, 1.059000e+03,\n",
       "        5.400000e+02, 3.280000e+02, 4.410000e+02, 2.780000e+02,\n",
       "        2.330000e+02, 2.440000e+02, 2.780000e+02, 3.510000e+02],\n",
       "       [7.780000e+02, 1.590000e+02, 2.630000e+02, 2.380000e+02,\n",
       "        2.710000e+02, 9.680000e+02, 1.590000e+02, 2.630000e+02,\n",
       "        1.680000e+02, 2.570000e+02, 1.780000e+02, 3.940000e+02,\n",
       "        1.578400e+04, 1.590000e+02, 8.340000e+02, 1.850000e+02,\n",
       "        2.100000e+02, 1.610000e+02, 8.960000e+02, 1.390000e+02],\n",
       "       [1.340000e+02, 1.160000e+02, 3.000000e+02, 2.390000e+02,\n",
       "        1.290000e+02, 1.650000e+02, 1.469300e+04, 1.500000e+02,\n",
       "        2.080000e+02, 1.480000e+02, 1.110000e+02, 3.490000e+02,\n",
       "        1.330000e+02, 1.400000e+02, 1.640000e+02, 2.540000e+02,\n",
       "        1.340000e+02, 9.120000e+02, 1.170000e+02, 3.030000e+02],\n",
       "       [6.500000e+01, 4.800000e+01, 1.230000e+02, 5.300000e+01,\n",
       "        4.050000e+02, 6.245000e+03, 1.150000e+02, 1.120000e+02,\n",
       "        9.500000e+01, 8.200000e+01, 4.400000e+01, 1.130000e+02,\n",
       "        1.420000e+02, 7.200000e+01, 1.130000e+02, 5.400000e+01,\n",
       "        1.260000e+02, 1.720000e+02, 1.700000e+02, 5.800000e+01],\n",
       "       [2.200000e+01, 7.000000e+01, 2.273000e+03, 8.900000e+01,\n",
       "        3.800000e+01, 4.200000e+01, 5.200000e+01, 5.000000e+01,\n",
       "        4.500000e+01, 3.100000e+01, 1.590000e+02, 6.200000e+01,\n",
       "        2.600000e+01, 1.000000e+02, 4.700000e+01, 4.700000e+01,\n",
       "        3.800000e+01, 7.600000e+01, 4.300000e+01, 1.030000e+02],\n",
       "       [0.000000e+00, 0.000000e+00, 0.000000e+00, 0.000000e+00,\n",
       "        0.000000e+00, 0.000000e+00, 0.000000e+00, 0.000000e+00,\n",
       "        0.000000e+00, 0.000000e+00, 0.000000e+00, 0.000000e+00,\n",
       "        0.000000e+00, 0.000000e+00, 0.000000e+00, 0.000000e+00,\n",
       "        0.000000e+00, 0.000000e+00, 0.000000e+00, 0.000000e+00]])"
      ]
     },
     "execution_count": 52,
     "metadata": {},
     "output_type": "execute_result"
    }
   ],
   "source": [
    "I[:40,:]"
   ]
  },
  {
   "cell_type": "code",
   "execution_count": 53,
   "metadata": {},
   "outputs": [
    {
     "data": {
      "text/plain": [
       "array([[3.925880e+05, 3.956780e+05, 3.961810e+05, 3.984090e+05,\n",
       "        4.009460e+05, 4.015400e+05, 4.083440e+05, 4.146460e+05,\n",
       "        4.175170e+05, 4.255430e+05, 4.350730e+05, 4.457700e+05,\n",
       "        4.611080e+05, 4.820750e+05, 5.186850e+05, 5.551900e+05,\n",
       "        6.063200e+05, 7.787150e+05, 7.787290e+05, 1.773813e+06],\n",
       "       [3.150600e+04, 2.995500e+04, 3.264400e+04, 3.178500e+04,\n",
       "        3.167700e+04, 3.349300e+04, 3.227000e+04, 3.255600e+04,\n",
       "        4.190700e+04, 3.664500e+04, 3.700400e+04, 3.633800e+04,\n",
       "        1.613320e+05, 4.773200e+04, 4.844400e+04, 3.766300e+04,\n",
       "        3.646800e+04, 3.799600e+04, 4.031500e+04, 3.489500e+04],\n",
       "       [2.930400e+04, 3.048600e+04, 3.101100e+04, 3.035800e+04,\n",
       "        3.208200e+04, 3.126400e+04, 3.256200e+04, 3.827800e+04,\n",
       "        3.529800e+04, 3.542000e+04, 3.540600e+04, 3.247100e+04,\n",
       "        1.815080e+05, 4.051000e+04, 3.625100e+04, 4.106700e+04,\n",
       "        3.464900e+04, 4.456500e+04, 4.236300e+04, 4.394100e+04],\n",
       "       [2.982900e+04, 3.014800e+04, 3.042700e+04, 3.162700e+04,\n",
       "        3.000700e+04, 3.112300e+04, 3.405300e+04, 3.354200e+04,\n",
       "        3.464900e+04, 5.492200e+04, 3.382000e+04, 4.040500e+04,\n",
       "        3.581300e+04, 4.010000e+04, 4.476100e+04, 1.747470e+05,\n",
       "        3.940800e+04, 3.471700e+04, 3.622000e+04, 4.040200e+04],\n",
       "       [3.120300e+04, 3.075500e+04, 3.053300e+04, 2.943100e+04,\n",
       "        2.920000e+04, 2.950400e+04, 3.118400e+04, 3.271500e+04,\n",
       "        3.252300e+04, 3.453300e+04, 3.243800e+04, 3.290600e+04,\n",
       "        3.807700e+04, 3.401500e+04, 3.790800e+04, 4.514000e+04,\n",
       "        3.956900e+04, 3.709800e+04, 3.716100e+04, 2.082160e+05],\n",
       "       [2.712600e+04, 2.776700e+04, 2.822600e+04, 2.895600e+04,\n",
       "        2.928700e+04, 2.943500e+04, 2.968000e+04, 3.203200e+04,\n",
       "        3.108400e+04, 2.011660e+05, 3.984200e+04, 4.976600e+04,\n",
       "        3.182800e+04, 3.508600e+04, 3.368500e+04, 4.285800e+04,\n",
       "        3.699800e+04, 3.828200e+04, 3.462300e+04, 3.462500e+04],\n",
       "       [2.703600e+04, 2.821100e+04, 2.687000e+04, 2.752800e+04,\n",
       "        2.828300e+04, 3.661500e+04, 1.956550e+05, 2.992900e+04,\n",
       "        2.946000e+04, 3.083800e+04, 3.069000e+04, 3.063700e+04,\n",
       "        3.042800e+04, 3.827300e+04, 5.452500e+04, 3.547800e+04,\n",
       "        4.093000e+04, 3.654800e+04, 3.205600e+04, 3.379100e+04],\n",
       "       [2.512700e+04, 2.451400e+04, 2.592200e+04, 2.619500e+04,\n",
       "        2.375000e+04, 2.654200e+04, 2.706200e+04, 3.130100e+04,\n",
       "        2.637000e+04, 2.899500e+04, 3.159100e+04, 3.304300e+04,\n",
       "        1.658050e+05, 2.747300e+04, 4.052200e+04, 7.271800e+04,\n",
       "        4.305300e+04, 3.621100e+04, 4.226100e+04, 3.994700e+04],\n",
       "       [2.261600e+04, 2.342100e+04, 2.446400e+04, 2.314700e+04,\n",
       "        2.429100e+04, 2.696200e+04, 2.443500e+04, 2.172740e+05,\n",
       "        2.571200e+04, 3.241100e+04, 3.014600e+04, 2.698400e+04,\n",
       "        3.226000e+04, 2.948000e+04, 3.160000e+04, 3.748200e+04,\n",
       "        3.392600e+04, 3.033100e+04, 3.570800e+04, 3.316400e+04],\n",
       "       [2.083400e+04, 2.147300e+04, 2.268000e+04, 2.317300e+04,\n",
       "        3.375600e+04, 2.839000e+04, 3.197400e+04, 2.707800e+04,\n",
       "        3.430900e+04, 2.331800e+04, 2.566900e+04, 2.360100e+04,\n",
       "        2.644100e+04, 2.574200e+04, 2.634000e+04, 2.508600e+04,\n",
       "        3.451300e+04, 2.131360e+05, 2.845400e+04, 3.597000e+04],\n",
       "       [2.186400e+04, 2.033700e+04, 2.125200e+04, 1.915500e+04,\n",
       "        2.123500e+04, 2.318200e+04, 2.206400e+04, 2.088300e+04,\n",
       "        2.416200e+04, 3.335100e+04, 2.155500e+04, 2.653000e+04,\n",
       "        2.287400e+04, 2.414200e+04, 2.204380e+05, 3.187200e+04,\n",
       "        2.343000e+04, 2.438400e+04, 3.658900e+04, 2.693500e+04],\n",
       "       [1.778700e+04, 1.684200e+04, 1.680100e+04, 1.789100e+04,\n",
       "        1.864600e+04, 2.331800e+04, 2.519500e+04, 1.971000e+04,\n",
       "        2.993000e+04, 3.092700e+04, 2.032500e+04, 1.963900e+04,\n",
       "        2.102200e+04, 2.254200e+04, 2.103700e+05, 2.418400e+04,\n",
       "        2.359500e+04, 2.916900e+04, 2.492900e+04, 2.584000e+04],\n",
       "       [1.449100e+04, 1.668800e+04, 1.596000e+04, 1.615500e+04,\n",
       "        1.582700e+04, 1.891800e+04, 1.946300e+04, 1.728300e+04,\n",
       "        1.699800e+04, 2.009200e+04, 1.801100e+04, 1.725100e+04,\n",
       "        1.765300e+04, 2.056000e+04, 2.002700e+04, 2.863600e+04,\n",
       "        1.955700e+04, 2.583500e+04, 3.049700e+04, 2.114750e+05],\n",
       "       [1.466100e+04, 1.397900e+04, 1.388800e+04, 1.614700e+04,\n",
       "        1.508100e+04, 1.383200e+04, 1.616500e+04, 1.456300e+04,\n",
       "        1.629600e+04, 1.850200e+04, 1.649900e+04, 1.608800e+04,\n",
       "        1.705700e+04, 2.190600e+04, 1.770100e+04, 1.962810e+05,\n",
       "        1.617000e+04, 2.846600e+04, 1.753700e+04, 2.383800e+04],\n",
       "       [1.144900e+04, 1.113200e+04, 1.221000e+04, 1.175600e+04,\n",
       "        1.184000e+04, 1.281200e+04, 2.268500e+04, 1.352000e+04,\n",
       "        1.583100e+04, 1.419800e+04, 1.327600e+04, 1.282700e+04,\n",
       "        1.632000e+04, 1.499600e+04, 1.532800e+04, 2.136500e+04,\n",
       "        1.837790e+05, 1.821200e+04, 2.484600e+04, 1.834300e+04],\n",
       "       [1.399900e+04, 9.903000e+03, 1.569500e+04, 1.040700e+04,\n",
       "        1.180100e+04, 1.002800e+04, 2.032500e+04, 1.255000e+04,\n",
       "        1.273700e+04, 1.218200e+04, 1.332000e+04, 1.065000e+04,\n",
       "        1.725000e+04, 1.376800e+04, 1.404400e+04, 1.163900e+04,\n",
       "        1.578200e+04, 1.834700e+05, 1.625900e+04, 1.225500e+04],\n",
       "       [8.604000e+03, 9.370000e+03, 8.767000e+03, 9.724000e+03,\n",
       "        1.143300e+04, 1.095100e+04, 1.127000e+04, 1.024600e+04,\n",
       "        1.215900e+04, 1.051500e+04, 8.757000e+03, 1.859100e+04,\n",
       "        1.827900e+04, 1.033100e+04, 1.379300e+04, 1.053000e+04,\n",
       "        1.133500e+04, 1.935900e+04, 1.759710e+05, 1.233900e+04],\n",
       "       [9.839000e+03, 8.441000e+03, 1.487200e+04, 7.560000e+03,\n",
       "        8.182000e+03, 1.026000e+04, 1.564830e+05, 9.559000e+03,\n",
       "        9.486000e+03, 1.437900e+04, 9.620000e+03, 7.679000e+03,\n",
       "        8.496000e+03, 1.309700e+04, 8.817000e+03, 1.152500e+04,\n",
       "        2.182500e+04, 8.305000e+03, 7.598000e+03, 1.327100e+04],\n",
       "       [6.674000e+03, 7.395000e+03, 7.185000e+03, 6.772000e+03,\n",
       "        7.985000e+03, 1.157700e+04, 6.347000e+03, 9.678000e+03,\n",
       "        8.219000e+03, 8.138000e+03, 9.910000e+03, 8.951000e+03,\n",
       "        1.063200e+04, 6.907000e+03, 1.020400e+04, 1.574000e+04,\n",
       "        1.534400e+04, 1.510560e+05, 1.009800e+04, 1.313800e+04],\n",
       "       [7.409000e+03, 5.651000e+03, 6.288000e+03, 6.567000e+03,\n",
       "        1.395300e+04, 7.389000e+03, 7.152000e+03, 8.292000e+03,\n",
       "        1.727800e+04, 9.743000e+03, 1.415800e+04, 7.488000e+03,\n",
       "        1.286860e+05, 8.759000e+03, 5.986000e+03, 9.568000e+03,\n",
       "        7.513000e+03, 1.153000e+04, 6.450000e+03, 7.177000e+03],\n",
       "       [5.052000e+03, 5.287000e+03, 5.388000e+03, 5.774000e+03,\n",
       "        8.041000e+03, 6.431000e+03, 5.878000e+03, 4.998000e+03,\n",
       "        6.317000e+03, 4.708000e+03, 6.603000e+03, 1.220000e+04,\n",
       "        5.572000e+03, 8.624000e+03, 1.512820e+05, 1.031500e+04,\n",
       "        6.298000e+03, 1.137000e+04, 5.869000e+03, 9.156000e+03],\n",
       "       [5.468000e+03, 6.591000e+03, 1.701800e+04, 5.175000e+03,\n",
       "        9.392000e+03, 6.572000e+03, 4.810000e+03, 5.358000e+03,\n",
       "        5.299000e+03, 5.395000e+03, 1.044300e+04, 4.487000e+03,\n",
       "        6.471000e+03, 9.246000e+03, 5.770000e+03, 4.363000e+03,\n",
       "        5.488000e+03, 1.229790e+05, 4.194000e+03, 4.871000e+03],\n",
       "       [4.920000e+03, 4.098000e+03, 3.430000e+03, 1.195370e+05,\n",
       "        4.633000e+03, 5.048000e+03, 3.945000e+03, 5.994000e+03,\n",
       "        9.204000e+03, 5.218000e+03, 5.271000e+03, 9.750000e+03,\n",
       "        1.192100e+04, 4.890000e+03, 4.657000e+03, 5.935000e+03,\n",
       "        6.732000e+03, 3.442000e+03, 4.127000e+03, 4.187000e+03],\n",
       "       [3.393000e+03, 4.303000e+03, 3.690000e+03, 3.610000e+03,\n",
       "        4.290000e+03, 5.977000e+03, 1.086330e+05, 4.329000e+03,\n",
       "        4.765000e+03, 3.975000e+03, 3.518000e+03, 1.018200e+04,\n",
       "        3.656000e+03, 5.879000e+03, 4.007000e+03, 3.224000e+03,\n",
       "        4.508000e+03, 1.408000e+04, 5.981000e+03, 3.036000e+03],\n",
       "       [6.780000e+03, 3.100000e+03, 1.357100e+04, 3.586000e+03,\n",
       "        4.479000e+03, 3.475000e+03, 3.573000e+03, 3.443000e+03,\n",
       "        3.184000e+03, 4.636000e+03, 9.072600e+04, 4.772000e+03,\n",
       "        2.608000e+03, 4.981000e+03, 5.485000e+03, 3.109000e+03,\n",
       "        6.596000e+03, 5.083000e+03, 2.862000e+03, 4.272000e+03],\n",
       "       [3.390000e+03, 2.962000e+03, 4.272000e+03, 3.360000e+03,\n",
       "        8.099600e+04, 2.453000e+03, 2.281000e+03, 2.820000e+03,\n",
       "        3.312000e+03, 3.356000e+03, 3.277000e+03, 5.012000e+03,\n",
       "        5.874000e+03, 2.399000e+03, 3.642000e+03, 3.452000e+03,\n",
       "        2.392000e+03, 2.595000e+03, 3.173000e+03, 3.127000e+03],\n",
       "       [4.315000e+03, 1.930000e+03, 2.478000e+03, 3.153000e+03,\n",
       "        2.055000e+03, 1.833000e+03, 2.647000e+03, 1.961000e+03,\n",
       "        3.102000e+03, 1.948000e+03, 6.646000e+04, 1.615000e+03,\n",
       "        4.245000e+03, 2.768000e+03, 3.541000e+03, 2.141000e+03,\n",
       "        7.007000e+03, 3.277000e+03, 2.041000e+03, 2.079000e+03],\n",
       "       [2.773000e+03, 1.258000e+03, 1.919000e+03, 1.613000e+03,\n",
       "        2.208000e+03, 6.858500e+04, 2.143000e+03, 1.832000e+03,\n",
       "        2.074000e+03, 3.271000e+03, 1.740000e+03, 4.581000e+03,\n",
       "        1.786000e+03, 1.911000e+03, 1.691000e+03, 3.068000e+03,\n",
       "        2.715000e+03, 1.777000e+03, 1.839000e+03, 2.453000e+03],\n",
       "       [1.737000e+03, 1.950000e+03, 1.702000e+03, 1.135000e+03,\n",
       "        1.725000e+03, 1.986000e+03, 5.871000e+04, 3.726000e+03,\n",
       "        1.409000e+03, 1.253000e+03, 2.900000e+03, 1.474000e+03,\n",
       "        1.646000e+03, 1.474000e+03, 1.812000e+03, 2.294000e+03,\n",
       "        1.889000e+03, 1.613000e+03, 5.242000e+03, 1.555000e+03],\n",
       "       [1.629000e+03, 1.775000e+03, 1.487000e+03, 1.811000e+03,\n",
       "        1.389000e+03, 2.430000e+03, 1.123000e+03, 1.343000e+03,\n",
       "        2.156000e+03, 2.110000e+03, 1.280000e+03, 1.213000e+03,\n",
       "        2.579000e+03, 1.176000e+03, 9.260000e+02, 9.260000e+02,\n",
       "        1.698000e+03, 1.575000e+03, 2.545000e+03, 5.046300e+04]])"
      ]
     },
     "execution_count": 53,
     "metadata": {},
     "output_type": "execute_result"
    }
   ],
   "source": [
    "I[:30,:]"
   ]
  },
  {
   "cell_type": "code",
   "execution_count": 54,
   "metadata": {},
   "outputs": [
    {
     "data": {
      "text/html": [
       "<div style=\"display: table;\"><div style=\"display: table-row;\"><div style=\"display: table-cell;\"><b title=\"bokeh.models.renderers.glyph_renderer.GlyphRenderer\">GlyphRenderer</b>(</div><div style=\"display: table-cell;\">id&nbsp;=&nbsp;'p1255', <span id=\"p1259\" style=\"cursor: pointer;\">&hellip;)</span></div></div><div class=\"p1258\" style=\"display: none;\"><div style=\"display: table-cell;\"></div><div style=\"display: table-cell;\">context_menu&nbsp;=&nbsp;None,</div></div><div class=\"p1258\" style=\"display: none;\"><div style=\"display: table-cell;\"></div><div style=\"display: table-cell;\">coordinates&nbsp;=&nbsp;None,</div></div><div class=\"p1258\" style=\"display: none;\"><div style=\"display: table-cell;\"></div><div style=\"display: table-cell;\">css_classes&nbsp;=&nbsp;[],</div></div><div class=\"p1258\" style=\"display: none;\"><div style=\"display: table-cell;\"></div><div style=\"display: table-cell;\">css_variables&nbsp;=&nbsp;{},</div></div><div class=\"p1258\" style=\"display: none;\"><div style=\"display: table-cell;\"></div><div style=\"display: table-cell;\">data_source&nbsp;=&nbsp;ColumnDataSource(id='p1243', ...),</div></div><div class=\"p1258\" style=\"display: none;\"><div style=\"display: table-cell;\"></div><div style=\"display: table-cell;\">glyph&nbsp;=&nbsp;Image(id='p1246', ...),</div></div><div class=\"p1258\" style=\"display: none;\"><div style=\"display: table-cell;\"></div><div style=\"display: table-cell;\">group&nbsp;=&nbsp;None,</div></div><div class=\"p1258\" style=\"display: none;\"><div style=\"display: table-cell;\"></div><div style=\"display: table-cell;\">hover_glyph&nbsp;=&nbsp;None,</div></div><div class=\"p1258\" style=\"display: none;\"><div style=\"display: table-cell;\"></div><div style=\"display: table-cell;\">js_event_callbacks&nbsp;=&nbsp;{},</div></div><div class=\"p1258\" style=\"display: none;\"><div style=\"display: table-cell;\"></div><div style=\"display: table-cell;\">js_property_callbacks&nbsp;=&nbsp;{},</div></div><div class=\"p1258\" style=\"display: none;\"><div style=\"display: table-cell;\"></div><div style=\"display: table-cell;\">level&nbsp;=&nbsp;'glyph',</div></div><div class=\"p1258\" style=\"display: none;\"><div style=\"display: table-cell;\"></div><div style=\"display: table-cell;\">muted&nbsp;=&nbsp;False,</div></div><div class=\"p1258\" style=\"display: none;\"><div style=\"display: table-cell;\"></div><div style=\"display: table-cell;\">muted_glyph&nbsp;=&nbsp;Image(id='p1252', ...),</div></div><div class=\"p1258\" style=\"display: none;\"><div style=\"display: table-cell;\"></div><div style=\"display: table-cell;\">name&nbsp;=&nbsp;None,</div></div><div class=\"p1258\" style=\"display: none;\"><div style=\"display: table-cell;\"></div><div style=\"display: table-cell;\">nonselection_glyph&nbsp;=&nbsp;Image(id='p1249', ...),</div></div><div class=\"p1258\" style=\"display: none;\"><div style=\"display: table-cell;\"></div><div style=\"display: table-cell;\">propagate_hover&nbsp;=&nbsp;False,</div></div><div class=\"p1258\" style=\"display: none;\"><div style=\"display: table-cell;\"></div><div style=\"display: table-cell;\">selection_glyph&nbsp;=&nbsp;'auto',</div></div><div class=\"p1258\" style=\"display: none;\"><div style=\"display: table-cell;\"></div><div style=\"display: table-cell;\">styles&nbsp;=&nbsp;{},</div></div><div class=\"p1258\" style=\"display: none;\"><div style=\"display: table-cell;\"></div><div style=\"display: table-cell;\">stylesheets&nbsp;=&nbsp;[],</div></div><div class=\"p1258\" style=\"display: none;\"><div style=\"display: table-cell;\"></div><div style=\"display: table-cell;\">subscribed_events&nbsp;=&nbsp;PropertyValueSet(),</div></div><div class=\"p1258\" style=\"display: none;\"><div style=\"display: table-cell;\"></div><div style=\"display: table-cell;\">syncable&nbsp;=&nbsp;True,</div></div><div class=\"p1258\" style=\"display: none;\"><div style=\"display: table-cell;\"></div><div style=\"display: table-cell;\">tags&nbsp;=&nbsp;[],</div></div><div class=\"p1258\" style=\"display: none;\"><div style=\"display: table-cell;\"></div><div style=\"display: table-cell;\">view&nbsp;=&nbsp;CDSView(id='p1256', ...),</div></div><div class=\"p1258\" style=\"display: none;\"><div style=\"display: table-cell;\"></div><div style=\"display: table-cell;\">visible&nbsp;=&nbsp;True,</div></div><div class=\"p1258\" style=\"display: none;\"><div style=\"display: table-cell;\"></div><div style=\"display: table-cell;\">x_range_name&nbsp;=&nbsp;'default',</div></div><div class=\"p1258\" style=\"display: none;\"><div style=\"display: table-cell;\"></div><div style=\"display: table-cell;\">y_range_name&nbsp;=&nbsp;'default')</div></div></div>\n",
       "<script>\n",
       "(function() {\n",
       "  let expanded = false;\n",
       "  const ellipsis = document.getElementById(\"p1259\");\n",
       "  ellipsis.addEventListener(\"click\", function() {\n",
       "    const rows = document.getElementsByClassName(\"p1258\");\n",
       "    for (let i = 0; i < rows.length; i++) {\n",
       "      const el = rows[i];\n",
       "      el.style.display = expanded ? \"none\" : \"table-row\";\n",
       "    }\n",
       "    ellipsis.innerHTML = expanded ? \"&hellip;)\" : \"&lsaquo;&lsaquo;&lsaquo;\";\n",
       "    expanded = !expanded;\n",
       "  });\n",
       "})();\n",
       "</script>\n"
      ],
      "text/plain": [
       "GlyphRenderer(id='p1255', ...)"
      ]
     },
     "execution_count": 54,
     "metadata": {},
     "output_type": "execute_result"
    }
   ],
   "source": [
    "P=figure()\n",
    "P.image(image=[I[:39,:]], x=0, y=0, dw=10, dh=10, palette=\"Viridis256\")"
   ]
  },
  {
   "cell_type": "code",
   "execution_count": 55,
   "metadata": {},
   "outputs": [
    {
     "data": {
      "text/html": [
       "\n",
       "  <div id=\"d2a79e23-e9c8-4037-b230-52918b704740\" data-root-id=\"p1209\" style=\"display: contents;\"></div>\n"
      ]
     },
     "metadata": {},
     "output_type": "display_data"
    },
    {
     "data": {
      "application/javascript": "(function(root) {\n  function embed_document(root) {\n  const docs_json = {\"b01e690d-32f4-4ed7-b269-6bb13a211f97\":{\"version\":\"3.6.0\",\"title\":\"Bokeh Application\",\"roots\":[{\"type\":\"object\",\"name\":\"Figure\",\"id\":\"p1209\",\"attributes\":{\"x_range\":{\"type\":\"object\",\"name\":\"DataRange1d\",\"id\":\"p1210\"},\"y_range\":{\"type\":\"object\",\"name\":\"DataRange1d\",\"id\":\"p1211\"},\"x_scale\":{\"type\":\"object\",\"name\":\"LinearScale\",\"id\":\"p1218\"},\"y_scale\":{\"type\":\"object\",\"name\":\"LinearScale\",\"id\":\"p1219\"},\"title\":{\"type\":\"object\",\"name\":\"Title\",\"id\":\"p1216\"},\"renderers\":[{\"type\":\"object\",\"name\":\"GlyphRenderer\",\"id\":\"p1255\",\"attributes\":{\"data_source\":{\"type\":\"object\",\"name\":\"ColumnDataSource\",\"id\":\"p1243\",\"attributes\":{\"selected\":{\"type\":\"object\",\"name\":\"Selection\",\"id\":\"p1244\",\"attributes\":{\"indices\":[],\"line_indices\":[]}},\"selection_policy\":{\"type\":\"object\",\"name\":\"UnionRenderers\",\"id\":\"p1245\"},\"data\":{\"type\":\"map\",\"entries\":[[\"image\",[{\"type\":\"ndarray\",\"array\":{\"type\":\"bytes\",\"data\":\"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\"},\"shape\":[39,20],\"dtype\":\"float64\",\"order\":\"little\"}]]]}}},\"view\":{\"type\":\"object\",\"name\":\"CDSView\",\"id\":\"p1256\",\"attributes\":{\"filter\":{\"type\":\"object\",\"name\":\"AllIndices\",\"id\":\"p1257\"}}},\"glyph\":{\"type\":\"object\",\"name\":\"Image\",\"id\":\"p1246\",\"attributes\":{\"x\":{\"type\":\"value\",\"value\":0},\"y\":{\"type\":\"value\",\"value\":0},\"dw\":{\"type\":\"value\",\"value\":10},\"dh\":{\"type\":\"value\",\"value\":10},\"image\":{\"type\":\"field\",\"field\":\"image\"},\"color_mapper\":{\"type\":\"object\",\"name\":\"LinearColorMapper\",\"id\":\"p1247\",\"attributes\":{\"palette\":[\"#440154\",\"#440255\",\"#440357\",\"#450558\",\"#45065A\",\"#45085B\",\"#46095C\",\"#460B5E\",\"#460C5F\",\"#460E61\",\"#470F62\",\"#471163\",\"#471265\",\"#471466\",\"#471567\",\"#471669\",\"#47186A\",\"#48196B\",\"#481A6C\",\"#481C6E\",\"#481D6F\",\"#481E70\",\"#482071\",\"#482172\",\"#482273\",\"#482374\",\"#472575\",\"#472676\",\"#472777\",\"#472878\",\"#472A79\",\"#472B7A\",\"#472C7B\",\"#462D7C\",\"#462F7C\",\"#46307D\",\"#46317E\",\"#45327F\",\"#45347F\",\"#453580\",\"#453681\",\"#443781\",\"#443982\",\"#433A83\",\"#433B83\",\"#433C84\",\"#423D84\",\"#423E85\",\"#424085\",\"#414186\",\"#414286\",\"#404387\",\"#404487\",\"#3F4587\",\"#3F4788\",\"#3E4888\",\"#3E4989\",\"#3D4A89\",\"#3D4B89\",\"#3D4C89\",\"#3C4D8A\",\"#3C4E8A\",\"#3B508A\",\"#3B518A\",\"#3A528B\",\"#3A538B\",\"#39548B\",\"#39558B\",\"#38568B\",\"#38578C\",\"#37588C\",\"#37598C\",\"#365A8C\",\"#365B8C\",\"#355C8C\",\"#355D8C\",\"#345E8D\",\"#345F8D\",\"#33608D\",\"#33618D\",\"#32628D\",\"#32638D\",\"#31648D\",\"#31658D\",\"#31668D\",\"#30678D\",\"#30688D\",\"#2F698D\",\"#2F6A8D\",\"#2E6B8E\",\"#2E6C8E\",\"#2E6D8E\",\"#2D6E8E\",\"#2D6F8E\",\"#2C708E\",\"#2C718E\",\"#2C728E\",\"#2B738E\",\"#2B748E\",\"#2A758E\",\"#2A768E\",\"#2A778E\",\"#29788E\",\"#29798E\",\"#287A8E\",\"#287A8E\",\"#287B8E\",\"#277C8E\",\"#277D8E\",\"#277E8E\",\"#267F8E\",\"#26808E\",\"#26818E\",\"#25828E\",\"#25838D\",\"#24848D\",\"#24858D\",\"#24868D\",\"#23878D\",\"#23888D\",\"#23898D\",\"#22898D\",\"#228A8D\",\"#228B8D\",\"#218C8D\",\"#218D8C\",\"#218E8C\",\"#208F8C\",\"#20908C\",\"#20918C\",\"#1F928C\",\"#1F938B\",\"#1F948B\",\"#1F958B\",\"#1F968B\",\"#1E978A\",\"#1E988A\",\"#1E998A\",\"#1E998A\",\"#1E9A89\",\"#1E9B89\",\"#1E9C89\",\"#1E9D88\",\"#1E9E88\",\"#1E9F88\",\"#1EA087\",\"#1FA187\",\"#1FA286\",\"#1FA386\",\"#20A485\",\"#20A585\",\"#21A685\",\"#21A784\",\"#22A784\",\"#23A883\",\"#23A982\",\"#24AA82\",\"#25AB81\",\"#26AC81\",\"#27AD80\",\"#28AE7F\",\"#29AF7F\",\"#2AB07E\",\"#2BB17D\",\"#2CB17D\",\"#2EB27C\",\"#2FB37B\",\"#30B47A\",\"#32B57A\",\"#33B679\",\"#35B778\",\"#36B877\",\"#38B976\",\"#39B976\",\"#3BBA75\",\"#3DBB74\",\"#3EBC73\",\"#40BD72\",\"#42BE71\",\"#44BE70\",\"#45BF6F\",\"#47C06E\",\"#49C16D\",\"#4BC26C\",\"#4DC26B\",\"#4FC369\",\"#51C468\",\"#53C567\",\"#55C666\",\"#57C665\",\"#59C764\",\"#5BC862\",\"#5EC961\",\"#60C960\",\"#62CA5F\",\"#64CB5D\",\"#67CC5C\",\"#69CC5B\",\"#6BCD59\",\"#6DCE58\",\"#70CE56\",\"#72CF55\",\"#74D054\",\"#77D052\",\"#79D151\",\"#7CD24F\",\"#7ED24E\",\"#81D34C\",\"#83D34B\",\"#86D449\",\"#88D547\",\"#8BD546\",\"#8DD644\",\"#90D643\",\"#92D741\",\"#95D73F\",\"#97D83E\",\"#9AD83C\",\"#9DD93A\",\"#9FD938\",\"#A2DA37\",\"#A5DA35\",\"#A7DB33\",\"#AADB32\",\"#ADDC30\",\"#AFDC2E\",\"#B2DD2C\",\"#B5DD2B\",\"#B7DD29\",\"#BADE27\",\"#BDDE26\",\"#BFDF24\",\"#C2DF22\",\"#C5DF21\",\"#C7E01F\",\"#CAE01E\",\"#CDE01D\",\"#CFE11C\",\"#D2E11B\",\"#D4E11A\",\"#D7E219\",\"#DAE218\",\"#DCE218\",\"#DFE318\",\"#E1E318\",\"#E4E318\",\"#E7E419\",\"#E9E419\",\"#ECE41A\",\"#EEE51B\",\"#F1E51C\",\"#F3E51E\",\"#F6E61F\",\"#F8E621\",\"#FAE622\",\"#FDE724\"]}}}},\"nonselection_glyph\":{\"type\":\"object\",\"name\":\"Image\",\"id\":\"p1249\",\"attributes\":{\"x\":{\"type\":\"value\",\"value\":0},\"y\":{\"type\":\"value\",\"value\":0},\"dw\":{\"type\":\"value\",\"value\":10},\"dh\":{\"type\":\"value\",\"value\":10},\"global_alpha\":{\"type\":\"value\",\"value\":0.1},\"image\":{\"type\":\"field\",\"field\":\"image\"},\"color_mapper\":{\"type\":\"object\",\"name\":\"LinearColorMapper\",\"id\":\"p1250\",\"attributes\":{\"palette\":[\"#440154\",\"#440255\",\"#440357\",\"#450558\",\"#45065A\",\"#45085B\",\"#46095C\",\"#460B5E\",\"#460C5F\",\"#460E61\",\"#470F62\",\"#471163\",\"#471265\",\"#471466\",\"#471567\",\"#471669\",\"#47186A\",\"#48196B\",\"#481A6C\",\"#481C6E\",\"#481D6F\",\"#481E70\",\"#482071\",\"#482172\",\"#482273\",\"#482374\",\"#472575\",\"#472676\",\"#472777\",\"#472878\",\"#472A79\",\"#472B7A\",\"#472C7B\",\"#462D7C\",\"#462F7C\",\"#46307D\",\"#46317E\",\"#45327F\",\"#45347F\",\"#453580\",\"#453681\",\"#443781\",\"#443982\",\"#433A83\",\"#433B83\",\"#433C84\",\"#423D84\",\"#423E85\",\"#424085\",\"#414186\",\"#414286\",\"#404387\",\"#404487\",\"#3F4587\",\"#3F4788\",\"#3E4888\",\"#3E4989\",\"#3D4A89\",\"#3D4B89\",\"#3D4C89\",\"#3C4D8A\",\"#3C4E8A\",\"#3B508A\",\"#3B518A\",\"#3A528B\",\"#3A538B\",\"#39548B\",\"#39558B\",\"#38568B\",\"#38578C\",\"#37588C\",\"#37598C\",\"#365A8C\",\"#365B8C\",\"#355C8C\",\"#355D8C\",\"#345E8D\",\"#345F8D\",\"#33608D\",\"#33618D\",\"#32628D\",\"#32638D\",\"#31648D\",\"#31658D\",\"#31668D\",\"#30678D\",\"#30688D\",\"#2F698D\",\"#2F6A8D\",\"#2E6B8E\",\"#2E6C8E\",\"#2E6D8E\",\"#2D6E8E\",\"#2D6F8E\",\"#2C708E\",\"#2C718E\",\"#2C728E\",\"#2B738E\",\"#2B748E\",\"#2A758E\",\"#2A768E\",\"#2A778E\",\"#29788E\",\"#29798E\",\"#287A8E\",\"#287A8E\",\"#287B8E\",\"#277C8E\",\"#277D8E\",\"#277E8E\",\"#267F8E\",\"#26808E\",\"#26818E\",\"#25828E\",\"#25838D\",\"#24848D\",\"#24858D\",\"#24868D\",\"#23878D\",\"#23888D\",\"#23898D\",\"#22898D\",\"#228A8D\",\"#228B8D\",\"#218C8D\",\"#218D8C\",\"#218E8C\",\"#208F8C\",\"#20908C\",\"#20918C\",\"#1F928C\",\"#1F938B\",\"#1F948B\",\"#1F958B\",\"#1F968B\",\"#1E978A\",\"#1E988A\",\"#1E998A\",\"#1E998A\",\"#1E9A89\",\"#1E9B89\",\"#1E9C89\",\"#1E9D88\",\"#1E9E88\",\"#1E9F88\",\"#1EA087\",\"#1FA187\",\"#1FA286\",\"#1FA386\",\"#20A485\",\"#20A585\",\"#21A685\",\"#21A784\",\"#22A784\",\"#23A883\",\"#23A982\",\"#24AA82\",\"#25AB81\",\"#26AC81\",\"#27AD80\",\"#28AE7F\",\"#29AF7F\",\"#2AB07E\",\"#2BB17D\",\"#2CB17D\",\"#2EB27C\",\"#2FB37B\",\"#30B47A\",\"#32B57A\",\"#33B679\",\"#35B778\",\"#36B877\",\"#38B976\",\"#39B976\",\"#3BBA75\",\"#3DBB74\",\"#3EBC73\",\"#40BD72\",\"#42BE71\",\"#44BE70\",\"#45BF6F\",\"#47C06E\",\"#49C16D\",\"#4BC26C\",\"#4DC26B\",\"#4FC369\",\"#51C468\",\"#53C567\",\"#55C666\",\"#57C665\",\"#59C764\",\"#5BC862\",\"#5EC961\",\"#60C960\",\"#62CA5F\",\"#64CB5D\",\"#67CC5C\",\"#69CC5B\",\"#6BCD59\",\"#6DCE58\",\"#70CE56\",\"#72CF55\",\"#74D054\",\"#77D052\",\"#79D151\",\"#7CD24F\",\"#7ED24E\",\"#81D34C\",\"#83D34B\",\"#86D449\",\"#88D547\",\"#8BD546\",\"#8DD644\",\"#90D643\",\"#92D741\",\"#95D73F\",\"#97D83E\",\"#9AD83C\",\"#9DD93A\",\"#9FD938\",\"#A2DA37\",\"#A5DA35\",\"#A7DB33\",\"#AADB32\",\"#ADDC30\",\"#AFDC2E\",\"#B2DD2C\",\"#B5DD2B\",\"#B7DD29\",\"#BADE27\",\"#BDDE26\",\"#BFDF24\",\"#C2DF22\",\"#C5DF21\",\"#C7E01F\",\"#CAE01E\",\"#CDE01D\",\"#CFE11C\",\"#D2E11B\",\"#D4E11A\",\"#D7E219\",\"#DAE218\",\"#DCE218\",\"#DFE318\",\"#E1E318\",\"#E4E318\",\"#E7E419\",\"#E9E419\",\"#ECE41A\",\"#EEE51B\",\"#F1E51C\",\"#F3E51E\",\"#F6E61F\",\"#F8E621\",\"#FAE622\",\"#FDE724\"]}}}},\"muted_glyph\":{\"type\":\"object\",\"name\":\"Image\",\"id\":\"p1252\",\"attributes\":{\"x\":{\"type\":\"value\",\"value\":0},\"y\":{\"type\":\"value\",\"value\":0},\"dw\":{\"type\":\"value\",\"value\":10},\"dh\":{\"type\":\"value\",\"value\":10},\"global_alpha\":{\"type\":\"value\",\"value\":0.2},\"image\":{\"type\":\"field\",\"field\":\"image\"},\"color_mapper\":{\"type\":\"object\",\"name\":\"LinearColorMapper\",\"id\":\"p1253\",\"attributes\":{\"palette\":[\"#440154\",\"#440255\",\"#440357\",\"#450558\",\"#45065A\",\"#45085B\",\"#46095C\",\"#460B5E\",\"#460C5F\",\"#460E61\",\"#470F62\",\"#471163\",\"#471265\",\"#471466\",\"#471567\",\"#471669\",\"#47186A\",\"#48196B\",\"#481A6C\",\"#481C6E\",\"#481D6F\",\"#481E70\",\"#482071\",\"#482172\",\"#482273\",\"#482374\",\"#472575\",\"#472676\",\"#472777\",\"#472878\",\"#472A79\",\"#472B7A\",\"#472C7B\",\"#462D7C\",\"#462F7C\",\"#46307D\",\"#46317E\",\"#45327F\",\"#45347F\",\"#453580\",\"#453681\",\"#443781\",\"#443982\",\"#433A83\",\"#433B83\",\"#433C84\",\"#423D84\",\"#423E85\",\"#424085\",\"#414186\",\"#414286\",\"#404387\",\"#404487\",\"#3F4587\",\"#3F4788\",\"#3E4888\",\"#3E4989\",\"#3D4A89\",\"#3D4B89\",\"#3D4C89\",\"#3C4D8A\",\"#3C4E8A\",\"#3B508A\",\"#3B518A\",\"#3A528B\",\"#3A538B\",\"#39548B\",\"#39558B\",\"#38568B\",\"#38578C\",\"#37588C\",\"#37598C\",\"#365A8C\",\"#365B8C\",\"#355C8C\",\"#355D8C\",\"#345E8D\",\"#345F8D\",\"#33608D\",\"#33618D\",\"#32628D\",\"#32638D\",\"#31648D\",\"#31658D\",\"#31668D\",\"#30678D\",\"#30688D\",\"#2F698D\",\"#2F6A8D\",\"#2E6B8E\",\"#2E6C8E\",\"#2E6D8E\",\"#2D6E8E\",\"#2D6F8E\",\"#2C708E\",\"#2C718E\",\"#2C728E\",\"#2B738E\",\"#2B748E\",\"#2A758E\",\"#2A768E\",\"#2A778E\",\"#29788E\",\"#29798E\",\"#287A8E\",\"#287A8E\",\"#287B8E\",\"#277C8E\",\"#277D8E\",\"#277E8E\",\"#267F8E\",\"#26808E\",\"#26818E\",\"#25828E\",\"#25838D\",\"#24848D\",\"#24858D\",\"#24868D\",\"#23878D\",\"#23888D\",\"#23898D\",\"#22898D\",\"#228A8D\",\"#228B8D\",\"#218C8D\",\"#218D8C\",\"#218E8C\",\"#208F8C\",\"#20908C\",\"#20918C\",\"#1F928C\",\"#1F938B\",\"#1F948B\",\"#1F958B\",\"#1F968B\",\"#1E978A\",\"#1E988A\",\"#1E998A\",\"#1E998A\",\"#1E9A89\",\"#1E9B89\",\"#1E9C89\",\"#1E9D88\",\"#1E9E88\",\"#1E9F88\",\"#1EA087\",\"#1FA187\",\"#1FA286\",\"#1FA386\",\"#20A485\",\"#20A585\",\"#21A685\",\"#21A784\",\"#22A784\",\"#23A883\",\"#23A982\",\"#24AA82\",\"#25AB81\",\"#26AC81\",\"#27AD80\",\"#28AE7F\",\"#29AF7F\",\"#2AB07E\",\"#2BB17D\",\"#2CB17D\",\"#2EB27C\",\"#2FB37B\",\"#30B47A\",\"#32B57A\",\"#33B679\",\"#35B778\",\"#36B877\",\"#38B976\",\"#39B976\",\"#3BBA75\",\"#3DBB74\",\"#3EBC73\",\"#40BD72\",\"#42BE71\",\"#44BE70\",\"#45BF6F\",\"#47C06E\",\"#49C16D\",\"#4BC26C\",\"#4DC26B\",\"#4FC369\",\"#51C468\",\"#53C567\",\"#55C666\",\"#57C665\",\"#59C764\",\"#5BC862\",\"#5EC961\",\"#60C960\",\"#62CA5F\",\"#64CB5D\",\"#67CC5C\",\"#69CC5B\",\"#6BCD59\",\"#6DCE58\",\"#70CE56\",\"#72CF55\",\"#74D054\",\"#77D052\",\"#79D151\",\"#7CD24F\",\"#7ED24E\",\"#81D34C\",\"#83D34B\",\"#86D449\",\"#88D547\",\"#8BD546\",\"#8DD644\",\"#90D643\",\"#92D741\",\"#95D73F\",\"#97D83E\",\"#9AD83C\",\"#9DD93A\",\"#9FD938\",\"#A2DA37\",\"#A5DA35\",\"#A7DB33\",\"#AADB32\",\"#ADDC30\",\"#AFDC2E\",\"#B2DD2C\",\"#B5DD2B\",\"#B7DD29\",\"#BADE27\",\"#BDDE26\",\"#BFDF24\",\"#C2DF22\",\"#C5DF21\",\"#C7E01F\",\"#CAE01E\",\"#CDE01D\",\"#CFE11C\",\"#D2E11B\",\"#D4E11A\",\"#D7E219\",\"#DAE218\",\"#DCE218\",\"#DFE318\",\"#E1E318\",\"#E4E318\",\"#E7E419\",\"#E9E419\",\"#ECE41A\",\"#EEE51B\",\"#F1E51C\",\"#F3E51E\",\"#F6E61F\",\"#F8E621\",\"#FAE622\",\"#FDE724\"]}}}}}}],\"toolbar\":{\"type\":\"object\",\"name\":\"Toolbar\",\"id\":\"p1217\",\"attributes\":{\"tools\":[{\"type\":\"object\",\"name\":\"PanTool\",\"id\":\"p1230\"},{\"type\":\"object\",\"name\":\"WheelZoomTool\",\"id\":\"p1231\",\"attributes\":{\"renderers\":\"auto\"}},{\"type\":\"object\",\"name\":\"BoxZoomTool\",\"id\":\"p1232\",\"attributes\":{\"overlay\":{\"type\":\"object\",\"name\":\"BoxAnnotation\",\"id\":\"p1233\",\"attributes\":{\"syncable\":false,\"line_color\":\"black\",\"line_alpha\":1.0,\"line_width\":2,\"line_dash\":[4,4],\"fill_color\":\"lightgrey\",\"fill_alpha\":0.5,\"level\":\"overlay\",\"visible\":false,\"left\":{\"type\":\"number\",\"value\":\"nan\"},\"right\":{\"type\":\"number\",\"value\":\"nan\"},\"top\":{\"type\":\"number\",\"value\":\"nan\"},\"bottom\":{\"type\":\"number\",\"value\":\"nan\"},\"left_units\":\"canvas\",\"right_units\":\"canvas\",\"top_units\":\"canvas\",\"bottom_units\":\"canvas\",\"handles\":{\"type\":\"object\",\"name\":\"BoxInteractionHandles\",\"id\":\"p1239\",\"attributes\":{\"all\":{\"type\":\"object\",\"name\":\"AreaVisuals\",\"id\":\"p1238\",\"attributes\":{\"fill_color\":\"white\",\"hover_fill_color\":\"lightgray\"}}}}}}}},{\"type\":\"object\",\"name\":\"SaveTool\",\"id\":\"p1240\"},{\"type\":\"object\",\"name\":\"ResetTool\",\"id\":\"p1241\"},{\"type\":\"object\",\"name\":\"HelpTool\",\"id\":\"p1242\"}]}},\"left\":[{\"type\":\"object\",\"name\":\"LinearAxis\",\"id\":\"p1225\",\"attributes\":{\"ticker\":{\"type\":\"object\",\"name\":\"BasicTicker\",\"id\":\"p1226\",\"attributes\":{\"mantissas\":[1,2,5]}},\"formatter\":{\"type\":\"object\",\"name\":\"BasicTickFormatter\",\"id\":\"p1227\"},\"major_label_policy\":{\"type\":\"object\",\"name\":\"AllLabels\",\"id\":\"p1228\"}}}],\"below\":[{\"type\":\"object\",\"name\":\"LinearAxis\",\"id\":\"p1220\",\"attributes\":{\"ticker\":{\"type\":\"object\",\"name\":\"BasicTicker\",\"id\":\"p1221\",\"attributes\":{\"mantissas\":[1,2,5]}},\"formatter\":{\"type\":\"object\",\"name\":\"BasicTickFormatter\",\"id\":\"p1222\"},\"major_label_policy\":{\"type\":\"object\",\"name\":\"AllLabels\",\"id\":\"p1223\"}}}],\"center\":[{\"type\":\"object\",\"name\":\"Grid\",\"id\":\"p1224\",\"attributes\":{\"axis\":{\"id\":\"p1220\"}}},{\"type\":\"object\",\"name\":\"Grid\",\"id\":\"p1229\",\"attributes\":{\"dimension\":1,\"axis\":{\"id\":\"p1225\"}}}]}}]}};\n  const render_items = [{\"docid\":\"b01e690d-32f4-4ed7-b269-6bb13a211f97\",\"roots\":{\"p1209\":\"d2a79e23-e9c8-4037-b230-52918b704740\"},\"root_ids\":[\"p1209\"]}];\n  void root.Bokeh.embed.embed_items_notebook(docs_json, render_items);\n  }\n  if (root.Bokeh !== undefined) {\n    embed_document(root);\n  } else {\n    let attempts = 0;\n    const timer = setInterval(function(root) {\n      if (root.Bokeh !== undefined) {\n        clearInterval(timer);\n        embed_document(root);\n      } else {\n        attempts++;\n        if (attempts > 100) {\n          clearInterval(timer);\n          console.log(\"Bokeh: ERROR: Unable to run BokehJS code because BokehJS library is missing\");\n        }\n      }\n    }, 10, root)\n  }\n})(window);",
      "application/vnd.bokehjs_exec.v0+json": ""
     },
     "metadata": {
      "application/vnd.bokehjs_exec.v0+json": {
       "id": "p1209"
      }
     },
     "output_type": "display_data"
    }
   ],
   "source": [
    "show(P)"
   ]
  },
  {
   "cell_type": "code",
   "execution_count": 56,
   "metadata": {},
   "outputs": [
    {
     "data": {
      "text/plain": [
       "np.float64(-22.88700260172461)"
      ]
     },
     "execution_count": 56,
     "metadata": {},
     "output_type": "execute_result"
    }
   ],
   "source": [
    "Q[1][2]"
   ]
  },
  {
   "cell_type": "code",
   "execution_count": 57,
   "metadata": {},
   "outputs": [
    {
     "data": {
      "text/plain": [
       "np.float64(-22.88700260172461)"
      ]
     },
     "execution_count": 57,
     "metadata": {},
     "output_type": "execute_result"
    }
   ],
   "source": [
    "Q[1,2]"
   ]
  },
  {
   "cell_type": "code",
   "execution_count": 59,
   "metadata": {},
   "outputs": [
    {
     "data": {
      "text/plain": [
       "np.float64(-16.92027894612226)"
      ]
     },
     "execution_count": 59,
     "metadata": {},
     "output_type": "execute_result"
    }
   ],
   "source": [
    "np.max(Q[1,:])"
   ]
  },
  {
   "cell_type": "code",
   "execution_count": 61,
   "metadata": {},
   "outputs": [
    {
     "data": {
      "text/plain": [
       "array([15])"
      ]
     },
     "execution_count": 61,
     "metadata": {},
     "output_type": "execute_result"
    }
   ],
   "source": [
    "np.where(Q[1,:]==np.max(Q[1,:]))[0]"
   ]
  },
  {
   "cell_type": "code",
   "execution_count": 63,
   "metadata": {},
   "outputs": [
    {
     "data": {
      "text/plain": [
       "array([-17.0167396 , -17.00540148, -16.41980477, -16.38524058,\n",
       "       -15.69136931, -15.46131583, -14.93477731, -15.10286624,\n",
       "       -14.57774065, -14.52378531, -14.55342079, -13.98632692,\n",
       "       -13.79323355, -14.13836364, -13.36918428, -13.53559532,\n",
       "       -13.35789276, -13.48585142, -13.39865367, -13.65060903,\n",
       "       -13.72129892, -14.07155259, -13.77614154, -13.69893515,\n",
       "       -13.97534257, -14.11639242, -14.42558957, -14.47266216,\n",
       "       -14.81057455, -15.14099419, -14.96618101, -15.89105146,\n",
       "       -15.96624877, -16.71790262, -16.90306477, -17.74073421,\n",
       "       -18.26177638, -17.9588335 , -19.3316213 ,   0.        ,\n",
       "         0.        ,   0.        ,   0.        ,   0.        ,\n",
       "         0.        ,   0.        ,   0.        ,   0.        ,\n",
       "         0.        ,   0.        ,   0.        ,   0.        ,\n",
       "         0.        ,   0.        ,   0.        ,   0.        ,\n",
       "         0.        ,   0.        ,   0.        ,   0.        ,\n",
       "         0.        ,   0.        ,   0.        ,   0.        ,\n",
       "         0.        ,   0.        ,   0.        ,   0.        ,\n",
       "         0.        ,   0.        ,   0.        ,   0.        ,\n",
       "         0.        ,   0.        ,   0.        ,   0.        ,\n",
       "         0.        ,   0.        ,   0.        ,   0.        ,\n",
       "         0.        ,   0.        ,   0.        ,   0.        ,\n",
       "         0.        ,   0.        ,   0.        ,   0.        ,\n",
       "         0.        ,   0.        ,   0.        ,   0.        ,\n",
       "         0.        ,   0.        ,   0.        ,   0.        ,\n",
       "         0.        ,   0.        ,   0.        ,   0.        ])"
      ]
     },
     "execution_count": 63,
     "metadata": {},
     "output_type": "execute_result"
    }
   ],
   "source": [
    "V"
   ]
  },
  {
   "cell_type": "code",
   "execution_count": 64,
   "metadata": {},
   "outputs": [
    {
     "ename": "IndexError",
     "evalue": "too many indices for array: array is 1-dimensional, but 2 were indexed",
     "output_type": "error",
     "traceback": [
      "\u001b[0;31m---------------------------------------------------------------------------\u001b[0m",
      "\u001b[0;31mIndexError\u001b[0m                                Traceback (most recent call last)",
      "Cell \u001b[0;32mIn[64], line 1\u001b[0m\n\u001b[0;32m----> 1\u001b[0m \u001b[43mV\u001b[49m\u001b[43m[\u001b[49m\u001b[43m:\u001b[49m\u001b[38;5;241;43m39\u001b[39;49m\u001b[43m,\u001b[49m\u001b[43m:\u001b[49m\u001b[43m]\u001b[49m\n",
      "\u001b[0;31mIndexError\u001b[0m: too many indices for array: array is 1-dimensional, but 2 were indexed"
     ]
    }
   ],
   "source": [
    "V[:39,:]"
   ]
  },
  {
   "cell_type": "code",
   "execution_count": 65,
   "metadata": {},
   "outputs": [
    {
     "data": {
      "text/plain": [
       "array([-17.0167396 , -17.00540148, -16.41980477, -16.38524058,\n",
       "       -15.69136931, -15.46131583, -14.93477731, -15.10286624,\n",
       "       -14.57774065, -14.52378531, -14.55342079, -13.98632692,\n",
       "       -13.79323355, -14.13836364, -13.36918428, -13.53559532,\n",
       "       -13.35789276, -13.48585142, -13.39865367, -13.65060903,\n",
       "       -13.72129892, -14.07155259, -13.77614154, -13.69893515,\n",
       "       -13.97534257, -14.11639242, -14.42558957, -14.47266216,\n",
       "       -14.81057455, -15.14099419, -14.96618101, -15.89105146,\n",
       "       -15.96624877, -16.71790262, -16.90306477, -17.74073421,\n",
       "       -18.26177638, -17.9588335 , -19.3316213 ])"
      ]
     },
     "execution_count": 65,
     "metadata": {},
     "output_type": "execute_result"
    }
   ],
   "source": [
    "V[:39]"
   ]
  },
  {
   "cell_type": "code",
   "execution_count": 66,
   "metadata": {},
   "outputs": [
    {
     "data": {
      "text/plain": [
       "np.float64(-13.35789275598864)"
      ]
     },
     "execution_count": 66,
     "metadata": {},
     "output_type": "execute_result"
    }
   ],
   "source": [
    "V[:39].max()"
   ]
  },
  {
   "cell_type": "code",
   "execution_count": 67,
   "metadata": {},
   "outputs": [
    {
     "data": {
      "text/plain": [
       "np.int64(16)"
      ]
     },
     "execution_count": 67,
     "metadata": {},
     "output_type": "execute_result"
    }
   ],
   "source": [
    "np.argmax(V[:39])"
   ]
  },
  {
   "cell_type": "code",
   "execution_count": 68,
   "metadata": {},
   "outputs": [],
   "source": [
    "Q=np.load(\"2025-01-24_11-42-45/q_table.npy\")"
   ]
  },
  {
   "cell_type": "code",
   "execution_count": 69,
   "metadata": {},
   "outputs": [
    {
     "data": {
      "text/plain": [
       "array([[-20.94140712, -20.34941078, -20.20768136, -20.60951454,\n",
       "        -20.47065067, -19.8277491 , -20.69487035, -21.41383732,\n",
       "        -20.37554782, -20.32273584, -20.36715224, -19.63187929,\n",
       "        -20.7676464 , -20.54381332, -20.27865456, -20.39519627,\n",
       "        -20.55811267, -20.35239454, -17.01681402, -20.36346126],\n",
       "       [-24.66262134, -23.01092813, -23.22889047, -24.67373585,\n",
       "        -22.64852378, -24.09027843, -23.22156004, -22.82554903,\n",
       "        -24.96161421, -22.96842164, -23.61918124, -23.20746716,\n",
       "        -21.76112209, -23.75597073, -23.43036219, -22.7940182 ,\n",
       "        -22.59345596, -23.14797923, -17.00554746, -23.47975994],\n",
       "       [-23.03236148, -22.24150197, -22.86956485, -23.35959153,\n",
       "        -23.61015132, -23.23712072, -22.71288936, -22.19279118,\n",
       "        -22.9079216 , -22.68793343, -22.56445483, -21.01424324,\n",
       "        -22.51506489, -23.15913767, -23.28664234, -22.98258837,\n",
       "        -23.7284638 , -22.23204404, -23.12432285, -16.41993179],\n",
       "       [-22.65054573, -21.68424228, -22.62483132, -20.74502997,\n",
       "        -22.35567028, -22.51974506, -22.52458255, -21.80576133,\n",
       "        -21.48704956, -22.67899297, -22.75325888, -16.38535524,\n",
       "        -21.67432404, -22.36378995, -22.72216386, -22.71471684,\n",
       "        -22.93480637, -23.77574128, -21.89982936, -21.45430946],\n",
       "       [-21.94962994, -20.1524465 , -21.32859315, -19.85344925,\n",
       "        -21.39143606, -20.84221696, -21.61467985, -22.21805067,\n",
       "        -21.32032559, -21.95912475, -22.56381325, -21.88447341,\n",
       "        -21.48816647, -15.69147252, -21.16161845, -22.98967756,\n",
       "        -21.75731259, -22.04512417, -22.59867918, -20.19881335],\n",
       "       [-21.42648145, -21.10485443, -18.89257599, -20.46878524,\n",
       "        -19.73061626, -21.41547069, -21.23481292, -19.58099462,\n",
       "        -20.58825862, -20.15770611, -20.06692387, -21.32565436,\n",
       "        -21.14257701, -20.75059093, -20.5903721 , -21.39000486,\n",
       "        -20.81949478, -21.55043647, -15.46139949, -21.16929761],\n",
       "       [-19.83340704, -20.84379092, -19.95750818, -20.53685982,\n",
       "        -20.11267956, -19.46954738, -19.9267721 , -20.86304862,\n",
       "        -14.93485424, -20.65006194, -20.16902459, -20.93501346,\n",
       "        -20.29087126, -19.83115851, -20.89728908, -19.548889  ,\n",
       "        -19.91785434, -20.01763744, -20.50102353, -20.66754764],\n",
       "       [-20.49137134, -18.66409463, -20.5271962 , -19.90921661,\n",
       "        -18.73769852, -19.96406799, -20.1713646 , -19.7672374 ,\n",
       "        -19.72865007, -20.57861784, -19.65366194, -20.82950119,\n",
       "        -20.77659897, -15.1029308 , -20.20791867, -19.09068266,\n",
       "        -20.10405484, -20.11689079, -20.42857167, -20.04657847],\n",
       "       [-19.33606882, -19.07763363, -19.56124881, -19.29065363,\n",
       "        -20.01326565, -18.81619135, -19.50029495, -20.26658702,\n",
       "        -19.0767874 , -19.56307805, -19.10109677, -19.20214917,\n",
       "        -19.37729732, -19.40366689, -18.7396646 , -19.81392068,\n",
       "        -20.52859111, -14.57779318, -18.92330979, -19.78949329],\n",
       "       [-17.80951692, -17.97970833, -19.47828253, -18.9176177 ,\n",
       "        -19.09770072, -18.50929265, -17.86211281, -19.08280005,\n",
       "        -19.19053048, -18.6199905 , -14.52382555, -18.65955192,\n",
       "        -18.20931472, -17.32850441, -18.70787162, -18.07121616,\n",
       "        -17.6739261 , -18.66772585, -18.62538272, -18.36744056],\n",
       "       [-17.77820919, -18.34232133, -17.25368715, -19.36948306,\n",
       "        -18.51925826, -18.65793126, -18.46981365, -18.7118627 ,\n",
       "        -18.71954303, -18.73709189, -19.1589218 , -18.97945087,\n",
       "        -18.10026244, -18.65537784, -17.95006149, -19.44613843,\n",
       "        -18.31894497, -18.37302506, -14.55343749, -18.8362975 ],\n",
       "       [-18.51962792, -18.68230539, -13.98632475, -17.72148729,\n",
       "        -18.71968668, -17.42775178, -17.58487008, -17.9454064 ,\n",
       "        -17.96738563, -18.09019184, -18.70033502, -17.78772116,\n",
       "        -17.95339972, -18.59011879, -18.39527508, -17.715743  ,\n",
       "        -18.31145812, -18.52291888, -18.10317019, -19.38275865],\n",
       "       [-17.85068127, -18.73992692, -17.76079163, -19.07791754,\n",
       "        -18.84165111, -17.76685983, -19.83583744, -17.59927225,\n",
       "        -18.36640852, -13.79326266, -18.144038  , -17.9024867 ,\n",
       "        -18.21490157, -17.08156952, -17.83120216, -17.82363119,\n",
       "        -18.01786952, -18.52972039, -17.7372042 , -18.22307162],\n",
       "       [-18.18190453, -17.89753077, -17.73278048, -16.95846052,\n",
       "        -18.02881685, -16.92851444, -17.73721095, -18.54216148,\n",
       "        -17.7631323 , -17.75911509, -17.16963436, -18.4484465 ,\n",
       "        -17.29676284, -17.41161245, -18.10057536, -17.63975207,\n",
       "        -18.59670318, -16.88999861, -16.34944084, -14.13830582],\n",
       "       [-18.27872655, -17.82063168, -17.56804913, -17.71850573,\n",
       "        -18.41280453, -17.93312188, -18.23806485, -17.64294581,\n",
       "        -13.36917249, -17.62236117, -17.62375688, -17.48111431,\n",
       "        -17.74873343, -17.63741478, -17.96824186, -17.10973022,\n",
       "        -17.59620992, -17.66198327, -18.0044527 , -17.21328337],\n",
       "       [-17.08311151, -16.7962136 , -17.0193695 , -17.51837267,\n",
       "        -16.67780839, -18.49842698, -17.27910434, -17.44807022,\n",
       "        -17.67201628, -16.94229279, -17.67770412, -17.08249932,\n",
       "        -16.64555218, -16.55880494, -17.50931621, -17.11395127,\n",
       "        -17.06466883, -13.53548683, -17.38893164, -16.73469167],\n",
       "       [-17.82781552, -17.18718675, -17.22650563, -16.46949897,\n",
       "        -16.85850973, -16.8645212 , -16.85250222, -17.14015675,\n",
       "        -17.34084213, -18.3142836 , -17.92159491, -17.22839406,\n",
       "        -17.71671809, -17.88800635, -16.06308968, -16.66044889,\n",
       "        -17.24313649, -16.57191334, -16.7416308 , -13.35775185],\n",
       "       [-16.55887861, -16.3846184 , -17.10976417, -16.65172027,\n",
       "        -16.30852495, -16.41120683, -16.63036955, -16.67212857,\n",
       "        -17.2249468 , -13.48556336, -16.78297493, -17.00819373,\n",
       "        -16.90126261, -16.78584544, -16.64481924, -16.55143453,\n",
       "        -16.46316697, -16.84572687, -17.41328567, -16.31773486],\n",
       "       [-17.284838  , -17.11654149, -16.92235258, -17.2864056 ,\n",
       "        -17.38168902, -17.12404167, -17.04137068, -17.02356354,\n",
       "        -17.68929413, -16.80633806, -17.10908251, -13.39834311,\n",
       "        -17.16368226, -17.69823839, -17.08593564, -16.83821466,\n",
       "        -17.269916  , -17.21176163, -16.56014928, -17.27599525],\n",
       "       [-16.39430162, -16.72436331, -13.65035149, -16.60070504,\n",
       "        -16.88344344, -16.40949273, -17.63440273, -16.59665238,\n",
       "        -16.38741334, -17.24986111, -16.5328049 , -16.58191193,\n",
       "        -16.43438276, -16.35986898, -17.39139112, -16.55375129,\n",
       "        -16.98776661, -16.94033771, -16.65145376, -16.34948341],\n",
       "       [-16.48657338, -16.3540331 , -16.23633121, -16.18605433,\n",
       "        -16.24296999, -16.02287337, -13.72108018, -16.36049567,\n",
       "        -16.1645616 , -15.62375496, -16.35177408, -16.52120262,\n",
       "        -16.42273013, -16.12682405, -16.20565496, -16.35387712,\n",
       "        -17.25422312, -16.25700193, -16.59290696, -16.3544736 ],\n",
       "       [-16.39953177, -16.58118115, -16.34642113, -17.03086545,\n",
       "        -16.89329403, -16.76442511, -16.95423943, -16.51725457,\n",
       "        -16.96510629, -16.81386949, -16.70138362, -16.49764724,\n",
       "        -16.95388774, -16.49158607, -14.07118081, -16.30101922,\n",
       "        -16.98344154, -16.63367957, -16.45060731, -16.26269235],\n",
       "       [-16.68183822, -16.43880782, -16.76749066, -16.72821306,\n",
       "        -16.70705623, -17.02030117, -16.60793566, -16.88297958,\n",
       "        -16.28121976, -16.60508808, -16.45347985, -16.53291616,\n",
       "        -16.47641649, -16.69531043, -16.58785008, -16.51388185,\n",
       "        -16.48291149, -13.7758206 , -16.63985271, -16.48106343],\n",
       "       [-16.54660676, -16.05336879, -13.69862907, -16.52412976,\n",
       "        -16.72125934, -16.67155966, -16.5552175 , -16.12827886,\n",
       "        -16.37568569, -16.13582054, -16.57669283, -16.27299817,\n",
       "        -16.41690426, -16.18417829, -17.09048953, -16.50259151,\n",
       "        -16.51197381, -16.32235837, -16.98467849, -16.57828203],\n",
       "       [-17.11652277, -16.64311649, -16.46795921, -16.61886043,\n",
       "        -16.83754263, -16.82251751, -16.75661681, -16.9210128 ,\n",
       "        -15.95970694, -16.72015594, -16.57493371, -16.08284258,\n",
       "        -13.97486134, -16.77546017, -16.93225056, -16.75836235,\n",
       "        -16.81360782, -16.65511582, -16.7737076 , -16.76556245],\n",
       "       [-16.51072172, -16.41815123, -16.56950612, -17.18242374,\n",
       "        -16.76349497, -16.62002876, -16.4603654 , -16.72456042,\n",
       "        -14.11589727, -16.79694069, -16.88743832, -16.92993519,\n",
       "        -16.59398381, -16.91299121, -17.99874911, -16.93339945,\n",
       "        -16.23962821, -17.09900544, -16.71892381, -16.71580605],\n",
       "       [-16.86345846, -17.4181598 , -16.9898153 , -16.92084842,\n",
       "        -17.13144701, -17.05402561, -16.89940291, -17.17595634,\n",
       "        -17.05081156, -14.42509406, -16.59515985, -17.01895856,\n",
       "        -17.41880578, -18.65565156, -16.95448951, -17.51151454,\n",
       "        -17.0394834 , -16.8330887 , -17.17802601, -17.48353794],\n",
       "       [-17.55452481, -17.50501549, -17.31978053, -17.27572278,\n",
       "        -18.97113202, -14.46689525, -17.23281304, -17.56781801,\n",
       "        -17.24856426, -17.2423699 , -17.49064136, -17.45899293,\n",
       "        -17.15161368, -17.54023789, -17.69142775, -17.06292286,\n",
       "        -18.22726019, -17.91430865, -17.66623725, -17.30231454],\n",
       "       [-17.15377495, -17.47839132, -17.58491375, -18.27721515,\n",
       "        -17.56565254, -17.59052571, -17.75439046, -17.96951702,\n",
       "        -17.20932168, -17.65929169, -17.95630125, -18.53285849,\n",
       "        -14.80997426, -18.43350974, -17.70939431, -17.5842045 ,\n",
       "        -18.75848821, -18.61439433, -17.37180969, -17.93165976],\n",
       "       [-18.21738175, -17.92143639, -18.08780452, -17.89718842,\n",
       "        -15.14059408, -19.82048748, -18.14779705, -19.51977164,\n",
       "        -18.74302868, -17.81640666, -18.05661597, -17.91439783,\n",
       "        -18.54642261, -17.79906991, -18.20037061, -18.36872034,\n",
       "        -17.8704579 , -18.03388765, -17.83059979, -17.93868482],\n",
       "       [-20.07249979, -19.96973309, -18.25752469, -18.70300121,\n",
       "        -18.761496  , -19.03217853, -14.96539225, -19.23258437,\n",
       "        -19.68899822, -19.23282703, -18.5644727 , -19.37322985,\n",
       "        -19.89673358, -19.19326316, -18.48530259, -18.79491989,\n",
       "        -19.2258607 , -18.75743396, -19.08998119, -18.86786016],\n",
       "       [-20.30900338, -19.76165011, -20.65321395, -19.85903448,\n",
       "        -19.25137048, -19.93938153, -15.89047396, -19.1901768 ,\n",
       "        -21.34940981, -20.75040339, -20.29973419, -19.11895   ,\n",
       "        -18.48508271, -20.35171797, -21.63443093, -19.46978087,\n",
       "        -20.49359635, -18.46889974, -19.33521847, -19.01431652],\n",
       "       [-18.98727801, -20.18808498, -19.37765492, -20.53957129,\n",
       "        -20.43354979, -15.96579335, -20.3546267 , -19.3799277 ,\n",
       "        -21.26853997, -21.09900139, -19.80343596, -19.80788764,\n",
       "        -19.86321467, -19.36426852, -21.91893613, -20.76370143,\n",
       "        -20.34507511, -19.63347964, -20.94294985, -20.51829269],\n",
       "       [-20.97571266, -20.76597792, -21.87742847, -20.45364936,\n",
       "        -21.35964807, -19.69120004, -20.68200824, -21.69555783,\n",
       "        -19.67370687, -20.36236498, -21.30005391, -21.40687559,\n",
       "        -19.58200807, -21.82454328, -21.6208376 , -20.79484075,\n",
       "        -19.73401773, -20.45587862, -19.72563702, -16.71751258],\n",
       "       [-22.30946095, -21.00382093, -21.45761374, -16.90277906,\n",
       "        -20.70445055, -20.83019686, -21.3899337 , -24.21049921,\n",
       "        -22.25669127, -21.93391701, -21.63945927, -21.2750166 ,\n",
       "        -21.33271684, -22.41350841, -19.90976578, -21.22332962,\n",
       "        -21.7512664 , -24.03763693, -20.65235277, -21.73418923],\n",
       "       [-24.50882616, -17.74018167, -22.21492019, -22.60844613,\n",
       "        -23.22842729, -23.60792815, -22.23659703, -22.31229725,\n",
       "        -22.39174522, -23.19610014, -22.68624411, -22.49353866,\n",
       "        -23.28017934, -24.43066509, -22.67103471, -23.2568996 ,\n",
       "        -22.88600965, -23.41404333, -23.7939685 , -21.70575529],\n",
       "       [-23.56696832, -23.36664139, -23.86480441, -23.07225432,\n",
       "        -18.26138256, -23.35653129, -21.52707909, -24.54259051,\n",
       "        -22.20990993, -22.77025128, -23.3958337 , -21.58886558,\n",
       "        -23.33316795, -22.80981406, -22.23524018, -23.74203811,\n",
       "        -21.81389962, -23.75394547, -23.53379074, -24.73765771],\n",
       "       [-24.84867137, -24.62208563, -25.57205145, -24.29931991,\n",
       "        -23.62829711, -24.34375865, -24.97807443, -17.95871142,\n",
       "        -22.70323667, -24.0714289 , -24.96707184, -24.61775696,\n",
       "        -23.37426797, -23.05696833, -23.36713864, -25.14500437,\n",
       "        -24.16371081, -24.48162681, -23.60309097, -24.34291226],\n",
       "       [-25.01064985, -25.06448502, -24.67433218, -24.88968076,\n",
       "        -24.88429755, -24.98549797, -24.793913  , -25.84093681,\n",
       "        -25.26200626, -24.84172874, -19.33168876, -23.80478276,\n",
       "        -26.35129788, -25.10141396, -24.16567767, -24.83279767,\n",
       "        -25.151148  , -24.42497713, -26.40531696, -25.7813394 ]])"
      ]
     },
     "execution_count": 69,
     "metadata": {},
     "output_type": "execute_result"
    }
   ],
   "source": [
    "Q[:39,:]"
   ]
  },
  {
   "cell_type": "code",
   "execution_count": 70,
   "metadata": {},
   "outputs": [
    {
     "data": {
      "text/plain": [
       "array([-405.48852947, -461.0869871 , -449.87872126, -439.75474633,\n",
       "       -425.00910368, -408.86730782, -399.90483864, -394.89690519,\n",
       "       -383.95879213, -365.3823123 , -366.9311194 , -360.10793635,\n",
       "       -359.13830406, -349.57085943, -350.64930457, -340.24639329,\n",
       "       -339.47450696, -331.15216636, -339.28775351, -331.31413965,\n",
       "       -323.83939638, -330.61331388, -329.36043334, -326.85170325,\n",
       "       -330.97071591, -333.19195093, -340.61773531, -347.8905932 ,\n",
       "       -353.94558881, -361.87112411, -378.16529295, -393.62584564,\n",
       "       -400.55526974, -410.69945958, -428.96860514, -454.66380751,\n",
       "       -457.48266622, -478.14518453, -495.59796832,    0.        ,\n",
       "          0.        ,    0.        ,    0.        ,    0.        ,\n",
       "          0.        ,    0.        ,    0.        ,    0.        ,\n",
       "          0.        ,    0.        ,    0.        ,    0.        ,\n",
       "          0.        ,    0.        ,    0.        ,    0.        ,\n",
       "          0.        ,    0.        ,    0.        ,    0.        ,\n",
       "          0.        ,    0.        ,    0.        ,    0.        ,\n",
       "          0.        ,    0.        ,    0.        ,    0.        ,\n",
       "          0.        ,    0.        ,    0.        ,    0.        ,\n",
       "          0.        ,    0.        ,    0.        ,    0.        ,\n",
       "          0.        ,    0.        ,    0.        ,    0.        ,\n",
       "          0.        ,    0.        ,    0.        ,    0.        ,\n",
       "          0.        ,    0.        ,    0.        ,    0.        ,\n",
       "          0.        ,    0.        ,    0.        ,    0.        ,\n",
       "          0.        ,    0.        ,    0.        ,    0.        ,\n",
       "          0.        ,    0.        ,    0.        ,    0.        ])"
      ]
     },
     "execution_count": 70,
     "metadata": {},
     "output_type": "execute_result"
    }
   ],
   "source": [
    "Q.sum(axis=1)"
   ]
  },
  {
   "cell_type": "code",
   "execution_count": 72,
   "metadata": {},
   "outputs": [
    {
     "data": {
      "text/plain": [
       "np.int64(20)"
      ]
     },
     "execution_count": 72,
     "metadata": {},
     "output_type": "execute_result"
    }
   ],
   "source": [
    "np.argmax(Q[:39].sum(axis=1))"
   ]
  },
  {
   "cell_type": "code",
   "execution_count": 73,
   "metadata": {},
   "outputs": [
    {
     "data": {
      "text/plain": [
       "(100, 20)"
      ]
     },
     "execution_count": 73,
     "metadata": {},
     "output_type": "execute_result"
    }
   ],
   "source": [
    "Q.shape"
   ]
  },
  {
   "cell_type": "code",
   "execution_count": 74,
   "metadata": {},
   "outputs": [
    {
     "data": {
      "text/plain": [
       "array([[-20.94140712, -20.34941078, -20.20768136, ..., -20.35239454,\n",
       "        -17.01681402, -20.36346126],\n",
       "       [-24.66262134, -23.01092813, -23.22889047, ..., -23.14797923,\n",
       "        -17.00554746, -23.47975994],\n",
       "       [-23.03236148, -22.24150197, -22.86956485, ..., -22.23204404,\n",
       "        -23.12432285, -16.41993179],\n",
       "       ...,\n",
       "       [  0.        ,   0.        ,   0.        , ...,   0.        ,\n",
       "          0.        ,   0.        ],\n",
       "       [  0.        ,   0.        ,   0.        , ...,   0.        ,\n",
       "          0.        ,   0.        ],\n",
       "       [  0.        ,   0.        ,   0.        , ...,   0.        ,\n",
       "          0.        ,   0.        ]], shape=(100, 20))"
      ]
     },
     "execution_count": 74,
     "metadata": {},
     "output_type": "execute_result"
    }
   ],
   "source": [
    "Q"
   ]
  },
  {
   "cell_type": "code",
   "execution_count": 75,
   "metadata": {},
   "outputs": [],
   "source": [
    "Q= np.load(\"2025-01-24_11-56-40/q_table.npy\")"
   ]
  },
  {
   "cell_type": "code",
   "execution_count": 76,
   "metadata": {},
   "outputs": [
    {
     "data": {
      "text/plain": [
       "array([[-19.86618444, -19.84030689, -20.69784695, ..., -19.76784064,\n",
       "        -19.79347632, -16.64321062],\n",
       "       [-22.8082004 , -22.46162404, -23.17905792, ..., -21.93512264,\n",
       "        -22.32509689, -16.72034944],\n",
       "       [-22.85079153, -21.43199986, -22.42486729, ..., -16.26089925,\n",
       "        -22.40248422, -23.97397367],\n",
       "       ...,\n",
       "       [-50.        , -50.        , -50.        , ..., -50.        ,\n",
       "        -50.        , -50.        ],\n",
       "       [-50.        , -50.        , -50.        , ..., -50.        ,\n",
       "        -50.        , -50.        ],\n",
       "       [-50.        , -50.        , -50.        , ..., -50.        ,\n",
       "        -50.        , -50.        ]], shape=(100, 20))"
      ]
     },
     "execution_count": 76,
     "metadata": {},
     "output_type": "execute_result"
    }
   ],
   "source": [
    "Q"
   ]
  },
  {
   "cell_type": "code",
   "execution_count": 77,
   "metadata": {},
   "outputs": [
    {
     "data": {
      "text/html": [
       "\n",
       "  <div id=\"d57871cf-b47f-48e2-bac3-c569d85ceeb2\" data-root-id=\"p1261\" style=\"display: contents;\"></div>\n"
      ]
     },
     "metadata": {},
     "output_type": "display_data"
    },
    {
     "data": {
      "application/javascript": "(function(root) {\n  function embed_document(root) {\n  const docs_json = {\"ac2ca01b-e030-4ec7-8e5a-efd2b8fdceea\":{\"version\":\"3.6.0\",\"title\":\"Bokeh Application\",\"roots\":[{\"type\":\"object\",\"name\":\"Figure\",\"id\":\"p1261\",\"attributes\":{\"x_range\":{\"type\":\"object\",\"name\":\"DataRange1d\",\"id\":\"p1262\"},\"y_range\":{\"type\":\"object\",\"name\":\"DataRange1d\",\"id\":\"p1263\"},\"x_scale\":{\"type\":\"object\",\"name\":\"LinearScale\",\"id\":\"p1270\"},\"y_scale\":{\"type\":\"object\",\"name\":\"LinearScale\",\"id\":\"p1271\"},\"title\":{\"type\":\"object\",\"name\":\"Title\",\"id\":\"p1268\"},\"renderers\":[{\"type\":\"object\",\"name\":\"GlyphRenderer\",\"id\":\"p1307\",\"attributes\":{\"data_source\":{\"type\":\"object\",\"name\":\"ColumnDataSource\",\"id\":\"p1295\",\"attributes\":{\"selected\":{\"type\":\"object\",\"name\":\"Selection\",\"id\":\"p1296\",\"attributes\":{\"indices\":[],\"line_indices\":[]}},\"selection_policy\":{\"type\":\"object\",\"name\":\"UnionRenderers\",\"id\":\"p1297\"},\"data\":{\"type\":\"map\",\"entries\":[[\"image\",[{\"type\":\"ndarray\",\"array\":{\"type\":\"bytes\",\"data\":\"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\"},\"shape\":[39,20],\"dtype\":\"float64\",\"order\":\"little\"}]]]}}},\"view\":{\"type\":\"object\",\"name\":\"CDSView\",\"id\":\"p1308\",\"attributes\":{\"filter\":{\"type\":\"object\",\"name\":\"AllIndices\",\"id\":\"p1309\"}}},\"glyph\":{\"type\":\"object\",\"name\":\"Image\",\"id\":\"p1298\",\"attributes\":{\"x\":{\"type\":\"value\",\"value\":0},\"y\":{\"type\":\"value\",\"value\":0},\"dw\":{\"type\":\"value\",\"value\":10},\"dh\":{\"type\":\"value\",\"value\":10},\"image\":{\"type\":\"field\",\"field\":\"image\"},\"color_mapper\":{\"type\":\"object\",\"name\":\"LinearColorMapper\",\"id\":\"p1299\",\"attributes\":{\"palette\":[\"#440154\",\"#440255\",\"#440357\",\"#450558\",\"#45065A\",\"#45085B\",\"#46095C\",\"#460B5E\",\"#460C5F\",\"#460E61\",\"#470F62\",\"#471163\",\"#471265\",\"#471466\",\"#471567\",\"#471669\",\"#47186A\",\"#48196B\",\"#481A6C\",\"#481C6E\",\"#481D6F\",\"#481E70\",\"#482071\",\"#482172\",\"#482273\",\"#482374\",\"#472575\",\"#472676\",\"#472777\",\"#472878\",\"#472A79\",\"#472B7A\",\"#472C7B\",\"#462D7C\",\"#462F7C\",\"#46307D\",\"#46317E\",\"#45327F\",\"#45347F\",\"#453580\",\"#453681\",\"#443781\",\"#443982\",\"#433A83\",\"#433B83\",\"#433C84\",\"#423D84\",\"#423E85\",\"#424085\",\"#414186\",\"#414286\",\"#404387\",\"#404487\",\"#3F4587\",\"#3F4788\",\"#3E4888\",\"#3E4989\",\"#3D4A89\",\"#3D4B89\",\"#3D4C89\",\"#3C4D8A\",\"#3C4E8A\",\"#3B508A\",\"#3B518A\",\"#3A528B\",\"#3A538B\",\"#39548B\",\"#39558B\",\"#38568B\",\"#38578C\",\"#37588C\",\"#37598C\",\"#365A8C\",\"#365B8C\",\"#355C8C\",\"#355D8C\",\"#345E8D\",\"#345F8D\",\"#33608D\",\"#33618D\",\"#32628D\",\"#32638D\",\"#31648D\",\"#31658D\",\"#31668D\",\"#30678D\",\"#30688D\",\"#2F698D\",\"#2F6A8D\",\"#2E6B8E\",\"#2E6C8E\",\"#2E6D8E\",\"#2D6E8E\",\"#2D6F8E\",\"#2C708E\",\"#2C718E\",\"#2C728E\",\"#2B738E\",\"#2B748E\",\"#2A758E\",\"#2A768E\",\"#2A778E\",\"#29788E\",\"#29798E\",\"#287A8E\",\"#287A8E\",\"#287B8E\",\"#277C8E\",\"#277D8E\",\"#277E8E\",\"#267F8E\",\"#26808E\",\"#26818E\",\"#25828E\",\"#25838D\",\"#24848D\",\"#24858D\",\"#24868D\",\"#23878D\",\"#23888D\",\"#23898D\",\"#22898D\",\"#228A8D\",\"#228B8D\",\"#218C8D\",\"#218D8C\",\"#218E8C\",\"#208F8C\",\"#20908C\",\"#20918C\",\"#1F928C\",\"#1F938B\",\"#1F948B\",\"#1F958B\",\"#1F968B\",\"#1E978A\",\"#1E988A\",\"#1E998A\",\"#1E998A\",\"#1E9A89\",\"#1E9B89\",\"#1E9C89\",\"#1E9D88\",\"#1E9E88\",\"#1E9F88\",\"#1EA087\",\"#1FA187\",\"#1FA286\",\"#1FA386\",\"#20A485\",\"#20A585\",\"#21A685\",\"#21A784\",\"#22A784\",\"#23A883\",\"#23A982\",\"#24AA82\",\"#25AB81\",\"#26AC81\",\"#27AD80\",\"#28AE7F\",\"#29AF7F\",\"#2AB07E\",\"#2BB17D\",\"#2CB17D\",\"#2EB27C\",\"#2FB37B\",\"#30B47A\",\"#32B57A\",\"#33B679\",\"#35B778\",\"#36B877\",\"#38B976\",\"#39B976\",\"#3BBA75\",\"#3DBB74\",\"#3EBC73\",\"#40BD72\",\"#42BE71\",\"#44BE70\",\"#45BF6F\",\"#47C06E\",\"#49C16D\",\"#4BC26C\",\"#4DC26B\",\"#4FC369\",\"#51C468\",\"#53C567\",\"#55C666\",\"#57C665\",\"#59C764\",\"#5BC862\",\"#5EC961\",\"#60C960\",\"#62CA5F\",\"#64CB5D\",\"#67CC5C\",\"#69CC5B\",\"#6BCD59\",\"#6DCE58\",\"#70CE56\",\"#72CF55\",\"#74D054\",\"#77D052\",\"#79D151\",\"#7CD24F\",\"#7ED24E\",\"#81D34C\",\"#83D34B\",\"#86D449\",\"#88D547\",\"#8BD546\",\"#8DD644\",\"#90D643\",\"#92D741\",\"#95D73F\",\"#97D83E\",\"#9AD83C\",\"#9DD93A\",\"#9FD938\",\"#A2DA37\",\"#A5DA35\",\"#A7DB33\",\"#AADB32\",\"#ADDC30\",\"#AFDC2E\",\"#B2DD2C\",\"#B5DD2B\",\"#B7DD29\",\"#BADE27\",\"#BDDE26\",\"#BFDF24\",\"#C2DF22\",\"#C5DF21\",\"#C7E01F\",\"#CAE01E\",\"#CDE01D\",\"#CFE11C\",\"#D2E11B\",\"#D4E11A\",\"#D7E219\",\"#DAE218\",\"#DCE218\",\"#DFE318\",\"#E1E318\",\"#E4E318\",\"#E7E419\",\"#E9E419\",\"#ECE41A\",\"#EEE51B\",\"#F1E51C\",\"#F3E51E\",\"#F6E61F\",\"#F8E621\",\"#FAE622\",\"#FDE724\"]}}}},\"nonselection_glyph\":{\"type\":\"object\",\"name\":\"Image\",\"id\":\"p1301\",\"attributes\":{\"x\":{\"type\":\"value\",\"value\":0},\"y\":{\"type\":\"value\",\"value\":0},\"dw\":{\"type\":\"value\",\"value\":10},\"dh\":{\"type\":\"value\",\"value\":10},\"global_alpha\":{\"type\":\"value\",\"value\":0.1},\"image\":{\"type\":\"field\",\"field\":\"image\"},\"color_mapper\":{\"type\":\"object\",\"name\":\"LinearColorMapper\",\"id\":\"p1302\",\"attributes\":{\"palette\":[\"#440154\",\"#440255\",\"#440357\",\"#450558\",\"#45065A\",\"#45085B\",\"#46095C\",\"#460B5E\",\"#460C5F\",\"#460E61\",\"#470F62\",\"#471163\",\"#471265\",\"#471466\",\"#471567\",\"#471669\",\"#47186A\",\"#48196B\",\"#481A6C\",\"#481C6E\",\"#481D6F\",\"#481E70\",\"#482071\",\"#482172\",\"#482273\",\"#482374\",\"#472575\",\"#472676\",\"#472777\",\"#472878\",\"#472A79\",\"#472B7A\",\"#472C7B\",\"#462D7C\",\"#462F7C\",\"#46307D\",\"#46317E\",\"#45327F\",\"#45347F\",\"#453580\",\"#453681\",\"#443781\",\"#443982\",\"#433A83\",\"#433B83\",\"#433C84\",\"#423D84\",\"#423E85\",\"#424085\",\"#414186\",\"#414286\",\"#404387\",\"#404487\",\"#3F4587\",\"#3F4788\",\"#3E4888\",\"#3E4989\",\"#3D4A89\",\"#3D4B89\",\"#3D4C89\",\"#3C4D8A\",\"#3C4E8A\",\"#3B508A\",\"#3B518A\",\"#3A528B\",\"#3A538B\",\"#39548B\",\"#39558B\",\"#38568B\",\"#38578C\",\"#37588C\",\"#37598C\",\"#365A8C\",\"#365B8C\",\"#355C8C\",\"#355D8C\",\"#345E8D\",\"#345F8D\",\"#33608D\",\"#33618D\",\"#32628D\",\"#32638D\",\"#31648D\",\"#31658D\",\"#31668D\",\"#30678D\",\"#30688D\",\"#2F698D\",\"#2F6A8D\",\"#2E6B8E\",\"#2E6C8E\",\"#2E6D8E\",\"#2D6E8E\",\"#2D6F8E\",\"#2C708E\",\"#2C718E\",\"#2C728E\",\"#2B738E\",\"#2B748E\",\"#2A758E\",\"#2A768E\",\"#2A778E\",\"#29788E\",\"#29798E\",\"#287A8E\",\"#287A8E\",\"#287B8E\",\"#277C8E\",\"#277D8E\",\"#277E8E\",\"#267F8E\",\"#26808E\",\"#26818E\",\"#25828E\",\"#25838D\",\"#24848D\",\"#24858D\",\"#24868D\",\"#23878D\",\"#23888D\",\"#23898D\",\"#22898D\",\"#228A8D\",\"#228B8D\",\"#218C8D\",\"#218D8C\",\"#218E8C\",\"#208F8C\",\"#20908C\",\"#20918C\",\"#1F928C\",\"#1F938B\",\"#1F948B\",\"#1F958B\",\"#1F968B\",\"#1E978A\",\"#1E988A\",\"#1E998A\",\"#1E998A\",\"#1E9A89\",\"#1E9B89\",\"#1E9C89\",\"#1E9D88\",\"#1E9E88\",\"#1E9F88\",\"#1EA087\",\"#1FA187\",\"#1FA286\",\"#1FA386\",\"#20A485\",\"#20A585\",\"#21A685\",\"#21A784\",\"#22A784\",\"#23A883\",\"#23A982\",\"#24AA82\",\"#25AB81\",\"#26AC81\",\"#27AD80\",\"#28AE7F\",\"#29AF7F\",\"#2AB07E\",\"#2BB17D\",\"#2CB17D\",\"#2EB27C\",\"#2FB37B\",\"#30B47A\",\"#32B57A\",\"#33B679\",\"#35B778\",\"#36B877\",\"#38B976\",\"#39B976\",\"#3BBA75\",\"#3DBB74\",\"#3EBC73\",\"#40BD72\",\"#42BE71\",\"#44BE70\",\"#45BF6F\",\"#47C06E\",\"#49C16D\",\"#4BC26C\",\"#4DC26B\",\"#4FC369\",\"#51C468\",\"#53C567\",\"#55C666\",\"#57C665\",\"#59C764\",\"#5BC862\",\"#5EC961\",\"#60C960\",\"#62CA5F\",\"#64CB5D\",\"#67CC5C\",\"#69CC5B\",\"#6BCD59\",\"#6DCE58\",\"#70CE56\",\"#72CF55\",\"#74D054\",\"#77D052\",\"#79D151\",\"#7CD24F\",\"#7ED24E\",\"#81D34C\",\"#83D34B\",\"#86D449\",\"#88D547\",\"#8BD546\",\"#8DD644\",\"#90D643\",\"#92D741\",\"#95D73F\",\"#97D83E\",\"#9AD83C\",\"#9DD93A\",\"#9FD938\",\"#A2DA37\",\"#A5DA35\",\"#A7DB33\",\"#AADB32\",\"#ADDC30\",\"#AFDC2E\",\"#B2DD2C\",\"#B5DD2B\",\"#B7DD29\",\"#BADE27\",\"#BDDE26\",\"#BFDF24\",\"#C2DF22\",\"#C5DF21\",\"#C7E01F\",\"#CAE01E\",\"#CDE01D\",\"#CFE11C\",\"#D2E11B\",\"#D4E11A\",\"#D7E219\",\"#DAE218\",\"#DCE218\",\"#DFE318\",\"#E1E318\",\"#E4E318\",\"#E7E419\",\"#E9E419\",\"#ECE41A\",\"#EEE51B\",\"#F1E51C\",\"#F3E51E\",\"#F6E61F\",\"#F8E621\",\"#FAE622\",\"#FDE724\"]}}}},\"muted_glyph\":{\"type\":\"object\",\"name\":\"Image\",\"id\":\"p1304\",\"attributes\":{\"x\":{\"type\":\"value\",\"value\":0},\"y\":{\"type\":\"value\",\"value\":0},\"dw\":{\"type\":\"value\",\"value\":10},\"dh\":{\"type\":\"value\",\"value\":10},\"global_alpha\":{\"type\":\"value\",\"value\":0.2},\"image\":{\"type\":\"field\",\"field\":\"image\"},\"color_mapper\":{\"type\":\"object\",\"name\":\"LinearColorMapper\",\"id\":\"p1305\",\"attributes\":{\"palette\":[\"#440154\",\"#440255\",\"#440357\",\"#450558\",\"#45065A\",\"#45085B\",\"#46095C\",\"#460B5E\",\"#460C5F\",\"#460E61\",\"#470F62\",\"#471163\",\"#471265\",\"#471466\",\"#471567\",\"#471669\",\"#47186A\",\"#48196B\",\"#481A6C\",\"#481C6E\",\"#481D6F\",\"#481E70\",\"#482071\",\"#482172\",\"#482273\",\"#482374\",\"#472575\",\"#472676\",\"#472777\",\"#472878\",\"#472A79\",\"#472B7A\",\"#472C7B\",\"#462D7C\",\"#462F7C\",\"#46307D\",\"#46317E\",\"#45327F\",\"#45347F\",\"#453580\",\"#453681\",\"#443781\",\"#443982\",\"#433A83\",\"#433B83\",\"#433C84\",\"#423D84\",\"#423E85\",\"#424085\",\"#414186\",\"#414286\",\"#404387\",\"#404487\",\"#3F4587\",\"#3F4788\",\"#3E4888\",\"#3E4989\",\"#3D4A89\",\"#3D4B89\",\"#3D4C89\",\"#3C4D8A\",\"#3C4E8A\",\"#3B508A\",\"#3B518A\",\"#3A528B\",\"#3A538B\",\"#39548B\",\"#39558B\",\"#38568B\",\"#38578C\",\"#37588C\",\"#37598C\",\"#365A8C\",\"#365B8C\",\"#355C8C\",\"#355D8C\",\"#345E8D\",\"#345F8D\",\"#33608D\",\"#33618D\",\"#32628D\",\"#32638D\",\"#31648D\",\"#31658D\",\"#31668D\",\"#30678D\",\"#30688D\",\"#2F698D\",\"#2F6A8D\",\"#2E6B8E\",\"#2E6C8E\",\"#2E6D8E\",\"#2D6E8E\",\"#2D6F8E\",\"#2C708E\",\"#2C718E\",\"#2C728E\",\"#2B738E\",\"#2B748E\",\"#2A758E\",\"#2A768E\",\"#2A778E\",\"#29788E\",\"#29798E\",\"#287A8E\",\"#287A8E\",\"#287B8E\",\"#277C8E\",\"#277D8E\",\"#277E8E\",\"#267F8E\",\"#26808E\",\"#26818E\",\"#25828E\",\"#25838D\",\"#24848D\",\"#24858D\",\"#24868D\",\"#23878D\",\"#23888D\",\"#23898D\",\"#22898D\",\"#228A8D\",\"#228B8D\",\"#218C8D\",\"#218D8C\",\"#218E8C\",\"#208F8C\",\"#20908C\",\"#20918C\",\"#1F928C\",\"#1F938B\",\"#1F948B\",\"#1F958B\",\"#1F968B\",\"#1E978A\",\"#1E988A\",\"#1E998A\",\"#1E998A\",\"#1E9A89\",\"#1E9B89\",\"#1E9C89\",\"#1E9D88\",\"#1E9E88\",\"#1E9F88\",\"#1EA087\",\"#1FA187\",\"#1FA286\",\"#1FA386\",\"#20A485\",\"#20A585\",\"#21A685\",\"#21A784\",\"#22A784\",\"#23A883\",\"#23A982\",\"#24AA82\",\"#25AB81\",\"#26AC81\",\"#27AD80\",\"#28AE7F\",\"#29AF7F\",\"#2AB07E\",\"#2BB17D\",\"#2CB17D\",\"#2EB27C\",\"#2FB37B\",\"#30B47A\",\"#32B57A\",\"#33B679\",\"#35B778\",\"#36B877\",\"#38B976\",\"#39B976\",\"#3BBA75\",\"#3DBB74\",\"#3EBC73\",\"#40BD72\",\"#42BE71\",\"#44BE70\",\"#45BF6F\",\"#47C06E\",\"#49C16D\",\"#4BC26C\",\"#4DC26B\",\"#4FC369\",\"#51C468\",\"#53C567\",\"#55C666\",\"#57C665\",\"#59C764\",\"#5BC862\",\"#5EC961\",\"#60C960\",\"#62CA5F\",\"#64CB5D\",\"#67CC5C\",\"#69CC5B\",\"#6BCD59\",\"#6DCE58\",\"#70CE56\",\"#72CF55\",\"#74D054\",\"#77D052\",\"#79D151\",\"#7CD24F\",\"#7ED24E\",\"#81D34C\",\"#83D34B\",\"#86D449\",\"#88D547\",\"#8BD546\",\"#8DD644\",\"#90D643\",\"#92D741\",\"#95D73F\",\"#97D83E\",\"#9AD83C\",\"#9DD93A\",\"#9FD938\",\"#A2DA37\",\"#A5DA35\",\"#A7DB33\",\"#AADB32\",\"#ADDC30\",\"#AFDC2E\",\"#B2DD2C\",\"#B5DD2B\",\"#B7DD29\",\"#BADE27\",\"#BDDE26\",\"#BFDF24\",\"#C2DF22\",\"#C5DF21\",\"#C7E01F\",\"#CAE01E\",\"#CDE01D\",\"#CFE11C\",\"#D2E11B\",\"#D4E11A\",\"#D7E219\",\"#DAE218\",\"#DCE218\",\"#DFE318\",\"#E1E318\",\"#E4E318\",\"#E7E419\",\"#E9E419\",\"#ECE41A\",\"#EEE51B\",\"#F1E51C\",\"#F3E51E\",\"#F6E61F\",\"#F8E621\",\"#FAE622\",\"#FDE724\"]}}}}}}],\"toolbar\":{\"type\":\"object\",\"name\":\"Toolbar\",\"id\":\"p1269\",\"attributes\":{\"tools\":[{\"type\":\"object\",\"name\":\"PanTool\",\"id\":\"p1282\"},{\"type\":\"object\",\"name\":\"WheelZoomTool\",\"id\":\"p1283\",\"attributes\":{\"renderers\":\"auto\"}},{\"type\":\"object\",\"name\":\"BoxZoomTool\",\"id\":\"p1284\",\"attributes\":{\"overlay\":{\"type\":\"object\",\"name\":\"BoxAnnotation\",\"id\":\"p1285\",\"attributes\":{\"syncable\":false,\"line_color\":\"black\",\"line_alpha\":1.0,\"line_width\":2,\"line_dash\":[4,4],\"fill_color\":\"lightgrey\",\"fill_alpha\":0.5,\"level\":\"overlay\",\"visible\":false,\"left\":{\"type\":\"number\",\"value\":\"nan\"},\"right\":{\"type\":\"number\",\"value\":\"nan\"},\"top\":{\"type\":\"number\",\"value\":\"nan\"},\"bottom\":{\"type\":\"number\",\"value\":\"nan\"},\"left_units\":\"canvas\",\"right_units\":\"canvas\",\"top_units\":\"canvas\",\"bottom_units\":\"canvas\",\"handles\":{\"type\":\"object\",\"name\":\"BoxInteractionHandles\",\"id\":\"p1291\",\"attributes\":{\"all\":{\"type\":\"object\",\"name\":\"AreaVisuals\",\"id\":\"p1290\",\"attributes\":{\"fill_color\":\"white\",\"hover_fill_color\":\"lightgray\"}}}}}}}},{\"type\":\"object\",\"name\":\"SaveTool\",\"id\":\"p1292\"},{\"type\":\"object\",\"name\":\"ResetTool\",\"id\":\"p1293\"},{\"type\":\"object\",\"name\":\"HelpTool\",\"id\":\"p1294\"}]}},\"left\":[{\"type\":\"object\",\"name\":\"LinearAxis\",\"id\":\"p1277\",\"attributes\":{\"ticker\":{\"type\":\"object\",\"name\":\"BasicTicker\",\"id\":\"p1278\",\"attributes\":{\"mantissas\":[1,2,5]}},\"formatter\":{\"type\":\"object\",\"name\":\"BasicTickFormatter\",\"id\":\"p1279\"},\"major_label_policy\":{\"type\":\"object\",\"name\":\"AllLabels\",\"id\":\"p1280\"}}}],\"below\":[{\"type\":\"object\",\"name\":\"LinearAxis\",\"id\":\"p1272\",\"attributes\":{\"ticker\":{\"type\":\"object\",\"name\":\"BasicTicker\",\"id\":\"p1273\",\"attributes\":{\"mantissas\":[1,2,5]}},\"formatter\":{\"type\":\"object\",\"name\":\"BasicTickFormatter\",\"id\":\"p1274\"},\"major_label_policy\":{\"type\":\"object\",\"name\":\"AllLabels\",\"id\":\"p1275\"}}}],\"center\":[{\"type\":\"object\",\"name\":\"Grid\",\"id\":\"p1276\",\"attributes\":{\"axis\":{\"id\":\"p1272\"}}},{\"type\":\"object\",\"name\":\"Grid\",\"id\":\"p1281\",\"attributes\":{\"dimension\":1,\"axis\":{\"id\":\"p1277\"}}}]}}]}};\n  const render_items = [{\"docid\":\"ac2ca01b-e030-4ec7-8e5a-efd2b8fdceea\",\"roots\":{\"p1261\":\"d57871cf-b47f-48e2-bac3-c569d85ceeb2\"},\"root_ids\":[\"p1261\"]}];\n  void root.Bokeh.embed.embed_items_notebook(docs_json, render_items);\n  }\n  if (root.Bokeh !== undefined) {\n    embed_document(root);\n  } else {\n    let attempts = 0;\n    const timer = setInterval(function(root) {\n      if (root.Bokeh !== undefined) {\n        clearInterval(timer);\n        embed_document(root);\n      } else {\n        attempts++;\n        if (attempts > 100) {\n          clearInterval(timer);\n          console.log(\"Bokeh: ERROR: Unable to run BokehJS code because BokehJS library is missing\");\n        }\n      }\n    }, 10, root)\n  }\n})(window);",
      "application/vnd.bokehjs_exec.v0+json": ""
     },
     "metadata": {
      "application/vnd.bokehjs_exec.v0+json": {
       "id": "p1261"
      }
     },
     "output_type": "display_data"
    }
   ],
   "source": [
    "P=figure()\n",
    "P.image(image=[Q[:39,:]], x=0, y=0, dw=10, dh=10, palette=\"Viridis256\")\n",
    "show(P)"
   ]
  },
  {
   "cell_type": "code",
   "execution_count": 78,
   "metadata": {},
   "outputs": [
    {
     "data": {
      "text/plain": [
       "array([-19.86618444, -19.84030689, -20.69784695, -19.87755421,\n",
       "       -19.81351517, -20.74429397, -20.53755746, -21.06480198,\n",
       "       -20.05844726, -19.9013108 , -19.80976229, -20.72545974,\n",
       "       -21.13951271, -19.56527843, -19.49597325, -19.99187079,\n",
       "       -19.92211519, -19.76784064, -19.79347632, -16.64321062])"
      ]
     },
     "execution_count": 78,
     "metadata": {},
     "output_type": "execute_result"
    }
   ],
   "source": [
    "Q[0,:]"
   ]
  },
  {
   "cell_type": "code",
   "execution_count": 79,
   "metadata": {},
   "outputs": [
    {
     "data": {
      "text/plain": [
       "array([-22.8082004 , -22.46162404, -23.17905792, -20.97909902,\n",
       "       -23.41100026, -22.33170111, -22.60006562, -22.9434552 ,\n",
       "       -22.39625365, -23.0121246 , -22.58914192, -23.42391903,\n",
       "       -23.02518558, -21.90914329, -23.22175304, -22.45675453,\n",
       "       -22.18352964, -21.93512264, -22.32509689, -16.72034944])"
      ]
     },
     "execution_count": 79,
     "metadata": {},
     "output_type": "execute_result"
    }
   ],
   "source": [
    "Q[1,:]"
   ]
  },
  {
   "cell_type": "code",
   "execution_count": 90,
   "metadata": {},
   "outputs": [
    {
     "data": {
      "text/html": [
       "\n",
       "  <div id=\"c0a532b2-30af-47a0-81b8-52cec1ff9efc\" data-root-id=\"p1742\" style=\"display: contents;\"></div>\n"
      ]
     },
     "metadata": {},
     "output_type": "display_data"
    },
    {
     "data": {
      "application/javascript": "(function(root) {\n  function embed_document(root) {\n  const docs_json = {\"742dac47-8730-4d31-9a85-b38cc8ae489a\":{\"version\":\"3.6.0\",\"title\":\"Bokeh Application\",\"roots\":[{\"type\":\"object\",\"name\":\"Figure\",\"id\":\"p1742\",\"attributes\":{\"x_range\":{\"type\":\"object\",\"name\":\"DataRange1d\",\"id\":\"p1743\"},\"y_range\":{\"type\":\"object\",\"name\":\"DataRange1d\",\"id\":\"p1744\"},\"x_scale\":{\"type\":\"object\",\"name\":\"LinearScale\",\"id\":\"p1751\"},\"y_scale\":{\"type\":\"object\",\"name\":\"LinearScale\",\"id\":\"p1752\"},\"title\":{\"type\":\"object\",\"name\":\"Title\",\"id\":\"p1749\"},\"renderers\":[{\"type\":\"object\",\"name\":\"GlyphRenderer\",\"id\":\"p1782\",\"attributes\":{\"data_source\":{\"type\":\"object\",\"name\":\"ColumnDataSource\",\"id\":\"p1776\",\"attributes\":{\"selected\":{\"type\":\"object\",\"name\":\"Selection\",\"id\":\"p1777\",\"attributes\":{\"indices\":[],\"line_indices\":[]}},\"selection_policy\":{\"type\":\"object\",\"name\":\"UnionRenderers\",\"id\":\"p1778\"},\"data\":{\"type\":\"map\",\"entries\":[[\"x\",[0,1,2,3,4,5,6,7,8,9,10,11,12,13,14,15,16,17,18,19]],[\"y\",{\"type\":\"ndarray\",\"array\":{\"type\":\"bytes\",\"data\":\"/xVMu+Q7MsBNK4dwN8UywN6dYILsfjLAblaTJiD2M8DiQfxCUR8ywGm/8oUmKDPALgHEELChMsAl/IsE3OQywNo8957FHTPAfxpcas8cM8BZPVQlgWcywJAg1CtWQzLA9bSYMEOsMsB6i2hAVOMywAoliCaVqjPAVj4rdnSbMsCAZCuuT6QywLsiDpE44TLAOGtFJs20K8C3gJ7VKIQywA==\"},\"shape\":[20],\"dtype\":\"float64\",\"order\":\"little\"}]]}}},\"view\":{\"type\":\"object\",\"name\":\"CDSView\",\"id\":\"p1783\",\"attributes\":{\"filter\":{\"type\":\"object\",\"name\":\"AllIndices\",\"id\":\"p1784\"}}},\"glyph\":{\"type\":\"object\",\"name\":\"Line\",\"id\":\"p1779\",\"attributes\":{\"x\":{\"type\":\"field\",\"field\":\"x\"},\"y\":{\"type\":\"field\",\"field\":\"y\"},\"line_color\":\"#1f77b4\"}},\"nonselection_glyph\":{\"type\":\"object\",\"name\":\"Line\",\"id\":\"p1780\",\"attributes\":{\"x\":{\"type\":\"field\",\"field\":\"x\"},\"y\":{\"type\":\"field\",\"field\":\"y\"},\"line_color\":\"#1f77b4\",\"line_alpha\":0.1}},\"muted_glyph\":{\"type\":\"object\",\"name\":\"Line\",\"id\":\"p1781\",\"attributes\":{\"x\":{\"type\":\"field\",\"field\":\"x\"},\"y\":{\"type\":\"field\",\"field\":\"y\"},\"line_color\":\"#1f77b4\",\"line_alpha\":0.2}}}}],\"toolbar\":{\"type\":\"object\",\"name\":\"Toolbar\",\"id\":\"p1750\",\"attributes\":{\"tools\":[{\"type\":\"object\",\"name\":\"PanTool\",\"id\":\"p1763\"},{\"type\":\"object\",\"name\":\"WheelZoomTool\",\"id\":\"p1764\",\"attributes\":{\"renderers\":\"auto\"}},{\"type\":\"object\",\"name\":\"BoxZoomTool\",\"id\":\"p1765\",\"attributes\":{\"overlay\":{\"type\":\"object\",\"name\":\"BoxAnnotation\",\"id\":\"p1766\",\"attributes\":{\"syncable\":false,\"line_color\":\"black\",\"line_alpha\":1.0,\"line_width\":2,\"line_dash\":[4,4],\"fill_color\":\"lightgrey\",\"fill_alpha\":0.5,\"level\":\"overlay\",\"visible\":false,\"left\":{\"type\":\"number\",\"value\":\"nan\"},\"right\":{\"type\":\"number\",\"value\":\"nan\"},\"top\":{\"type\":\"number\",\"value\":\"nan\"},\"bottom\":{\"type\":\"number\",\"value\":\"nan\"},\"left_units\":\"canvas\",\"right_units\":\"canvas\",\"top_units\":\"canvas\",\"bottom_units\":\"canvas\",\"handles\":{\"type\":\"object\",\"name\":\"BoxInteractionHandles\",\"id\":\"p1772\",\"attributes\":{\"all\":{\"type\":\"object\",\"name\":\"AreaVisuals\",\"id\":\"p1771\",\"attributes\":{\"fill_color\":\"white\",\"hover_fill_color\":\"lightgray\"}}}}}}}},{\"type\":\"object\",\"name\":\"SaveTool\",\"id\":\"p1773\"},{\"type\":\"object\",\"name\":\"ResetTool\",\"id\":\"p1774\"},{\"type\":\"object\",\"name\":\"HelpTool\",\"id\":\"p1775\"}]}},\"left\":[{\"type\":\"object\",\"name\":\"LinearAxis\",\"id\":\"p1758\",\"attributes\":{\"ticker\":{\"type\":\"object\",\"name\":\"BasicTicker\",\"id\":\"p1759\",\"attributes\":{\"mantissas\":[1,2,5]}},\"formatter\":{\"type\":\"object\",\"name\":\"BasicTickFormatter\",\"id\":\"p1760\"},\"major_label_policy\":{\"type\":\"object\",\"name\":\"AllLabels\",\"id\":\"p1761\"}}}],\"below\":[{\"type\":\"object\",\"name\":\"LinearAxis\",\"id\":\"p1753\",\"attributes\":{\"ticker\":{\"type\":\"object\",\"name\":\"BasicTicker\",\"id\":\"p1754\",\"attributes\":{\"mantissas\":[1,2,5]}},\"formatter\":{\"type\":\"object\",\"name\":\"BasicTickFormatter\",\"id\":\"p1755\"},\"major_label_policy\":{\"type\":\"object\",\"name\":\"AllLabels\",\"id\":\"p1756\"}}}],\"center\":[{\"type\":\"object\",\"name\":\"Grid\",\"id\":\"p1757\",\"attributes\":{\"axis\":{\"id\":\"p1753\"}}},{\"type\":\"object\",\"name\":\"Grid\",\"id\":\"p1762\",\"attributes\":{\"dimension\":1,\"axis\":{\"id\":\"p1758\"}}}]}}]}};\n  const render_items = [{\"docid\":\"742dac47-8730-4d31-9a85-b38cc8ae489a\",\"roots\":{\"p1742\":\"c0a532b2-30af-47a0-81b8-52cec1ff9efc\"},\"root_ids\":[\"p1742\"]}];\n  void root.Bokeh.embed.embed_items_notebook(docs_json, render_items);\n  }\n  if (root.Bokeh !== undefined) {\n    embed_document(root);\n  } else {\n    let attempts = 0;\n    const timer = setInterval(function(root) {\n      if (root.Bokeh !== undefined) {\n        clearInterval(timer);\n        embed_document(root);\n      } else {\n        attempts++;\n        if (attempts > 100) {\n          clearInterval(timer);\n          console.log(\"Bokeh: ERROR: Unable to run BokehJS code because BokehJS library is missing\");\n        }\n      }\n    }, 10, root)\n  }\n})(window);",
      "application/vnd.bokehjs_exec.v0+json": ""
     },
     "metadata": {
      "application/vnd.bokehjs_exec.v0+json": {
       "id": "p1742"
      }
     },
     "output_type": "display_data"
    }
   ],
   "source": [
    "F=figure()\n",
    "F.line(list(range(20)),Q[8,:])\n",
    "show(F)"
   ]
  },
  {
   "cell_type": "code",
   "execution_count": 91,
   "metadata": {},
   "outputs": [
    {
     "data": {
      "text/plain": [
       "array([19, 19, 17, 17,  5, 19, 17, 10, 18, 14,  9,  5,  5,  9, 15, 16, 17,\n",
       "       10,  9, 10, 16,  6, 10,  2,  9,  5,  3,  7, 10,  3,  5,  4, 15,  7,\n",
       "        4, 18, 17,  3,  0,  0,  0,  0,  0,  0,  0,  0,  0,  0,  0,  0,  0,\n",
       "        0,  0,  0,  0,  0,  0,  0,  0,  0,  0,  0,  0,  0,  0,  0,  0,  0,\n",
       "        0,  0,  0,  0,  0,  0,  0,  0,  0,  0,  0,  0,  0,  0,  0,  0,  0,\n",
       "        0,  0,  0,  0,  0,  0,  0,  0,  0,  0,  0,  0,  0,  0,  0])"
      ]
     },
     "execution_count": 91,
     "metadata": {},
     "output_type": "execute_result"
    }
   ],
   "source": [
    "np.argmax(Q,axis=1)"
   ]
  },
  {
   "cell_type": "code",
   "execution_count": 92,
   "metadata": {},
   "outputs": [
    {
     "data": {
      "text/plain": [
       "array([17, 19, 23, 29, 31, 12, 21, 27, 14, 18, 19, 19, 16, 20,  9, 14, 20,\n",
       "       16,  8,  5])"
      ]
     },
     "execution_count": 92,
     "metadata": {},
     "output_type": "execute_result"
    }
   ],
   "source": [
    "np.argmax(Q,axis=0)"
   ]
  },
  {
   "cell_type": "code",
   "execution_count": 100,
   "metadata": {},
   "outputs": [],
   "source": [
    "Q = np.load(\"2025-01-24_12-21-38/q_table.npy\")"
   ]
  },
  {
   "cell_type": "code",
   "execution_count": 101,
   "metadata": {},
   "outputs": [
    {
     "data": {
      "text/plain": [
       "array([[-11.60741575, -10.93626684, -11.68364191, -10.81281561,\n",
       "        -10.30181208, -10.76432595, -10.18715027, -10.77295255,\n",
       "        -10.50652254, -10.63019925, -10.77251883, -11.30156084,\n",
       "        -11.41886206, -10.20035173, -11.4758572 , -12.52459861,\n",
       "         -8.01368748, -10.22735897, -10.71142919, -12.34320111],\n",
       "       [-10.97564889, -11.94434326, -11.39214715, -11.75889507,\n",
       "        -11.32161953, -11.18182228, -10.74750378, -10.95805149,\n",
       "        -11.44492309, -11.57446525, -11.65824873, -11.61398627,\n",
       "        -11.03873755, -11.46700264, -10.85440283,  -6.89999869,\n",
       "        -11.15545905, -11.09308018, -11.0308812 , -11.52258399],\n",
       "       [-10.97187517, -11.50680511, -10.90289032, -10.35319426,\n",
       "         -6.61751693, -10.72796101, -11.92930102,  -9.79143065,\n",
       "        -11.80499677, -10.91767862, -10.60934165, -10.89495147,\n",
       "        -10.47955531, -10.77703888, -10.5828977 , -14.08577993,\n",
       "        -10.94738624, -11.25431919, -11.00836375, -10.61185019],\n",
       "       [-10.48345467, -10.61322007, -10.62970558, -10.57141716,\n",
       "        -10.37306797, -10.60216381,  -9.92712084, -10.67070131,\n",
       "         -9.96516741, -10.96145019, -10.6432134 , -10.11417437,\n",
       "        -10.45267472,  -6.01529834, -10.08931795, -10.26681172,\n",
       "        -11.27448231, -10.39809944, -10.40694879, -10.1785452 ],\n",
       "       [ -9.83587103,  -9.89084891,  -9.75940193,  -9.32072928,\n",
       "         -9.58256551, -10.55132905,  -9.66392127,  -9.54835581,\n",
       "         -9.66569976,  -9.55226256,  -9.79606749,  -9.79438995,\n",
       "         -9.21367967,  -5.70000069,  -9.07047868,  -9.49062514,\n",
       "         -9.1576859 ,  -9.52596723,  -9.35202552,  -9.21027839],\n",
       "       [ -8.47411945,  -8.76063312,  -9.38980748,  -9.18324499,\n",
       "         -8.49992819,  -5.75420519,  -9.87168111,  -8.64481405,\n",
       "         -8.84443756,  -9.59690619,  -8.83118213,  -8.299909  ,\n",
       "         -8.94758212,  -9.4480566 ,  -8.72076427,  -9.44794104,\n",
       "         -8.4412737 ,  -8.782188  ,  -8.55212388,  -8.63281649],\n",
       "       [ -9.08137412,  -8.08556553,  -8.05506858,  -8.32368164,\n",
       "         -7.97882077,  -8.13139934,  -8.58806001,  -7.87881134,\n",
       "         -8.28664288,  -7.44002488,  -9.10576145,  -8.16503762,\n",
       "         -8.24911017,  -8.57926606,  -9.34944772,  -8.37332864,\n",
       "         -8.22654095,  -8.334039  ,  -5.21042155,  -8.60607466],\n",
       "       [ -7.90469463,  -8.30535674,  -8.3104308 ,  -7.73716357,\n",
       "         -7.67037111,  -8.2378606 ,  -8.39493649,  -9.06331847,\n",
       "         -8.04824215,  -8.08803736,  -7.8525592 ,  -8.10456815,\n",
       "         -8.03019346,  -8.01720515,  -8.020595  ,  -8.48508892,\n",
       "         -4.50607673,  -8.8689545 ,  -8.08998142,  -7.60931539],\n",
       "       [ -7.69852407,  -7.90425608,  -7.82119574,  -7.42474014,\n",
       "         -7.98054105,  -7.81633166,  -7.56573086,  -7.74184558,\n",
       "         -7.72091854,  -7.12749532,  -7.10128716,  -7.80377566,\n",
       "         -7.56929793,  -7.68153523,  -4.19655507,  -7.68364767,\n",
       "         -7.69794371,  -7.42267155,  -7.42395522,  -7.75747677],\n",
       "       [ -7.46277485,  -6.98311437,  -7.13647814,  -7.63911132,\n",
       "         -7.79029945,  -6.63486465,  -7.7714522 ,  -6.48849985,\n",
       "         -7.10883691,  -7.36285715,  -6.94677723,  -6.72827593,\n",
       "         -6.65531853,  -4.04608665,  -6.63505149,  -7.04299282,\n",
       "         -7.72544713,  -6.97660617,  -6.97153908,  -7.18587038],\n",
       "       [ -6.63598193,  -6.68435708,  -7.70989864,  -6.70964484,\n",
       "         -6.56333616,  -6.9376107 ,  -6.57679403,  -6.48449805,\n",
       "         -6.69175497,  -6.45504795,  -6.40647394,  -6.81165754,\n",
       "         -7.32246827,  -6.35773846,  -6.88274998,  -6.42370403,\n",
       "         -3.72636403,  -7.53770018,  -7.4187867 ,  -6.94484594],\n",
       "       [ -6.46869918,  -6.49490933,  -6.24433038,  -6.34494026,\n",
       "         -6.3020451 ,  -6.24994737,  -6.65207214,  -5.9657245 ,\n",
       "         -6.73869437,  -6.56954592,  -6.51748988,  -6.40267372,\n",
       "         -7.25316947,  -6.67360596,  -6.40818201,  -6.73717018,\n",
       "         -6.92446792,  -6.21368292,  -6.6088099 ,  -3.94019598],\n",
       "       [ -6.20609725,  -6.04717892,  -6.99886707,  -6.71241983,\n",
       "         -6.07631012,  -6.35669617,  -6.5328095 ,  -6.12248698,\n",
       "         -6.12645288,  -6.12545871,  -5.94454929,  -6.41682244,\n",
       "         -6.61797378,  -6.17081937,  -6.18140356,  -6.1808931 ,\n",
       "         -6.22503407,  -6.95671472,  -3.54569269,  -6.06490938],\n",
       "       [ -6.4932457 ,  -5.86896075,  -6.50077596,  -5.71131758,\n",
       "         -6.14269654,  -5.92731989,  -6.32278364,  -6.30944284,\n",
       "         -5.92340164,  -5.71693755,  -5.96378422,  -6.63003729,\n",
       "         -6.39183798,  -5.77967792,  -5.77461824,  -5.80550904,\n",
       "         -5.90283721,  -5.65027669,  -3.30104461,  -5.7520641 ],\n",
       "       [ -5.52144956,  -5.70469626,  -5.60593629,  -5.81233786,\n",
       "         -6.10219409,  -5.49868444,  -5.55044144,  -5.50629181,\n",
       "         -3.51163384,  -5.45042112,  -5.75516481,  -5.99639224,\n",
       "         -5.6233552 ,  -5.73513939,  -5.4745055 ,  -5.72294322,\n",
       "         -5.73870198,  -5.60619705,  -5.5599194 ,  -5.58198406],\n",
       "       [ -5.64813272,  -5.94325803,  -5.5110497 ,  -6.11870443,\n",
       "         -5.35342208,  -5.48683884,  -5.73497418,  -5.57650351,\n",
       "         -6.09073897,  -5.60889208,  -6.06599933,  -6.28934851,\n",
       "         -5.66619306,  -5.60992174,  -5.24821887,  -6.2777332 ,\n",
       "         -6.0477457 ,  -5.91419445,  -3.47007882,  -5.83367453],\n",
       "       [ -5.72079825,  -5.48960728,  -5.873235  ,  -5.86046903,\n",
       "         -5.721116  ,  -5.7503664 ,  -5.49112652,  -5.64960455,\n",
       "         -6.28330532,  -5.51772126,  -5.79989041,  -5.55672538,\n",
       "         -5.48093539,  -5.69214764,  -5.42911072,  -3.13640843,\n",
       "         -5.37963659,  -5.6136491 ,  -5.90013548,  -6.31361183],\n",
       "       [ -5.1108494 ,  -5.5100871 ,  -5.00080264,  -5.41085796,\n",
       "         -5.39646113,  -5.95467415,  -5.48053203,  -6.10822099,\n",
       "         -5.29132351,  -5.21755493,  -5.57778457,  -5.56594553,\n",
       "         -5.86593799,  -6.40529092,  -3.80487332,  -6.56521674,\n",
       "         -6.61496038,  -5.22263842,  -5.7826348 ,  -5.27268883],\n",
       "       [ -5.35479303,  -5.18111783,  -5.24374745,  -5.0877143 ,\n",
       "         -5.19644096,  -5.24692008,  -5.51853204,  -5.7502587 ,\n",
       "         -5.26701464,  -5.25040596,  -5.57417344,  -3.62635032,\n",
       "         -6.08041828,  -5.15663772,  -5.57129589,  -5.30683949,\n",
       "         -5.0309511 ,  -5.01030032,  -5.48147294,  -6.15729637],\n",
       "       [ -5.27564237,  -6.23001732,  -5.65403254,  -5.46571019,\n",
       "         -5.01669911,  -5.16269089,  -5.31364719,  -5.0635474 ,\n",
       "         -5.17878922,  -5.12025084,  -5.07739052,  -5.64639997,\n",
       "         -5.53542257,  -5.03575822,  -5.31720663,  -3.76238599,\n",
       "         -5.0790003 ,  -5.59422133,  -6.32837685,  -5.1221111 ],\n",
       "       [ -5.36177368,  -5.33923642,  -5.57940627,  -5.86252991,\n",
       "         -5.1563053 ,  -5.07485107,  -5.31045225,  -3.35759482,\n",
       "         -4.95744959,  -5.37652265,  -5.56134886,  -5.24533047,\n",
       "         -5.53024377,  -5.17959688,  -5.32409751,  -5.22124715,\n",
       "         -4.83488755,  -5.3343708 ,  -6.11214927,  -5.05662438],\n",
       "       [ -5.44929625,  -5.30846394,  -5.02519689,  -5.87902607,\n",
       "         -5.13981418,  -5.52615403,  -4.97375084,  -6.17998443,\n",
       "         -4.91751696,  -5.61117269,  -5.50501111,  -5.01000148,\n",
       "         -5.18787841,  -5.65702746,  -4.98429073,  -3.84425471,\n",
       "         -6.59028103,  -5.14765431,  -5.14874547,  -5.73038931],\n",
       "       [ -5.55583601,  -5.98085833,  -5.52988602,  -5.55454098,\n",
       "         -5.56880153,  -5.27924845,  -5.50698235,  -5.64262971,\n",
       "         -5.4409622 ,  -5.51886593,  -5.47474615,  -5.57571146,\n",
       "         -5.26102789,  -5.37064072,  -5.46310291,  -3.6690782 ,\n",
       "         -5.73601543,  -5.32467776,  -6.42581849,  -5.48192504],\n",
       "       [ -5.37923748,  -6.06727186,  -6.86062738,  -5.51308765,\n",
       "         -6.19895737,  -5.64534019,  -3.63884956,  -5.65265923,\n",
       "         -5.52106883,  -5.50342525,  -6.10775531,  -5.44206993,\n",
       "         -5.91317983,  -5.49983451,  -5.52991812,  -5.53045282,\n",
       "         -5.39362766,  -5.82982185,  -5.99145143,  -5.86990047],\n",
       "       [ -5.87710144,  -5.76041654,  -5.93814677,  -6.30527236,\n",
       "         -6.70093827,  -6.97176888,  -5.9342369 ,  -5.85417742,\n",
       "         -6.29904108,  -5.87791423,  -5.5996141 ,  -5.70192857,\n",
       "         -6.13427309,  -5.77114585,  -4.07776475,  -5.6235038 ,\n",
       "         -5.69986262,  -6.0041715 ,  -5.57931169,  -6.02404766],\n",
       "       [ -5.89847709,  -5.76655579,  -6.24421383,  -8.39427467,\n",
       "         -6.44319521,  -6.05398043,  -5.75852486,  -5.67672153,\n",
       "         -6.53647357,  -5.9618574 ,  -5.89195704,  -6.02618426,\n",
       "         -6.2451594 ,  -6.20623275,  -6.11302802,  -5.85665705,\n",
       "         -5.84406908,  -4.17838273,  -5.9533205 ,  -6.24467147],\n",
       "       [ -6.90161045,  -7.21598492,  -6.65433992,  -6.49880877,\n",
       "         -6.80722356,  -7.95352675,  -6.3432287 ,  -6.73390764,\n",
       "         -4.41948212,  -6.98030328,  -6.67266047,  -6.37413433,\n",
       "         -6.55469585,  -6.27966492,  -6.65379783,  -7.2706491 ,\n",
       "         -6.3980732 ,  -6.51037284,  -6.47219924,  -6.44405039],\n",
       "       [ -7.04176635,  -7.5292749 ,  -7.29087137,  -4.60220138,\n",
       "         -7.30911176,  -7.62726019,  -6.82780479,  -7.07723225,\n",
       "         -7.06394589,  -6.98265949,  -6.39568118,  -6.75368235,\n",
       "         -7.28180757,  -6.69509641,  -6.28231867,  -6.8157624 ,\n",
       "         -7.9149995 ,  -7.2881954 ,  -6.31182422,  -6.96495578],\n",
       "       [ -7.6217555 ,  -7.64245358,  -7.42956838,  -7.00276904,\n",
       "         -7.68494307,  -7.21982453,  -7.59960324,  -6.96810105,\n",
       "         -7.08938131,  -7.17563891,  -6.91620496,  -6.73887577,\n",
       "         -7.94309072,  -7.37880782,  -7.9308025 ,  -4.73136656,\n",
       "         -7.03701913,  -7.06678618,  -7.42720841,  -6.95629944],\n",
       "       [ -8.70395398,  -7.75496595,  -7.8526356 ,  -7.96758171,\n",
       "         -8.1507097 ,  -7.40921984,  -7.33759468,  -5.39063287,\n",
       "         -7.85594221,  -7.59960852,  -7.37367289,  -8.34728602,\n",
       "         -7.30483792,  -7.94239227,  -8.22759495,  -7.80146595,\n",
       "         -7.70864591,  -8.11079764,  -7.96354493,  -7.16545053],\n",
       "       [ -5.82721902,  -8.27439808,  -7.94669378,  -8.23128863,\n",
       "         -8.23206058,  -8.39858936,  -8.48079481,  -8.3873855 ,\n",
       "         -8.097478  ,  -8.02617859,  -8.712687  ,  -8.2296317 ,\n",
       "         -7.88383198,  -8.13644629,  -8.18503793,  -8.16496054,\n",
       "         -8.00466281,  -8.43398678,  -8.30658962,  -8.33239052],\n",
       "       [ -8.2622641 ,  -8.11615646,  -8.76259457,  -8.43722884,\n",
       "         -6.04950477,  -8.32027298,  -8.79418763,  -8.95237816,\n",
       "         -8.32675869,  -9.33287934,  -8.32032295,  -8.40468076,\n",
       "         -9.06452762,  -9.47947291,  -8.30853105,  -8.54698739,\n",
       "         -7.9796171 ,  -7.9174045 ,  -8.90752398,  -9.05325159],\n",
       "       [-10.24043564,  -9.45918998, -10.06501799,  -9.67223669,\n",
       "         -9.70168656,  -8.91367076,  -8.98355459,  -9.31671238,\n",
       "        -12.15609156,  -9.61114939, -10.28911542,  -9.79257567,\n",
       "         -9.49795475,  -9.43143345, -10.1045497 ,  -6.76436884,\n",
       "         -9.60253637,  -9.43841159,  -9.21435454,  -9.89058622],\n",
       "       [-10.08977272,  -9.41877941,  -9.63470216,  -9.56430471,\n",
       "         -7.48904334, -10.44561212, -10.3807911 ,  -9.86999478,\n",
       "         -9.86891828,  -9.79448359,  -9.82246883,  -9.49353668,\n",
       "         -9.50851415,  -9.64232348,  -9.56599301,  -9.55372171,\n",
       "        -10.38883632,  -9.96959251, -10.73061145, -10.48103368],\n",
       "       [-10.06284614, -10.12357941, -11.15891422,  -7.65761442,\n",
       "        -10.22022182, -10.47158787, -10.38121346, -10.06557913,\n",
       "        -10.09736551,  -9.60270095, -10.12446079, -10.28951798,\n",
       "        -10.74141625, -10.67799836, -10.4147559 , -10.70218288,\n",
       "        -11.20269492,  -9.88200592, -10.56107167, -11.64042283],\n",
       "       [-11.9537355 , -10.28740762,  -8.19700129, -11.05155454,\n",
       "        -11.2780352 , -11.12886098, -10.18351443, -11.46927002,\n",
       "        -11.3245466 , -11.06058658, -10.35128532, -12.18170719,\n",
       "        -10.78807369, -10.38591418, -11.13227993, -11.22837313,\n",
       "        -10.70995494, -10.55943932, -11.23304749, -10.74116609],\n",
       "       [-12.04986107, -11.93313655, -11.23389816,  -8.2123016 ,\n",
       "        -11.99620367, -11.84795368, -12.21969064, -11.87664977,\n",
       "        -12.10559194, -12.03342596, -11.64193956, -11.67472816,\n",
       "        -11.85844887, -11.96018515, -11.7756946 , -12.89074444,\n",
       "        -12.15484793, -12.7090662 , -12.1281197 , -12.13796694],\n",
       "       [-12.93377596, -11.90434671, -12.13562206,  -9.49917862,\n",
       "        -12.11125163, -12.16499663, -12.24457452, -11.79726813,\n",
       "        -11.6790861 , -11.7901466 , -12.67091257, -11.90362773,\n",
       "        -12.17996621, -11.41136689, -12.05877576, -11.4946082 ,\n",
       "        -12.29866173, -12.45067836, -15.4602629 , -12.62691493],\n",
       "       [-12.57934704, -12.67007091, -12.29996525, -12.28381464,\n",
       "        -12.09380178,  -9.60782929, -12.28147446, -14.19656269,\n",
       "        -12.90909983, -14.0071427 , -13.50405883, -12.53746261,\n",
       "        -12.10118868, -12.1894686 , -11.84789344, -13.09465576,\n",
       "        -12.10156119, -12.28926355, -12.30634197, -13.4488998 ],\n",
       "       [-50.        , -50.        , -50.        , -50.        ,\n",
       "        -50.        , -50.        , -50.        , -50.        ,\n",
       "        -50.        , -50.        , -50.        , -50.        ,\n",
       "        -50.        , -50.        , -50.        , -50.        ,\n",
       "        -50.        , -50.        , -50.        , -50.        ]])"
      ]
     },
     "execution_count": 101,
     "metadata": {},
     "output_type": "execute_result"
    }
   ],
   "source": [
    "Q"
   ]
  },
  {
   "cell_type": "code",
   "execution_count": 102,
   "metadata": {},
   "outputs": [
    {
     "data": {
      "text/plain": [
       "array([-11.60741575, -10.93626684, -11.68364191, -10.81281561,\n",
       "       -10.30181208, -10.76432595, -10.18715027, -10.77295255,\n",
       "       -10.50652254, -10.63019925, -10.77251883, -11.30156084,\n",
       "       -11.41886206, -10.20035173, -11.4758572 , -12.52459861,\n",
       "        -8.01368748, -10.22735897, -10.71142919, -12.34320111])"
      ]
     },
     "execution_count": 102,
     "metadata": {},
     "output_type": "execute_result"
    }
   ],
   "source": [
    "Q[0,:]"
   ]
  },
  {
   "cell_type": "code",
   "execution_count": 103,
   "metadata": {},
   "outputs": [
    {
     "data": {
      "text/plain": [
       "array([-10.97564889, -11.94434326, -11.39214715, -11.75889507,\n",
       "       -11.32161953, -11.18182228, -10.74750378, -10.95805149,\n",
       "       -11.44492309, -11.57446525, -11.65824873, -11.61398627,\n",
       "       -11.03873755, -11.46700264, -10.85440283,  -6.89999869,\n",
       "       -11.15545905, -11.09308018, -11.0308812 , -11.52258399])"
      ]
     },
     "execution_count": 103,
     "metadata": {},
     "output_type": "execute_result"
    }
   ],
   "source": [
    "Q[1,:]"
   ]
  },
  {
   "cell_type": "code",
   "execution_count": 104,
   "metadata": {},
   "outputs": [
    {
     "data": {
      "text/plain": [
       "array([16, 15,  4, 13, 13,  5, 18, 16, 14, 13, 16, 19, 18, 18,  8, 18, 15,\n",
       "       14, 11, 15,  7, 15, 15,  6, 14, 17,  8,  3, 15,  7,  0,  4, 15,  4,\n",
       "        3,  2,  3,  3,  5,  0])"
      ]
     },
     "execution_count": 104,
     "metadata": {},
     "output_type": "execute_result"
    }
   ],
   "source": [
    "np.argmax(Q,axis=1)"
   ]
  },
  {
   "cell_type": "code",
   "execution_count": 113,
   "metadata": {},
   "outputs": [
    {
     "name": "stderr",
     "output_type": "stream",
     "text": [
      "BokehUserWarning: ColumnDataSource's columns must be of the same length. Current lengths: ('x', 39), ('y', 40)\n"
     ]
    },
    {
     "data": {
      "text/html": [
       "\n",
       "  <div id=\"d83986aa-5187-4eac-a96b-8b28100c98c4\" data-root-id=\"p2010\" style=\"display: contents;\"></div>\n"
      ]
     },
     "metadata": {},
     "output_type": "display_data"
    },
    {
     "data": {
      "application/javascript": "(function(root) {\n  function embed_document(root) {\n  const docs_json = {\"515b1ec3-678c-44ee-8f56-be4d6fd92596\":{\"version\":\"3.6.0\",\"title\":\"Bokeh Application\",\"roots\":[{\"type\":\"object\",\"name\":\"Figure\",\"id\":\"p2010\",\"attributes\":{\"x_range\":{\"type\":\"object\",\"name\":\"DataRange1d\",\"id\":\"p2011\"},\"y_range\":{\"type\":\"object\",\"name\":\"DataRange1d\",\"id\":\"p2012\"},\"x_scale\":{\"type\":\"object\",\"name\":\"LinearScale\",\"id\":\"p2019\"},\"y_scale\":{\"type\":\"object\",\"name\":\"LinearScale\",\"id\":\"p2020\"},\"title\":{\"type\":\"object\",\"name\":\"Title\",\"id\":\"p2017\"},\"renderers\":[{\"type\":\"object\",\"name\":\"GlyphRenderer\",\"id\":\"p2050\",\"attributes\":{\"data_source\":{\"type\":\"object\",\"name\":\"ColumnDataSource\",\"id\":\"p2044\",\"attributes\":{\"selected\":{\"type\":\"object\",\"name\":\"Selection\",\"id\":\"p2045\",\"attributes\":{\"indices\":[],\"line_indices\":[]}},\"selection_policy\":{\"type\":\"object\",\"name\":\"UnionRenderers\",\"id\":\"p2046\"},\"data\":{\"type\":\"map\",\"entries\":[[\"x\",[0,1,2,3,4,5,6,7,8,9,10,11,12,13,14,15,16,17,18,19,20,21,22,23,24,25,26,27,28,29,30,31,32,33,34,35,36,37,38]],[\"y\",{\"type\":\"ndarray\",\"array\":{\"type\":\"bytes\",\"data\":\"EwAAAA0AAAASAAAABAAAAAkAAAASAAAADAAAABEAAAAKAAAADwAAAAwAAAARAAAAEQAAAA8AAAADAAAACgAAAAgAAAAPAAAACAAAAA0AAAAJAAAACAAAAAEAAAACAAAACAAAAAUAAAAPAAAADgAAAAAAAAAQAAAAAAAAAAsAAAAHAAAAEwAAAAoAAAAHAAAACQAAAAYAAAAEAAAAAAAAAA==\"},\"shape\":[40],\"dtype\":\"int32\",\"order\":\"little\"}]]}}},\"view\":{\"type\":\"object\",\"name\":\"CDSView\",\"id\":\"p2051\",\"attributes\":{\"filter\":{\"type\":\"object\",\"name\":\"AllIndices\",\"id\":\"p2052\"}}},\"glyph\":{\"type\":\"object\",\"name\":\"Line\",\"id\":\"p2047\",\"attributes\":{\"x\":{\"type\":\"field\",\"field\":\"x\"},\"y\":{\"type\":\"field\",\"field\":\"y\"},\"line_color\":\"#1f77b4\"}},\"nonselection_glyph\":{\"type\":\"object\",\"name\":\"Line\",\"id\":\"p2048\",\"attributes\":{\"x\":{\"type\":\"field\",\"field\":\"x\"},\"y\":{\"type\":\"field\",\"field\":\"y\"},\"line_color\":\"#1f77b4\",\"line_alpha\":0.1}},\"muted_glyph\":{\"type\":\"object\",\"name\":\"Line\",\"id\":\"p2049\",\"attributes\":{\"x\":{\"type\":\"field\",\"field\":\"x\"},\"y\":{\"type\":\"field\",\"field\":\"y\"},\"line_color\":\"#1f77b4\",\"line_alpha\":0.2}}}}],\"toolbar\":{\"type\":\"object\",\"name\":\"Toolbar\",\"id\":\"p2018\",\"attributes\":{\"tools\":[{\"type\":\"object\",\"name\":\"PanTool\",\"id\":\"p2031\"},{\"type\":\"object\",\"name\":\"WheelZoomTool\",\"id\":\"p2032\",\"attributes\":{\"renderers\":\"auto\"}},{\"type\":\"object\",\"name\":\"BoxZoomTool\",\"id\":\"p2033\",\"attributes\":{\"overlay\":{\"type\":\"object\",\"name\":\"BoxAnnotation\",\"id\":\"p2034\",\"attributes\":{\"syncable\":false,\"line_color\":\"black\",\"line_alpha\":1.0,\"line_width\":2,\"line_dash\":[4,4],\"fill_color\":\"lightgrey\",\"fill_alpha\":0.5,\"level\":\"overlay\",\"visible\":false,\"left\":{\"type\":\"number\",\"value\":\"nan\"},\"right\":{\"type\":\"number\",\"value\":\"nan\"},\"top\":{\"type\":\"number\",\"value\":\"nan\"},\"bottom\":{\"type\":\"number\",\"value\":\"nan\"},\"left_units\":\"canvas\",\"right_units\":\"canvas\",\"top_units\":\"canvas\",\"bottom_units\":\"canvas\",\"handles\":{\"type\":\"object\",\"name\":\"BoxInteractionHandles\",\"id\":\"p2040\",\"attributes\":{\"all\":{\"type\":\"object\",\"name\":\"AreaVisuals\",\"id\":\"p2039\",\"attributes\":{\"fill_color\":\"white\",\"hover_fill_color\":\"lightgray\"}}}}}}}},{\"type\":\"object\",\"name\":\"SaveTool\",\"id\":\"p2041\"},{\"type\":\"object\",\"name\":\"ResetTool\",\"id\":\"p2042\"},{\"type\":\"object\",\"name\":\"HelpTool\",\"id\":\"p2043\"}]}},\"left\":[{\"type\":\"object\",\"name\":\"LinearAxis\",\"id\":\"p2026\",\"attributes\":{\"ticker\":{\"type\":\"object\",\"name\":\"BasicTicker\",\"id\":\"p2027\",\"attributes\":{\"mantissas\":[1,2,5]}},\"formatter\":{\"type\":\"object\",\"name\":\"BasicTickFormatter\",\"id\":\"p2028\"},\"major_label_policy\":{\"type\":\"object\",\"name\":\"AllLabels\",\"id\":\"p2029\"}}}],\"below\":[{\"type\":\"object\",\"name\":\"LinearAxis\",\"id\":\"p2021\",\"attributes\":{\"ticker\":{\"type\":\"object\",\"name\":\"BasicTicker\",\"id\":\"p2022\",\"attributes\":{\"mantissas\":[1,2,5]}},\"formatter\":{\"type\":\"object\",\"name\":\"BasicTickFormatter\",\"id\":\"p2023\"},\"major_label_policy\":{\"type\":\"object\",\"name\":\"AllLabels\",\"id\":\"p2024\"}}}],\"center\":[{\"type\":\"object\",\"name\":\"Grid\",\"id\":\"p2025\",\"attributes\":{\"axis\":{\"id\":\"p2021\"}}},{\"type\":\"object\",\"name\":\"Grid\",\"id\":\"p2030\",\"attributes\":{\"dimension\":1,\"axis\":{\"id\":\"p2026\"}}}]}}]}};\n  const render_items = [{\"docid\":\"515b1ec3-678c-44ee-8f56-be4d6fd92596\",\"roots\":{\"p2010\":\"d83986aa-5187-4eac-a96b-8b28100c98c4\"},\"root_ids\":[\"p2010\"]}];\n  void root.Bokeh.embed.embed_items_notebook(docs_json, render_items);\n  }\n  if (root.Bokeh !== undefined) {\n    embed_document(root);\n  } else {\n    let attempts = 0;\n    const timer = setInterval(function(root) {\n      if (root.Bokeh !== undefined) {\n        clearInterval(timer);\n        embed_document(root);\n      } else {\n        attempts++;\n        if (attempts > 100) {\n          clearInterval(timer);\n          console.log(\"Bokeh: ERROR: Unable to run BokehJS code because BokehJS library is missing\");\n        }\n      }\n    }, 10, root)\n  }\n})(window);",
      "application/vnd.bokehjs_exec.v0+json": ""
     },
     "metadata": {
      "application/vnd.bokehjs_exec.v0+json": {
       "id": "p2010"
      }
     },
     "output_type": "display_data"
    }
   ],
   "source": [
    "Q = np.load(\"2025-01-24_12-33-26/q_table.npy\")\n",
    "F=figure()\n",
    "F.line(list(range(Q[:39].shape[0])),np.argmax(Q,axis=1))\n",
    "show(F)"
   ]
  },
  {
   "cell_type": "code",
   "execution_count": 114,
   "metadata": {},
   "outputs": [
    {
     "data": {
      "text/html": [
       "\n",
       "  <div id=\"f8847841-718e-4397-b724-5737f49ec330\" data-root-id=\"p2010\" style=\"display: contents;\"></div>\n"
      ]
     },
     "metadata": {},
     "output_type": "display_data"
    },
    {
     "data": {
      "application/javascript": "(function(root) {\n  function embed_document(root) {\n  const docs_json = {\"24c792aa-6f26-4f67-8f90-4596084320dc\":{\"version\":\"3.6.0\",\"title\":\"Bokeh Application\",\"roots\":[{\"type\":\"object\",\"name\":\"Figure\",\"id\":\"p2010\",\"attributes\":{\"x_range\":{\"type\":\"object\",\"name\":\"DataRange1d\",\"id\":\"p2011\"},\"y_range\":{\"type\":\"object\",\"name\":\"DataRange1d\",\"id\":\"p2012\"},\"x_scale\":{\"type\":\"object\",\"name\":\"LinearScale\",\"id\":\"p2019\"},\"y_scale\":{\"type\":\"object\",\"name\":\"LinearScale\",\"id\":\"p2020\"},\"title\":{\"type\":\"object\",\"name\":\"Title\",\"id\":\"p2017\"},\"renderers\":[{\"type\":\"object\",\"name\":\"GlyphRenderer\",\"id\":\"p2050\",\"attributes\":{\"data_source\":{\"type\":\"object\",\"name\":\"ColumnDataSource\",\"id\":\"p2044\",\"attributes\":{\"selected\":{\"type\":\"object\",\"name\":\"Selection\",\"id\":\"p2045\",\"attributes\":{\"indices\":[],\"line_indices\":[]}},\"selection_policy\":{\"type\":\"object\",\"name\":\"UnionRenderers\",\"id\":\"p2046\"},\"data\":{\"type\":\"map\",\"entries\":[[\"x\",[0,1,2,3,4,5,6,7,8,9,10,11,12,13,14,15,16,17,18,19,20,21,22,23,24,25,26,27,28,29,30,31,32,33,34,35,36,37,38]],[\"y\",{\"type\":\"ndarray\",\"array\":{\"type\":\"bytes\",\"data\":\"EwAAAA0AAAASAAAABAAAAAkAAAASAAAADAAAABEAAAAKAAAADwAAAAwAAAARAAAAEQAAAA8AAAADAAAACgAAAAgAAAAPAAAACAAAAA0AAAAJAAAACAAAAAEAAAACAAAACAAAAAUAAAAPAAAADgAAAAAAAAAQAAAAAAAAAAsAAAAHAAAAEwAAAAoAAAAHAAAACQAAAAYAAAAEAAAAAAAAAA==\"},\"shape\":[40],\"dtype\":\"int32\",\"order\":\"little\"}]]}}},\"view\":{\"type\":\"object\",\"name\":\"CDSView\",\"id\":\"p2051\",\"attributes\":{\"filter\":{\"type\":\"object\",\"name\":\"AllIndices\",\"id\":\"p2052\"}}},\"glyph\":{\"type\":\"object\",\"name\":\"Line\",\"id\":\"p2047\",\"attributes\":{\"x\":{\"type\":\"field\",\"field\":\"x\"},\"y\":{\"type\":\"field\",\"field\":\"y\"},\"line_color\":\"#1f77b4\"}},\"nonselection_glyph\":{\"type\":\"object\",\"name\":\"Line\",\"id\":\"p2048\",\"attributes\":{\"x\":{\"type\":\"field\",\"field\":\"x\"},\"y\":{\"type\":\"field\",\"field\":\"y\"},\"line_color\":\"#1f77b4\",\"line_alpha\":0.1}},\"muted_glyph\":{\"type\":\"object\",\"name\":\"Line\",\"id\":\"p2049\",\"attributes\":{\"x\":{\"type\":\"field\",\"field\":\"x\"},\"y\":{\"type\":\"field\",\"field\":\"y\"},\"line_color\":\"#1f77b4\",\"line_alpha\":0.2}}}}],\"toolbar\":{\"type\":\"object\",\"name\":\"Toolbar\",\"id\":\"p2018\",\"attributes\":{\"tools\":[{\"type\":\"object\",\"name\":\"PanTool\",\"id\":\"p2031\"},{\"type\":\"object\",\"name\":\"WheelZoomTool\",\"id\":\"p2032\",\"attributes\":{\"renderers\":\"auto\"}},{\"type\":\"object\",\"name\":\"BoxZoomTool\",\"id\":\"p2033\",\"attributes\":{\"overlay\":{\"type\":\"object\",\"name\":\"BoxAnnotation\",\"id\":\"p2034\",\"attributes\":{\"syncable\":false,\"line_color\":\"black\",\"line_alpha\":1.0,\"line_width\":2,\"line_dash\":[4,4],\"fill_color\":\"lightgrey\",\"fill_alpha\":0.5,\"level\":\"overlay\",\"visible\":false,\"left\":{\"type\":\"number\",\"value\":\"nan\"},\"right\":{\"type\":\"number\",\"value\":\"nan\"},\"top\":{\"type\":\"number\",\"value\":\"nan\"},\"bottom\":{\"type\":\"number\",\"value\":\"nan\"},\"left_units\":\"canvas\",\"right_units\":\"canvas\",\"top_units\":\"canvas\",\"bottom_units\":\"canvas\",\"handles\":{\"type\":\"object\",\"name\":\"BoxInteractionHandles\",\"id\":\"p2040\",\"attributes\":{\"all\":{\"type\":\"object\",\"name\":\"AreaVisuals\",\"id\":\"p2039\",\"attributes\":{\"fill_color\":\"white\",\"hover_fill_color\":\"lightgray\"}}}}}}}},{\"type\":\"object\",\"name\":\"SaveTool\",\"id\":\"p2041\"},{\"type\":\"object\",\"name\":\"ResetTool\",\"id\":\"p2042\"},{\"type\":\"object\",\"name\":\"HelpTool\",\"id\":\"p2043\"}]}},\"left\":[{\"type\":\"object\",\"name\":\"LinearAxis\",\"id\":\"p2026\",\"attributes\":{\"ticker\":{\"type\":\"object\",\"name\":\"BasicTicker\",\"id\":\"p2027\",\"attributes\":{\"mantissas\":[1,2,5]}},\"formatter\":{\"type\":\"object\",\"name\":\"BasicTickFormatter\",\"id\":\"p2028\"},\"major_label_policy\":{\"type\":\"object\",\"name\":\"AllLabels\",\"id\":\"p2029\"}}}],\"below\":[{\"type\":\"object\",\"name\":\"LinearAxis\",\"id\":\"p2021\",\"attributes\":{\"ticker\":{\"type\":\"object\",\"name\":\"BasicTicker\",\"id\":\"p2022\",\"attributes\":{\"mantissas\":[1,2,5]}},\"formatter\":{\"type\":\"object\",\"name\":\"BasicTickFormatter\",\"id\":\"p2023\"},\"major_label_policy\":{\"type\":\"object\",\"name\":\"AllLabels\",\"id\":\"p2024\"}}}],\"center\":[{\"type\":\"object\",\"name\":\"Grid\",\"id\":\"p2025\",\"attributes\":{\"axis\":{\"id\":\"p2021\"}}},{\"type\":\"object\",\"name\":\"Grid\",\"id\":\"p2030\",\"attributes\":{\"dimension\":1,\"axis\":{\"id\":\"p2026\"}}}]}}]}};\n  const render_items = [{\"docid\":\"24c792aa-6f26-4f67-8f90-4596084320dc\",\"roots\":{\"p2010\":\"f8847841-718e-4397-b724-5737f49ec330\"},\"root_ids\":[\"p2010\"]}];\n  void root.Bokeh.embed.embed_items_notebook(docs_json, render_items);\n  }\n  if (root.Bokeh !== undefined) {\n    embed_document(root);\n  } else {\n    let attempts = 0;\n    const timer = setInterval(function(root) {\n      if (root.Bokeh !== undefined) {\n        clearInterval(timer);\n        embed_document(root);\n      } else {\n        attempts++;\n        if (attempts > 100) {\n          clearInterval(timer);\n          console.log(\"Bokeh: ERROR: Unable to run BokehJS code because BokehJS library is missing\");\n        }\n      }\n    }, 10, root)\n  }\n})(window);",
      "application/vnd.bokehjs_exec.v0+json": ""
     },
     "metadata": {
      "application/vnd.bokehjs_exec.v0+json": {
       "id": "p2010"
      }
     },
     "output_type": "display_data"
    }
   ],
   "source": [
    "show(F)"
   ]
  },
  {
   "cell_type": "code",
   "execution_count": 108,
   "metadata": {},
   "outputs": [],
   "source": [
    "H = np.argmax(Q,axis=1)"
   ]
  },
  {
   "cell_type": "code",
   "execution_count": 112,
   "metadata": {},
   "outputs": [
    {
     "name": "stderr",
     "output_type": "stream",
     "text": [
      "BokehUserWarning: ColumnDataSource's columns must be of the same length. Current lengths: ('x', 39), ('y', 40)\n"
     ]
    },
    {
     "data": {
      "text/html": [
       "\n",
       "  <div id=\"b04f94ba-5065-46be-ba17-80028c3b7d61\" data-root-id=\"p1966\" style=\"display: contents;\"></div>\n"
      ]
     },
     "metadata": {},
     "output_type": "display_data"
    },
    {
     "data": {
      "application/javascript": "(function(root) {\n  function embed_document(root) {\n  const docs_json = {\"c9448b27-ceb0-4c66-89ce-5ceb11cb6a8b\":{\"version\":\"3.6.0\",\"title\":\"Bokeh Application\",\"roots\":[{\"type\":\"object\",\"name\":\"Figure\",\"id\":\"p1966\",\"attributes\":{\"x_range\":{\"type\":\"object\",\"name\":\"DataRange1d\",\"id\":\"p1967\"},\"y_range\":{\"type\":\"object\",\"name\":\"DataRange1d\",\"id\":\"p1968\"},\"x_scale\":{\"type\":\"object\",\"name\":\"LinearScale\",\"id\":\"p1975\"},\"y_scale\":{\"type\":\"object\",\"name\":\"LinearScale\",\"id\":\"p1976\"},\"title\":{\"type\":\"object\",\"name\":\"Title\",\"id\":\"p1973\"},\"renderers\":[{\"type\":\"object\",\"name\":\"GlyphRenderer\",\"id\":\"p2006\",\"attributes\":{\"data_source\":{\"type\":\"object\",\"name\":\"ColumnDataSource\",\"id\":\"p2000\",\"attributes\":{\"selected\":{\"type\":\"object\",\"name\":\"Selection\",\"id\":\"p2001\",\"attributes\":{\"indices\":[],\"line_indices\":[]}},\"selection_policy\":{\"type\":\"object\",\"name\":\"UnionRenderers\",\"id\":\"p2002\"},\"data\":{\"type\":\"map\",\"entries\":[[\"x\",[0,1,2,3,4,5,6,7,8,9,10,11,12,13,14,15,16,17,18,19,20,21,22,23,24,25,26,27,28,29,30,31,32,33,34,35,36,37,38]],[\"y\",{\"type\":\"ndarray\",\"array\":{\"type\":\"bytes\",\"data\":\"ZOMSvrvnY8B3QXpFARRmwABJYL210mPA8uFmcBt1YsBtfST4crxhwIlpXf36s2DA3ykqYv8tXsB+jsOtdKdcwGa1qx4nOFrAouJ0Z0w6WsDkhw0j4TRYwNq9rMn/D1bAK8RybbfmVcCDKT6jp/FUwH9U2rBSkVTAyhAmNRmaU8CKcWVtaytTwKm4Fiw6dlLAo6zS0aSAUcCJJ7D1/zNRwDmdSz2otlHAAmFdaF4bUcC5DZiYxkBSwI/a+FZS/lLAtHYw345+VMBYGicBAINVwOYu1E1X91bA90eWjppCWMCPN0LlwXtawKI8Mr0P/1vAJPjDiCHcXsB/ew2cbrxgwJ5CKzB94WHArYRKbRqXYsAif7QEQ/9kwPi/gZGEi2bAbSgo3Kn5Z8Dh56ky5e5owBgvW6cJWWrAAAAAAABAj8A=\"},\"shape\":[40],\"dtype\":\"float64\",\"order\":\"little\"}]]}}},\"view\":{\"type\":\"object\",\"name\":\"CDSView\",\"id\":\"p2007\",\"attributes\":{\"filter\":{\"type\":\"object\",\"name\":\"AllIndices\",\"id\":\"p2008\"}}},\"glyph\":{\"type\":\"object\",\"name\":\"Line\",\"id\":\"p2003\",\"attributes\":{\"x\":{\"type\":\"field\",\"field\":\"x\"},\"y\":{\"type\":\"field\",\"field\":\"y\"},\"line_color\":\"#1f77b4\"}},\"nonselection_glyph\":{\"type\":\"object\",\"name\":\"Line\",\"id\":\"p2004\",\"attributes\":{\"x\":{\"type\":\"field\",\"field\":\"x\"},\"y\":{\"type\":\"field\",\"field\":\"y\"},\"line_color\":\"#1f77b4\",\"line_alpha\":0.1}},\"muted_glyph\":{\"type\":\"object\",\"name\":\"Line\",\"id\":\"p2005\",\"attributes\":{\"x\":{\"type\":\"field\",\"field\":\"x\"},\"y\":{\"type\":\"field\",\"field\":\"y\"},\"line_color\":\"#1f77b4\",\"line_alpha\":0.2}}}}],\"toolbar\":{\"type\":\"object\",\"name\":\"Toolbar\",\"id\":\"p1974\",\"attributes\":{\"tools\":[{\"type\":\"object\",\"name\":\"PanTool\",\"id\":\"p1987\"},{\"type\":\"object\",\"name\":\"WheelZoomTool\",\"id\":\"p1988\",\"attributes\":{\"renderers\":\"auto\"}},{\"type\":\"object\",\"name\":\"BoxZoomTool\",\"id\":\"p1989\",\"attributes\":{\"overlay\":{\"type\":\"object\",\"name\":\"BoxAnnotation\",\"id\":\"p1990\",\"attributes\":{\"syncable\":false,\"line_color\":\"black\",\"line_alpha\":1.0,\"line_width\":2,\"line_dash\":[4,4],\"fill_color\":\"lightgrey\",\"fill_alpha\":0.5,\"level\":\"overlay\",\"visible\":false,\"left\":{\"type\":\"number\",\"value\":\"nan\"},\"right\":{\"type\":\"number\",\"value\":\"nan\"},\"top\":{\"type\":\"number\",\"value\":\"nan\"},\"bottom\":{\"type\":\"number\",\"value\":\"nan\"},\"left_units\":\"canvas\",\"right_units\":\"canvas\",\"top_units\":\"canvas\",\"bottom_units\":\"canvas\",\"handles\":{\"type\":\"object\",\"name\":\"BoxInteractionHandles\",\"id\":\"p1996\",\"attributes\":{\"all\":{\"type\":\"object\",\"name\":\"AreaVisuals\",\"id\":\"p1995\",\"attributes\":{\"fill_color\":\"white\",\"hover_fill_color\":\"lightgray\"}}}}}}}},{\"type\":\"object\",\"name\":\"SaveTool\",\"id\":\"p1997\"},{\"type\":\"object\",\"name\":\"ResetTool\",\"id\":\"p1998\"},{\"type\":\"object\",\"name\":\"HelpTool\",\"id\":\"p1999\"}]}},\"left\":[{\"type\":\"object\",\"name\":\"LinearAxis\",\"id\":\"p1982\",\"attributes\":{\"ticker\":{\"type\":\"object\",\"name\":\"BasicTicker\",\"id\":\"p1983\",\"attributes\":{\"mantissas\":[1,2,5]}},\"formatter\":{\"type\":\"object\",\"name\":\"BasicTickFormatter\",\"id\":\"p1984\"},\"major_label_policy\":{\"type\":\"object\",\"name\":\"AllLabels\",\"id\":\"p1985\"}}}],\"below\":[{\"type\":\"object\",\"name\":\"LinearAxis\",\"id\":\"p1977\",\"attributes\":{\"ticker\":{\"type\":\"object\",\"name\":\"BasicTicker\",\"id\":\"p1978\",\"attributes\":{\"mantissas\":[1,2,5]}},\"formatter\":{\"type\":\"object\",\"name\":\"BasicTickFormatter\",\"id\":\"p1979\"},\"major_label_policy\":{\"type\":\"object\",\"name\":\"AllLabels\",\"id\":\"p1980\"}}}],\"center\":[{\"type\":\"object\",\"name\":\"Grid\",\"id\":\"p1981\",\"attributes\":{\"axis\":{\"id\":\"p1977\"}}},{\"type\":\"object\",\"name\":\"Grid\",\"id\":\"p1986\",\"attributes\":{\"dimension\":1,\"axis\":{\"id\":\"p1982\"}}}]}}]}};\n  const render_items = [{\"docid\":\"c9448b27-ceb0-4c66-89ce-5ceb11cb6a8b\",\"roots\":{\"p1966\":\"b04f94ba-5065-46be-ba17-80028c3b7d61\"},\"root_ids\":[\"p1966\"]}];\n  void root.Bokeh.embed.embed_items_notebook(docs_json, render_items);\n  }\n  if (root.Bokeh !== undefined) {\n    embed_document(root);\n  } else {\n    let attempts = 0;\n    const timer = setInterval(function(root) {\n      if (root.Bokeh !== undefined) {\n        clearInterval(timer);\n        embed_document(root);\n      } else {\n        attempts++;\n        if (attempts > 100) {\n          clearInterval(timer);\n          console.log(\"Bokeh: ERROR: Unable to run BokehJS code because BokehJS library is missing\");\n        }\n      }\n    }, 10, root)\n  }\n})(window);",
      "application/vnd.bokehjs_exec.v0+json": ""
     },
     "metadata": {
      "application/vnd.bokehjs_exec.v0+json": {
       "id": "p1966"
      }
     },
     "output_type": "display_data"
    }
   ],
   "source": [
    "F=figure()\n",
    "F.line(list(range(Q[:39].shape[0])),Q.sum(axis=1))\n",
    "show(F)"
   ]
  },
  {
   "cell_type": "code",
   "execution_count": 115,
   "metadata": {},
   "outputs": [],
   "source": [
    "from scipy.special import softmax"
   ]
  },
  {
   "cell_type": "code",
   "execution_count": 117,
   "metadata": {},
   "outputs": [],
   "source": [
    "Qs=softmax(Q[:39],axis=1)"
   ]
  },
  {
   "cell_type": "code",
   "execution_count": 118,
   "metadata": {},
   "outputs": [
    {
     "data": {
      "text/plain": [
       "array([1., 1., 1., 1., 1., 1., 1., 1., 1., 1., 1., 1., 1., 1., 1., 1., 1.,\n",
       "       1., 1., 1., 1., 1., 1., 1., 1., 1., 1., 1., 1., 1., 1., 1., 1., 1.,\n",
       "       1., 1., 1., 1., 1.])"
      ]
     },
     "execution_count": 118,
     "metadata": {},
     "output_type": "execute_result"
    }
   ],
   "source": [
    "Qs.sum(axis=1)"
   ]
  },
  {
   "cell_type": "code",
   "execution_count": 119,
   "metadata": {},
   "outputs": [
    {
     "data": {
      "text/html": [
       "\n",
       "  <div id=\"c11084b0-efe8-4311-acd9-39e6f279aad5\" data-root-id=\"p2055\" style=\"display: contents;\"></div>\n"
      ]
     },
     "metadata": {},
     "output_type": "display_data"
    },
    {
     "data": {
      "application/javascript": "(function(root) {\n  function embed_document(root) {\n  const docs_json = {\"73e9b20e-3ec3-4d4e-a83c-142cc667b923\":{\"version\":\"3.6.0\",\"title\":\"Bokeh Application\",\"roots\":[{\"type\":\"object\",\"name\":\"Figure\",\"id\":\"p2055\",\"attributes\":{\"x_range\":{\"type\":\"object\",\"name\":\"DataRange1d\",\"id\":\"p2056\"},\"y_range\":{\"type\":\"object\",\"name\":\"DataRange1d\",\"id\":\"p2057\"},\"x_scale\":{\"type\":\"object\",\"name\":\"LinearScale\",\"id\":\"p2064\"},\"y_scale\":{\"type\":\"object\",\"name\":\"LinearScale\",\"id\":\"p2065\"},\"title\":{\"type\":\"object\",\"name\":\"Title\",\"id\":\"p2062\"},\"renderers\":[{\"type\":\"object\",\"name\":\"GlyphRenderer\",\"id\":\"p2101\",\"attributes\":{\"data_source\":{\"type\":\"object\",\"name\":\"ColumnDataSource\",\"id\":\"p2089\",\"attributes\":{\"selected\":{\"type\":\"object\",\"name\":\"Selection\",\"id\":\"p2090\",\"attributes\":{\"indices\":[],\"line_indices\":[]}},\"selection_policy\":{\"type\":\"object\",\"name\":\"UnionRenderers\",\"id\":\"p2091\"},\"data\":{\"type\":\"map\",\"entries\":[[\"image\",[{\"type\":\"ndarray\",\"array\":{\"type\":\"bytes\",\"data\":\"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\"},\"shape\":[39,20],\"dtype\":\"float64\",\"order\":\"little\"}]]]}}},\"view\":{\"type\":\"object\",\"name\":\"CDSView\",\"id\":\"p2102\",\"attributes\":{\"filter\":{\"type\":\"object\",\"name\":\"AllIndices\",\"id\":\"p2103\"}}},\"glyph\":{\"type\":\"object\",\"name\":\"Image\",\"id\":\"p2092\",\"attributes\":{\"x\":{\"type\":\"value\",\"value\":0},\"y\":{\"type\":\"value\",\"value\":0},\"dw\":{\"type\":\"value\",\"value\":10},\"dh\":{\"type\":\"value\",\"value\":10},\"image\":{\"type\":\"field\",\"field\":\"image\"},\"color_mapper\":{\"type\":\"object\",\"name\":\"LinearColorMapper\",\"id\":\"p2093\",\"attributes\":{\"palette\":[\"#440154\",\"#440255\",\"#440357\",\"#450558\",\"#45065A\",\"#45085B\",\"#46095C\",\"#460B5E\",\"#460C5F\",\"#460E61\",\"#470F62\",\"#471163\",\"#471265\",\"#471466\",\"#471567\",\"#471669\",\"#47186A\",\"#48196B\",\"#481A6C\",\"#481C6E\",\"#481D6F\",\"#481E70\",\"#482071\",\"#482172\",\"#482273\",\"#482374\",\"#472575\",\"#472676\",\"#472777\",\"#472878\",\"#472A79\",\"#472B7A\",\"#472C7B\",\"#462D7C\",\"#462F7C\",\"#46307D\",\"#46317E\",\"#45327F\",\"#45347F\",\"#453580\",\"#453681\",\"#443781\",\"#443982\",\"#433A83\",\"#433B83\",\"#433C84\",\"#423D84\",\"#423E85\",\"#424085\",\"#414186\",\"#414286\",\"#404387\",\"#404487\",\"#3F4587\",\"#3F4788\",\"#3E4888\",\"#3E4989\",\"#3D4A89\",\"#3D4B89\",\"#3D4C89\",\"#3C4D8A\",\"#3C4E8A\",\"#3B508A\",\"#3B518A\",\"#3A528B\",\"#3A538B\",\"#39548B\",\"#39558B\",\"#38568B\",\"#38578C\",\"#37588C\",\"#37598C\",\"#365A8C\",\"#365B8C\",\"#355C8C\",\"#355D8C\",\"#345E8D\",\"#345F8D\",\"#33608D\",\"#33618D\",\"#32628D\",\"#32638D\",\"#31648D\",\"#31658D\",\"#31668D\",\"#30678D\",\"#30688D\",\"#2F698D\",\"#2F6A8D\",\"#2E6B8E\",\"#2E6C8E\",\"#2E6D8E\",\"#2D6E8E\",\"#2D6F8E\",\"#2C708E\",\"#2C718E\",\"#2C728E\",\"#2B738E\",\"#2B748E\",\"#2A758E\",\"#2A768E\",\"#2A778E\",\"#29788E\",\"#29798E\",\"#287A8E\",\"#287A8E\",\"#287B8E\",\"#277C8E\",\"#277D8E\",\"#277E8E\",\"#267F8E\",\"#26808E\",\"#26818E\",\"#25828E\",\"#25838D\",\"#24848D\",\"#24858D\",\"#24868D\",\"#23878D\",\"#23888D\",\"#23898D\",\"#22898D\",\"#228A8D\",\"#228B8D\",\"#218C8D\",\"#218D8C\",\"#218E8C\",\"#208F8C\",\"#20908C\",\"#20918C\",\"#1F928C\",\"#1F938B\",\"#1F948B\",\"#1F958B\",\"#1F968B\",\"#1E978A\",\"#1E988A\",\"#1E998A\",\"#1E998A\",\"#1E9A89\",\"#1E9B89\",\"#1E9C89\",\"#1E9D88\",\"#1E9E88\",\"#1E9F88\",\"#1EA087\",\"#1FA187\",\"#1FA286\",\"#1FA386\",\"#20A485\",\"#20A585\",\"#21A685\",\"#21A784\",\"#22A784\",\"#23A883\",\"#23A982\",\"#24AA82\",\"#25AB81\",\"#26AC81\",\"#27AD80\",\"#28AE7F\",\"#29AF7F\",\"#2AB07E\",\"#2BB17D\",\"#2CB17D\",\"#2EB27C\",\"#2FB37B\",\"#30B47A\",\"#32B57A\",\"#33B679\",\"#35B778\",\"#36B877\",\"#38B976\",\"#39B976\",\"#3BBA75\",\"#3DBB74\",\"#3EBC73\",\"#40BD72\",\"#42BE71\",\"#44BE70\",\"#45BF6F\",\"#47C06E\",\"#49C16D\",\"#4BC26C\",\"#4DC26B\",\"#4FC369\",\"#51C468\",\"#53C567\",\"#55C666\",\"#57C665\",\"#59C764\",\"#5BC862\",\"#5EC961\",\"#60C960\",\"#62CA5F\",\"#64CB5D\",\"#67CC5C\",\"#69CC5B\",\"#6BCD59\",\"#6DCE58\",\"#70CE56\",\"#72CF55\",\"#74D054\",\"#77D052\",\"#79D151\",\"#7CD24F\",\"#7ED24E\",\"#81D34C\",\"#83D34B\",\"#86D449\",\"#88D547\",\"#8BD546\",\"#8DD644\",\"#90D643\",\"#92D741\",\"#95D73F\",\"#97D83E\",\"#9AD83C\",\"#9DD93A\",\"#9FD938\",\"#A2DA37\",\"#A5DA35\",\"#A7DB33\",\"#AADB32\",\"#ADDC30\",\"#AFDC2E\",\"#B2DD2C\",\"#B5DD2B\",\"#B7DD29\",\"#BADE27\",\"#BDDE26\",\"#BFDF24\",\"#C2DF22\",\"#C5DF21\",\"#C7E01F\",\"#CAE01E\",\"#CDE01D\",\"#CFE11C\",\"#D2E11B\",\"#D4E11A\",\"#D7E219\",\"#DAE218\",\"#DCE218\",\"#DFE318\",\"#E1E318\",\"#E4E318\",\"#E7E419\",\"#E9E419\",\"#ECE41A\",\"#EEE51B\",\"#F1E51C\",\"#F3E51E\",\"#F6E61F\",\"#F8E621\",\"#FAE622\",\"#FDE724\"]}}}},\"nonselection_glyph\":{\"type\":\"object\",\"name\":\"Image\",\"id\":\"p2095\",\"attributes\":{\"x\":{\"type\":\"value\",\"value\":0},\"y\":{\"type\":\"value\",\"value\":0},\"dw\":{\"type\":\"value\",\"value\":10},\"dh\":{\"type\":\"value\",\"value\":10},\"global_alpha\":{\"type\":\"value\",\"value\":0.1},\"image\":{\"type\":\"field\",\"field\":\"image\"},\"color_mapper\":{\"type\":\"object\",\"name\":\"LinearColorMapper\",\"id\":\"p2096\",\"attributes\":{\"palette\":[\"#440154\",\"#440255\",\"#440357\",\"#450558\",\"#45065A\",\"#45085B\",\"#46095C\",\"#460B5E\",\"#460C5F\",\"#460E61\",\"#470F62\",\"#471163\",\"#471265\",\"#471466\",\"#471567\",\"#471669\",\"#47186A\",\"#48196B\",\"#481A6C\",\"#481C6E\",\"#481D6F\",\"#481E70\",\"#482071\",\"#482172\",\"#482273\",\"#482374\",\"#472575\",\"#472676\",\"#472777\",\"#472878\",\"#472A79\",\"#472B7A\",\"#472C7B\",\"#462D7C\",\"#462F7C\",\"#46307D\",\"#46317E\",\"#45327F\",\"#45347F\",\"#453580\",\"#453681\",\"#443781\",\"#443982\",\"#433A83\",\"#433B83\",\"#433C84\",\"#423D84\",\"#423E85\",\"#424085\",\"#414186\",\"#414286\",\"#404387\",\"#404487\",\"#3F4587\",\"#3F4788\",\"#3E4888\",\"#3E4989\",\"#3D4A89\",\"#3D4B89\",\"#3D4C89\",\"#3C4D8A\",\"#3C4E8A\",\"#3B508A\",\"#3B518A\",\"#3A528B\",\"#3A538B\",\"#39548B\",\"#39558B\",\"#38568B\",\"#38578C\",\"#37588C\",\"#37598C\",\"#365A8C\",\"#365B8C\",\"#355C8C\",\"#355D8C\",\"#345E8D\",\"#345F8D\",\"#33608D\",\"#33618D\",\"#32628D\",\"#32638D\",\"#31648D\",\"#31658D\",\"#31668D\",\"#30678D\",\"#30688D\",\"#2F698D\",\"#2F6A8D\",\"#2E6B8E\",\"#2E6C8E\",\"#2E6D8E\",\"#2D6E8E\",\"#2D6F8E\",\"#2C708E\",\"#2C718E\",\"#2C728E\",\"#2B738E\",\"#2B748E\",\"#2A758E\",\"#2A768E\",\"#2A778E\",\"#29788E\",\"#29798E\",\"#287A8E\",\"#287A8E\",\"#287B8E\",\"#277C8E\",\"#277D8E\",\"#277E8E\",\"#267F8E\",\"#26808E\",\"#26818E\",\"#25828E\",\"#25838D\",\"#24848D\",\"#24858D\",\"#24868D\",\"#23878D\",\"#23888D\",\"#23898D\",\"#22898D\",\"#228A8D\",\"#228B8D\",\"#218C8D\",\"#218D8C\",\"#218E8C\",\"#208F8C\",\"#20908C\",\"#20918C\",\"#1F928C\",\"#1F938B\",\"#1F948B\",\"#1F958B\",\"#1F968B\",\"#1E978A\",\"#1E988A\",\"#1E998A\",\"#1E998A\",\"#1E9A89\",\"#1E9B89\",\"#1E9C89\",\"#1E9D88\",\"#1E9E88\",\"#1E9F88\",\"#1EA087\",\"#1FA187\",\"#1FA286\",\"#1FA386\",\"#20A485\",\"#20A585\",\"#21A685\",\"#21A784\",\"#22A784\",\"#23A883\",\"#23A982\",\"#24AA82\",\"#25AB81\",\"#26AC81\",\"#27AD80\",\"#28AE7F\",\"#29AF7F\",\"#2AB07E\",\"#2BB17D\",\"#2CB17D\",\"#2EB27C\",\"#2FB37B\",\"#30B47A\",\"#32B57A\",\"#33B679\",\"#35B778\",\"#36B877\",\"#38B976\",\"#39B976\",\"#3BBA75\",\"#3DBB74\",\"#3EBC73\",\"#40BD72\",\"#42BE71\",\"#44BE70\",\"#45BF6F\",\"#47C06E\",\"#49C16D\",\"#4BC26C\",\"#4DC26B\",\"#4FC369\",\"#51C468\",\"#53C567\",\"#55C666\",\"#57C665\",\"#59C764\",\"#5BC862\",\"#5EC961\",\"#60C960\",\"#62CA5F\",\"#64CB5D\",\"#67CC5C\",\"#69CC5B\",\"#6BCD59\",\"#6DCE58\",\"#70CE56\",\"#72CF55\",\"#74D054\",\"#77D052\",\"#79D151\",\"#7CD24F\",\"#7ED24E\",\"#81D34C\",\"#83D34B\",\"#86D449\",\"#88D547\",\"#8BD546\",\"#8DD644\",\"#90D643\",\"#92D741\",\"#95D73F\",\"#97D83E\",\"#9AD83C\",\"#9DD93A\",\"#9FD938\",\"#A2DA37\",\"#A5DA35\",\"#A7DB33\",\"#AADB32\",\"#ADDC30\",\"#AFDC2E\",\"#B2DD2C\",\"#B5DD2B\",\"#B7DD29\",\"#BADE27\",\"#BDDE26\",\"#BFDF24\",\"#C2DF22\",\"#C5DF21\",\"#C7E01F\",\"#CAE01E\",\"#CDE01D\",\"#CFE11C\",\"#D2E11B\",\"#D4E11A\",\"#D7E219\",\"#DAE218\",\"#DCE218\",\"#DFE318\",\"#E1E318\",\"#E4E318\",\"#E7E419\",\"#E9E419\",\"#ECE41A\",\"#EEE51B\",\"#F1E51C\",\"#F3E51E\",\"#F6E61F\",\"#F8E621\",\"#FAE622\",\"#FDE724\"]}}}},\"muted_glyph\":{\"type\":\"object\",\"name\":\"Image\",\"id\":\"p2098\",\"attributes\":{\"x\":{\"type\":\"value\",\"value\":0},\"y\":{\"type\":\"value\",\"value\":0},\"dw\":{\"type\":\"value\",\"value\":10},\"dh\":{\"type\":\"value\",\"value\":10},\"global_alpha\":{\"type\":\"value\",\"value\":0.2},\"image\":{\"type\":\"field\",\"field\":\"image\"},\"color_mapper\":{\"type\":\"object\",\"name\":\"LinearColorMapper\",\"id\":\"p2099\",\"attributes\":{\"palette\":[\"#440154\",\"#440255\",\"#440357\",\"#450558\",\"#45065A\",\"#45085B\",\"#46095C\",\"#460B5E\",\"#460C5F\",\"#460E61\",\"#470F62\",\"#471163\",\"#471265\",\"#471466\",\"#471567\",\"#471669\",\"#47186A\",\"#48196B\",\"#481A6C\",\"#481C6E\",\"#481D6F\",\"#481E70\",\"#482071\",\"#482172\",\"#482273\",\"#482374\",\"#472575\",\"#472676\",\"#472777\",\"#472878\",\"#472A79\",\"#472B7A\",\"#472C7B\",\"#462D7C\",\"#462F7C\",\"#46307D\",\"#46317E\",\"#45327F\",\"#45347F\",\"#453580\",\"#453681\",\"#443781\",\"#443982\",\"#433A83\",\"#433B83\",\"#433C84\",\"#423D84\",\"#423E85\",\"#424085\",\"#414186\",\"#414286\",\"#404387\",\"#404487\",\"#3F4587\",\"#3F4788\",\"#3E4888\",\"#3E4989\",\"#3D4A89\",\"#3D4B89\",\"#3D4C89\",\"#3C4D8A\",\"#3C4E8A\",\"#3B508A\",\"#3B518A\",\"#3A528B\",\"#3A538B\",\"#39548B\",\"#39558B\",\"#38568B\",\"#38578C\",\"#37588C\",\"#37598C\",\"#365A8C\",\"#365B8C\",\"#355C8C\",\"#355D8C\",\"#345E8D\",\"#345F8D\",\"#33608D\",\"#33618D\",\"#32628D\",\"#32638D\",\"#31648D\",\"#31658D\",\"#31668D\",\"#30678D\",\"#30688D\",\"#2F698D\",\"#2F6A8D\",\"#2E6B8E\",\"#2E6C8E\",\"#2E6D8E\",\"#2D6E8E\",\"#2D6F8E\",\"#2C708E\",\"#2C718E\",\"#2C728E\",\"#2B738E\",\"#2B748E\",\"#2A758E\",\"#2A768E\",\"#2A778E\",\"#29788E\",\"#29798E\",\"#287A8E\",\"#287A8E\",\"#287B8E\",\"#277C8E\",\"#277D8E\",\"#277E8E\",\"#267F8E\",\"#26808E\",\"#26818E\",\"#25828E\",\"#25838D\",\"#24848D\",\"#24858D\",\"#24868D\",\"#23878D\",\"#23888D\",\"#23898D\",\"#22898D\",\"#228A8D\",\"#228B8D\",\"#218C8D\",\"#218D8C\",\"#218E8C\",\"#208F8C\",\"#20908C\",\"#20918C\",\"#1F928C\",\"#1F938B\",\"#1F948B\",\"#1F958B\",\"#1F968B\",\"#1E978A\",\"#1E988A\",\"#1E998A\",\"#1E998A\",\"#1E9A89\",\"#1E9B89\",\"#1E9C89\",\"#1E9D88\",\"#1E9E88\",\"#1E9F88\",\"#1EA087\",\"#1FA187\",\"#1FA286\",\"#1FA386\",\"#20A485\",\"#20A585\",\"#21A685\",\"#21A784\",\"#22A784\",\"#23A883\",\"#23A982\",\"#24AA82\",\"#25AB81\",\"#26AC81\",\"#27AD80\",\"#28AE7F\",\"#29AF7F\",\"#2AB07E\",\"#2BB17D\",\"#2CB17D\",\"#2EB27C\",\"#2FB37B\",\"#30B47A\",\"#32B57A\",\"#33B679\",\"#35B778\",\"#36B877\",\"#38B976\",\"#39B976\",\"#3BBA75\",\"#3DBB74\",\"#3EBC73\",\"#40BD72\",\"#42BE71\",\"#44BE70\",\"#45BF6F\",\"#47C06E\",\"#49C16D\",\"#4BC26C\",\"#4DC26B\",\"#4FC369\",\"#51C468\",\"#53C567\",\"#55C666\",\"#57C665\",\"#59C764\",\"#5BC862\",\"#5EC961\",\"#60C960\",\"#62CA5F\",\"#64CB5D\",\"#67CC5C\",\"#69CC5B\",\"#6BCD59\",\"#6DCE58\",\"#70CE56\",\"#72CF55\",\"#74D054\",\"#77D052\",\"#79D151\",\"#7CD24F\",\"#7ED24E\",\"#81D34C\",\"#83D34B\",\"#86D449\",\"#88D547\",\"#8BD546\",\"#8DD644\",\"#90D643\",\"#92D741\",\"#95D73F\",\"#97D83E\",\"#9AD83C\",\"#9DD93A\",\"#9FD938\",\"#A2DA37\",\"#A5DA35\",\"#A7DB33\",\"#AADB32\",\"#ADDC30\",\"#AFDC2E\",\"#B2DD2C\",\"#B5DD2B\",\"#B7DD29\",\"#BADE27\",\"#BDDE26\",\"#BFDF24\",\"#C2DF22\",\"#C5DF21\",\"#C7E01F\",\"#CAE01E\",\"#CDE01D\",\"#CFE11C\",\"#D2E11B\",\"#D4E11A\",\"#D7E219\",\"#DAE218\",\"#DCE218\",\"#DFE318\",\"#E1E318\",\"#E4E318\",\"#E7E419\",\"#E9E419\",\"#ECE41A\",\"#EEE51B\",\"#F1E51C\",\"#F3E51E\",\"#F6E61F\",\"#F8E621\",\"#FAE622\",\"#FDE724\"]}}}}}}],\"toolbar\":{\"type\":\"object\",\"name\":\"Toolbar\",\"id\":\"p2063\",\"attributes\":{\"tools\":[{\"type\":\"object\",\"name\":\"PanTool\",\"id\":\"p2076\"},{\"type\":\"object\",\"name\":\"WheelZoomTool\",\"id\":\"p2077\",\"attributes\":{\"renderers\":\"auto\"}},{\"type\":\"object\",\"name\":\"BoxZoomTool\",\"id\":\"p2078\",\"attributes\":{\"overlay\":{\"type\":\"object\",\"name\":\"BoxAnnotation\",\"id\":\"p2079\",\"attributes\":{\"syncable\":false,\"line_color\":\"black\",\"line_alpha\":1.0,\"line_width\":2,\"line_dash\":[4,4],\"fill_color\":\"lightgrey\",\"fill_alpha\":0.5,\"level\":\"overlay\",\"visible\":false,\"left\":{\"type\":\"number\",\"value\":\"nan\"},\"right\":{\"type\":\"number\",\"value\":\"nan\"},\"top\":{\"type\":\"number\",\"value\":\"nan\"},\"bottom\":{\"type\":\"number\",\"value\":\"nan\"},\"left_units\":\"canvas\",\"right_units\":\"canvas\",\"top_units\":\"canvas\",\"bottom_units\":\"canvas\",\"handles\":{\"type\":\"object\",\"name\":\"BoxInteractionHandles\",\"id\":\"p2085\",\"attributes\":{\"all\":{\"type\":\"object\",\"name\":\"AreaVisuals\",\"id\":\"p2084\",\"attributes\":{\"fill_color\":\"white\",\"hover_fill_color\":\"lightgray\"}}}}}}}},{\"type\":\"object\",\"name\":\"SaveTool\",\"id\":\"p2086\"},{\"type\":\"object\",\"name\":\"ResetTool\",\"id\":\"p2087\"},{\"type\":\"object\",\"name\":\"HelpTool\",\"id\":\"p2088\"}]}},\"left\":[{\"type\":\"object\",\"name\":\"LinearAxis\",\"id\":\"p2071\",\"attributes\":{\"ticker\":{\"type\":\"object\",\"name\":\"BasicTicker\",\"id\":\"p2072\",\"attributes\":{\"mantissas\":[1,2,5]}},\"formatter\":{\"type\":\"object\",\"name\":\"BasicTickFormatter\",\"id\":\"p2073\"},\"major_label_policy\":{\"type\":\"object\",\"name\":\"AllLabels\",\"id\":\"p2074\"}}}],\"below\":[{\"type\":\"object\",\"name\":\"LinearAxis\",\"id\":\"p2066\",\"attributes\":{\"ticker\":{\"type\":\"object\",\"name\":\"BasicTicker\",\"id\":\"p2067\",\"attributes\":{\"mantissas\":[1,2,5]}},\"formatter\":{\"type\":\"object\",\"name\":\"BasicTickFormatter\",\"id\":\"p2068\"},\"major_label_policy\":{\"type\":\"object\",\"name\":\"AllLabels\",\"id\":\"p2069\"}}}],\"center\":[{\"type\":\"object\",\"name\":\"Grid\",\"id\":\"p2070\",\"attributes\":{\"axis\":{\"id\":\"p2066\"}}},{\"type\":\"object\",\"name\":\"Grid\",\"id\":\"p2075\",\"attributes\":{\"dimension\":1,\"axis\":{\"id\":\"p2071\"}}}]}}]}};\n  const render_items = [{\"docid\":\"73e9b20e-3ec3-4d4e-a83c-142cc667b923\",\"roots\":{\"p2055\":\"c11084b0-efe8-4311-acd9-39e6f279aad5\"},\"root_ids\":[\"p2055\"]}];\n  void root.Bokeh.embed.embed_items_notebook(docs_json, render_items);\n  }\n  if (root.Bokeh !== undefined) {\n    embed_document(root);\n  } else {\n    let attempts = 0;\n    const timer = setInterval(function(root) {\n      if (root.Bokeh !== undefined) {\n        clearInterval(timer);\n        embed_document(root);\n      } else {\n        attempts++;\n        if (attempts > 100) {\n          clearInterval(timer);\n          console.log(\"Bokeh: ERROR: Unable to run BokehJS code because BokehJS library is missing\");\n        }\n      }\n    }, 10, root)\n  }\n})(window);",
      "application/vnd.bokehjs_exec.v0+json": ""
     },
     "metadata": {
      "application/vnd.bokehjs_exec.v0+json": {
       "id": "p2055"
      }
     },
     "output_type": "display_data"
    }
   ],
   "source": [
    "P=figure()\n",
    "P.image(image=[Qs], x=0, y=0, dw=10, dh=10, palette=\"Viridis256\")\n",
    "show(P)"
   ]
  },
  {
   "cell_type": "code",
   "execution_count": 120,
   "metadata": {},
   "outputs": [],
   "source": [
    "Q = np.load(\"2025-01-24_14-14-09/q_table.npy\")"
   ]
  },
  {
   "cell_type": "code",
   "execution_count": 121,
   "metadata": {},
   "outputs": [
    {
     "data": {
      "text/plain": [
       "array([[1.37141472e-06, 6.07124785e-06, 1.01600483e-05, 3.18478958e-06,\n",
       "        2.58627832e-06, 3.59562661e-06, 1.36405274e-06, 3.21686628e-06,\n",
       "        1.36479887e-05, 6.32042533e-07, 1.18667735e-06, 1.63628068e-06,\n",
       "        2.58236800e-06, 3.43713579e-06, 1.16799863e-06, 2.73136807e-06,\n",
       "        7.73902527e-06, 5.21739504e-06, 6.07222374e-06, 9.99922399e-01],\n",
       "       [8.42740525e-04, 3.56124050e-04, 9.89834581e-01, 1.21410580e-04,\n",
       "        4.04672454e-04, 1.83907116e-04, 1.53953025e-04, 2.16735127e-03,\n",
       "        1.09568109e-04, 1.41720612e-04, 4.95486692e-04, 1.73227602e-03,\n",
       "        3.58347666e-04, 6.45430416e-04, 1.36414193e-04, 1.36302580e-04,\n",
       "        3.24343114e-04, 6.88276125e-04, 8.16511914e-04, 3.50582745e-04],\n",
       "       [1.58894175e-04, 4.39801714e-04, 1.94213301e-04, 8.74912311e-05,\n",
       "        6.61148526e-04, 3.64358424e-04, 2.61588771e-04, 2.58535996e-04,\n",
       "        3.61513535e-01, 2.64743334e-04, 1.18040876e-04, 1.13758346e-04,\n",
       "        6.33728422e-01, 1.45931868e-04, 1.38679440e-04, 2.59857495e-04,\n",
       "        2.85509789e-04, 7.90916373e-04, 1.68616522e-04, 4.59570884e-05],\n",
       "       [1.73704232e-04, 3.43364652e-04, 2.54723329e-04, 3.55621941e-04,\n",
       "        1.06453141e-04, 1.92383055e-04, 1.07486623e-04, 3.76496646e-04,\n",
       "        3.22553533e-04, 8.00460360e-05, 3.54393616e-04, 6.79176746e-04,\n",
       "        1.88853043e-03, 2.04107372e-03, 4.10124498e-04, 2.42639184e-04,\n",
       "        6.92933889e-04, 9.87797674e-01, 2.96763991e-04, 3.28385704e-03],\n",
       "       [4.46236211e-04, 8.32375744e-04, 4.93125094e-04, 1.16482842e-03,\n",
       "        1.03193579e-03, 7.17372212e-04, 1.98822374e-04, 6.49627070e-04,\n",
       "        4.05114522e-04, 2.30333999e-04, 2.24418913e-04, 2.37668091e-02,\n",
       "        3.73284538e-04, 1.29474659e-03, 3.34084692e-03, 4.55989328e-04,\n",
       "        9.59665024e-01, 3.78609590e-04, 2.94908505e-03, 1.38141492e-03],\n",
       "       [5.96190322e-01, 8.46325189e-04, 4.94656978e-04, 1.42996833e-03,\n",
       "        7.60148008e-04, 3.70656044e-03, 8.49513062e-03, 7.81311657e-03,\n",
       "        1.23957711e-03, 1.23244388e-03, 2.71513431e-03, 8.35041161e-04,\n",
       "        2.95630207e-03, 8.43583753e-03, 5.56532690e-04, 3.56475489e-01,\n",
       "        1.53735341e-03, 2.39181682e-03, 1.16399093e-03, 7.24253437e-04],\n",
       "       [5.59346828e-04, 5.50651810e-03, 6.90108660e-03, 4.19153799e-01,\n",
       "        3.06148395e-03, 2.48560083e-03, 2.31067213e-03, 2.32004582e-03,\n",
       "        2.77680399e-01, 4.48618631e-04, 2.25753771e-03, 7.89517343e-04,\n",
       "        1.88506656e-03, 1.12970449e-03, 3.51694594e-04, 2.61574841e-01,\n",
       "        5.92062960e-03, 6.01818220e-04, 4.34068918e-03, 7.20930323e-04],\n",
       "       [3.77682651e-03, 4.08547891e-02, 9.59780007e-03, 5.72577777e-03,\n",
       "        9.67555118e-04, 3.35265215e-03, 9.54290440e-03, 1.58394789e-03,\n",
       "        8.33452585e-02, 1.57810561e-03, 5.75756460e-01, 1.46048884e-01,\n",
       "        1.05267144e-01, 1.11751260e-03, 1.43453106e-03, 1.42256600e-03,\n",
       "        1.30744489e-03, 2.97527919e-03, 1.18050822e-03, 3.16405310e-03],\n",
       "       [7.06781507e-03, 2.64737520e-03, 1.34300582e-02, 3.34021942e-02,\n",
       "        1.06971341e-02, 2.22868008e-02, 4.92721375e-03, 9.59799800e-03,\n",
       "        1.60768419e-02, 9.91586719e-03, 5.79485406e-01, 4.59227331e-02,\n",
       "        1.94264313e-02, 3.83983101e-03, 6.18430417e-02, 2.95936508e-03,\n",
       "        4.42234424e-03, 5.74106717e-03, 1.41352663e-01, 4.95781956e-03],\n",
       "       [1.49086464e-02, 3.63692224e-02, 1.57542889e-02, 3.24851306e-01,\n",
       "        8.50627202e-03, 2.98023854e-01, 9.35660652e-03, 5.01906510e-02,\n",
       "        1.24340129e-02, 8.86667156e-03, 2.46874656e-02, 1.25671960e-02,\n",
       "        1.40822729e-01, 4.34393119e-03, 1.74537812e-02, 2.11134697e-03,\n",
       "        8.38444615e-03, 4.34001923e-03, 3.58799060e-03, 2.43956262e-03],\n",
       "       [8.09480499e-03, 1.46588565e-02, 5.46344172e-03, 2.07434568e-02,\n",
       "        8.55514035e-03, 3.55062753e-02, 2.07604169e-01, 2.64027697e-01,\n",
       "        2.04208405e-01, 3.11142613e-03, 4.78871161e-02, 4.45502731e-02,\n",
       "        2.20987394e-02, 3.95969243e-02, 1.45420091e-02, 4.75776592e-03,\n",
       "        1.27829033e-02, 8.36965133e-03, 1.33744386e-02, 2.00665057e-02],\n",
       "       [1.30793441e-01, 1.18705653e-01, 2.62758610e-02, 3.18544151e-02,\n",
       "        6.25678658e-03, 1.43187365e-02, 1.41420067e-01, 9.30997338e-03,\n",
       "        1.25402930e-02, 3.36027483e-02, 8.47608293e-02, 2.05402115e-02,\n",
       "        1.64961376e-02, 1.30023036e-02, 1.65636940e-02, 5.66653403e-03,\n",
       "        1.27423410e-01, 4.15606202e-02, 1.42531307e-01, 6.37697809e-03],\n",
       "       [1.37940646e-01, 2.25331346e-02, 1.02679121e-02, 2.10918548e-02,\n",
       "        2.14712278e-02, 1.01526189e-02, 5.82711301e-02, 2.18064268e-02,\n",
       "        5.48096418e-02, 3.60201088e-02, 1.90234442e-02, 2.74296347e-02,\n",
       "        1.56850381e-01, 5.29403025e-02, 2.22119522e-01, 1.32106679e-02,\n",
       "        3.02346044e-02, 4.46453098e-02, 2.24157525e-02, 1.67656797e-02],\n",
       "       [5.62545260e-02, 1.01155079e-02, 2.49932515e-02, 4.17872260e-02,\n",
       "        1.64532924e-02, 1.09545559e-01, 5.76192220e-02, 1.65617008e-02,\n",
       "        1.66878490e-02, 3.29974614e-02, 4.02153084e-02, 5.09097385e-02,\n",
       "        1.83471525e-02, 4.99198646e-02, 8.08828365e-02, 9.94107961e-02,\n",
       "        1.71917230e-02, 1.04045229e-01, 1.21645775e-01, 3.44159798e-02],\n",
       "       [2.71401736e-02, 1.67827133e-02, 5.47053333e-02, 3.36512196e-02,\n",
       "        5.64788545e-02, 1.80908659e-02, 2.87171616e-02, 1.73405391e-02,\n",
       "        2.74704714e-02, 4.34334020e-02, 2.01143233e-02, 1.06546057e-01,\n",
       "        1.40290259e-01, 8.72644526e-02, 5.98684979e-02, 1.95311726e-02,\n",
       "        7.63406711e-02, 4.47516911e-02, 6.72641750e-02, 5.42179658e-02],\n",
       "       [4.53625385e-02, 7.56351460e-02, 3.00726660e-02, 8.68703570e-02,\n",
       "        2.45761164e-02, 3.00588720e-02, 3.26394541e-02, 4.43192737e-02,\n",
       "        4.19044706e-02, 4.90389696e-02, 3.51694516e-02, 3.12238271e-02,\n",
       "        1.03126533e-01, 3.70309855e-02, 3.33830851e-02, 3.77900059e-02,\n",
       "        2.56128993e-02, 1.02150930e-01, 8.57478812e-02, 4.82865382e-02],\n",
       "       [4.62701857e-02, 4.32370735e-02, 3.50438831e-02, 5.44335318e-02,\n",
       "        3.16907669e-02, 4.77801415e-02, 8.68839808e-02, 5.48105972e-02,\n",
       "        7.93239228e-02, 5.46491694e-02, 2.98798952e-02, 4.37109178e-02,\n",
       "        3.11273398e-02, 3.69300090e-02, 6.21376643e-02, 4.93577303e-02,\n",
       "        4.21005767e-02, 4.47647734e-02, 5.90343713e-02, 6.68334695e-02],\n",
       "       [4.29422217e-02, 5.07155521e-02, 4.47493931e-02, 5.53647899e-02,\n",
       "        3.65015099e-02, 6.95383659e-02, 5.75255544e-02, 4.99452929e-02,\n",
       "        4.27337457e-02, 6.49748937e-02, 3.82036036e-02, 6.91718233e-02,\n",
       "        6.20250202e-02, 6.52459741e-02, 4.00458913e-02, 3.96002467e-02,\n",
       "        4.59765620e-02, 3.63204890e-02, 3.96162973e-02, 4.88027733e-02],\n",
       "       [3.67676060e-02, 3.65364489e-02, 5.00957744e-02, 4.00265891e-02,\n",
       "        5.70787656e-02, 4.40854523e-02, 4.98103435e-02, 5.38983040e-02,\n",
       "        4.72223495e-02, 8.11723321e-02, 3.36486794e-02, 4.81075537e-02,\n",
       "        4.84191582e-02, 4.99381908e-02, 3.88209962e-02, 6.56802626e-02,\n",
       "        5.50768865e-02, 6.51372258e-02, 6.20024404e-02, 3.64746411e-02],\n",
       "       [5.04664685e-02, 4.36146658e-02, 5.41866894e-02, 5.93311603e-02,\n",
       "        5.26104746e-02, 4.43606268e-02, 5.70424360e-02, 4.69473477e-02,\n",
       "        4.42006215e-02, 4.86461223e-02, 5.10562983e-02, 5.02090487e-02,\n",
       "        4.99115623e-02, 4.32643640e-02, 5.08681741e-02, 4.19143187e-02,\n",
       "        4.39950750e-02, 5.19857355e-02, 6.70054015e-02, 4.83834092e-02],\n",
       "       [5.65090222e-02, 4.42001091e-02, 6.20624215e-02, 5.10744479e-02,\n",
       "        6.63535616e-02, 4.26608485e-02, 6.24914729e-02, 5.72545921e-02,\n",
       "        4.41331702e-02, 4.46406417e-02, 4.58596341e-02, 4.05128709e-02,\n",
       "        4.66316745e-02, 4.02043052e-02, 5.51799881e-02, 4.29524060e-02,\n",
       "        3.97461500e-02, 5.84351572e-02, 5.54784217e-02, 4.36191047e-02],\n",
       "       [4.58176044e-02, 6.11575586e-02, 6.58476325e-02, 4.24604730e-02,\n",
       "        4.59952016e-02, 3.67101420e-02, 4.22101650e-02, 5.48057226e-02,\n",
       "        4.74163158e-02, 4.38316258e-02, 4.29215724e-02, 4.76219793e-02,\n",
       "        4.91869238e-02, 5.02564239e-02, 5.34415799e-02, 6.14487582e-02,\n",
       "        4.51351462e-02, 5.55280331e-02, 5.49763475e-02, 5.32307945e-02],\n",
       "       [3.62860313e-02, 5.97735390e-02, 4.72514010e-02, 4.39622405e-02,\n",
       "        5.07138039e-02, 5.30283866e-02, 5.26476036e-02, 4.42928889e-02,\n",
       "        4.04235301e-02, 4.85495862e-02, 3.93383277e-02, 4.16422932e-02,\n",
       "        4.71304866e-02, 5.54362860e-02, 8.19390407e-02, 5.10544918e-02,\n",
       "        6.37099213e-02, 4.10057714e-02, 4.61987128e-02, 5.56156576e-02],\n",
       "       [6.08990091e-02, 5.73934181e-02, 4.73439141e-02, 5.10688079e-02,\n",
       "        5.62694139e-02, 4.82870802e-02, 4.61700700e-02, 4.77550811e-02,\n",
       "        4.48365827e-02, 5.65704871e-02, 4.73857786e-02, 5.86076784e-02,\n",
       "        4.50417588e-02, 4.42832381e-02, 3.77930371e-02, 5.09269343e-02,\n",
       "        4.32539173e-02, 4.80354122e-02, 5.49387162e-02, 5.31396647e-02],\n",
       "       [5.30773165e-02, 5.54037671e-02, 4.82257595e-02, 4.94023702e-02,\n",
       "        5.61998659e-02, 5.55559573e-02, 5.75690427e-02, 4.89142211e-02,\n",
       "        4.91962031e-02, 5.53997376e-02, 5.00870564e-02, 5.13485106e-02,\n",
       "        5.86580499e-02, 4.71572096e-02, 5.42209799e-02, 3.76572971e-02,\n",
       "        3.51473961e-02, 4.11659814e-02, 4.96581048e-02, 4.59551732e-02],\n",
       "       [5.53919907e-02, 5.09585497e-02, 4.85662906e-02, 4.84546414e-02,\n",
       "        5.90913481e-02, 4.72289048e-02, 5.97467207e-02, 4.56717895e-02,\n",
       "        5.39934596e-02, 3.79975114e-02, 5.90506489e-02, 4.35337916e-02,\n",
       "        4.85292197e-02, 4.04064843e-02, 4.73660615e-02, 5.36295758e-02,\n",
       "        5.33438802e-02, 5.40596867e-02, 4.44338329e-02, 4.85456117e-02],\n",
       "       [4.62165194e-02, 4.68105960e-02, 4.90951756e-02, 4.40381654e-02,\n",
       "        4.58873267e-02, 5.15511104e-02, 5.32674653e-02, 5.45118276e-02,\n",
       "        4.58122226e-02, 5.58020762e-02, 4.30360683e-02, 4.51746528e-02,\n",
       "        5.03673815e-02, 4.68790236e-02, 5.81473721e-02, 4.74840128e-02,\n",
       "        4.66539694e-02, 7.12188545e-02, 5.21844424e-02, 4.58617372e-02],\n",
       "       [4.46229698e-02, 4.97166251e-02, 4.51925309e-02, 5.69303405e-02,\n",
       "        5.30111061e-02, 5.22501655e-02, 3.96188459e-02, 5.19679298e-02,\n",
       "        5.63420435e-02, 4.63500654e-02, 4.88903209e-02, 4.69679216e-02,\n",
       "        5.58849939e-02, 5.02816771e-02, 5.46650081e-02, 4.96358527e-02,\n",
       "        3.85195412e-02, 4.26306433e-02, 6.26702788e-02, 5.38511398e-02],\n",
       "       [5.22751624e-02, 5.11939689e-02, 5.52042077e-02, 4.46591809e-02,\n",
       "        4.05914935e-02, 4.56214886e-02, 6.02698548e-02, 5.86483940e-02,\n",
       "        4.01377460e-02, 6.45797429e-02, 4.57710246e-02, 3.66143950e-02,\n",
       "        5.19674336e-02, 5.41159903e-02, 4.49685968e-02, 4.27743329e-02,\n",
       "        6.05037540e-02, 3.98483514e-02, 4.84328939e-02, 6.18219879e-02],\n",
       "       [5.66041547e-02, 5.92311198e-02, 3.70618698e-02, 5.50504019e-02,\n",
       "        5.77256065e-02, 4.16149112e-02, 4.50449562e-02, 4.54414015e-02,\n",
       "        5.19691894e-02, 4.02492234e-02, 4.94263422e-02, 5.86822006e-02,\n",
       "        5.45918451e-02, 4.77672220e-02, 5.12172709e-02, 6.21338255e-02,\n",
       "        5.68936814e-02, 4.11840533e-02, 4.64016606e-02, 4.17090640e-02],\n",
       "       [6.20567107e-02, 3.54056484e-02, 4.81275680e-02, 4.88681377e-02,\n",
       "        4.90036426e-02, 3.93783732e-02, 5.00103718e-02, 5.70186523e-02,\n",
       "        6.04185858e-02, 6.77535119e-02, 3.85642739e-02, 4.76675891e-02,\n",
       "        4.37887952e-02, 4.72573234e-02, 4.31360228e-02, 5.59305691e-02,\n",
       "        5.00896562e-02, 5.15625408e-02, 5.06003583e-02, 5.33616688e-02],\n",
       "       [4.24904164e-02, 4.26446659e-02, 6.34987121e-02, 4.77216064e-02,\n",
       "        4.54614329e-02, 4.68408560e-02, 4.27327908e-02, 5.43901340e-02,\n",
       "        3.50576217e-02, 4.29129205e-02, 5.59602732e-02, 5.07540147e-02,\n",
       "        5.14732428e-02, 4.59838427e-02, 6.09196388e-02, 5.94275922e-02,\n",
       "        3.79739305e-02, 5.15199708e-02, 6.50332604e-02, 5.72030770e-02],\n",
       "       [4.97293069e-02, 3.84693404e-02, 3.99658281e-02, 5.35495815e-02,\n",
       "        5.89286832e-02, 5.42964218e-02, 4.15797742e-02, 4.48460763e-02,\n",
       "        4.54528166e-02, 4.50362373e-02, 4.24114325e-02, 5.70498670e-02,\n",
       "        6.48157672e-02, 5.89682921e-02, 4.40972182e-02, 4.32375686e-02,\n",
       "        4.82230667e-02, 4.76057324e-02, 5.46871453e-02, 6.70498435e-02],\n",
       "       [6.59399851e-02, 4.21188890e-02, 3.58811303e-02, 5.89319506e-02,\n",
       "        6.52770091e-02, 4.04873194e-02, 6.73475398e-02, 3.31806641e-02,\n",
       "        3.39221748e-02, 4.97547642e-02, 5.37250025e-02, 4.41326287e-02,\n",
       "        4.76215128e-02, 4.58186586e-02, 7.09120670e-02, 4.98265830e-02,\n",
       "        5.67553936e-02, 5.40151601e-02, 4.49590598e-02, 3.93925076e-02],\n",
       "       [5.93930359e-02, 5.96515423e-02, 4.48084092e-02, 3.32140419e-02,\n",
       "        6.65088760e-02, 3.34324980e-02, 5.96603236e-02, 8.47400388e-02,\n",
       "        6.32842954e-02, 4.65268990e-02, 2.66611148e-02, 5.67968678e-02,\n",
       "        2.11648121e-02, 7.32329579e-02, 4.55592147e-02, 3.48878498e-02,\n",
       "        6.52904171e-02, 4.47567020e-02, 4.76944297e-02, 3.27356739e-02],\n",
       "       [5.46682349e-02, 5.86356266e-02, 3.27812394e-02, 3.12347596e-02,\n",
       "        2.95043800e-02, 4.55444525e-02, 4.02528180e-02, 7.38108215e-02,\n",
       "        5.05549647e-02, 4.54383307e-02, 4.40715294e-02, 6.86554695e-02,\n",
       "        3.74517100e-02, 6.10996029e-02, 6.82047940e-02, 2.42566715e-02,\n",
       "        6.11508425e-02, 6.35260010e-02, 3.07261543e-02, 7.84315971e-02],\n",
       "       [3.88718249e-02, 2.29728174e-02, 2.97524073e-02, 4.37438942e-02,\n",
       "        4.92368564e-02, 3.39969793e-02, 4.21812760e-02, 9.07557851e-02,\n",
       "        7.19103979e-02, 6.60788674e-02, 1.20372382e-02, 3.71963220e-02,\n",
       "        5.57969875e-02, 7.77905547e-02, 8.22015596e-02, 7.49259319e-02,\n",
       "        6.47777645e-02, 9.87019413e-03, 3.42417816e-02, 6.16605600e-02],\n",
       "       [1.66449987e-02, 8.80177168e-02, 2.84757480e-02, 4.91827530e-02,\n",
       "        2.51622651e-02, 6.28558558e-02, 7.87006700e-02, 7.20766024e-02,\n",
       "        3.71212982e-02, 3.37050626e-02, 4.23338076e-02, 1.69115110e-02,\n",
       "        1.02907764e-01, 7.18043444e-02, 4.77219487e-02, 3.53183984e-02,\n",
       "        2.26572825e-02, 7.02361729e-02, 2.64670715e-02, 7.16987282e-02],\n",
       "       [1.94868670e-02, 4.91837639e-02, 2.39099633e-02, 6.95787165e-02,\n",
       "        9.44862145e-02, 1.20083582e-02, 2.94791909e-02, 6.18055567e-02,\n",
       "        2.08856836e-02, 8.66472064e-02, 2.50724298e-02, 9.78056776e-02,\n",
       "        4.56619186e-02, 7.52081721e-02, 1.57156086e-02, 7.42523418e-02,\n",
       "        5.37444781e-02, 5.43969928e-02, 7.53621460e-02, 1.53087135e-02],\n",
       "       [5.00000000e-02, 5.00000000e-02, 5.00000000e-02, 5.00000000e-02,\n",
       "        5.00000000e-02, 5.00000000e-02, 5.00000000e-02, 5.00000000e-02,\n",
       "        5.00000000e-02, 5.00000000e-02, 5.00000000e-02, 5.00000000e-02,\n",
       "        5.00000000e-02, 5.00000000e-02, 5.00000000e-02, 5.00000000e-02,\n",
       "        5.00000000e-02, 5.00000000e-02, 5.00000000e-02, 5.00000000e-02]])"
      ]
     },
     "execution_count": 121,
     "metadata": {},
     "output_type": "execute_result"
    }
   ],
   "source": [
    "softmax(Q,axis=1)"
   ]
  },
  {
   "cell_type": "code",
   "execution_count": 122,
   "metadata": {},
   "outputs": [
    {
     "data": {
      "text/plain": [
       "array([[1.37141472e-06, 6.07124785e-06, 1.01600483e-05, 3.18478958e-06,\n",
       "        2.58627832e-06, 3.59562661e-06, 1.36405274e-06, 3.21686628e-06,\n",
       "        1.36479887e-05, 6.32042533e-07, 1.18667735e-06, 1.63628068e-06,\n",
       "        2.58236800e-06, 3.43713579e-06, 1.16799863e-06, 2.73136807e-06,\n",
       "        7.73902527e-06, 5.21739504e-06, 6.07222374e-06, 9.99922399e-01],\n",
       "       [8.42740525e-04, 3.56124050e-04, 9.89834581e-01, 1.21410580e-04,\n",
       "        4.04672454e-04, 1.83907116e-04, 1.53953025e-04, 2.16735127e-03,\n",
       "        1.09568109e-04, 1.41720612e-04, 4.95486692e-04, 1.73227602e-03,\n",
       "        3.58347666e-04, 6.45430416e-04, 1.36414193e-04, 1.36302580e-04,\n",
       "        3.24343114e-04, 6.88276125e-04, 8.16511914e-04, 3.50582745e-04],\n",
       "       [1.58894175e-04, 4.39801714e-04, 1.94213301e-04, 8.74912311e-05,\n",
       "        6.61148526e-04, 3.64358424e-04, 2.61588771e-04, 2.58535996e-04,\n",
       "        3.61513535e-01, 2.64743334e-04, 1.18040876e-04, 1.13758346e-04,\n",
       "        6.33728422e-01, 1.45931868e-04, 1.38679440e-04, 2.59857495e-04,\n",
       "        2.85509789e-04, 7.90916373e-04, 1.68616522e-04, 4.59570884e-05],\n",
       "       [1.73704232e-04, 3.43364652e-04, 2.54723329e-04, 3.55621941e-04,\n",
       "        1.06453141e-04, 1.92383055e-04, 1.07486623e-04, 3.76496646e-04,\n",
       "        3.22553533e-04, 8.00460360e-05, 3.54393616e-04, 6.79176746e-04,\n",
       "        1.88853043e-03, 2.04107372e-03, 4.10124498e-04, 2.42639184e-04,\n",
       "        6.92933889e-04, 9.87797674e-01, 2.96763991e-04, 3.28385704e-03],\n",
       "       [4.46236211e-04, 8.32375744e-04, 4.93125094e-04, 1.16482842e-03,\n",
       "        1.03193579e-03, 7.17372212e-04, 1.98822374e-04, 6.49627070e-04,\n",
       "        4.05114522e-04, 2.30333999e-04, 2.24418913e-04, 2.37668091e-02,\n",
       "        3.73284538e-04, 1.29474659e-03, 3.34084692e-03, 4.55989328e-04,\n",
       "        9.59665024e-01, 3.78609590e-04, 2.94908505e-03, 1.38141492e-03],\n",
       "       [5.96190322e-01, 8.46325189e-04, 4.94656978e-04, 1.42996833e-03,\n",
       "        7.60148008e-04, 3.70656044e-03, 8.49513062e-03, 7.81311657e-03,\n",
       "        1.23957711e-03, 1.23244388e-03, 2.71513431e-03, 8.35041161e-04,\n",
       "        2.95630207e-03, 8.43583753e-03, 5.56532690e-04, 3.56475489e-01,\n",
       "        1.53735341e-03, 2.39181682e-03, 1.16399093e-03, 7.24253437e-04],\n",
       "       [5.59346828e-04, 5.50651810e-03, 6.90108660e-03, 4.19153799e-01,\n",
       "        3.06148395e-03, 2.48560083e-03, 2.31067213e-03, 2.32004582e-03,\n",
       "        2.77680399e-01, 4.48618631e-04, 2.25753771e-03, 7.89517343e-04,\n",
       "        1.88506656e-03, 1.12970449e-03, 3.51694594e-04, 2.61574841e-01,\n",
       "        5.92062960e-03, 6.01818220e-04, 4.34068918e-03, 7.20930323e-04],\n",
       "       [3.77682651e-03, 4.08547891e-02, 9.59780007e-03, 5.72577777e-03,\n",
       "        9.67555118e-04, 3.35265215e-03, 9.54290440e-03, 1.58394789e-03,\n",
       "        8.33452585e-02, 1.57810561e-03, 5.75756460e-01, 1.46048884e-01,\n",
       "        1.05267144e-01, 1.11751260e-03, 1.43453106e-03, 1.42256600e-03,\n",
       "        1.30744489e-03, 2.97527919e-03, 1.18050822e-03, 3.16405310e-03],\n",
       "       [7.06781507e-03, 2.64737520e-03, 1.34300582e-02, 3.34021942e-02,\n",
       "        1.06971341e-02, 2.22868008e-02, 4.92721375e-03, 9.59799800e-03,\n",
       "        1.60768419e-02, 9.91586719e-03, 5.79485406e-01, 4.59227331e-02,\n",
       "        1.94264313e-02, 3.83983101e-03, 6.18430417e-02, 2.95936508e-03,\n",
       "        4.42234424e-03, 5.74106717e-03, 1.41352663e-01, 4.95781956e-03],\n",
       "       [1.49086464e-02, 3.63692224e-02, 1.57542889e-02, 3.24851306e-01,\n",
       "        8.50627202e-03, 2.98023854e-01, 9.35660652e-03, 5.01906510e-02,\n",
       "        1.24340129e-02, 8.86667156e-03, 2.46874656e-02, 1.25671960e-02,\n",
       "        1.40822729e-01, 4.34393119e-03, 1.74537812e-02, 2.11134697e-03,\n",
       "        8.38444615e-03, 4.34001923e-03, 3.58799060e-03, 2.43956262e-03],\n",
       "       [8.09480499e-03, 1.46588565e-02, 5.46344172e-03, 2.07434568e-02,\n",
       "        8.55514035e-03, 3.55062753e-02, 2.07604169e-01, 2.64027697e-01,\n",
       "        2.04208405e-01, 3.11142613e-03, 4.78871161e-02, 4.45502731e-02,\n",
       "        2.20987394e-02, 3.95969243e-02, 1.45420091e-02, 4.75776592e-03,\n",
       "        1.27829033e-02, 8.36965133e-03, 1.33744386e-02, 2.00665057e-02],\n",
       "       [1.30793441e-01, 1.18705653e-01, 2.62758610e-02, 3.18544151e-02,\n",
       "        6.25678658e-03, 1.43187365e-02, 1.41420067e-01, 9.30997338e-03,\n",
       "        1.25402930e-02, 3.36027483e-02, 8.47608293e-02, 2.05402115e-02,\n",
       "        1.64961376e-02, 1.30023036e-02, 1.65636940e-02, 5.66653403e-03,\n",
       "        1.27423410e-01, 4.15606202e-02, 1.42531307e-01, 6.37697809e-03],\n",
       "       [1.37940646e-01, 2.25331346e-02, 1.02679121e-02, 2.10918548e-02,\n",
       "        2.14712278e-02, 1.01526189e-02, 5.82711301e-02, 2.18064268e-02,\n",
       "        5.48096418e-02, 3.60201088e-02, 1.90234442e-02, 2.74296347e-02,\n",
       "        1.56850381e-01, 5.29403025e-02, 2.22119522e-01, 1.32106679e-02,\n",
       "        3.02346044e-02, 4.46453098e-02, 2.24157525e-02, 1.67656797e-02],\n",
       "       [5.62545260e-02, 1.01155079e-02, 2.49932515e-02, 4.17872260e-02,\n",
       "        1.64532924e-02, 1.09545559e-01, 5.76192220e-02, 1.65617008e-02,\n",
       "        1.66878490e-02, 3.29974614e-02, 4.02153084e-02, 5.09097385e-02,\n",
       "        1.83471525e-02, 4.99198646e-02, 8.08828365e-02, 9.94107961e-02,\n",
       "        1.71917230e-02, 1.04045229e-01, 1.21645775e-01, 3.44159798e-02],\n",
       "       [2.71401736e-02, 1.67827133e-02, 5.47053333e-02, 3.36512196e-02,\n",
       "        5.64788545e-02, 1.80908659e-02, 2.87171616e-02, 1.73405391e-02,\n",
       "        2.74704714e-02, 4.34334020e-02, 2.01143233e-02, 1.06546057e-01,\n",
       "        1.40290259e-01, 8.72644526e-02, 5.98684979e-02, 1.95311726e-02,\n",
       "        7.63406711e-02, 4.47516911e-02, 6.72641750e-02, 5.42179658e-02],\n",
       "       [4.53625385e-02, 7.56351460e-02, 3.00726660e-02, 8.68703570e-02,\n",
       "        2.45761164e-02, 3.00588720e-02, 3.26394541e-02, 4.43192737e-02,\n",
       "        4.19044706e-02, 4.90389696e-02, 3.51694516e-02, 3.12238271e-02,\n",
       "        1.03126533e-01, 3.70309855e-02, 3.33830851e-02, 3.77900059e-02,\n",
       "        2.56128993e-02, 1.02150930e-01, 8.57478812e-02, 4.82865382e-02],\n",
       "       [4.62701857e-02, 4.32370735e-02, 3.50438831e-02, 5.44335318e-02,\n",
       "        3.16907669e-02, 4.77801415e-02, 8.68839808e-02, 5.48105972e-02,\n",
       "        7.93239228e-02, 5.46491694e-02, 2.98798952e-02, 4.37109178e-02,\n",
       "        3.11273398e-02, 3.69300090e-02, 6.21376643e-02, 4.93577303e-02,\n",
       "        4.21005767e-02, 4.47647734e-02, 5.90343713e-02, 6.68334695e-02],\n",
       "       [4.29422217e-02, 5.07155521e-02, 4.47493931e-02, 5.53647899e-02,\n",
       "        3.65015099e-02, 6.95383659e-02, 5.75255544e-02, 4.99452929e-02,\n",
       "        4.27337457e-02, 6.49748937e-02, 3.82036036e-02, 6.91718233e-02,\n",
       "        6.20250202e-02, 6.52459741e-02, 4.00458913e-02, 3.96002467e-02,\n",
       "        4.59765620e-02, 3.63204890e-02, 3.96162973e-02, 4.88027733e-02],\n",
       "       [3.67676060e-02, 3.65364489e-02, 5.00957744e-02, 4.00265891e-02,\n",
       "        5.70787656e-02, 4.40854523e-02, 4.98103435e-02, 5.38983040e-02,\n",
       "        4.72223495e-02, 8.11723321e-02, 3.36486794e-02, 4.81075537e-02,\n",
       "        4.84191582e-02, 4.99381908e-02, 3.88209962e-02, 6.56802626e-02,\n",
       "        5.50768865e-02, 6.51372258e-02, 6.20024404e-02, 3.64746411e-02],\n",
       "       [5.04664685e-02, 4.36146658e-02, 5.41866894e-02, 5.93311603e-02,\n",
       "        5.26104746e-02, 4.43606268e-02, 5.70424360e-02, 4.69473477e-02,\n",
       "        4.42006215e-02, 4.86461223e-02, 5.10562983e-02, 5.02090487e-02,\n",
       "        4.99115623e-02, 4.32643640e-02, 5.08681741e-02, 4.19143187e-02,\n",
       "        4.39950750e-02, 5.19857355e-02, 6.70054015e-02, 4.83834092e-02],\n",
       "       [5.65090222e-02, 4.42001091e-02, 6.20624215e-02, 5.10744479e-02,\n",
       "        6.63535616e-02, 4.26608485e-02, 6.24914729e-02, 5.72545921e-02,\n",
       "        4.41331702e-02, 4.46406417e-02, 4.58596341e-02, 4.05128709e-02,\n",
       "        4.66316745e-02, 4.02043052e-02, 5.51799881e-02, 4.29524060e-02,\n",
       "        3.97461500e-02, 5.84351572e-02, 5.54784217e-02, 4.36191047e-02],\n",
       "       [4.58176044e-02, 6.11575586e-02, 6.58476325e-02, 4.24604730e-02,\n",
       "        4.59952016e-02, 3.67101420e-02, 4.22101650e-02, 5.48057226e-02,\n",
       "        4.74163158e-02, 4.38316258e-02, 4.29215724e-02, 4.76219793e-02,\n",
       "        4.91869238e-02, 5.02564239e-02, 5.34415799e-02, 6.14487582e-02,\n",
       "        4.51351462e-02, 5.55280331e-02, 5.49763475e-02, 5.32307945e-02],\n",
       "       [3.62860313e-02, 5.97735390e-02, 4.72514010e-02, 4.39622405e-02,\n",
       "        5.07138039e-02, 5.30283866e-02, 5.26476036e-02, 4.42928889e-02,\n",
       "        4.04235301e-02, 4.85495862e-02, 3.93383277e-02, 4.16422932e-02,\n",
       "        4.71304866e-02, 5.54362860e-02, 8.19390407e-02, 5.10544918e-02,\n",
       "        6.37099213e-02, 4.10057714e-02, 4.61987128e-02, 5.56156576e-02],\n",
       "       [6.08990091e-02, 5.73934181e-02, 4.73439141e-02, 5.10688079e-02,\n",
       "        5.62694139e-02, 4.82870802e-02, 4.61700700e-02, 4.77550811e-02,\n",
       "        4.48365827e-02, 5.65704871e-02, 4.73857786e-02, 5.86076784e-02,\n",
       "        4.50417588e-02, 4.42832381e-02, 3.77930371e-02, 5.09269343e-02,\n",
       "        4.32539173e-02, 4.80354122e-02, 5.49387162e-02, 5.31396647e-02],\n",
       "       [5.30773165e-02, 5.54037671e-02, 4.82257595e-02, 4.94023702e-02,\n",
       "        5.61998659e-02, 5.55559573e-02, 5.75690427e-02, 4.89142211e-02,\n",
       "        4.91962031e-02, 5.53997376e-02, 5.00870564e-02, 5.13485106e-02,\n",
       "        5.86580499e-02, 4.71572096e-02, 5.42209799e-02, 3.76572971e-02,\n",
       "        3.51473961e-02, 4.11659814e-02, 4.96581048e-02, 4.59551732e-02],\n",
       "       [5.53919907e-02, 5.09585497e-02, 4.85662906e-02, 4.84546414e-02,\n",
       "        5.90913481e-02, 4.72289048e-02, 5.97467207e-02, 4.56717895e-02,\n",
       "        5.39934596e-02, 3.79975114e-02, 5.90506489e-02, 4.35337916e-02,\n",
       "        4.85292197e-02, 4.04064843e-02, 4.73660615e-02, 5.36295758e-02,\n",
       "        5.33438802e-02, 5.40596867e-02, 4.44338329e-02, 4.85456117e-02],\n",
       "       [4.62165194e-02, 4.68105960e-02, 4.90951756e-02, 4.40381654e-02,\n",
       "        4.58873267e-02, 5.15511104e-02, 5.32674653e-02, 5.45118276e-02,\n",
       "        4.58122226e-02, 5.58020762e-02, 4.30360683e-02, 4.51746528e-02,\n",
       "        5.03673815e-02, 4.68790236e-02, 5.81473721e-02, 4.74840128e-02,\n",
       "        4.66539694e-02, 7.12188545e-02, 5.21844424e-02, 4.58617372e-02],\n",
       "       [4.46229698e-02, 4.97166251e-02, 4.51925309e-02, 5.69303405e-02,\n",
       "        5.30111061e-02, 5.22501655e-02, 3.96188459e-02, 5.19679298e-02,\n",
       "        5.63420435e-02, 4.63500654e-02, 4.88903209e-02, 4.69679216e-02,\n",
       "        5.58849939e-02, 5.02816771e-02, 5.46650081e-02, 4.96358527e-02,\n",
       "        3.85195412e-02, 4.26306433e-02, 6.26702788e-02, 5.38511398e-02],\n",
       "       [5.22751624e-02, 5.11939689e-02, 5.52042077e-02, 4.46591809e-02,\n",
       "        4.05914935e-02, 4.56214886e-02, 6.02698548e-02, 5.86483940e-02,\n",
       "        4.01377460e-02, 6.45797429e-02, 4.57710246e-02, 3.66143950e-02,\n",
       "        5.19674336e-02, 5.41159903e-02, 4.49685968e-02, 4.27743329e-02,\n",
       "        6.05037540e-02, 3.98483514e-02, 4.84328939e-02, 6.18219879e-02],\n",
       "       [5.66041547e-02, 5.92311198e-02, 3.70618698e-02, 5.50504019e-02,\n",
       "        5.77256065e-02, 4.16149112e-02, 4.50449562e-02, 4.54414015e-02,\n",
       "        5.19691894e-02, 4.02492234e-02, 4.94263422e-02, 5.86822006e-02,\n",
       "        5.45918451e-02, 4.77672220e-02, 5.12172709e-02, 6.21338255e-02,\n",
       "        5.68936814e-02, 4.11840533e-02, 4.64016606e-02, 4.17090640e-02],\n",
       "       [6.20567107e-02, 3.54056484e-02, 4.81275680e-02, 4.88681377e-02,\n",
       "        4.90036426e-02, 3.93783732e-02, 5.00103718e-02, 5.70186523e-02,\n",
       "        6.04185858e-02, 6.77535119e-02, 3.85642739e-02, 4.76675891e-02,\n",
       "        4.37887952e-02, 4.72573234e-02, 4.31360228e-02, 5.59305691e-02,\n",
       "        5.00896562e-02, 5.15625408e-02, 5.06003583e-02, 5.33616688e-02],\n",
       "       [4.24904164e-02, 4.26446659e-02, 6.34987121e-02, 4.77216064e-02,\n",
       "        4.54614329e-02, 4.68408560e-02, 4.27327908e-02, 5.43901340e-02,\n",
       "        3.50576217e-02, 4.29129205e-02, 5.59602732e-02, 5.07540147e-02,\n",
       "        5.14732428e-02, 4.59838427e-02, 6.09196388e-02, 5.94275922e-02,\n",
       "        3.79739305e-02, 5.15199708e-02, 6.50332604e-02, 5.72030770e-02],\n",
       "       [4.97293069e-02, 3.84693404e-02, 3.99658281e-02, 5.35495815e-02,\n",
       "        5.89286832e-02, 5.42964218e-02, 4.15797742e-02, 4.48460763e-02,\n",
       "        4.54528166e-02, 4.50362373e-02, 4.24114325e-02, 5.70498670e-02,\n",
       "        6.48157672e-02, 5.89682921e-02, 4.40972182e-02, 4.32375686e-02,\n",
       "        4.82230667e-02, 4.76057324e-02, 5.46871453e-02, 6.70498435e-02],\n",
       "       [6.59399851e-02, 4.21188890e-02, 3.58811303e-02, 5.89319506e-02,\n",
       "        6.52770091e-02, 4.04873194e-02, 6.73475398e-02, 3.31806641e-02,\n",
       "        3.39221748e-02, 4.97547642e-02, 5.37250025e-02, 4.41326287e-02,\n",
       "        4.76215128e-02, 4.58186586e-02, 7.09120670e-02, 4.98265830e-02,\n",
       "        5.67553936e-02, 5.40151601e-02, 4.49590598e-02, 3.93925076e-02],\n",
       "       [5.93930359e-02, 5.96515423e-02, 4.48084092e-02, 3.32140419e-02,\n",
       "        6.65088760e-02, 3.34324980e-02, 5.96603236e-02, 8.47400388e-02,\n",
       "        6.32842954e-02, 4.65268990e-02, 2.66611148e-02, 5.67968678e-02,\n",
       "        2.11648121e-02, 7.32329579e-02, 4.55592147e-02, 3.48878498e-02,\n",
       "        6.52904171e-02, 4.47567020e-02, 4.76944297e-02, 3.27356739e-02],\n",
       "       [5.46682349e-02, 5.86356266e-02, 3.27812394e-02, 3.12347596e-02,\n",
       "        2.95043800e-02, 4.55444525e-02, 4.02528180e-02, 7.38108215e-02,\n",
       "        5.05549647e-02, 4.54383307e-02, 4.40715294e-02, 6.86554695e-02,\n",
       "        3.74517100e-02, 6.10996029e-02, 6.82047940e-02, 2.42566715e-02,\n",
       "        6.11508425e-02, 6.35260010e-02, 3.07261543e-02, 7.84315971e-02],\n",
       "       [3.88718249e-02, 2.29728174e-02, 2.97524073e-02, 4.37438942e-02,\n",
       "        4.92368564e-02, 3.39969793e-02, 4.21812760e-02, 9.07557851e-02,\n",
       "        7.19103979e-02, 6.60788674e-02, 1.20372382e-02, 3.71963220e-02,\n",
       "        5.57969875e-02, 7.77905547e-02, 8.22015596e-02, 7.49259319e-02,\n",
       "        6.47777645e-02, 9.87019413e-03, 3.42417816e-02, 6.16605600e-02],\n",
       "       [1.66449987e-02, 8.80177168e-02, 2.84757480e-02, 4.91827530e-02,\n",
       "        2.51622651e-02, 6.28558558e-02, 7.87006700e-02, 7.20766024e-02,\n",
       "        3.71212982e-02, 3.37050626e-02, 4.23338076e-02, 1.69115110e-02,\n",
       "        1.02907764e-01, 7.18043444e-02, 4.77219487e-02, 3.53183984e-02,\n",
       "        2.26572825e-02, 7.02361729e-02, 2.64670715e-02, 7.16987282e-02],\n",
       "       [1.94868670e-02, 4.91837639e-02, 2.39099633e-02, 6.95787165e-02,\n",
       "        9.44862145e-02, 1.20083582e-02, 2.94791909e-02, 6.18055567e-02,\n",
       "        2.08856836e-02, 8.66472064e-02, 2.50724298e-02, 9.78056776e-02,\n",
       "        4.56619186e-02, 7.52081721e-02, 1.57156086e-02, 7.42523418e-02,\n",
       "        5.37444781e-02, 5.43969928e-02, 7.53621460e-02, 1.53087135e-02]])"
      ]
     },
     "execution_count": 122,
     "metadata": {},
     "output_type": "execute_result"
    }
   ],
   "source": [
    "softmax(Q[:39,:],axis=1)"
   ]
  },
  {
   "cell_type": "code",
   "execution_count": 123,
   "metadata": {},
   "outputs": [
    {
     "data": {
      "text/plain": [
       "array([[-40.99738491, -39.5096636 , -38.99476457, -40.15484154,\n",
       "        -40.36300786, -40.03350948, -41.00276753, -40.14482008,\n",
       "        -38.6996356 , -41.77202635, -41.1420705 , -40.82080197,\n",
       "        -40.36452095, -40.07858926, -41.15793605, -40.30842515,\n",
       "        -39.26695202, -39.66122952, -39.50950287, -27.49779481],\n",
       "       [-35.08423782, -35.9456178 , -28.01560381, -37.0217189 ,\n",
       "        -35.81781895, -36.6064661 , -36.78424941, -34.13963584,\n",
       "        -37.12435058, -36.86703933, -35.61535643, -34.36370549,\n",
       "        -35.93939328, -35.35097952, -36.90520113, -36.90601966,\n",
       "        -36.03909498, -35.28670683, -35.11585543, -35.96130018],\n",
       "       [-35.36944563, -34.35136007, -35.168727  , -35.96614547,\n",
       "        -33.94370553, -34.53954598, -34.87091035, -34.88264911,\n",
       "        -27.63962928, -34.85892324, -35.66665307, -35.70360761,\n",
       "        -27.07830826, -35.45454419, -35.50551896, -34.87755066,\n",
       "        -34.78340773, -33.7644918 , -35.31005701, -36.60997594],\n",
       "       [-34.884624  , -34.20318503, -34.50180007, -34.16810984,\n",
       "        -35.37427314, -34.78248958, -35.36461164, -34.1110689 ,\n",
       "        -34.26570893, -35.65937612, -34.17156984, -33.52109665,\n",
       "        -32.49842379, -32.42074676, -34.02551727, -34.55040254,\n",
       "        -33.50104345, -26.23874487, -34.34904086, -31.9452041 ],\n",
       "       [-33.5708591 , -32.94742358, -33.47094465, -32.61137845,\n",
       "        -32.73251581, -33.0961127 , -34.3792957 , -33.19530907,\n",
       "        -33.66753774, -34.23217711, -34.25819308, -29.59566222,\n",
       "        -33.74936657, -32.50563727, -31.55772791, -33.54923813,\n",
       "        -25.89736796, -33.73520196, -31.68245728, -32.44084397],\n",
       "       [-25.56880603, -32.12621759, -32.66325671, -31.60171368,\n",
       "        -32.2336081 , -30.64926164, -29.81987285, -29.90356205,\n",
       "        -31.7445957 , -31.75036689, -30.96052456, -32.13964024,\n",
       "        -30.87542679, -29.82687698, -32.54539535, -26.0831005 ,\n",
       "        -31.52930361, -31.08731273, -31.80751142, -32.28197988],\n",
       "       [-31.52540821, -29.23849016, -29.01274378, -24.90618474,\n",
       "        -29.82552291, -30.03390824, -30.10688421, -30.10283572,\n",
       "        -25.31795185, -31.74600478, -30.13014794, -31.18075613,\n",
       "        -30.31045953, -30.82246657, -31.98941477, -25.37770221,\n",
       "        -29.16597986, -31.45222249, -29.47638952, -31.27163544],\n",
       "       [-29.25695185, -26.87581191, -28.32430205, -28.84085756,\n",
       "        -30.61881885, -29.37608424, -28.33003808, -30.12591556,\n",
       "        -26.16284424, -30.12961082, -24.2301512 , -25.60189457,\n",
       "        -25.92933461, -30.47473063, -30.22499795, -30.23337368,\n",
       "        -30.31776119, -29.49549808, -30.41989092, -29.43398213],\n",
       "       [-28.71427782, -29.69626055, -28.07233387, -27.16120762,\n",
       "        -28.29985334, -27.5658346 , -29.07505555, -28.40827468,\n",
       "        -27.89244936, -28.37569299, -24.30768873, -26.84286894,\n",
       "        -27.70319463, -29.32440085, -26.54522962, -29.58485447,\n",
       "        -29.18315929, -28.9221841 , -25.71857129, -29.06886317],\n",
       "       [-27.07700638, -26.18522484, -27.02183508, -23.99558016,\n",
       "        -27.63814394, -24.08177418, -27.54286504, -25.86311894,\n",
       "        -27.25851202, -27.59664824, -26.57265206, -27.24785779,\n",
       "        -24.83144586, -28.31016797, -26.9193914 , -29.0316216 ,\n",
       "        -27.65256937, -28.31106894, -28.50135539, -28.88712895],\n",
       "       [-27.24894385, -26.65512165, -27.6420874 , -26.30793548,\n",
       "        -27.19363403, -25.77045689, -24.00453311, -23.76411233,\n",
       "        -24.02102528, -28.20508516, -25.47131985, -25.54354806,\n",
       "        -26.24464577, -25.6614149 , -26.66312471, -27.78038813,\n",
       "        -26.79205775, -27.21555412, -26.74682103, -26.3411143 ],\n",
       "       [-24.15924649, -24.25621886, -25.7642151 , -25.57168979,\n",
       "        -27.19919906, -26.37129686, -24.08113112, -26.80177955,\n",
       "        -26.50391889, -25.51825793, -24.59303227, -26.01048128,\n",
       "        -26.22973951, -26.46773924, -26.22565259, -27.29828814,\n",
       "        -24.18535031, -25.3057127 , -24.07330411, -27.18017145],\n",
       "       [-23.85022335, -25.66205996, -26.44802314, -25.7281599 ,\n",
       "        -25.71033304, -26.45931514, -24.71194006, -25.6948421 ,\n",
       "        -24.77318071, -25.19296948, -25.83137471, -25.46542285,\n",
       "        -23.72175447, -24.80788193, -23.37383122, -26.19602216,\n",
       "        -25.36805973, -24.97829758, -25.66728289, -25.95771292],\n",
       "       [-24.4969044 , -26.21272122, -25.30818505, -24.79420021,\n",
       "        -25.7262653 , -23.83045037, -24.47293467, -25.71969805,\n",
       "        -25.71211005, -25.03036027, -24.83254317, -24.59673667,\n",
       "        -25.61731651, -24.61637189, -24.13378926, -23.92753018,\n",
       "        -25.68236285, -23.8819652 , -23.72567756, -24.98826992],\n",
       "       [-24.80022147, -25.28088714, -24.09927532, -24.58518722,\n",
       "        -24.06737021, -25.20582936, -24.74374161, -25.24818947,\n",
       "        -24.78812487, -24.33000775, -25.09980436, -23.43265917,\n",
       "        -23.15752297, -23.63229333, -24.00908607, -25.12922474,\n",
       "        -23.76603069, -24.30010729, -23.89260875, -24.1082242 ],\n",
       "       [-24.02623407, -23.51499963, -24.43730404, -23.37650384,\n",
       "        -24.6391456 , -24.43776284, -24.35539889, -24.04950104,\n",
       "        -24.10552818, -23.94830541, -24.28074284, -24.3997392 ,\n",
       "        -23.20496399, -24.22916569, -24.33287136, -24.20887602,\n",
       "        -24.59782459, -23.21446927, -23.38950932, -23.96376789],\n",
       "       [-23.51573312, -23.58353263, -23.79362986, -23.35325058,\n",
       "        -23.89420557, -23.48362084, -22.88565726, -23.34634739,\n",
       "        -22.97669118, -23.34929692, -23.95304509, -23.57263303,\n",
       "        -23.91214442, -23.74120647, -23.22087862, -23.45113654,\n",
       "        -23.6101695 , -23.54880942, -23.2721111 , -23.14802694],\n",
       "       [-23.18615083, -23.01977375, -23.14492847, -22.93206253,\n",
       "        -23.34865273, -22.70412773, -22.89377708, -23.03507809,\n",
       "        -23.19101745, -22.77200541, -23.30307651, -22.70941276,\n",
       "        -22.8184685 , -22.76784201, -23.25598028, -23.26717101,\n",
       "        -23.11787461, -23.35362434, -23.26676578, -23.05821922],\n",
       "       [-22.96547522, -22.97178204, -22.65615574, -22.88054844,\n",
       "        -22.52566024, -22.78396256, -22.66186974, -22.58299339,\n",
       "        -22.71522512, -22.17351795, -23.05411859, -22.6966532 ,\n",
       "        -22.69019684, -22.65930635, -22.91113116, -22.38529394,\n",
       "        -22.56136226, -22.39359619, -22.44291866, -22.97347515],\n",
       "       [-22.13367228, -22.27958795, -22.06254612, -21.97184677,\n",
       "        -22.09206617, -22.26262912, -22.01118593, -22.2059547 ,\n",
       "        -22.26624256, -22.17040931, -22.1220525 , -22.13878615,\n",
       "        -22.14472873, -22.28765212, -22.12574394, -22.31935391,\n",
       "        -22.27090371, -22.10401205, -21.85020817, -22.17582444],\n",
       "       [-21.47852311, -21.72419616, -21.38478275, -21.57963909,\n",
       "        -21.31792598, -21.75964182, -21.37789331, -21.46541557,\n",
       "        -21.72571177, -21.71427873, -21.68733812, -21.8113037 ,\n",
       "        -21.6706434 , -21.81894934, -21.50232307, -21.75283076,\n",
       "        -21.83041044, -21.44500571, -21.49692928, -21.73742819],\n",
       "       [-21.14655272, -20.85776765, -20.78387764, -21.22264752,\n",
       "        -21.14268404, -21.36816805, -21.22856005, -20.9674265 ,\n",
       "        -21.11225473, -21.19086551, -21.21184656, -21.10792671,\n",
       "        -21.0755933 , -21.05408274, -20.99263202, -20.85301749,\n",
       "        -21.16155988, -20.95433312, -20.96431807, -20.99658404],\n",
       "       [-20.86941853, -20.37028831, -20.60536908, -20.67752029,\n",
       "        -20.53465324, -20.49002402, -20.49723066, -20.67002724,\n",
       "        -20.76143934, -20.57826571, -20.78865208, -20.73173507,\n",
       "        -20.60793132, -20.44561702, -20.05487582, -20.52795785,\n",
       "        -20.30651108, -20.74713856, -20.62789945, -20.44238661],\n",
       "       [-20.07710818, -20.13639546, -20.32888681, -20.25315119,\n",
       "        -20.15617397, -20.30916105, -20.35399334, -20.32023962,\n",
       "        -20.3833007 , -20.15083767, -20.32800293, -20.11545937,\n",
       "        -20.37873505, -20.39571886, -20.55420021, -20.25593314,\n",
       "        -20.41923729, -20.3143866 , -20.18010678, -20.21340146],\n",
       "       [-19.77106603, -19.72816809, -19.86692237, -19.84281727,\n",
       "        -19.71390131, -19.72542492, -19.68983071, -19.8527475 ,\n",
       "        -19.84699923, -19.72824082, -19.82905306, -19.80417975,\n",
       "        -19.67109086, -19.88932877, -19.74974776, -20.11428893,\n",
       "        -20.18326514, -20.02520346, -19.83765406, -19.91514925],\n",
       "       [-19.38065573, -19.46407819, -19.51216106, -19.51446261,\n",
       "        -19.31600622, -19.54008465, -19.30497644, -19.57360993,\n",
       "        -19.40622782, -19.75757008, -19.31669521, -19.62155329,\n",
       "        -19.51292466, -19.69610047, -19.53718477, -19.41299004,\n",
       "        -19.41833148, -19.405002  , -19.60108956, -19.51258694],\n",
       "       [-19.29410228, -19.28132999, -19.2336788 , -19.34238292,\n",
       "        -19.3012506 , -19.18486583, -19.15211384, -19.12902188,\n",
       "        -19.30288865, -19.1056285 , -19.36540101, -19.31690343,\n",
       "        -19.2080958 , -19.27986926, -19.06445889, -19.26704649,\n",
       "        -19.28468156, -18.86168198, -19.17265516, -19.30180842],\n",
       "       [-19.21871723, -19.11062659, -19.20603415, -18.97513756,\n",
       "        -19.04646454, -19.06092292, -19.33766107, -19.06633918,\n",
       "        -18.98552495, -19.18074328, -19.12738654, -19.16750113,\n",
       "        -18.99367008, -19.09932524, -19.01574218, -19.11225257,\n",
       "        -19.3658003 , -19.26439266, -18.87907867, -19.03074241],\n",
       "       [-19.06142808, -19.0823277 , -19.00691025, -19.21888952,\n",
       "        -19.3143909 , -19.19757058, -18.91911737, -18.94638924,\n",
       "        -19.32563224, -18.85004864, -19.19429819, -19.41750796,\n",
       "        -19.06733218, -19.02681972, -19.21198503, -19.2620112 ,\n",
       "        -18.91524401, -19.33286839, -19.13777022, -18.89369034],\n",
       "       [-18.98241401, -18.93704932, -19.40590773, -19.01024723,\n",
       "        -18.96279554, -19.29003785, -19.21083538, -19.20207278,\n",
       "        -19.06784537, -19.32340569, -19.11801287, -18.94635994,\n",
       "        -19.01861188, -19.15215672, -19.0824196 , -18.88920586,\n",
       "        -18.97731211, -19.30044527, -19.18116115, -19.28777793],\n",
       "       [-18.95015534, -19.51133263, -19.20434884, -19.18907839,\n",
       "        -19.18630936, -19.40498724, -19.16597358, -19.03482555,\n",
       "        -18.97690723, -18.8623277 , -19.4258777 , -19.2139523 ,\n",
       "        -19.29882603, -19.22259636, -19.31384555, -19.05409291,\n",
       "        -19.16438947, -19.13540854, -19.15424534, -19.10111132],\n",
       "       [-19.47817846, -19.47455482, -19.07643739, -19.36207276,\n",
       "        -19.41059268, -19.38070121, -19.47249046, -19.23127424,\n",
       "        -19.67046398, -19.46828406, -19.20281499, -19.3004663 ,\n",
       "        -19.2863949 , -19.39916693, -19.11790142, -19.14269839,\n",
       "        -19.59055713, -19.2854875 , -19.05255818, -19.18084933],\n",
       "       [-19.71081942, -19.96755229, -19.92938907, -19.63680588,\n",
       "        -19.5410859 , -19.62295553, -19.88980001, -19.81417776,\n",
       "        -19.80073907, -19.80994642, -19.8699959 , -19.57348811,\n",
       "        -19.44586496, -19.54041398, -19.83101716, -19.8507041 ,\n",
       "        -19.74157639, -19.75446067, -19.61578518, -19.41197758],\n",
       "       [-19.66182471, -20.11007341, -20.27035818, -19.77418632,\n",
       "        -19.67192983, -20.1495809 , -19.64070335, -20.34860242,\n",
       "        -20.3265008 , -19.9434635 , -19.86669123, -20.06337033,\n",
       "        -19.98728511, -20.02587832, -19.5891291 , -19.94202108,\n",
       "        -19.81181903, -19.86130497, -20.04481743, -20.17699409],\n",
       "       [-20.26773667, -20.26339364, -20.54951782, -20.84894091,\n",
       "        -20.15457823, -20.84238522, -20.26324644, -19.91232544,\n",
       "        -20.20427645, -20.51188303, -21.06870752, -20.31243246,\n",
       "        -21.29957365, -20.05826808, -20.53290074, -20.79977502,\n",
       "        -20.17306837, -20.55067245, -20.48709903, -20.86344822],\n",
       "       [-20.80844934, -20.7383897 , -21.31987579, -21.36820061,\n",
       "        -21.42519344, -20.99104334, -21.11455216, -20.50822682,\n",
       "        -20.88667102, -20.99337613, -21.02391819, -20.58063137,\n",
       "        -21.1866798 , -20.6972268 , -20.58721731, -21.62104048,\n",
       "        -20.69638853, -20.65828288, -21.38461795, -20.4475053 ],\n",
       "       [-21.33854146, -21.86449949, -21.60590111, -21.22045911,\n",
       "        -21.1021687 , -21.47253948, -21.25683473, -20.49063893,\n",
       "        -20.72339028, -20.80796216, -22.51080612, -21.38260127,\n",
       "        -20.97709127, -20.64479113, -20.58963688, -20.6823111 ,\n",
       "        -20.82784875, -22.70929163, -21.46536457, -20.87716665],\n",
       "       [-22.46725645, -20.80182812, -21.93031346, -21.38382322,\n",
       "        -22.05402078, -21.13852214, -20.91371457, -21.00163676,\n",
       "        -21.66517536, -21.76171819, -21.53378024, -22.45137173,\n",
       "        -20.64553314, -21.00542126, -21.41397481, -21.71496221,\n",
       "        -22.15888491, -21.02750278, -22.00346486, -21.00689323],\n",
       "       [-22.38156092, -21.45573811, -22.17700643, -21.10884295,\n",
       "        -20.80284773, -22.86569875, -21.96761705, -21.2273084 ,\n",
       "        -22.31223774, -20.8894569 , -22.12953284, -20.76831905,\n",
       "        -21.53003701, -21.03104178, -22.59664727, -21.04383236,\n",
       "        -21.36706075, -21.3549928 , -21.02899657, -22.6228795 ],\n",
       "       [  0.        ,   0.        ,   0.        ,   0.        ,\n",
       "          0.        ,   0.        ,   0.        ,   0.        ,\n",
       "          0.        ,   0.        ,   0.        ,   0.        ,\n",
       "          0.        ,   0.        ,   0.        ,   0.        ,\n",
       "          0.        ,   0.        ,   0.        ,   0.        ]])"
      ]
     },
     "execution_count": 123,
     "metadata": {},
     "output_type": "execute_result"
    }
   ],
   "source": [
    "Q[:40,:]"
   ]
  },
  {
   "cell_type": "code",
   "execution_count": null,
   "metadata": {},
   "outputs": [],
   "source": []
  }
 ],
 "metadata": {
  "kernelspec": {
   "display_name": "rl",
   "language": "python",
   "name": "python3"
  },
  "language_info": {
   "codemirror_mode": {
    "name": "ipython",
    "version": 3
   },
   "file_extension": ".py",
   "mimetype": "text/x-python",
   "name": "python",
   "nbconvert_exporter": "python",
   "pygments_lexer": "ipython3",
   "version": "3.13.1"
  }
 },
 "nbformat": 4,
 "nbformat_minor": 2
}
